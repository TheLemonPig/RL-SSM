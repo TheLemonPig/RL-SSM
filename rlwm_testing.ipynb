{
  "nbformat": 4,
  "nbformat_minor": 0,
  "metadata": {
    "colab": {
      "provenance": [],
      "authorship_tag": "ABX9TyPcDHnBX/dO+KLh5qbm+hxb",
      "include_colab_link": true
    },
    "kernelspec": {
      "name": "python3",
      "display_name": "Python 3"
    },
    "language_info": {
      "name": "python"
    }
  },
  "cells": [
    {
      "cell_type": "markdown",
      "metadata": {
        "id": "view-in-github",
        "colab_type": "text"
      },
      "source": [
        "<a href=\"https://colab.research.google.com/github/TheLemonPig/RL-SSM/blob/main/rlwm_testing.ipynb\" target=\"_parent\"><img src=\"https://colab.research.google.com/assets/colab-badge.svg\" alt=\"Open In Colab\"/></a>"
      ]
    },
    {
      "cell_type": "code",
      "source": [
        "!pip install 'pymc>=5.9'\n",
        "!pip install numpyro"
      ],
      "metadata": {
        "colab": {
          "base_uri": "https://localhost:8080/"
        },
        "id": "2qLuQMJYqLlF",
        "outputId": "4e6fc6ba-144f-4eb1-eeee-85fe06c72d10"
      },
      "execution_count": 1,
      "outputs": [
        {
          "output_type": "stream",
          "name": "stdout",
          "text": [
            "Installing collected packages: numpyro\n",
            "Successfully installed numpyro-0.14.0\n"
          ]
        }
      ]
    },
    {
      "cell_type": "code",
      "source": [
        "import pymc as pm\n",
        "import numpy as np\n",
        "import random, pickle\n",
        "import matplotlib.pyplot as plt\n",
        "import pandas as pd\n",
        "import pytensor\n",
        "import pytensor.tensor as pt"
      ],
      "metadata": {
        "id": "FTLi_VnUJyfb"
      },
      "execution_count": 1,
      "outputs": []
    },
    {
      "cell_type": "markdown",
      "source": [
        "##PyTensor"
      ],
      "metadata": {
        "id": "9zVA4Nq2J4Jr"
      }
    },
    {
      "cell_type": "markdown",
      "source": [
        "####Functions"
      ],
      "metadata": {
        "id": "kk_U1m5SSsJi"
      }
    },
    {
      "cell_type": "code",
      "source": [
        "def rlwm_step(dC, dR, pA, pG, pP, dq_RL, dq_WM):\n",
        "    cond = pt.switch(pt.lt(dq_RL, dR), 1, 0)\n",
        "    dq_RL += (cond + (1.0 - cond) * pG) * pA * (dR - dq_RL) * dC\n",
        "    dq_WM += (cond + (1.0 - cond) * pG) * 1.0 * (dR - dq_RL) * dC\n",
        "    dq_WM += pP * (pt.true_div(1, dR.shape[2]) - dq_WM)\n",
        "    return [dq_RL, dq_WM]\n",
        "\n",
        "def rlwm_scan(dC, dR, pA, pG, pP, dq_RL, dq_WM):\n",
        "    ([dq_RL, dq_WM], _) = pytensor.scan(rlwm_step, sequences=[dC, dR, pA, pG, pP], non_sequences=[], outputs_info=[dq_RL, dq_WM])\n",
        "    return dq_RL, dq_WM\n",
        "\n",
        "\n",
        "def rlwm_softmax(Qs, pB):\n",
        "    tempered_qs = Qs * pB\n",
        "    qs_max = pt.max(tempered_qs,axis=2)\n",
        "    qs_max = pt.repeat(qs_max.reshape((shape[0], shape[1], 1, shape[3], shape[4])), Qs.shape[2], axis=2)\n",
        "    numerator = pt.exp(tempered_qs - qs_max)\n",
        "    denominator = pt.sum(numerator, axis=2)\n",
        "    denominator = pt.repeat(denominator.reshape((shape[0], shape[1], 1, shape[3], shape[4])), Qs.shape[2], axis=2)\n",
        "    Ps = pt.true_div(numerator, denominator)\n",
        "    return Ps\n",
        "\n",
        "\n",
        "def rlwm_likelihood(dC, dq_RL, dq_WM, pB, pC, pE, pR, set_sizes):\n",
        "    weight = pR * pt.clip(pt.true_div(pC, set_sizes), -10e6, 1)\n",
        "    Ps_RL = rlwm_softmax(dq_RL, pB)\n",
        "    Ps_WM = rlwm_softmax(dq_WM, pB)\n",
        "    pol = weight * Ps_WM + (1.0 - weight) * Ps_RL\n",
        "    pol_final = (1.0 - pE) * pol + pE * pt.true_div(1.0,dC.shape[2])\n",
        "    likelihood = pt.log(pol_final)\n",
        "    return likelihood\n",
        "\n",
        "def rlwm_Ps(dq_RL, dq_WM, dC, dR, pA, pB, pG, pP):\n",
        "    dq_RL, dq_WM = rlwm_scan(dC, dR, pA, pG, pP, dq_RL, dq_WM)\n",
        "    Ps_RL = rlwm_softmax(dq_RL, pB)\n",
        "    Ps_WM = rlwm_softmax(dq_WM, pB)\n",
        "    return Ps_RL, Ps_WM\n",
        "\n",
        "\n",
        "def rlwm_recovery(dq_RL, dq_WM, dC, dR, pA, pB, pC, pE, pG, pP, pR, set_sizes):\n",
        "    dq_RL, dq_WM = rlwm_scan(dC, dR, pA, pG, pP, dq_RL, dq_WM)\n",
        "    likelihood = rlwm_likelihood(dC, dq_RL, dq_WM, pB, pC, pE, pR, set_sizes)\n",
        "    return likelihood[0]"
      ],
      "metadata": {
        "id": "btpenR8nSxm6"
      },
      "execution_count": 23,
      "outputs": []
    },
    {
      "cell_type": "markdown",
      "source": [
        "####Compilers"
      ],
      "metadata": {
        "id": "GjZWgiJOSyb3"
      }
    },
    {
      "cell_type": "code",
      "execution_count": 3,
      "metadata": {
        "id": "UTPXZtEOBbuZ"
      },
      "outputs": [],
      "source": [
        "def rlwm_step_compile():\n",
        "    dC4 = pt.dtensor4(\"dC4\")\n",
        "    dR4 = pt.dtensor4(\"dR4\")\n",
        "    dq_RL4 = pt.dtensor4(\"dq_RL4\")\n",
        "    dq_WM4 = pt.dtensor4(\"dq_WM4\")\n",
        "    pA4 = pt.dtensor4(\"pA4\")\n",
        "    pG4 = pt.dtensor4(\"pG4\")\n",
        "    pP4 = pt.dtensor4(\"pP4\")\n",
        "\n",
        "    dq_RL, dq_WM = rlwm_step(dC4, dR4, pA4, pG4, pP4, dq_RL4, dq_WM4)\n",
        "    rlwm_step_func = pytensor.function(inputs=[dC4, dR4, pA4, pG4, pP4, dq_RL4, dq_WM4], outputs=[dq_RL, dq_WM])\n",
        "\n",
        "    return rlwm_step_func\n",
        "\n",
        "\n",
        "def rlwm_scan_compile():\n",
        "    dC5 = pt.dtensor5(\"dC5\")\n",
        "    dR5 = pt.dtensor5(\"dR5\")\n",
        "    dq_RL4 = pt.dtensor4(\"dq_RL4\")\n",
        "    dq_WM4 = pt.dtensor4(\"dq_WM4\")\n",
        "    pA5 = pt.dtensor5(\"pA5\")\n",
        "    pG5 = pt.dtensor5(\"pG5\")\n",
        "    pP5 = pt.dtensor5(\"pP5\")\n",
        "\n",
        "    dq_RL, dq_WM = rlwm_scan(dC5, dR5, pA5, pG5, pP5, dq_RL4, dq_WM4)\n",
        "    rlwm_step_func = pytensor.function(inputs=[dC5, dR5, pA5, pG5, pP5, dq_RL4, dq_WM4], outputs=[dq_RL, dq_WM])\n",
        "\n",
        "    return rlwm_step_func\n",
        "\n",
        "\n",
        "def rlwm_softmax_compile():\n",
        "    Qs = pt.dtensor5('Qs')\n",
        "    B = pt.dtensor5('B')\n",
        "\n",
        "    Ps = rlwm_softmax(Qs, B)\n",
        "    Ps_func = pytensor.function(inputs=[Qs, B], outputs=[Ps])\n",
        "\n",
        "    return Ps_func\n",
        "\n",
        "\n",
        "def rlwm_likelihood_compile():\n",
        "    dC5 = pt.dtensor5(\"dC5\")\n",
        "    dq_RL5 = pt.dtensor5(\"dq_RL5\")\n",
        "    dq_WM5 = pt.dtensor5(\"dq_WM5\")\n",
        "    pB5 = pt.dtensor5(\"pB5\")\n",
        "    pC5 = pt.dtensor5(\"pC5\")\n",
        "    pE5 = pt.dtensor5(\"pE5\")\n",
        "    pR5 = pt.dtensor5(\"pR5\")\n",
        "    set_sizes = pt.dtensor5(\"set_sizes\")\n",
        "\n",
        "    likelihood = rlwm_likelihood(dC5, dq_RL5, dq_WM5, pB5, pC5, pE5, pR5, set_sizes)\n",
        "    rlwm_likelihood_func = pytensor.function(inputs=[dC5, dq_RL5, dq_WM5, pB5, pC5, pE5, pR5, set_sizes], outputs=[likelihood])\n",
        "\n",
        "    return rlwm_likelihood_func\n",
        "\n",
        "def rlwm_Ps_compile():\n",
        "\n",
        "    dq_RL = pt.dtensor4(\"dq_RL\")\n",
        "    dq_WM = pt.dtensor4(\"dq_WM\")\n",
        "    dC = pt.dtensor5(\"dC\")\n",
        "    dR = pt.dtensor5(\"dR\")\n",
        "    pA = pt.dtensor5(\"pA\")\n",
        "    pB = pt.dtensor5(\"pB\")\n",
        "    pG = pt.dtensor5(\"pG\")\n",
        "    pP = pt.dtensor5(\"pP\")\n",
        "\n",
        "    Ps_RL, Ps_WM = rlwm_Ps(dq_RL, dq_WM, dC, dR, pA, pB, pG, pP)\n",
        "    rlwm_Ps_func = pytensor.function(inputs=[dq_RL, dq_WM, dC, dR, pA, pB, pG, pP], outputs=[Ps_RL, Ps_WM])\n",
        "\n",
        "    return rlwm_Ps_func\n",
        "\n",
        "def rlwm_recovery_compile():\n",
        "    dq_RL = pt.dtensor4(\"dq_RL\")\n",
        "    dq_WM = pt.dtensor4(\"dq_WM\")\n",
        "    dC = pt.dtensor5(\"dC\")\n",
        "    dR = pt.dtensor5(\"dR\")\n",
        "    pA = pt.dtensor5(\"pA\")\n",
        "    pB = pt.dtensor5(\"pB\")\n",
        "    pC = pt.dtensor5(\"pC\")\n",
        "    pE = pt.dtensor5(\"pE\")\n",
        "    pG = pt.dtensor5(\"pG\")\n",
        "    pP = pt.dtensor5(\"pP\")\n",
        "    pR = pt.dtensor5(\"pR\")\n",
        "    set_sizes = pt.dtensor5(\"set_sizes\")\n",
        "\n",
        "    likelihood = rlwm_recovery(dq_RL, dq_WM, dC, dR, pA, pB, pC, pE, pG, pP, pR, set_sizes)\n",
        "    rlwm_recovery_func = pytensor.function(inputs=[dq_RL, dq_WM, dC, dR, pA, pB, pC, pE, pG, pP, pR, set_sizes], outputs=[likelihood])\n",
        "\n",
        "    return rlwm_recovery_func"
      ]
    },
    {
      "cell_type": "markdown",
      "source": [
        "####Tests"
      ],
      "metadata": {
        "id": "BNIqN6b0TATT"
      }
    },
    {
      "cell_type": "code",
      "source": [
        "def rlwm_step_test():\n",
        "    n_participants = 6\n",
        "    n_choices = 3\n",
        "    n_stimuli = [4, 5, 6, 7, 8]\n",
        "    max_stimuli = max(n_stimuli)\n",
        "    n_blocks = 5\n",
        "    shape4 = (n_participants, n_choices, max_stimuli, n_blocks)\n",
        "\n",
        "    dC4_ = np.random.randint(low=0, high=n_choices, size=shape4)\n",
        "    dR4_ = np.random.randint(low=0, high=1, size=shape4)\n",
        "    pA4_ = np.ones(shape4) * 0.1\n",
        "    pG4_ = np.ones(shape4) * 0.9\n",
        "    pP4_ = np.ones(shape4) * 1.0\n",
        "    mask = np.ones(shape4)\n",
        "    cond = np.ones(shape4)\n",
        "    dQ4_ = np.ones(shape4) * 1/n_choices\n",
        "    dq_RL4_ = np.ones(shape4) * 1/n_choices\n",
        "    dq_WM4_ = np.ones(shape4) * 1/n_choices\n",
        "\n",
        "    test_func = rlwm_step_compile()\n",
        "\n",
        "    return test_func(dC4_, dR4_, pA4_, pG4_, pP4_, dq_RL4_, dq_WM4_)\n",
        "\n",
        "\n",
        "def rlwm_scan_test():\n",
        "    n_trials = 23\n",
        "    n_participants = 6\n",
        "    n_choices = 3\n",
        "    n_stimuli = [4, 5, 6, 7, 8]\n",
        "    max_stimuli = max(n_stimuli)\n",
        "    n_blocks = 5\n",
        "    shape5 = (n_trials, n_participants, n_choices, max_stimuli, n_blocks)\n",
        "\n",
        "    dC5_ = np.random.randint(low=0, high=n_choices, size=shape5)\n",
        "    dR5_ = np.random.randint(low=0, high=1, size=shape5)\n",
        "    dq_RL4_ = np.ones_like(dR5_)[0] * 1 / n_choices\n",
        "    dq_WM4_ = np.ones_like(dR5_)[0] * 1 / n_choices\n",
        "    pA5_ = np.ones_like(dR5_) * 0.1\n",
        "    pG5_ = np.ones_like(dR5_) * 0.9\n",
        "    pP5_ = np.ones_like(dR5_) * 1.0\n",
        "\n",
        "    test_func = rlwm_scan_compile()\n",
        "\n",
        "    return test_func(dC5_, dR5_, pA5_, pG5_, pP5_, dq_RL4_, dq_WM4_)\n",
        "\n",
        "\n",
        "def rlwm_softmax_test():\n",
        "    n_trials = 23\n",
        "    n_participants = 6\n",
        "    n_choices = 3\n",
        "    n_stimuli = [4, 5, 6, 7, 8]\n",
        "    max_stimuli = np.max(n_stimuli)\n",
        "    n_blocks = 5\n",
        "    shape = (n_trials, n_participants, n_choices, max_stimuli, n_blocks)\n",
        "\n",
        "    Qs = np.ones(shape)\n",
        "    B = np.ones_like(Qs)\n",
        "\n",
        "    test_func = rlwm_softmax_compile()\n",
        "\n",
        "    return test_func(Qs, B)\n",
        "\n",
        "\n",
        "def rlwm_likelihood_test():\n",
        "    n_trials = 23\n",
        "    n_participants = 6\n",
        "    n_choices = 3\n",
        "    n_stimuli = [4, 5, 6, 7, 8]\n",
        "    max_stimuli = np.max(n_stimuli)\n",
        "    n_blocks = 5\n",
        "    shape5 = (n_trials, n_participants, n_choices, max_stimuli, n_blocks)\n",
        "\n",
        "    dC5_ = np.random.randint(low=0, high=n_choices, size=shape5)\n",
        "    dq_RL5_ = - np.ones_like(dC5_) * 1 / n_choices\n",
        "    dq_WM5_ = - np.ones_like(dC5_) * 1 / n_choices\n",
        "    pB5_ = np.ones_like(dC5_) * 1.0\n",
        "    pC5_ = np.ones_like(dC5_) * 4.0\n",
        "    pE5_ = np.ones_like(dC5_) * 0.5\n",
        "    pR5_ = np.ones_like(dC5_) * 0.8\n",
        "    set_sizes_ = np.tile(n_stimuli, (shape5[0], shape5[1], shape5[2], shape5[3], 1))\n",
        "\n",
        "    test_func = rlwm_likelihood_compile()\n",
        "\n",
        "    return test_func(dC5_, dq_RL5_, dq_WM5_, pB5_, pC5_, pE5_, pR5_, set_sizes_)[0]\n",
        "\n",
        "\n",
        "def rlwm_Ps_test():\n",
        "    n_trials = 23\n",
        "    n_participants = 7\n",
        "    n_choices = 4\n",
        "    n_stimuli = [4, 5, 6, 7, 8]\n",
        "    max_stimuli = np.max(n_stimuli)\n",
        "    n_blocks = 5\n",
        "    shape = (n_trials, n_participants, n_choices, max_stimuli, n_blocks)\n",
        "\n",
        "    dq_RL_ = np.ones(shape)[0] * 1.0 / n_choices\n",
        "    dq_WM_ = np.ones(shape)[0] * 1.0 / n_choices\n",
        "\n",
        "    dC_ = np.random.randint(low=0, high=n_choices, size=shape)\n",
        "    dR_ = np.random.randint(low=0, high=1, size=shape)\n",
        "    pA_ = np.ones_like(dC_) * 0.01\n",
        "    pB_ = np.ones_like(dC_) * 1.0\n",
        "    pG_ = np.ones_like(dC_) * 0.8\n",
        "    pP_ = np.ones_like(dC_) * 0.3\n",
        "\n",
        "    test_func = rlwm_Ps_compile()\n",
        "\n",
        "    return test_func(dq_RL_, dq_WM_, dC_, dR_, pA_, pB_, pG_, pP_)[0]\n",
        "\n",
        "\n",
        "def rlwm_recovery_test():\n",
        "    n_trials = 23\n",
        "    n_participants = 7\n",
        "    n_choices = 4\n",
        "    n_stimuli = [4, 5, 6, 7, 8]\n",
        "    max_stimuli = max(n_stimuli)\n",
        "    n_blocks = 5\n",
        "    shape = (n_trials, n_participants, n_choices, max_stimuli, n_blocks)\n",
        "\n",
        "    dq_RL_ = np.ones(shape)[0] * 1.0 / n_choices\n",
        "    dq_WM_ = np.ones(shape)[0] * 1.0 / n_choices\n",
        "\n",
        "    dC_ = np.random.randint(low=0, high=n_choices, size=shape)\n",
        "    dR_ = np.random.randint(low=0, high=1, size=shape)\n",
        "    pA_ = np.ones_like(dC_) * 0.01\n",
        "    pB_ = np.ones_like(dC_) * 1.0\n",
        "    pC_ = np.ones_like(dC_) * 4.0\n",
        "    pE_ = np.ones_like(dC_) * 0.02\n",
        "    pG_ = np.ones_like(dC_) * 0.8\n",
        "    pP_ = np.ones_like(dC_) * 0.3\n",
        "    pR_ = np.ones_like(dC_) * 0.8\n",
        "    set_sizes_ = np.tile(n_stimuli, (shape[0], shape[1], shape[2], shape[3], 1))\n",
        "\n",
        "    test_func = rlwm_recovery_compile()\n",
        "\n",
        "    return test_func(dq_RL_, dq_WM_, dC_, dR_, pA_, pB_, pC_, pE_, pG_, pP_, pR_, set_sizes_)"
      ],
      "metadata": {
        "id": "L99G--YrTB7r"
      },
      "execution_count": 25,
      "outputs": []
    },
    {
      "cell_type": "markdown",
      "source": [
        "####Run Compilers and Tests here"
      ],
      "metadata": {
        "id": "JWxAMAkKTFG8"
      }
    },
    {
      "cell_type": "code",
      "source": [
        "rlwm_step_compile()\n",
        "rlwm_step_test()[0].shape, rlwm_step_test()[1].shape"
      ],
      "metadata": {
        "id": "gUIZzF7pBfZD"
      },
      "execution_count": null,
      "outputs": []
    },
    {
      "cell_type": "code",
      "source": [
        "rlwm_scan_compile()\n",
        "dq_RL, dq_WM = rlwm_scan_test()\n",
        "dq_RL.shape, dq_WM.shape"
      ],
      "metadata": {
        "id": "wYXuaCJHBpPD",
        "colab": {
          "base_uri": "https://localhost:8080/"
        },
        "outputId": "825eca0e-5388-4cc3-fbf1-4e46d574669d"
      },
      "execution_count": 8,
      "outputs": [
        {
          "output_type": "execute_result",
          "data": {
            "text/plain": [
              "((23, 6, 3, 8, 5), (23, 6, 3, 8, 5))"
            ]
          },
          "metadata": {},
          "execution_count": 8
        }
      ]
    },
    {
      "cell_type": "code",
      "source": [
        "rlwm_softmax_compile()\n",
        "rlwm_softmax_test().shape"
      ],
      "metadata": {
        "colab": {
          "base_uri": "https://localhost:8080/"
        },
        "id": "2Px9mS9IkuAm",
        "outputId": "24e1707d-a0ba-4a42-98b7-b29e91b2a489"
      },
      "execution_count": 9,
      "outputs": [
        {
          "output_type": "execute_result",
          "data": {
            "text/plain": [
              "(23, 6, 3, 8, 5)"
            ]
          },
          "metadata": {},
          "execution_count": 9
        }
      ]
    },
    {
      "cell_type": "code",
      "source": [
        "rlwm_likelihood_compile()\n",
        "rlwm_likelihood_test().shape"
      ],
      "metadata": {
        "colab": {
          "base_uri": "https://localhost:8080/"
        },
        "id": "vlJ4zUcvBv9d",
        "outputId": "f6c491c4-32cf-48e5-f20c-2f829bf9e695"
      },
      "execution_count": 10,
      "outputs": [
        {
          "output_type": "execute_result",
          "data": {
            "text/plain": [
              "(23, 6, 3, 8, 5)"
            ]
          },
          "metadata": {},
          "execution_count": 10
        }
      ]
    },
    {
      "cell_type": "code",
      "source": [
        "rlwm_Ps_compile()\n",
        "rlwm_Ps_test().max()"
      ],
      "metadata": {
        "colab": {
          "base_uri": "https://localhost:8080/"
        },
        "id": "aeQOnPAVm3QD",
        "outputId": "93243b2c-b151-4ae9-a0d5-c219634c44a9"
      },
      "execution_count": 12,
      "outputs": [
        {
          "output_type": "execute_result",
          "data": {
            "text/plain": [
              "0.25680806382812565"
            ]
          },
          "metadata": {},
          "execution_count": 12
        }
      ]
    },
    {
      "cell_type": "code",
      "source": [
        "rlwm_recovery_compile()\n",
        "rlwm_recovery_test().flatten().shape"
      ],
      "metadata": {
        "colab": {
          "base_uri": "https://localhost:8080/",
          "height": 158
        },
        "id": "4-s2eR_RB0XW",
        "outputId": "ad48f51d-f6a3-458d-cadf-1e6b37e63cd2"
      },
      "execution_count": 26,
      "outputs": [
        {
          "output_type": "error",
          "ename": "AttributeError",
          "evalue": "'list' object has no attribute 'flatten'",
          "traceback": [
            "\u001b[0;31m---------------------------------------------------------------------------\u001b[0m",
            "\u001b[0;31mAttributeError\u001b[0m                            Traceback (most recent call last)",
            "\u001b[0;32m<ipython-input-26-ca2aa6d97413>\u001b[0m in \u001b[0;36m<cell line: 2>\u001b[0;34m()\u001b[0m\n\u001b[1;32m      1\u001b[0m \u001b[0mrlwm_recovery_compile\u001b[0m\u001b[0;34m(\u001b[0m\u001b[0;34m)\u001b[0m\u001b[0;34m\u001b[0m\u001b[0;34m\u001b[0m\u001b[0m\n\u001b[0;32m----> 2\u001b[0;31m \u001b[0mrlwm_recovery_test\u001b[0m\u001b[0;34m(\u001b[0m\u001b[0;34m)\u001b[0m\u001b[0;34m.\u001b[0m\u001b[0mflatten\u001b[0m\u001b[0;34m(\u001b[0m\u001b[0;34m)\u001b[0m\u001b[0;34m.\u001b[0m\u001b[0mshape\u001b[0m\u001b[0;34m\u001b[0m\u001b[0;34m\u001b[0m\u001b[0m\n\u001b[0m",
            "\u001b[0;31mAttributeError\u001b[0m: 'list' object has no attribute 'flatten'"
          ]
        }
      ]
    },
    {
      "cell_type": "markdown",
      "source": [
        "##RLWM Data Generation"
      ],
      "metadata": {
        "id": "8ua5eh-sJ-fu"
      }
    },
    {
      "cell_type": "code",
      "source": [
        "model_config_rl = {\n",
        "    \"RLWM_v2\": {\n",
        "        \"doc\": \"RLWM model v2.\",\n",
        "        \"params\": [\"rl_alpha\", \"rl_phi\", \"rl_rho\", \"rl_gamma\", \"rl_epsilon\", \"C\"],\n",
        "        \"param_bounds\": [[0.0, 0.0, 0.0, 0.0, 0.0, 2.0], [1.0, 1.0, 1.0, 1.0, 1.0, 5.0]],\n",
        "    }\n",
        "}"
      ],
      "metadata": {
        "id": "fOySZ7xhJ9tY"
      },
      "execution_count": 4,
      "outputs": []
    },
    {
      "cell_type": "code",
      "source": [
        "def gen_trial_seq(set_size, num_rep_per_block):\n",
        "    trials = list()\n",
        "\n",
        "    for stim in np.arange(set_size):\n",
        "        trials.extend([stim]*random.choice(num_rep_per_block))\n",
        "    random.shuffle(trials)\n",
        "\n",
        "    return trials\n",
        "\n",
        "def gen_SR_map(set_size, num_actions):\n",
        "    S_R_map = {}\n",
        "    acts = np.arange(num_actions)\n",
        "\n",
        "    for stim in np.arange(set_size):\n",
        "        S_R_map[stim] = random.choice(acts)\n",
        "\n",
        "    return S_R_map\n",
        "\n",
        "def step_action(s, a, S_R_map):\n",
        "    if a == S_R_map[s]:\n",
        "        rew = 1\n",
        "    else:\n",
        "        rew = 0\n",
        "\n",
        "    return rew\n",
        "\n",
        "def softmax(q_val, beta):\n",
        "    q_val = np.array(q_val)*beta\n",
        "    q_val = q_val - np.max(q_val)\n",
        "    q_val = np.exp(q_val)\n",
        "    q_val = q_val / np.sum(q_val)\n",
        "    return q_val"
      ],
      "metadata": {
        "id": "8ruND_mvKFrD"
      },
      "execution_count": 5,
      "outputs": []
    },
    {
      "cell_type": "code",
      "source": [
        "def simulate_RLWM(param_rl, set_size_list, num_rep_per_block, num_actions, subjs=1):\n",
        "\n",
        "    sub_list = np.arange(subjs)\n",
        "    actions = np.arange(num_actions)\n",
        "\n",
        "    sub_list_sub_id = list()\n",
        "    sub_list_block_num = list()\n",
        "    sub_list_stim = list()\n",
        "    sub_list_actions = list()\n",
        "    sub_list_reward = list()\n",
        "    sub_list_corr = list()\n",
        "    sub_list_stim_ctr = list()\n",
        "    sub_list_set_size = list()\n",
        "\n",
        "    for subj in sub_list:\n",
        "        # RLWM parameters\n",
        "        alpha = param_rl[0] # RL learning rate\n",
        "        phi = param_rl[1] # WM decay\n",
        "        rho = param_rl[2] # WM weight\n",
        "        gamma = param_rl[3] # perseveration on negative outcomes\n",
        "        epsilon = param_rl[4] # weight of uniform policy\n",
        "        C = param_rl[5] # WM capacity\n",
        "        beta = 100 # inverse temperature\n",
        "\n",
        "        pol = np.zeros(num_actions)\n",
        "\n",
        "        for bl in range(len(set_size_list)):\n",
        "            #print(\">> block -- \", bl)\n",
        "            set_size = set_size_list[bl]\n",
        "\n",
        "            S_R_map = gen_SR_map(set_size, num_actions)\n",
        "            trials = gen_trial_seq(set_size, num_rep_per_block)\n",
        "\n",
        "            # print(trials)\n",
        "\n",
        "            q_RL = np.ones((set_size, num_actions)) * 1/num_actions\n",
        "            q_WM = np.ones((set_size, num_actions)) * 1/num_actions\n",
        "            weight = rho * min(1, C/set_size)\n",
        "\n",
        "            stim_counter = np.zeros(set_size)\n",
        "\n",
        "            for tr in np.arange(len(trials)):\n",
        "                state = trials[tr]\n",
        "                stim_counter[state] += 1\n",
        "\n",
        "                pol_RL = softmax(q_RL[state, :], beta)\n",
        "                pol_WM = softmax(q_WM[state, :], beta)\n",
        "\n",
        "                pol = weight * pol_WM + (1-weight) * pol_RL\n",
        "\n",
        "                pol_final = (1 - epsilon) * pol + epsilon * np.tile([1/num_actions], num_actions)\n",
        "\n",
        "                action = np.random.choice(actions, p=pol_final)\n",
        "\n",
        "\n",
        "                reward = step_action(state, action, S_R_map)\n",
        "                #print(\"\\t\\t\\tdone action\", state, action, reward)\n",
        "\n",
        "                #print(\"\\t\\t\\tupdating q\")\n",
        "                if reward == 1:\n",
        "                    sub_list_corr.append(1)\n",
        "                    q_RL[state, action] = q_RL[state, action] + alpha * (reward - q_RL[state, action])\n",
        "                    q_WM[state, action] = reward\n",
        "                elif reward == 0:\n",
        "                    sub_list_corr.append(0)\n",
        "                    q_RL[state, action] = q_RL[state, action] + gamma * alpha * (reward - q_RL[state, action])\n",
        "                    q_WM[state, action] = q_WM[state, action] + gamma * (reward - q_WM[state, action])\n",
        "                #print(\"\\t\\t\\tdone updating q\")\n",
        "                q_WM = q_WM + phi * ((1/num_actions)-q_WM)\n",
        "                #print(\"\\t\\t\\tdone WM decay\")\n",
        "\n",
        "                # store data\n",
        "                sub_list_sub_id.append(subj)\n",
        "                sub_list_block_num.append(bl)\n",
        "                sub_list_stim.append(state)\n",
        "                sub_list_actions.append(action)\n",
        "                sub_list_reward.append(reward)\n",
        "                sub_list_stim_ctr.append(stim_counter[state])\n",
        "                sub_list_set_size.append(set_size)\n",
        "        #     print(\"\\t\\t -- end trial\")\n",
        "        # print(\"\\t -- end block\")\n",
        "\n",
        "    sub_list_sub_id = np.array(sub_list_sub_id)\n",
        "    sub_list_stim = np.array(sub_list_stim)\n",
        "    sub_list_actions = np.array(sub_list_actions)\n",
        "    sub_list_reward = np.array(sub_list_reward)\n",
        "    sub_list_block_num = np.array(sub_list_block_num)\n",
        "    sub_list_corr = np.array(sub_list_corr)\n",
        "    sub_list_stim_ctr = np.array(sub_list_stim_ctr)\n",
        "\n",
        "    sub_data = np.stack([sub_list_sub_id, sub_list_block_num, sub_list_stim, sub_list_actions, sub_list_reward, sub_list_corr, sub_list_stim_ctr, sub_list_set_size], axis=1)\n",
        "    data = pd.DataFrame(sub_data, columns=['subj_idx', 'block_num', 'stim', 'response', 'feedback', 'corr', 'stim_ctr', 'set_size'])\n",
        "\n",
        "    return data"
      ],
      "metadata": {
        "id": "4HldgLgHKQwr"
      },
      "execution_count": 6,
      "outputs": []
    },
    {
      "cell_type": "code",
      "source": [
        "model_rl = 'RLWM_v2'\n",
        "config_rl = model_config_rl[model_rl]"
      ],
      "metadata": {
        "id": "Qz357zyxKTMK"
      },
      "execution_count": 7,
      "outputs": []
    },
    {
      "cell_type": "code",
      "source": [
        "s_size = [1, 2, 3, 4, 5, 6]\n",
        "freq = [3, 4, 6, 3, 3, 3]\n",
        "\n",
        "set_size_list = []\n",
        "for i in range(len(s_size)):\n",
        "    set_size_list.extend([s_size[i]]*freq[i])\n",
        "\n",
        "np.random.shuffle(set_size_list)\n",
        "set_size_list"
      ],
      "metadata": {
        "colab": {
          "base_uri": "https://localhost:8080/"
        },
        "id": "3MsuFCuMKUtS",
        "outputId": "60cccc48-23cd-4ebb-afae-44e8d1781dff"
      },
      "execution_count": 8,
      "outputs": [
        {
          "output_type": "execute_result",
          "data": {
            "text/plain": [
              "[1, 4, 4, 6, 6, 3, 3, 2, 2, 4, 2, 3, 5, 2, 3, 3, 6, 1, 3, 5, 5, 1]"
            ]
          },
          "metadata": {},
          "execution_count": 8
        }
      ]
    },
    {
      "cell_type": "code",
      "source": [
        "num_rep_per_block = [15]\n",
        "\n",
        "num_datasets = 1\n",
        "num_actions = 3\n",
        "subjs = 20"
      ],
      "metadata": {
        "id": "YIqhhhVoKWa7"
      },
      "execution_count": 9,
      "outputs": []
    },
    {
      "cell_type": "code",
      "source": [
        "priors_rl_alpha = [0, 0.01]\n",
        "priors_rl_phi = [0, 0.40]\n",
        "priors_rl_rho = [0.75, 1]\n",
        "priors_rl_gamma = [0.60, 0.90]\n",
        "priors_rl_epsilon = [0, 0.05]\n",
        "priors_rl_C = [2, 5]\n",
        "\n",
        "rl_alpha = np.random.uniform(priors_rl_alpha[0], priors_rl_alpha[1], subjs)\n",
        "rl_phi = np.random.uniform(priors_rl_phi[0], priors_rl_phi[1], subjs)\n",
        "rl_rho = np.random.uniform(priors_rl_rho[0], priors_rl_rho[1], subjs)\n",
        "rl_gamma = np.random.uniform(priors_rl_gamma[0], priors_rl_gamma[1], subjs)\n",
        "rl_epsilon = np.random.uniform(priors_rl_epsilon[0], priors_rl_epsilon[1], subjs)\n",
        "rl_C = np.random.uniform(priors_rl_C[0], priors_rl_C[1], subjs)"
      ],
      "metadata": {
        "id": "DoDgnDw6KYHP"
      },
      "execution_count": 10,
      "outputs": []
    },
    {
      "cell_type": "code",
      "source": [
        "file = list()\n",
        "\n",
        "for n in range(num_datasets):\n",
        "    print(\"\\n==> dataset: \", n)\n",
        "    dataset_file = {}\n",
        "\n",
        "    dataset_file['info'] = {\n",
        "                        'num_datasets': num_datasets, 'num_subj': subjs, 'num_actions': num_actions,\n",
        "                        'model_rl': model_rl,\n",
        "                        'set_size_list': set_size_list, 'num_rep_per_block': num_rep_per_block\n",
        "                        }\n",
        "\n",
        "    dataset_file['data'] = list()\n",
        "    for i in range(subjs):\n",
        "        print(\"[dataset: %d] generating subj data: %d\" % (n, i))\n",
        "\n",
        "        subj_param_rl = np.array([rl_alpha[i], rl_phi[i], rl_rho[i], rl_gamma[i], rl_epsilon[i], rl_C[i]])\n",
        "\n",
        "        subj_data = {}\n",
        "\n",
        "        sim_data = simulate_RLWM(subj_param_rl, set_size_list, num_rep_per_block, num_actions=num_actions, subjs=1)\n",
        "        sim_data['subj_idx'] = i\n",
        "\n",
        "        subj_data['subj_idx'] = i\n",
        "        subj_data['true_param'] = subj_param_rl\n",
        "        subj_data['sim_data'] = sim_data\n",
        "\n",
        "        #print(\"\\t --\", subj_param_rl, subj_data['true_param'])\n",
        "        dataset_file['data'].append(subj_data)\n",
        "\n",
        "    file.append(dataset_file)"
      ],
      "metadata": {
        "colab": {
          "base_uri": "https://localhost:8080/"
        },
        "id": "iF4WXcfVKaap",
        "outputId": "c4bcf925-bdf6-4a9b-8ec7-33347c8ffd83"
      },
      "execution_count": 11,
      "outputs": [
        {
          "output_type": "stream",
          "name": "stdout",
          "text": [
            "\n",
            "==> dataset:  0\n",
            "[dataset: 0] generating subj data: 0\n",
            "[dataset: 0] generating subj data: 1\n",
            "[dataset: 0] generating subj data: 2\n",
            "[dataset: 0] generating subj data: 3\n",
            "[dataset: 0] generating subj data: 4\n",
            "[dataset: 0] generating subj data: 5\n",
            "[dataset: 0] generating subj data: 6\n",
            "[dataset: 0] generating subj data: 7\n",
            "[dataset: 0] generating subj data: 8\n",
            "[dataset: 0] generating subj data: 9\n",
            "[dataset: 0] generating subj data: 10\n",
            "[dataset: 0] generating subj data: 11\n",
            "[dataset: 0] generating subj data: 12\n",
            "[dataset: 0] generating subj data: 13\n",
            "[dataset: 0] generating subj data: 14\n",
            "[dataset: 0] generating subj data: 15\n",
            "[dataset: 0] generating subj data: 16\n",
            "[dataset: 0] generating subj data: 17\n",
            "[dataset: 0] generating subj data: 18\n",
            "[dataset: 0] generating subj data: 19\n"
          ]
        }
      ]
    },
    {
      "cell_type": "code",
      "source": [
        "dataset = file[0]['data']"
      ],
      "metadata": {
        "id": "90HUYuiMKeWN"
      },
      "execution_count": 12,
      "outputs": []
    },
    {
      "cell_type": "code",
      "source": [
        "list_sub_data = list()\n",
        "for itr in range(len(dataset)):\n",
        "    data = dataset[itr]['sim_data']\n",
        "    data['subj_idx'] = itr\n",
        "\n",
        "    list_sub_data.append(data)\n",
        "\n",
        "PR_data = pd.concat(list_sub_data, ignore_index=True)"
      ],
      "metadata": {
        "id": "058QIy4aKgUQ"
      },
      "execution_count": 13,
      "outputs": []
    },
    {
      "cell_type": "code",
      "source": [
        "PR_data"
      ],
      "metadata": {
        "colab": {
          "base_uri": "https://localhost:8080/",
          "height": 0
        },
        "id": "9JEG01RzKhzU",
        "outputId": "a507c42b-2cf3-4caf-d82f-8f20880f943a"
      },
      "execution_count": 14,
      "outputs": [
        {
          "output_type": "execute_result",
          "data": {
            "text/plain": [
              "       subj_idx  block_num  stim  response  feedback  corr  stim_ctr  set_size\n",
              "0             0        0.0   0.0       1.0       1.0   1.0       1.0       1.0\n",
              "1             0        0.0   0.0       1.0       1.0   1.0       2.0       1.0\n",
              "2             0        0.0   0.0       1.0       1.0   1.0       3.0       1.0\n",
              "3             0        0.0   0.0       1.0       1.0   1.0       4.0       1.0\n",
              "4             0        0.0   0.0       1.0       1.0   1.0       5.0       1.0\n",
              "...         ...        ...   ...       ...       ...   ...       ...       ...\n",
              "22195        19       21.0   0.0       1.0       1.0   1.0      11.0       1.0\n",
              "22196        19       21.0   0.0       1.0       1.0   1.0      12.0       1.0\n",
              "22197        19       21.0   0.0       1.0       1.0   1.0      13.0       1.0\n",
              "22198        19       21.0   0.0       1.0       1.0   1.0      14.0       1.0\n",
              "22199        19       21.0   0.0       1.0       1.0   1.0      15.0       1.0\n",
              "\n",
              "[22200 rows x 8 columns]"
            ],
            "text/html": [
              "\n",
              "  <div id=\"df-24f8567f-93bb-4cba-a7ef-cfbc9a03fd11\" class=\"colab-df-container\">\n",
              "    <div>\n",
              "<style scoped>\n",
              "    .dataframe tbody tr th:only-of-type {\n",
              "        vertical-align: middle;\n",
              "    }\n",
              "\n",
              "    .dataframe tbody tr th {\n",
              "        vertical-align: top;\n",
              "    }\n",
              "\n",
              "    .dataframe thead th {\n",
              "        text-align: right;\n",
              "    }\n",
              "</style>\n",
              "<table border=\"1\" class=\"dataframe\">\n",
              "  <thead>\n",
              "    <tr style=\"text-align: right;\">\n",
              "      <th></th>\n",
              "      <th>subj_idx</th>\n",
              "      <th>block_num</th>\n",
              "      <th>stim</th>\n",
              "      <th>response</th>\n",
              "      <th>feedback</th>\n",
              "      <th>corr</th>\n",
              "      <th>stim_ctr</th>\n",
              "      <th>set_size</th>\n",
              "    </tr>\n",
              "  </thead>\n",
              "  <tbody>\n",
              "    <tr>\n",
              "      <th>0</th>\n",
              "      <td>0</td>\n",
              "      <td>0.0</td>\n",
              "      <td>0.0</td>\n",
              "      <td>1.0</td>\n",
              "      <td>1.0</td>\n",
              "      <td>1.0</td>\n",
              "      <td>1.0</td>\n",
              "      <td>1.0</td>\n",
              "    </tr>\n",
              "    <tr>\n",
              "      <th>1</th>\n",
              "      <td>0</td>\n",
              "      <td>0.0</td>\n",
              "      <td>0.0</td>\n",
              "      <td>1.0</td>\n",
              "      <td>1.0</td>\n",
              "      <td>1.0</td>\n",
              "      <td>2.0</td>\n",
              "      <td>1.0</td>\n",
              "    </tr>\n",
              "    <tr>\n",
              "      <th>2</th>\n",
              "      <td>0</td>\n",
              "      <td>0.0</td>\n",
              "      <td>0.0</td>\n",
              "      <td>1.0</td>\n",
              "      <td>1.0</td>\n",
              "      <td>1.0</td>\n",
              "      <td>3.0</td>\n",
              "      <td>1.0</td>\n",
              "    </tr>\n",
              "    <tr>\n",
              "      <th>3</th>\n",
              "      <td>0</td>\n",
              "      <td>0.0</td>\n",
              "      <td>0.0</td>\n",
              "      <td>1.0</td>\n",
              "      <td>1.0</td>\n",
              "      <td>1.0</td>\n",
              "      <td>4.0</td>\n",
              "      <td>1.0</td>\n",
              "    </tr>\n",
              "    <tr>\n",
              "      <th>4</th>\n",
              "      <td>0</td>\n",
              "      <td>0.0</td>\n",
              "      <td>0.0</td>\n",
              "      <td>1.0</td>\n",
              "      <td>1.0</td>\n",
              "      <td>1.0</td>\n",
              "      <td>5.0</td>\n",
              "      <td>1.0</td>\n",
              "    </tr>\n",
              "    <tr>\n",
              "      <th>...</th>\n",
              "      <td>...</td>\n",
              "      <td>...</td>\n",
              "      <td>...</td>\n",
              "      <td>...</td>\n",
              "      <td>...</td>\n",
              "      <td>...</td>\n",
              "      <td>...</td>\n",
              "      <td>...</td>\n",
              "    </tr>\n",
              "    <tr>\n",
              "      <th>22195</th>\n",
              "      <td>19</td>\n",
              "      <td>21.0</td>\n",
              "      <td>0.0</td>\n",
              "      <td>1.0</td>\n",
              "      <td>1.0</td>\n",
              "      <td>1.0</td>\n",
              "      <td>11.0</td>\n",
              "      <td>1.0</td>\n",
              "    </tr>\n",
              "    <tr>\n",
              "      <th>22196</th>\n",
              "      <td>19</td>\n",
              "      <td>21.0</td>\n",
              "      <td>0.0</td>\n",
              "      <td>1.0</td>\n",
              "      <td>1.0</td>\n",
              "      <td>1.0</td>\n",
              "      <td>12.0</td>\n",
              "      <td>1.0</td>\n",
              "    </tr>\n",
              "    <tr>\n",
              "      <th>22197</th>\n",
              "      <td>19</td>\n",
              "      <td>21.0</td>\n",
              "      <td>0.0</td>\n",
              "      <td>1.0</td>\n",
              "      <td>1.0</td>\n",
              "      <td>1.0</td>\n",
              "      <td>13.0</td>\n",
              "      <td>1.0</td>\n",
              "    </tr>\n",
              "    <tr>\n",
              "      <th>22198</th>\n",
              "      <td>19</td>\n",
              "      <td>21.0</td>\n",
              "      <td>0.0</td>\n",
              "      <td>1.0</td>\n",
              "      <td>1.0</td>\n",
              "      <td>1.0</td>\n",
              "      <td>14.0</td>\n",
              "      <td>1.0</td>\n",
              "    </tr>\n",
              "    <tr>\n",
              "      <th>22199</th>\n",
              "      <td>19</td>\n",
              "      <td>21.0</td>\n",
              "      <td>0.0</td>\n",
              "      <td>1.0</td>\n",
              "      <td>1.0</td>\n",
              "      <td>1.0</td>\n",
              "      <td>15.0</td>\n",
              "      <td>1.0</td>\n",
              "    </tr>\n",
              "  </tbody>\n",
              "</table>\n",
              "<p>22200 rows × 8 columns</p>\n",
              "</div>\n",
              "    <div class=\"colab-df-buttons\">\n",
              "\n",
              "  <div class=\"colab-df-container\">\n",
              "    <button class=\"colab-df-convert\" onclick=\"convertToInteractive('df-24f8567f-93bb-4cba-a7ef-cfbc9a03fd11')\"\n",
              "            title=\"Convert this dataframe to an interactive table.\"\n",
              "            style=\"display:none;\">\n",
              "\n",
              "  <svg xmlns=\"http://www.w3.org/2000/svg\" height=\"24px\" viewBox=\"0 -960 960 960\">\n",
              "    <path d=\"M120-120v-720h720v720H120Zm60-500h600v-160H180v160Zm220 220h160v-160H400v160Zm0 220h160v-160H400v160ZM180-400h160v-160H180v160Zm440 0h160v-160H620v160ZM180-180h160v-160H180v160Zm440 0h160v-160H620v160Z\"/>\n",
              "  </svg>\n",
              "    </button>\n",
              "\n",
              "  <style>\n",
              "    .colab-df-container {\n",
              "      display:flex;\n",
              "      gap: 12px;\n",
              "    }\n",
              "\n",
              "    .colab-df-convert {\n",
              "      background-color: #E8F0FE;\n",
              "      border: none;\n",
              "      border-radius: 50%;\n",
              "      cursor: pointer;\n",
              "      display: none;\n",
              "      fill: #1967D2;\n",
              "      height: 32px;\n",
              "      padding: 0 0 0 0;\n",
              "      width: 32px;\n",
              "    }\n",
              "\n",
              "    .colab-df-convert:hover {\n",
              "      background-color: #E2EBFA;\n",
              "      box-shadow: 0px 1px 2px rgba(60, 64, 67, 0.3), 0px 1px 3px 1px rgba(60, 64, 67, 0.15);\n",
              "      fill: #174EA6;\n",
              "    }\n",
              "\n",
              "    .colab-df-buttons div {\n",
              "      margin-bottom: 4px;\n",
              "    }\n",
              "\n",
              "    [theme=dark] .colab-df-convert {\n",
              "      background-color: #3B4455;\n",
              "      fill: #D2E3FC;\n",
              "    }\n",
              "\n",
              "    [theme=dark] .colab-df-convert:hover {\n",
              "      background-color: #434B5C;\n",
              "      box-shadow: 0px 1px 3px 1px rgba(0, 0, 0, 0.15);\n",
              "      filter: drop-shadow(0px 1px 2px rgba(0, 0, 0, 0.3));\n",
              "      fill: #FFFFFF;\n",
              "    }\n",
              "  </style>\n",
              "\n",
              "    <script>\n",
              "      const buttonEl =\n",
              "        document.querySelector('#df-24f8567f-93bb-4cba-a7ef-cfbc9a03fd11 button.colab-df-convert');\n",
              "      buttonEl.style.display =\n",
              "        google.colab.kernel.accessAllowed ? 'block' : 'none';\n",
              "\n",
              "      async function convertToInteractive(key) {\n",
              "        const element = document.querySelector('#df-24f8567f-93bb-4cba-a7ef-cfbc9a03fd11');\n",
              "        const dataTable =\n",
              "          await google.colab.kernel.invokeFunction('convertToInteractive',\n",
              "                                                    [key], {});\n",
              "        if (!dataTable) return;\n",
              "\n",
              "        const docLinkHtml = 'Like what you see? Visit the ' +\n",
              "          '<a target=\"_blank\" href=https://colab.research.google.com/notebooks/data_table.ipynb>data table notebook</a>'\n",
              "          + ' to learn more about interactive tables.';\n",
              "        element.innerHTML = '';\n",
              "        dataTable['output_type'] = 'display_data';\n",
              "        await google.colab.output.renderOutput(dataTable, element);\n",
              "        const docLink = document.createElement('div');\n",
              "        docLink.innerHTML = docLinkHtml;\n",
              "        element.appendChild(docLink);\n",
              "      }\n",
              "    </script>\n",
              "  </div>\n",
              "\n",
              "\n",
              "<div id=\"df-3e294203-b82b-4b0f-bdcc-2688153c1b56\">\n",
              "  <button class=\"colab-df-quickchart\" onclick=\"quickchart('df-3e294203-b82b-4b0f-bdcc-2688153c1b56')\"\n",
              "            title=\"Suggest charts\"\n",
              "            style=\"display:none;\">\n",
              "\n",
              "<svg xmlns=\"http://www.w3.org/2000/svg\" height=\"24px\"viewBox=\"0 0 24 24\"\n",
              "     width=\"24px\">\n",
              "    <g>\n",
              "        <path d=\"M19 3H5c-1.1 0-2 .9-2 2v14c0 1.1.9 2 2 2h14c1.1 0 2-.9 2-2V5c0-1.1-.9-2-2-2zM9 17H7v-7h2v7zm4 0h-2V7h2v10zm4 0h-2v-4h2v4z\"/>\n",
              "    </g>\n",
              "</svg>\n",
              "  </button>\n",
              "\n",
              "<style>\n",
              "  .colab-df-quickchart {\n",
              "      --bg-color: #E8F0FE;\n",
              "      --fill-color: #1967D2;\n",
              "      --hover-bg-color: #E2EBFA;\n",
              "      --hover-fill-color: #174EA6;\n",
              "      --disabled-fill-color: #AAA;\n",
              "      --disabled-bg-color: #DDD;\n",
              "  }\n",
              "\n",
              "  [theme=dark] .colab-df-quickchart {\n",
              "      --bg-color: #3B4455;\n",
              "      --fill-color: #D2E3FC;\n",
              "      --hover-bg-color: #434B5C;\n",
              "      --hover-fill-color: #FFFFFF;\n",
              "      --disabled-bg-color: #3B4455;\n",
              "      --disabled-fill-color: #666;\n",
              "  }\n",
              "\n",
              "  .colab-df-quickchart {\n",
              "    background-color: var(--bg-color);\n",
              "    border: none;\n",
              "    border-radius: 50%;\n",
              "    cursor: pointer;\n",
              "    display: none;\n",
              "    fill: var(--fill-color);\n",
              "    height: 32px;\n",
              "    padding: 0;\n",
              "    width: 32px;\n",
              "  }\n",
              "\n",
              "  .colab-df-quickchart:hover {\n",
              "    background-color: var(--hover-bg-color);\n",
              "    box-shadow: 0 1px 2px rgba(60, 64, 67, 0.3), 0 1px 3px 1px rgba(60, 64, 67, 0.15);\n",
              "    fill: var(--button-hover-fill-color);\n",
              "  }\n",
              "\n",
              "  .colab-df-quickchart-complete:disabled,\n",
              "  .colab-df-quickchart-complete:disabled:hover {\n",
              "    background-color: var(--disabled-bg-color);\n",
              "    fill: var(--disabled-fill-color);\n",
              "    box-shadow: none;\n",
              "  }\n",
              "\n",
              "  .colab-df-spinner {\n",
              "    border: 2px solid var(--fill-color);\n",
              "    border-color: transparent;\n",
              "    border-bottom-color: var(--fill-color);\n",
              "    animation:\n",
              "      spin 1s steps(1) infinite;\n",
              "  }\n",
              "\n",
              "  @keyframes spin {\n",
              "    0% {\n",
              "      border-color: transparent;\n",
              "      border-bottom-color: var(--fill-color);\n",
              "      border-left-color: var(--fill-color);\n",
              "    }\n",
              "    20% {\n",
              "      border-color: transparent;\n",
              "      border-left-color: var(--fill-color);\n",
              "      border-top-color: var(--fill-color);\n",
              "    }\n",
              "    30% {\n",
              "      border-color: transparent;\n",
              "      border-left-color: var(--fill-color);\n",
              "      border-top-color: var(--fill-color);\n",
              "      border-right-color: var(--fill-color);\n",
              "    }\n",
              "    40% {\n",
              "      border-color: transparent;\n",
              "      border-right-color: var(--fill-color);\n",
              "      border-top-color: var(--fill-color);\n",
              "    }\n",
              "    60% {\n",
              "      border-color: transparent;\n",
              "      border-right-color: var(--fill-color);\n",
              "    }\n",
              "    80% {\n",
              "      border-color: transparent;\n",
              "      border-right-color: var(--fill-color);\n",
              "      border-bottom-color: var(--fill-color);\n",
              "    }\n",
              "    90% {\n",
              "      border-color: transparent;\n",
              "      border-bottom-color: var(--fill-color);\n",
              "    }\n",
              "  }\n",
              "</style>\n",
              "\n",
              "  <script>\n",
              "    async function quickchart(key) {\n",
              "      const quickchartButtonEl =\n",
              "        document.querySelector('#' + key + ' button');\n",
              "      quickchartButtonEl.disabled = true;  // To prevent multiple clicks.\n",
              "      quickchartButtonEl.classList.add('colab-df-spinner');\n",
              "      try {\n",
              "        const charts = await google.colab.kernel.invokeFunction(\n",
              "            'suggestCharts', [key], {});\n",
              "      } catch (error) {\n",
              "        console.error('Error during call to suggestCharts:', error);\n",
              "      }\n",
              "      quickchartButtonEl.classList.remove('colab-df-spinner');\n",
              "      quickchartButtonEl.classList.add('colab-df-quickchart-complete');\n",
              "    }\n",
              "    (() => {\n",
              "      let quickchartButtonEl =\n",
              "        document.querySelector('#df-3e294203-b82b-4b0f-bdcc-2688153c1b56 button');\n",
              "      quickchartButtonEl.style.display =\n",
              "        google.colab.kernel.accessAllowed ? 'block' : 'none';\n",
              "    })();\n",
              "  </script>\n",
              "</div>\n",
              "    </div>\n",
              "  </div>\n"
            ],
            "application/vnd.google.colaboratory.intrinsic+json": {
              "type": "dataframe",
              "variable_name": "PR_data",
              "summary": "{\n  \"name\": \"PR_data\",\n  \"rows\": 22200,\n  \"fields\": [\n    {\n      \"column\": \"subj_idx\",\n      \"properties\": {\n        \"dtype\": \"number\",\n        \"std\": 5,\n        \"min\": 0,\n        \"max\": 19,\n        \"num_unique_values\": 20,\n        \"samples\": [\n          0,\n          17,\n          15\n        ],\n        \"semantic_type\": \"\",\n        \"description\": \"\"\n      }\n    },\n    {\n      \"column\": \"block_num\",\n      \"properties\": {\n        \"dtype\": \"number\",\n        \"std\": 6.349711480548056,\n        \"min\": 0.0,\n        \"max\": 21.0,\n        \"num_unique_values\": 22,\n        \"samples\": [\n          0.0,\n          13.0,\n          8.0\n        ],\n        \"semantic_type\": \"\",\n        \"description\": \"\"\n      }\n    },\n    {\n      \"column\": \"stim\",\n      \"properties\": {\n        \"dtype\": \"number\",\n        \"std\": 1.4345667192320635,\n        \"min\": 0.0,\n        \"max\": 5.0,\n        \"num_unique_values\": 6,\n        \"samples\": [\n          0.0,\n          2.0,\n          4.0\n        ],\n        \"semantic_type\": \"\",\n        \"description\": \"\"\n      }\n    },\n    {\n      \"column\": \"response\",\n      \"properties\": {\n        \"dtype\": \"number\",\n        \"std\": 0.8132733405562207,\n        \"min\": 0.0,\n        \"max\": 2.0,\n        \"num_unique_values\": 3,\n        \"samples\": [\n          1.0,\n          0.0,\n          2.0\n        ],\n        \"semantic_type\": \"\",\n        \"description\": \"\"\n      }\n    },\n    {\n      \"column\": \"feedback\",\n      \"properties\": {\n        \"dtype\": \"number\",\n        \"std\": 0.4046947596984508,\n        \"min\": 0.0,\n        \"max\": 1.0,\n        \"num_unique_values\": 2,\n        \"samples\": [\n          0.0,\n          1.0\n        ],\n        \"semantic_type\": \"\",\n        \"description\": \"\"\n      }\n    },\n    {\n      \"column\": \"corr\",\n      \"properties\": {\n        \"dtype\": \"number\",\n        \"std\": 0.4046947596984508,\n        \"min\": 0.0,\n        \"max\": 1.0,\n        \"num_unique_values\": 2,\n        \"samples\": [\n          0.0,\n          1.0\n        ],\n        \"semantic_type\": \"\",\n        \"description\": \"\"\n      }\n    },\n    {\n      \"column\": \"stim_ctr\",\n      \"properties\": {\n        \"dtype\": \"number\",\n        \"std\": 4.320591110645038,\n        \"min\": 1.0,\n        \"max\": 15.0,\n        \"num_unique_values\": 15,\n        \"samples\": [\n          10.0,\n          12.0\n        ],\n        \"semantic_type\": \"\",\n        \"description\": \"\"\n      }\n    },\n    {\n      \"column\": \"set_size\",\n      \"properties\": {\n        \"dtype\": \"number\",\n        \"std\": 1.4847990304254346,\n        \"min\": 1.0,\n        \"max\": 6.0,\n        \"num_unique_values\": 6,\n        \"samples\": [\n          1.0,\n          4.0\n        ],\n        \"semantic_type\": \"\",\n        \"description\": \"\"\n      }\n    }\n  ]\n}"
            }
          },
          "metadata": {},
          "execution_count": 14
        }
      ]
    },
    {
      "cell_type": "markdown",
      "source": [
        "##PyMC"
      ],
      "metadata": {
        "id": "tPGqzem3tVop"
      }
    },
    {
      "cell_type": "markdown",
      "source": [
        "###Reorganize data for vectorization"
      ],
      "metadata": {
        "id": "Pbq8sJecK1Tv"
      }
    },
    {
      "cell_type": "code",
      "source": [
        "df = PR_data.sort_values(['subj_idx', 'block_num', 'stim'])"
      ],
      "metadata": {
        "id": "FZKJtjnQharE"
      },
      "execution_count": 15,
      "outputs": []
    },
    {
      "cell_type": "code",
      "source": [
        "n_trials = df[['subj_idx','block_num','stim']].value_counts().max()\n",
        "n_participants = df['subj_idx'].max() + 1\n",
        "n_choices = int(df['response'].max()) + 1\n",
        "n_blocks = int(df['block_num'].max()) + 1\n",
        "n_stimuli = int(df['stim'].max()) + 1\n",
        "shape = (n_trials, n_participants, n_choices, n_stimuli, n_blocks)\n",
        "choices = np.ones(shape) * -np.inf\n",
        "rewards = np.ones(shape) * -np.inf\n",
        "set_sizes = np.zeros(shape)\n",
        "\n",
        "for subj_idx in df['subj_idx'].unique():\n",
        "    for block_num in df['block_num'].unique():\n",
        "        subj_block_data = df[(df['subj_idx'] == subj_idx) & (df['block_num'] == block_num)]\n",
        "        subj_block_choices = subj_block_data['response'].to_numpy(dtype=np.int32).reshape((-1, n_trials)).transpose((1,0))\n",
        "        subj_block_rewards = subj_block_data['feedback'].to_numpy(dtype=np.float32).reshape((-1, n_trials)).transpose((1,0))\n",
        "        subj_block_set_size = subj_block_data['set_size'].to_numpy(dtype=np.float32).reshape((-1, n_trials)).transpose((1,0))\n",
        "        n_stimuli = int(subj_block_data['set_size'].max())\n",
        "        subj_block_choices = np.eye(n_choices)[subj_block_choices].transpose((0,2,1))\n",
        "        subj_block_rewards = subj_block_rewards.reshape((n_trials, 1, n_stimuli)).repeat(n_choices, axis=1)\n",
        "        subj_block_set_size = subj_block_set_size.reshape((n_trials, 1, n_stimuli)).repeat(n_choices, axis=1)\n",
        "        choices[:, subj_idx, :, :n_stimuli, int(block_num)] = subj_block_choices\n",
        "        rewards[:, subj_idx, :, :n_stimuli, int(block_num)] = subj_block_choices * subj_block_rewards\n",
        "        set_sizes[:, subj_idx, :, :n_stimuli, int(block_num)] = subj_block_set_size"
      ],
      "metadata": {
        "id": "npPzhBVYUwAU"
      },
      "execution_count": 16,
      "outputs": []
    },
    {
      "cell_type": "markdown",
      "source": [
        "###Prep for PyMC"
      ],
      "metadata": {
        "id": "bnqqeN4Ipign"
      }
    },
    {
      "cell_type": "code",
      "source": [
        "df_model = df.sort_values(['block_num', 'stim', 'subj_idx'])\n",
        "\n",
        "# Make coordinates\n",
        "participant_ids, participants = pd.factorize(df_model['subj_idx'])\n",
        "coords = {\n",
        "          \"participant_idx\": np.array(participants),\n",
        "          # \"participant_idx\": np.arange(len(participant_ids)),\n",
        "          \"obs_idx\": np.arange(df_model.shape[0])\n",
        "         }"
      ],
      "metadata": {
        "id": "TN6o1ZErpPyj"
      },
      "execution_count": 17,
      "outputs": []
    },
    {
      "cell_type": "code",
      "source": [
        "n_trials, n_participants, n_choices, n_stimuli, n_blocks = (15, 20, 3, 6, 22)\n",
        "\n",
        "def rlwm_hdll(pA_, pB_, pC_, pE_, pG_, pP_, pR_, choices, rewards, set_sizes_):\n",
        "    dq_RL_ = pt.ones((n_participants, n_choices, n_stimuli, n_blocks)) * pt.true_div(1.0, n_choices)\n",
        "    dq_WM_ = pt.ones((n_participants, n_choices, n_stimuli, n_blocks)) * pt.true_div(1.0, n_choices)\n",
        "    dC_ = choices\n",
        "    dR_ = rewards\n",
        "\n",
        "    pA_ = pt.repeat(pA_.reshape((n_trials, n_participants, 1, 1, 1)), [n_choices, n_stimuli, n_blocks])\n",
        "    pB_ = pt.repeat(pB_.reshape((n_trials, n_participants, 1, 1, 1)), [n_choices, n_stimuli, n_blocks])\n",
        "    pC_ = pt.repeat(pC_.reshape((n_trials, n_participants, 1, 1, 1)), [n_choices, n_stimuli, n_blocks])\n",
        "    pE_ = pt.repeat(pE_.reshape((n_trials, n_participants, 1, 1, 1)), [n_choices, n_stimuli, n_blocks])\n",
        "    pG_ = pt.repeat(pG_.reshape((n_trials, n_participants, 1, 1, 1)), [n_choices, n_stimuli, n_blocks])\n",
        "    pP_ = pt.repeat(pP_.reshape((n_trials, n_participants, 1, 1, 1)), [n_choices, n_stimuli, n_blocks])\n",
        "    pR_ = pt.repeat(pR_.reshape((n_trials, n_participants, 1, 1, 1)), [n_choices, n_stimuli, n_blocks])\n",
        "\n",
        "    return rlwm_recovery(dq_RL_, dq_WM_, dC_, dR_, pA_, pB_, pC_, pE_, pG_, pP_, pR_, set_sizes_)[0].flatten()"
      ],
      "metadata": {
        "id": "Jb11FojTqYoT"
      },
      "execution_count": 21,
      "outputs": []
    },
    {
      "cell_type": "markdown",
      "source": [
        "###Run PyMC"
      ],
      "metadata": {
        "id": "KboQ5zQ4qWj0"
      }
    },
    {
      "cell_type": "code",
      "source": [
        "with pm.Model(coords=coords) as hierarchical_model:\n",
        "    # Data\n",
        "    Choices = pm.ConstantData('Choices', choices)\n",
        "    Rewards = pm.ConstantData('Rewards', rewards)\n",
        "    Set_sizes = pm.ConstantData('Set_sizes', set_sizes)\n",
        "\n",
        "\n",
        "    # Hyperpriors for group nodes\n",
        "    pA_alpha = pm.Gamma(\"pA_alpha\", alpha = 3. , beta = 3.)\n",
        "    pA_beta = pm.Gamma(\"pA_beta\", alpha = 3. , beta = 3.)\n",
        "    pB_alpha = pm.Gamma(\"pB_alpha\", alpha = 3. , beta = 3.)\n",
        "    pB_beta = pm.Gamma(\"pB_beta\", alpha = 3. , beta = 3.)\n",
        "    pC_alpha = pm.Gamma(\"pC_alpha\", alpha = 3. , beta = 3.)\n",
        "    pC_beta = pm.Gamma(\"pC_beta\", alpha = 3. , beta = 3.)\n",
        "    pE_alpha = pm.Gamma(\"pE_alpha\", alpha = 3. , beta = 3.)\n",
        "    pE_beta = pm.Gamma(\"pE_beta\", alpha = 3. , beta = 3.)\n",
        "    pG_alpha = pm.Gamma(\"pG_alpha\", alpha = 3. , beta = 3.)\n",
        "    pG_beta = pm.Gamma(\"pG_beta\", alpha = 3. , beta = 3.)\n",
        "    pP_alpha = pm.Gamma(\"pP_alpha\", alpha = 3. , beta = 3.)\n",
        "    pP_beta = pm.Gamma(\"pP_beta\", alpha = 3. , beta = 3.)\n",
        "    pR_alpha = pm.Gamma(\"pR_alpha\", alpha = 3. , beta = 3.)\n",
        "    pR_beta = pm.Gamma(\"pR_beta\", alpha = 3. , beta = 3.)\n",
        "\n",
        "\n",
        "    # Priors for variables\n",
        "    pA = pm.Beta(name=\"pA\", alpha=pA_alpha, beta=pA_beta, dims=\"participant_idx\")\n",
        "    pB = pm.Beta(name=\"pB\", alpha=pB_alpha, beta=pB_beta, dims=\"participant_idx\")\n",
        "    pC = pm.Beta(name=\"pC\", alpha=pC_alpha, beta=pC_beta, dims=\"participant_idx\")\n",
        "    pE = pm.Beta(name=\"pE\", alpha=pE_alpha, beta=pE_beta, dims=\"participant_idx\")\n",
        "    pG = pm.Beta(name=\"pG\", alpha=pG_alpha, beta=pG_beta, dims=\"participant_idx\")\n",
        "    pP = pm.Beta(name=\"pP\", alpha=pP_alpha, beta=pP_beta, dims=\"participant_idx\")\n",
        "    pR = pm.Beta(name=\"pR\", alpha=pR_alpha, beta=pR_beta, dims=\"participant_idx\")\n",
        "\n",
        "\n",
        "    # Render parameters trial wise\n",
        "    pA_trial = pA[participant_ids]\n",
        "    pB_trial = pB[participant_ids]\n",
        "    pC_trial = pC[participant_ids]\n",
        "    pE_trial = pE[participant_ids]\n",
        "    pG_trial = pG[participant_ids]\n",
        "    pP_trial = pP[participant_ids]\n",
        "    pR_trial = pR[participant_ids]\n",
        "\n",
        "\n",
        "    # CHOOSE WHICH WRAPPER FUNCTION TO USE HERE\n",
        "    pm.Potential(\"likelihood\", rlwm_hdll(pA_trial,pB_trial,pC_trial,pE_trial,pG_trial,pP_trial,pR_trial,Choices,Rewards,Set_sizes))\n",
        "    idata_pooled = pm.sample(500, tune=500, chains=1, nuts_sampler=\"numpyro\")"
      ],
      "metadata": {
        "colab": {
          "base_uri": "https://localhost:8080/",
          "height": 321
        },
        "id": "X-7hleDBp4QG",
        "outputId": "26168f92-c8bb-4480-f3a4-729166e36e18"
      },
      "execution_count": 22,
      "outputs": [
        {
          "output_type": "error",
          "ename": "KeyboardInterrupt",
          "evalue": "",
          "traceback": [
            "\u001b[0;31m---------------------------------------------------------------------------\u001b[0m",
            "\u001b[0;31mKeyboardInterrupt\u001b[0m                         Traceback (most recent call last)",
            "\u001b[0;32m<ipython-input-22-4af04d7eefc0>\u001b[0m in \u001b[0;36m<cell line: 1>\u001b[0;34m()\u001b[0m\n\u001b[1;32m     45\u001b[0m     \u001b[0;31m# CHOOSE WHICH WRAPPER FUNCTION TO USE HERE\u001b[0m\u001b[0;34m\u001b[0m\u001b[0;34m\u001b[0m\u001b[0m\n\u001b[1;32m     46\u001b[0m     \u001b[0mpm\u001b[0m\u001b[0;34m.\u001b[0m\u001b[0mPotential\u001b[0m\u001b[0;34m(\u001b[0m\u001b[0;34m\"likelihood\"\u001b[0m\u001b[0;34m,\u001b[0m \u001b[0mrlwm_hdll\u001b[0m\u001b[0;34m(\u001b[0m\u001b[0mpA_trial\u001b[0m\u001b[0;34m,\u001b[0m\u001b[0mpB_trial\u001b[0m\u001b[0;34m,\u001b[0m\u001b[0mpC_trial\u001b[0m\u001b[0;34m,\u001b[0m\u001b[0mpE_trial\u001b[0m\u001b[0;34m,\u001b[0m\u001b[0mpG_trial\u001b[0m\u001b[0;34m,\u001b[0m\u001b[0mpP_trial\u001b[0m\u001b[0;34m,\u001b[0m\u001b[0mpR_trial\u001b[0m\u001b[0;34m,\u001b[0m\u001b[0mChoices\u001b[0m\u001b[0;34m,\u001b[0m\u001b[0mRewards\u001b[0m\u001b[0;34m,\u001b[0m\u001b[0mSet_sizes\u001b[0m\u001b[0;34m)\u001b[0m\u001b[0;34m)\u001b[0m\u001b[0;34m\u001b[0m\u001b[0;34m\u001b[0m\u001b[0m\n\u001b[0;32m---> 47\u001b[0;31m     \u001b[0midata_pooled\u001b[0m \u001b[0;34m=\u001b[0m \u001b[0mpm\u001b[0m\u001b[0;34m.\u001b[0m\u001b[0msample\u001b[0m\u001b[0;34m(\u001b[0m\u001b[0;36m500\u001b[0m\u001b[0;34m,\u001b[0m \u001b[0mtune\u001b[0m\u001b[0;34m=\u001b[0m\u001b[0;36m500\u001b[0m\u001b[0;34m,\u001b[0m \u001b[0mchains\u001b[0m\u001b[0;34m=\u001b[0m\u001b[0;36m1\u001b[0m\u001b[0;34m,\u001b[0m \u001b[0mnuts_sampler\u001b[0m\u001b[0;34m=\u001b[0m\u001b[0;34m\"numpyro\"\u001b[0m\u001b[0;34m)\u001b[0m\u001b[0;34m\u001b[0m\u001b[0;34m\u001b[0m\u001b[0m\n\u001b[0m",
            "\u001b[0;32m/usr/local/lib/python3.10/dist-packages/pymc/sampling/mcmc.py\u001b[0m in \u001b[0;36msample\u001b[0;34m(draws, tune, chains, cores, random_seed, progressbar, step, nuts_sampler, initvals, init, jitter_max_retries, n_init, trace, discard_tuned_samples, compute_convergence_checks, keep_warning_stat, return_inferencedata, idata_kwargs, nuts_sampler_kwargs, callback, mp_ctx, model, **kwargs)\u001b[0m\n\u001b[1;32m    680\u001b[0m \u001b[0;34m\u001b[0m\u001b[0m\n\u001b[1;32m    681\u001b[0m     \u001b[0minitial_points\u001b[0m \u001b[0;34m=\u001b[0m \u001b[0;32mNone\u001b[0m\u001b[0;34m\u001b[0m\u001b[0;34m\u001b[0m\u001b[0m\n\u001b[0;32m--> 682\u001b[0;31m     \u001b[0mstep\u001b[0m \u001b[0;34m=\u001b[0m \u001b[0massign_step_methods\u001b[0m\u001b[0;34m(\u001b[0m\u001b[0mmodel\u001b[0m\u001b[0;34m,\u001b[0m \u001b[0mstep\u001b[0m\u001b[0;34m,\u001b[0m \u001b[0mmethods\u001b[0m\u001b[0;34m=\u001b[0m\u001b[0mpm\u001b[0m\u001b[0;34m.\u001b[0m\u001b[0mSTEP_METHODS\u001b[0m\u001b[0;34m,\u001b[0m \u001b[0mstep_kwargs\u001b[0m\u001b[0;34m=\u001b[0m\u001b[0mkwargs\u001b[0m\u001b[0;34m)\u001b[0m\u001b[0;34m\u001b[0m\u001b[0;34m\u001b[0m\u001b[0m\n\u001b[0m\u001b[1;32m    683\u001b[0m \u001b[0;34m\u001b[0m\u001b[0m\n\u001b[1;32m    684\u001b[0m     \u001b[0;32mif\u001b[0m \u001b[0mnuts_sampler\u001b[0m \u001b[0;34m!=\u001b[0m \u001b[0;34m\"pymc\"\u001b[0m\u001b[0;34m:\u001b[0m\u001b[0;34m\u001b[0m\u001b[0;34m\u001b[0m\u001b[0m\n",
            "\u001b[0;32m/usr/local/lib/python3.10/dist-packages/pymc/sampling/mcmc.py\u001b[0m in \u001b[0;36massign_step_methods\u001b[0;34m(model, step, methods, step_kwargs)\u001b[0m\n\u001b[1;32m    230\u001b[0m             \u001b[0mselected_steps\u001b[0m\u001b[0;34m.\u001b[0m\u001b[0msetdefault\u001b[0m\u001b[0;34m(\u001b[0m\u001b[0mselected\u001b[0m\u001b[0;34m,\u001b[0m \u001b[0;34m[\u001b[0m\u001b[0;34m]\u001b[0m\u001b[0;34m)\u001b[0m\u001b[0;34m.\u001b[0m\u001b[0mappend\u001b[0m\u001b[0;34m(\u001b[0m\u001b[0mvar\u001b[0m\u001b[0;34m)\u001b[0m\u001b[0;34m\u001b[0m\u001b[0;34m\u001b[0m\u001b[0m\n\u001b[1;32m    231\u001b[0m \u001b[0;34m\u001b[0m\u001b[0m\n\u001b[0;32m--> 232\u001b[0;31m     \u001b[0;32mreturn\u001b[0m \u001b[0minstantiate_steppers\u001b[0m\u001b[0;34m(\u001b[0m\u001b[0mmodel\u001b[0m\u001b[0;34m,\u001b[0m \u001b[0msteps\u001b[0m\u001b[0;34m,\u001b[0m \u001b[0mselected_steps\u001b[0m\u001b[0;34m,\u001b[0m \u001b[0mstep_kwargs\u001b[0m\u001b[0;34m)\u001b[0m\u001b[0;34m\u001b[0m\u001b[0;34m\u001b[0m\u001b[0m\n\u001b[0m\u001b[1;32m    233\u001b[0m \u001b[0;34m\u001b[0m\u001b[0m\n\u001b[1;32m    234\u001b[0m \u001b[0;34m\u001b[0m\u001b[0m\n",
            "\u001b[0;32m/usr/local/lib/python3.10/dist-packages/pymc/sampling/mcmc.py\u001b[0m in \u001b[0;36minstantiate_steppers\u001b[0;34m(model, steps, selected_steps, step_kwargs)\u001b[0m\n\u001b[1;32m    131\u001b[0m             \u001b[0margs\u001b[0m \u001b[0;34m=\u001b[0m \u001b[0mstep_kwargs\u001b[0m\u001b[0;34m.\u001b[0m\u001b[0mget\u001b[0m\u001b[0;34m(\u001b[0m\u001b[0mname\u001b[0m\u001b[0;34m,\u001b[0m \u001b[0;34m{\u001b[0m\u001b[0;34m}\u001b[0m\u001b[0;34m)\u001b[0m\u001b[0;34m\u001b[0m\u001b[0;34m\u001b[0m\u001b[0m\n\u001b[1;32m    132\u001b[0m             \u001b[0mused_keys\u001b[0m\u001b[0;34m.\u001b[0m\u001b[0madd\u001b[0m\u001b[0;34m(\u001b[0m\u001b[0mname\u001b[0m\u001b[0;34m)\u001b[0m\u001b[0;34m\u001b[0m\u001b[0;34m\u001b[0m\u001b[0m\n\u001b[0;32m--> 133\u001b[0;31m             \u001b[0mstep\u001b[0m \u001b[0;34m=\u001b[0m \u001b[0mstep_class\u001b[0m\u001b[0;34m(\u001b[0m\u001b[0mvars\u001b[0m\u001b[0;34m=\u001b[0m\u001b[0mvars\u001b[0m\u001b[0;34m,\u001b[0m \u001b[0mmodel\u001b[0m\u001b[0;34m=\u001b[0m\u001b[0mmodel\u001b[0m\u001b[0;34m,\u001b[0m \u001b[0;34m**\u001b[0m\u001b[0margs\u001b[0m\u001b[0;34m)\u001b[0m\u001b[0;34m\u001b[0m\u001b[0;34m\u001b[0m\u001b[0m\n\u001b[0m\u001b[1;32m    134\u001b[0m             \u001b[0msteps\u001b[0m\u001b[0;34m.\u001b[0m\u001b[0mappend\u001b[0m\u001b[0;34m(\u001b[0m\u001b[0mstep\u001b[0m\u001b[0;34m)\u001b[0m\u001b[0;34m\u001b[0m\u001b[0;34m\u001b[0m\u001b[0m\n\u001b[1;32m    135\u001b[0m \u001b[0;34m\u001b[0m\u001b[0m\n",
            "\u001b[0;32m/usr/local/lib/python3.10/dist-packages/pymc/step_methods/compound.py\u001b[0m in \u001b[0;36m__new__\u001b[0;34m(cls, *args, **kwargs)\u001b[0m\n\u001b[1;32m    150\u001b[0m                 \u001b[0;31m# If we don't return the instance we have to manually\u001b[0m\u001b[0;34m\u001b[0m\u001b[0;34m\u001b[0m\u001b[0m\n\u001b[1;32m    151\u001b[0m                 \u001b[0;31m# call __init__\u001b[0m\u001b[0;34m\u001b[0m\u001b[0;34m\u001b[0m\u001b[0m\n\u001b[0;32m--> 152\u001b[0;31m                 \u001b[0mstep\u001b[0m\u001b[0;34m.\u001b[0m\u001b[0m__init__\u001b[0m\u001b[0;34m(\u001b[0m\u001b[0;34m[\u001b[0m\u001b[0mvar\u001b[0m\u001b[0;34m]\u001b[0m\u001b[0;34m,\u001b[0m \u001b[0;34m*\u001b[0m\u001b[0margs\u001b[0m\u001b[0;34m,\u001b[0m \u001b[0;34m**\u001b[0m\u001b[0mkwargs\u001b[0m\u001b[0;34m)\u001b[0m\u001b[0;34m\u001b[0m\u001b[0;34m\u001b[0m\u001b[0m\n\u001b[0m\u001b[1;32m    153\u001b[0m                 \u001b[0;31m# Hack for creating the class correctly when unpickling.\u001b[0m\u001b[0;34m\u001b[0m\u001b[0;34m\u001b[0m\u001b[0m\n\u001b[1;32m    154\u001b[0m                 \u001b[0mstep\u001b[0m\u001b[0;34m.\u001b[0m\u001b[0m__newargs\u001b[0m \u001b[0;34m=\u001b[0m \u001b[0;34m(\u001b[0m\u001b[0;34m[\u001b[0m\u001b[0mvar\u001b[0m\u001b[0;34m]\u001b[0m\u001b[0;34m,\u001b[0m \u001b[0;34m*\u001b[0m\u001b[0margs\u001b[0m\u001b[0;34m)\u001b[0m\u001b[0;34m,\u001b[0m \u001b[0mkwargs\u001b[0m\u001b[0;34m\u001b[0m\u001b[0;34m\u001b[0m\u001b[0m\n",
            "\u001b[0;32m/usr/local/lib/python3.10/dist-packages/pymc/step_methods/metropolis.py\u001b[0m in \u001b[0;36m__init__\u001b[0;34m(self, vars, S, proposal_dist, scaling, tune, tune_interval, model, mode, **kwargs)\u001b[0m\n\u001b[1;32m    223\u001b[0m \u001b[0;34m\u001b[0m\u001b[0m\n\u001b[1;32m    224\u001b[0m         \u001b[0mshared\u001b[0m \u001b[0;34m=\u001b[0m \u001b[0mpm\u001b[0m\u001b[0;34m.\u001b[0m\u001b[0mmake_shared_replacements\u001b[0m\u001b[0;34m(\u001b[0m\u001b[0minitial_values\u001b[0m\u001b[0;34m,\u001b[0m \u001b[0mvars\u001b[0m\u001b[0;34m,\u001b[0m \u001b[0mmodel\u001b[0m\u001b[0;34m)\u001b[0m\u001b[0;34m\u001b[0m\u001b[0;34m\u001b[0m\u001b[0m\n\u001b[0;32m--> 225\u001b[0;31m         \u001b[0mself\u001b[0m\u001b[0;34m.\u001b[0m\u001b[0mdelta_logp\u001b[0m \u001b[0;34m=\u001b[0m \u001b[0mdelta_logp\u001b[0m\u001b[0;34m(\u001b[0m\u001b[0minitial_values\u001b[0m\u001b[0;34m,\u001b[0m \u001b[0mmodel\u001b[0m\u001b[0;34m.\u001b[0m\u001b[0mlogp\u001b[0m\u001b[0;34m(\u001b[0m\u001b[0;34m)\u001b[0m\u001b[0;34m,\u001b[0m \u001b[0mvars\u001b[0m\u001b[0;34m,\u001b[0m \u001b[0mshared\u001b[0m\u001b[0;34m)\u001b[0m\u001b[0;34m\u001b[0m\u001b[0;34m\u001b[0m\u001b[0m\n\u001b[0m\u001b[1;32m    226\u001b[0m         \u001b[0msuper\u001b[0m\u001b[0;34m(\u001b[0m\u001b[0;34m)\u001b[0m\u001b[0;34m.\u001b[0m\u001b[0m__init__\u001b[0m\u001b[0;34m(\u001b[0m\u001b[0mvars\u001b[0m\u001b[0;34m,\u001b[0m \u001b[0mshared\u001b[0m\u001b[0;34m)\u001b[0m\u001b[0;34m\u001b[0m\u001b[0;34m\u001b[0m\u001b[0m\n\u001b[1;32m    227\u001b[0m \u001b[0;34m\u001b[0m\u001b[0m\n",
            "\u001b[0;32m/usr/local/lib/python3.10/dist-packages/pymc/step_methods/metropolis.py\u001b[0m in \u001b[0;36mdelta_logp\u001b[0;34m(point, logp, vars, shared)\u001b[0m\n\u001b[1;32m   1064\u001b[0m     \u001b[0;34m(\u001b[0m\u001b[0mlogp1\u001b[0m\u001b[0;34m,\u001b[0m\u001b[0;34m)\u001b[0m \u001b[0;34m=\u001b[0m \u001b[0mreplace_rng_nodes\u001b[0m\u001b[0;34m(\u001b[0m\u001b[0;34m(\u001b[0m\u001b[0mlogp1\u001b[0m\u001b[0;34m,\u001b[0m\u001b[0;34m)\u001b[0m\u001b[0;34m)\u001b[0m\u001b[0;34m\u001b[0m\u001b[0;34m\u001b[0m\u001b[0m\n\u001b[1;32m   1065\u001b[0m \u001b[0;34m\u001b[0m\u001b[0m\n\u001b[0;32m-> 1066\u001b[0;31m     \u001b[0mf\u001b[0m \u001b[0;34m=\u001b[0m \u001b[0mcompile_pymc\u001b[0m\u001b[0;34m(\u001b[0m\u001b[0;34m[\u001b[0m\u001b[0minarray1\u001b[0m\u001b[0;34m,\u001b[0m \u001b[0minarray0\u001b[0m\u001b[0;34m]\u001b[0m\u001b[0;34m,\u001b[0m \u001b[0mlogp1\u001b[0m \u001b[0;34m-\u001b[0m \u001b[0mlogp0\u001b[0m\u001b[0;34m)\u001b[0m\u001b[0;34m\u001b[0m\u001b[0;34m\u001b[0m\u001b[0m\n\u001b[0m\u001b[1;32m   1067\u001b[0m     \u001b[0mf\u001b[0m\u001b[0;34m.\u001b[0m\u001b[0mtrust_input\u001b[0m \u001b[0;34m=\u001b[0m \u001b[0;32mTrue\u001b[0m\u001b[0;34m\u001b[0m\u001b[0;34m\u001b[0m\u001b[0m\n\u001b[1;32m   1068\u001b[0m     \u001b[0;32mreturn\u001b[0m \u001b[0mf\u001b[0m\u001b[0;34m\u001b[0m\u001b[0;34m\u001b[0m\u001b[0m\n",
            "\u001b[0;32m/usr/local/lib/python3.10/dist-packages/pymc/pytensorf.py\u001b[0m in \u001b[0;36mcompile_pymc\u001b[0;34m(inputs, outputs, random_seed, mode, **kwargs)\u001b[0m\n\u001b[1;32m    982\u001b[0m     \u001b[0mopt_qry\u001b[0m \u001b[0;34m=\u001b[0m \u001b[0mmode\u001b[0m\u001b[0;34m.\u001b[0m\u001b[0mprovided_optimizer\u001b[0m\u001b[0;34m.\u001b[0m\u001b[0mincluding\u001b[0m\u001b[0;34m(\u001b[0m\u001b[0;34m\"random_make_inplace\"\u001b[0m\u001b[0;34m,\u001b[0m \u001b[0mcheck_parameter_opt\u001b[0m\u001b[0;34m)\u001b[0m\u001b[0;34m\u001b[0m\u001b[0;34m\u001b[0m\u001b[0m\n\u001b[1;32m    983\u001b[0m     \u001b[0mmode\u001b[0m \u001b[0;34m=\u001b[0m \u001b[0mMode\u001b[0m\u001b[0;34m(\u001b[0m\u001b[0mlinker\u001b[0m\u001b[0;34m=\u001b[0m\u001b[0mmode\u001b[0m\u001b[0;34m.\u001b[0m\u001b[0mlinker\u001b[0m\u001b[0;34m,\u001b[0m \u001b[0moptimizer\u001b[0m\u001b[0;34m=\u001b[0m\u001b[0mopt_qry\u001b[0m\u001b[0;34m)\u001b[0m\u001b[0;34m\u001b[0m\u001b[0;34m\u001b[0m\u001b[0m\n\u001b[0;32m--> 984\u001b[0;31m     pytensor_function = pytensor.function(\n\u001b[0m\u001b[1;32m    985\u001b[0m         \u001b[0minputs\u001b[0m\u001b[0;34m,\u001b[0m\u001b[0;34m\u001b[0m\u001b[0;34m\u001b[0m\u001b[0m\n\u001b[1;32m    986\u001b[0m         \u001b[0moutputs\u001b[0m\u001b[0;34m,\u001b[0m\u001b[0;34m\u001b[0m\u001b[0;34m\u001b[0m\u001b[0m\n",
            "\u001b[0;32m/usr/local/lib/python3.10/dist-packages/pytensor/compile/function/__init__.py\u001b[0m in \u001b[0;36mfunction\u001b[0;34m(inputs, outputs, mode, updates, givens, no_default_updates, accept_inplace, name, rebuild_strict, allow_input_downcast, profile, on_unused_input)\u001b[0m\n\u001b[1;32m    313\u001b[0m         \u001b[0;31m# note: pfunc will also call orig_function -- orig_function is\u001b[0m\u001b[0;34m\u001b[0m\u001b[0;34m\u001b[0m\u001b[0m\n\u001b[1;32m    314\u001b[0m         \u001b[0;31m#      a choke point that all compilation must pass through\u001b[0m\u001b[0;34m\u001b[0m\u001b[0;34m\u001b[0m\u001b[0m\n\u001b[0;32m--> 315\u001b[0;31m         fn = pfunc(\n\u001b[0m\u001b[1;32m    316\u001b[0m             \u001b[0mparams\u001b[0m\u001b[0;34m=\u001b[0m\u001b[0minputs\u001b[0m\u001b[0;34m,\u001b[0m\u001b[0;34m\u001b[0m\u001b[0;34m\u001b[0m\u001b[0m\n\u001b[1;32m    317\u001b[0m             \u001b[0moutputs\u001b[0m\u001b[0;34m=\u001b[0m\u001b[0moutputs\u001b[0m\u001b[0;34m,\u001b[0m\u001b[0;34m\u001b[0m\u001b[0;34m\u001b[0m\u001b[0m\n",
            "\u001b[0;32m/usr/local/lib/python3.10/dist-packages/pytensor/compile/function/pfunc.py\u001b[0m in \u001b[0;36mpfunc\u001b[0;34m(params, outputs, mode, updates, givens, no_default_updates, accept_inplace, name, rebuild_strict, allow_input_downcast, profile, on_unused_input, output_keys, fgraph)\u001b[0m\n\u001b[1;32m    467\u001b[0m     )\n\u001b[1;32m    468\u001b[0m \u001b[0;34m\u001b[0m\u001b[0m\n\u001b[0;32m--> 469\u001b[0;31m     return orig_function(\n\u001b[0m\u001b[1;32m    470\u001b[0m         \u001b[0minputs\u001b[0m\u001b[0;34m,\u001b[0m\u001b[0;34m\u001b[0m\u001b[0;34m\u001b[0m\u001b[0m\n\u001b[1;32m    471\u001b[0m         \u001b[0mcloned_outputs\u001b[0m\u001b[0;34m,\u001b[0m\u001b[0;34m\u001b[0m\u001b[0;34m\u001b[0m\u001b[0m\n",
            "\u001b[0;32m/usr/local/lib/python3.10/dist-packages/pytensor/compile/function/types.py\u001b[0m in \u001b[0;36morig_function\u001b[0;34m(inputs, outputs, mode, accept_inplace, name, profile, on_unused_input, output_keys, fgraph)\u001b[0m\n\u001b[1;32m   1748\u001b[0m     \u001b[0;32mtry\u001b[0m\u001b[0;34m:\u001b[0m\u001b[0;34m\u001b[0m\u001b[0;34m\u001b[0m\u001b[0m\n\u001b[1;32m   1749\u001b[0m         \u001b[0mMaker\u001b[0m \u001b[0;34m=\u001b[0m \u001b[0mgetattr\u001b[0m\u001b[0;34m(\u001b[0m\u001b[0mmode\u001b[0m\u001b[0;34m,\u001b[0m \u001b[0;34m\"function_maker\"\u001b[0m\u001b[0;34m,\u001b[0m \u001b[0mFunctionMaker\u001b[0m\u001b[0;34m)\u001b[0m\u001b[0;34m\u001b[0m\u001b[0;34m\u001b[0m\u001b[0m\n\u001b[0;32m-> 1750\u001b[0;31m         m = Maker(\n\u001b[0m\u001b[1;32m   1751\u001b[0m             \u001b[0minputs\u001b[0m\u001b[0;34m,\u001b[0m\u001b[0;34m\u001b[0m\u001b[0;34m\u001b[0m\u001b[0m\n\u001b[1;32m   1752\u001b[0m             \u001b[0moutputs\u001b[0m\u001b[0;34m,\u001b[0m\u001b[0;34m\u001b[0m\u001b[0;34m\u001b[0m\u001b[0m\n",
            "\u001b[0;32m/usr/local/lib/python3.10/dist-packages/pytensor/compile/function/types.py\u001b[0m in \u001b[0;36m__init__\u001b[0;34m(self, inputs, outputs, mode, accept_inplace, function_builder, profile, on_unused_input, fgraph, output_keys, name, no_fgraph_prep)\u001b[0m\n\u001b[1;32m   1521\u001b[0m \u001b[0;34m\u001b[0m\u001b[0m\n\u001b[1;32m   1522\u001b[0m         \u001b[0;32mif\u001b[0m \u001b[0;32mnot\u001b[0m \u001b[0mno_fgraph_prep\u001b[0m\u001b[0;34m:\u001b[0m\u001b[0;34m\u001b[0m\u001b[0;34m\u001b[0m\u001b[0m\n\u001b[0;32m-> 1523\u001b[0;31m             \u001b[0mself\u001b[0m\u001b[0;34m.\u001b[0m\u001b[0mprepare_fgraph\u001b[0m\u001b[0;34m(\u001b[0m\u001b[0minputs\u001b[0m\u001b[0;34m,\u001b[0m \u001b[0moutputs\u001b[0m\u001b[0;34m,\u001b[0m \u001b[0mfound_updates\u001b[0m\u001b[0;34m,\u001b[0m \u001b[0mfgraph\u001b[0m\u001b[0;34m,\u001b[0m \u001b[0mmode\u001b[0m\u001b[0;34m,\u001b[0m \u001b[0mprofile\u001b[0m\u001b[0;34m)\u001b[0m\u001b[0;34m\u001b[0m\u001b[0;34m\u001b[0m\u001b[0m\n\u001b[0m\u001b[1;32m   1524\u001b[0m \u001b[0;34m\u001b[0m\u001b[0m\n\u001b[1;32m   1525\u001b[0m         \u001b[0;32massert\u001b[0m \u001b[0mlen\u001b[0m\u001b[0;34m(\u001b[0m\u001b[0mfgraph\u001b[0m\u001b[0;34m.\u001b[0m\u001b[0moutputs\u001b[0m\u001b[0;34m)\u001b[0m \u001b[0;34m==\u001b[0m \u001b[0mlen\u001b[0m\u001b[0;34m(\u001b[0m\u001b[0moutputs\u001b[0m \u001b[0;34m+\u001b[0m \u001b[0mfound_updates\u001b[0m\u001b[0;34m)\u001b[0m\u001b[0;34m\u001b[0m\u001b[0;34m\u001b[0m\u001b[0m\n",
            "\u001b[0;32m/usr/local/lib/python3.10/dist-packages/pytensor/compile/function/types.py\u001b[0m in \u001b[0;36mprepare_fgraph\u001b[0;34m(inputs, outputs, additional_outputs, fgraph, mode, profile)\u001b[0m\n\u001b[1;32m   1409\u001b[0m                 \u001b[0mtraceback__limit\u001b[0m\u001b[0;34m=\u001b[0m\u001b[0mconfig\u001b[0m\u001b[0;34m.\u001b[0m\u001b[0mtraceback__compile_limit\u001b[0m\u001b[0;34m,\u001b[0m\u001b[0;34m\u001b[0m\u001b[0;34m\u001b[0m\u001b[0m\n\u001b[1;32m   1410\u001b[0m             ):\n\u001b[0;32m-> 1411\u001b[0;31m                 \u001b[0mrewriter_profile\u001b[0m \u001b[0;34m=\u001b[0m \u001b[0mrewriter\u001b[0m\u001b[0;34m(\u001b[0m\u001b[0mfgraph\u001b[0m\u001b[0;34m)\u001b[0m\u001b[0;34m\u001b[0m\u001b[0;34m\u001b[0m\u001b[0m\n\u001b[0m\u001b[1;32m   1412\u001b[0m \u001b[0;34m\u001b[0m\u001b[0m\n\u001b[1;32m   1413\u001b[0m                 \u001b[0mend_rewriter\u001b[0m \u001b[0;34m=\u001b[0m \u001b[0mtime\u001b[0m\u001b[0;34m.\u001b[0m\u001b[0mperf_counter\u001b[0m\u001b[0;34m(\u001b[0m\u001b[0;34m)\u001b[0m\u001b[0;34m\u001b[0m\u001b[0;34m\u001b[0m\u001b[0m\n",
            "\u001b[0;32m/usr/local/lib/python3.10/dist-packages/pytensor/graph/rewriting/basic.py\u001b[0m in \u001b[0;36m__call__\u001b[0;34m(self, fgraph)\u001b[0m\n\u001b[1;32m    123\u001b[0m     \u001b[0;32mdef\u001b[0m \u001b[0m__call__\u001b[0m\u001b[0;34m(\u001b[0m\u001b[0mself\u001b[0m\u001b[0;34m,\u001b[0m \u001b[0mfgraph\u001b[0m\u001b[0;34m)\u001b[0m\u001b[0;34m:\u001b[0m\u001b[0;34m\u001b[0m\u001b[0;34m\u001b[0m\u001b[0m\n\u001b[1;32m    124\u001b[0m         \u001b[0;34m\"\"\"Rewrite a `FunctionGraph`.\"\"\"\u001b[0m\u001b[0;34m\u001b[0m\u001b[0;34m\u001b[0m\u001b[0m\n\u001b[0;32m--> 125\u001b[0;31m         \u001b[0;32mreturn\u001b[0m \u001b[0mself\u001b[0m\u001b[0;34m.\u001b[0m\u001b[0mrewrite\u001b[0m\u001b[0;34m(\u001b[0m\u001b[0mfgraph\u001b[0m\u001b[0;34m)\u001b[0m\u001b[0;34m\u001b[0m\u001b[0;34m\u001b[0m\u001b[0m\n\u001b[0m\u001b[1;32m    126\u001b[0m \u001b[0;34m\u001b[0m\u001b[0m\n\u001b[1;32m    127\u001b[0m     \u001b[0;32mdef\u001b[0m \u001b[0madd_requirements\u001b[0m\u001b[0;34m(\u001b[0m\u001b[0mself\u001b[0m\u001b[0;34m,\u001b[0m \u001b[0mfgraph\u001b[0m\u001b[0;34m)\u001b[0m\u001b[0;34m:\u001b[0m\u001b[0;34m\u001b[0m\u001b[0;34m\u001b[0m\u001b[0m\n",
            "\u001b[0;32m/usr/local/lib/python3.10/dist-packages/pytensor/graph/rewriting/basic.py\u001b[0m in \u001b[0;36mrewrite\u001b[0;34m(self, fgraph, *args, **kwargs)\u001b[0m\n\u001b[1;32m    119\u001b[0m         \"\"\"\n\u001b[1;32m    120\u001b[0m         \u001b[0mself\u001b[0m\u001b[0;34m.\u001b[0m\u001b[0madd_requirements\u001b[0m\u001b[0;34m(\u001b[0m\u001b[0mfgraph\u001b[0m\u001b[0;34m)\u001b[0m\u001b[0;34m\u001b[0m\u001b[0;34m\u001b[0m\u001b[0m\n\u001b[0;32m--> 121\u001b[0;31m         \u001b[0;32mreturn\u001b[0m \u001b[0mself\u001b[0m\u001b[0;34m.\u001b[0m\u001b[0mapply\u001b[0m\u001b[0;34m(\u001b[0m\u001b[0mfgraph\u001b[0m\u001b[0;34m,\u001b[0m \u001b[0;34m*\u001b[0m\u001b[0margs\u001b[0m\u001b[0;34m,\u001b[0m \u001b[0;34m**\u001b[0m\u001b[0mkwargs\u001b[0m\u001b[0;34m)\u001b[0m\u001b[0;34m\u001b[0m\u001b[0;34m\u001b[0m\u001b[0m\n\u001b[0m\u001b[1;32m    122\u001b[0m \u001b[0;34m\u001b[0m\u001b[0m\n\u001b[1;32m    123\u001b[0m     \u001b[0;32mdef\u001b[0m \u001b[0m__call__\u001b[0m\u001b[0;34m(\u001b[0m\u001b[0mself\u001b[0m\u001b[0;34m,\u001b[0m \u001b[0mfgraph\u001b[0m\u001b[0;34m)\u001b[0m\u001b[0;34m:\u001b[0m\u001b[0;34m\u001b[0m\u001b[0;34m\u001b[0m\u001b[0m\n",
            "\u001b[0;32m/usr/local/lib/python3.10/dist-packages/pytensor/graph/rewriting/basic.py\u001b[0m in \u001b[0;36mapply\u001b[0;34m(self, fgraph)\u001b[0m\n\u001b[1;32m    290\u001b[0m                     \u001b[0mnb_nodes_before\u001b[0m \u001b[0;34m=\u001b[0m \u001b[0mlen\u001b[0m\u001b[0;34m(\u001b[0m\u001b[0mfgraph\u001b[0m\u001b[0;34m.\u001b[0m\u001b[0mapply_nodes\u001b[0m\u001b[0;34m)\u001b[0m\u001b[0;34m\u001b[0m\u001b[0;34m\u001b[0m\u001b[0m\n\u001b[1;32m    291\u001b[0m                     \u001b[0mt0\u001b[0m \u001b[0;34m=\u001b[0m \u001b[0mtime\u001b[0m\u001b[0;34m.\u001b[0m\u001b[0mperf_counter\u001b[0m\u001b[0;34m(\u001b[0m\u001b[0;34m)\u001b[0m\u001b[0;34m\u001b[0m\u001b[0;34m\u001b[0m\u001b[0m\n\u001b[0;32m--> 292\u001b[0;31m                     \u001b[0msub_prof\u001b[0m \u001b[0;34m=\u001b[0m \u001b[0mrewriter\u001b[0m\u001b[0;34m.\u001b[0m\u001b[0mapply\u001b[0m\u001b[0;34m(\u001b[0m\u001b[0mfgraph\u001b[0m\u001b[0;34m)\u001b[0m\u001b[0;34m\u001b[0m\u001b[0;34m\u001b[0m\u001b[0m\n\u001b[0m\u001b[1;32m    293\u001b[0m                     \u001b[0ml\u001b[0m\u001b[0;34m.\u001b[0m\u001b[0mappend\u001b[0m\u001b[0;34m(\u001b[0m\u001b[0mfloat\u001b[0m\u001b[0;34m(\u001b[0m\u001b[0mtime\u001b[0m\u001b[0;34m.\u001b[0m\u001b[0mperf_counter\u001b[0m\u001b[0;34m(\u001b[0m\u001b[0;34m)\u001b[0m \u001b[0;34m-\u001b[0m \u001b[0mt0\u001b[0m\u001b[0;34m)\u001b[0m\u001b[0;34m)\u001b[0m\u001b[0;34m\u001b[0m\u001b[0;34m\u001b[0m\u001b[0m\n\u001b[1;32m    294\u001b[0m                     \u001b[0msub_profs\u001b[0m\u001b[0;34m.\u001b[0m\u001b[0mappend\u001b[0m\u001b[0;34m(\u001b[0m\u001b[0msub_prof\u001b[0m\u001b[0;34m)\u001b[0m\u001b[0;34m\u001b[0m\u001b[0;34m\u001b[0m\u001b[0m\n",
            "\u001b[0;32m/usr/local/lib/python3.10/dist-packages/pytensor/graph/rewriting/basic.py\u001b[0m in \u001b[0;36mapply\u001b[0;34m(self, fgraph, start_from)\u001b[0m\n\u001b[1;32m   2456\u001b[0m                 \u001b[0mnb\u001b[0m \u001b[0;34m=\u001b[0m \u001b[0mchange_tracker\u001b[0m\u001b[0;34m.\u001b[0m\u001b[0mnb_imported\u001b[0m\u001b[0;34m\u001b[0m\u001b[0;34m\u001b[0m\u001b[0m\n\u001b[1;32m   2457\u001b[0m                 \u001b[0mt_rewrite\u001b[0m \u001b[0;34m=\u001b[0m \u001b[0mtime\u001b[0m\u001b[0;34m.\u001b[0m\u001b[0mperf_counter\u001b[0m\u001b[0;34m(\u001b[0m\u001b[0;34m)\u001b[0m\u001b[0;34m\u001b[0m\u001b[0;34m\u001b[0m\u001b[0m\n\u001b[0;32m-> 2458\u001b[0;31m                 \u001b[0msub_prof\u001b[0m \u001b[0;34m=\u001b[0m \u001b[0mgrewrite\u001b[0m\u001b[0;34m.\u001b[0m\u001b[0mapply\u001b[0m\u001b[0;34m(\u001b[0m\u001b[0mfgraph\u001b[0m\u001b[0;34m)\u001b[0m\u001b[0;34m\u001b[0m\u001b[0;34m\u001b[0m\u001b[0m\n\u001b[0m\u001b[1;32m   2459\u001b[0m                 \u001b[0mtime_rewriters\u001b[0m\u001b[0;34m[\u001b[0m\u001b[0mgrewrite\u001b[0m\u001b[0;34m]\u001b[0m \u001b[0;34m+=\u001b[0m \u001b[0mtime\u001b[0m\u001b[0;34m.\u001b[0m\u001b[0mperf_counter\u001b[0m\u001b[0;34m(\u001b[0m\u001b[0;34m)\u001b[0m \u001b[0;34m-\u001b[0m \u001b[0mt_rewrite\u001b[0m\u001b[0;34m\u001b[0m\u001b[0;34m\u001b[0m\u001b[0m\n\u001b[1;32m   2460\u001b[0m                 \u001b[0msub_profs\u001b[0m\u001b[0;34m.\u001b[0m\u001b[0mappend\u001b[0m\u001b[0;34m(\u001b[0m\u001b[0msub_prof\u001b[0m\u001b[0;34m)\u001b[0m\u001b[0;34m\u001b[0m\u001b[0;34m\u001b[0m\u001b[0m\n",
            "\u001b[0;32m/usr/local/lib/python3.10/dist-packages/pytensor/graph/rewriting/basic.py\u001b[0m in \u001b[0;36mapply\u001b[0;34m(self, fgraph, start_from)\u001b[0m\n\u001b[1;32m   2038\u001b[0m                     \u001b[0;32mcontinue\u001b[0m\u001b[0;34m\u001b[0m\u001b[0;34m\u001b[0m\u001b[0m\n\u001b[1;32m   2039\u001b[0m                 \u001b[0mcurrent_node\u001b[0m \u001b[0;34m=\u001b[0m \u001b[0mnode\u001b[0m\u001b[0;34m\u001b[0m\u001b[0;34m\u001b[0m\u001b[0m\n\u001b[0;32m-> 2040\u001b[0;31m                 \u001b[0mnb\u001b[0m \u001b[0;34m+=\u001b[0m \u001b[0mself\u001b[0m\u001b[0;34m.\u001b[0m\u001b[0mprocess_node\u001b[0m\u001b[0;34m(\u001b[0m\u001b[0mfgraph\u001b[0m\u001b[0;34m,\u001b[0m \u001b[0mnode\u001b[0m\u001b[0;34m)\u001b[0m\u001b[0;34m\u001b[0m\u001b[0;34m\u001b[0m\u001b[0m\n\u001b[0m\u001b[1;32m   2041\u001b[0m             \u001b[0mloop_t\u001b[0m \u001b[0;34m=\u001b[0m \u001b[0mtime\u001b[0m\u001b[0;34m.\u001b[0m\u001b[0mperf_counter\u001b[0m\u001b[0;34m(\u001b[0m\u001b[0;34m)\u001b[0m \u001b[0;34m-\u001b[0m \u001b[0mt0\u001b[0m\u001b[0;34m\u001b[0m\u001b[0;34m\u001b[0m\u001b[0m\n\u001b[1;32m   2042\u001b[0m         \u001b[0;32mfinally\u001b[0m\u001b[0;34m:\u001b[0m\u001b[0;34m\u001b[0m\u001b[0;34m\u001b[0m\u001b[0m\n",
            "\u001b[0;32m/usr/local/lib/python3.10/dist-packages/pytensor/graph/rewriting/basic.py\u001b[0m in \u001b[0;36mprocess_node\u001b[0;34m(self, fgraph, node, node_rewriter)\u001b[0m\n\u001b[1;32m   1920\u001b[0m         \u001b[0;32massert\u001b[0m \u001b[0mnode_rewriter\u001b[0m \u001b[0;32mis\u001b[0m \u001b[0;32mnot\u001b[0m \u001b[0;32mNone\u001b[0m\u001b[0;34m\u001b[0m\u001b[0;34m\u001b[0m\u001b[0m\n\u001b[1;32m   1921\u001b[0m         \u001b[0;32mtry\u001b[0m\u001b[0;34m:\u001b[0m\u001b[0;34m\u001b[0m\u001b[0;34m\u001b[0m\u001b[0m\n\u001b[0;32m-> 1922\u001b[0;31m             \u001b[0mreplacements\u001b[0m \u001b[0;34m=\u001b[0m \u001b[0mnode_rewriter\u001b[0m\u001b[0;34m.\u001b[0m\u001b[0mtransform\u001b[0m\u001b[0;34m(\u001b[0m\u001b[0mfgraph\u001b[0m\u001b[0;34m,\u001b[0m \u001b[0mnode\u001b[0m\u001b[0;34m)\u001b[0m\u001b[0;34m\u001b[0m\u001b[0;34m\u001b[0m\u001b[0m\n\u001b[0m\u001b[1;32m   1923\u001b[0m         \u001b[0;32mexcept\u001b[0m \u001b[0mException\u001b[0m \u001b[0;32mas\u001b[0m \u001b[0me\u001b[0m\u001b[0;34m:\u001b[0m\u001b[0;34m\u001b[0m\u001b[0;34m\u001b[0m\u001b[0m\n\u001b[1;32m   1924\u001b[0m             \u001b[0;32mif\u001b[0m \u001b[0mself\u001b[0m\u001b[0;34m.\u001b[0m\u001b[0mfailure_callback\u001b[0m \u001b[0;32mis\u001b[0m \u001b[0;32mnot\u001b[0m \u001b[0;32mNone\u001b[0m\u001b[0;34m:\u001b[0m\u001b[0;34m\u001b[0m\u001b[0;34m\u001b[0m\u001b[0m\n",
            "\u001b[0;32m/usr/local/lib/python3.10/dist-packages/pytensor/graph/rewriting/basic.py\u001b[0m in \u001b[0;36mtransform\u001b[0;34m(self, fgraph, node)\u001b[0m\n\u001b[1;32m   1080\u001b[0m                 \u001b[0;32mreturn\u001b[0m \u001b[0;32mFalse\u001b[0m\u001b[0;34m\u001b[0m\u001b[0;34m\u001b[0m\u001b[0m\n\u001b[1;32m   1081\u001b[0m \u001b[0;34m\u001b[0m\u001b[0m\n\u001b[0;32m-> 1082\u001b[0;31m         \u001b[0;32mreturn\u001b[0m \u001b[0mself\u001b[0m\u001b[0;34m.\u001b[0m\u001b[0mfn\u001b[0m\u001b[0;34m(\u001b[0m\u001b[0mfgraph\u001b[0m\u001b[0;34m,\u001b[0m \u001b[0mnode\u001b[0m\u001b[0;34m)\u001b[0m\u001b[0;34m\u001b[0m\u001b[0;34m\u001b[0m\u001b[0m\n\u001b[0m\u001b[1;32m   1083\u001b[0m \u001b[0;34m\u001b[0m\u001b[0m\n\u001b[1;32m   1084\u001b[0m     \u001b[0;32mdef\u001b[0m \u001b[0madd_requirements\u001b[0m\u001b[0;34m(\u001b[0m\u001b[0mself\u001b[0m\u001b[0;34m,\u001b[0m \u001b[0mfgraph\u001b[0m\u001b[0;34m)\u001b[0m\u001b[0;34m:\u001b[0m\u001b[0;34m\u001b[0m\u001b[0;34m\u001b[0m\u001b[0m\n",
            "\u001b[0;32m/usr/local/lib/python3.10/dist-packages/pytensor/tensor/rewriting/basic.py\u001b[0m in \u001b[0;36mconstant_folding\u001b[0;34m(fgraph, node)\u001b[0m\n\u001b[1;32m   1091\u001b[0m \u001b[0;34m@\u001b[0m\u001b[0mnode_rewriter\u001b[0m\u001b[0;34m(\u001b[0m\u001b[0;32mNone\u001b[0m\u001b[0;34m)\u001b[0m\u001b[0;34m\u001b[0m\u001b[0;34m\u001b[0m\u001b[0m\n\u001b[1;32m   1092\u001b[0m \u001b[0;32mdef\u001b[0m \u001b[0mconstant_folding\u001b[0m\u001b[0;34m(\u001b[0m\u001b[0mfgraph\u001b[0m\u001b[0;34m,\u001b[0m \u001b[0mnode\u001b[0m\u001b[0;34m)\u001b[0m\u001b[0;34m:\u001b[0m\u001b[0;34m\u001b[0m\u001b[0;34m\u001b[0m\u001b[0m\n\u001b[0;32m-> 1093\u001b[0;31m     \u001b[0;32mif\u001b[0m \u001b[0;32mnot\u001b[0m \u001b[0mnode\u001b[0m\u001b[0;34m.\u001b[0m\u001b[0mop\u001b[0m\u001b[0;34m.\u001b[0m\u001b[0mdo_constant_folding\u001b[0m\u001b[0;34m(\u001b[0m\u001b[0mfgraph\u001b[0m\u001b[0;34m,\u001b[0m \u001b[0mnode\u001b[0m\u001b[0;34m)\u001b[0m\u001b[0;34m:\u001b[0m\u001b[0;34m\u001b[0m\u001b[0;34m\u001b[0m\u001b[0m\n\u001b[0m\u001b[1;32m   1094\u001b[0m         \u001b[0;32mreturn\u001b[0m \u001b[0;32mFalse\u001b[0m\u001b[0;34m\u001b[0m\u001b[0;34m\u001b[0m\u001b[0m\n\u001b[1;32m   1095\u001b[0m \u001b[0;34m\u001b[0m\u001b[0m\n",
            "\u001b[0;32m/usr/local/lib/python3.10/dist-packages/pytensor/graph/op.py\u001b[0m in \u001b[0;36mdo_constant_folding\u001b[0;34m(self, fgraph, node)\u001b[0m\n\u001b[1;32m    452\u001b[0m         \"\"\"\n\u001b[1;32m    453\u001b[0m \u001b[0;34m\u001b[0m\u001b[0m\n\u001b[0;32m--> 454\u001b[0;31m     \u001b[0;32mdef\u001b[0m \u001b[0mdo_constant_folding\u001b[0m\u001b[0;34m(\u001b[0m\u001b[0mself\u001b[0m\u001b[0;34m,\u001b[0m \u001b[0mfgraph\u001b[0m\u001b[0;34m:\u001b[0m \u001b[0;34m\"FunctionGraph\"\u001b[0m\u001b[0;34m,\u001b[0m \u001b[0mnode\u001b[0m\u001b[0;34m:\u001b[0m \u001b[0mApply\u001b[0m\u001b[0;34m)\u001b[0m \u001b[0;34m->\u001b[0m \u001b[0mbool\u001b[0m\u001b[0;34m:\u001b[0m\u001b[0;34m\u001b[0m\u001b[0;34m\u001b[0m\u001b[0m\n\u001b[0m\u001b[1;32m    455\u001b[0m         \"\"\"Determine whether or not constant folding should be performed for the given node.\n\u001b[1;32m    456\u001b[0m \u001b[0;34m\u001b[0m\u001b[0m\n",
            "\u001b[0;31mKeyboardInterrupt\u001b[0m: "
          ]
        }
      ]
    }
  ]
}