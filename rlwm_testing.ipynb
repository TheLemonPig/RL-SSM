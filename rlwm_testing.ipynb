{
  "nbformat": 4,
  "nbformat_minor": 0,
  "metadata": {
    "colab": {
      "provenance": [],
      "authorship_tag": "ABX9TyMVtRkF8S95Zc4feGNirm7u",
      "include_colab_link": true
    },
    "kernelspec": {
      "name": "python3",
      "display_name": "Python 3"
    },
    "language_info": {
      "name": "python"
    }
  },
  "cells": [
    {
      "cell_type": "markdown",
      "metadata": {
        "id": "view-in-github",
        "colab_type": "text"
      },
      "source": [
        "<a href=\"https://colab.research.google.com/github/TheLemonPig/RL-SSM/blob/main/rlwm_testing.ipynb\" target=\"_parent\"><img src=\"https://colab.research.google.com/assets/colab-badge.svg\" alt=\"Open In Colab\"/></a>"
      ]
    },
    {
      "cell_type": "code",
      "source": [
        "!pip install 'pymc>=5.9'\n",
        "!pip install numpyro"
      ],
      "metadata": {
        "id": "2qLuQMJYqLlF"
      },
      "execution_count": null,
      "outputs": []
    },
    {
      "cell_type": "code",
      "source": [
        "import pymc as pm\n",
        "import numpy as np\n",
        "import random, pickle\n",
        "import matplotlib.pyplot as plt\n",
        "import pandas as pd\n",
        "import pytensor\n",
        "import pytensor.tensor as pt"
      ],
      "metadata": {
        "id": "FTLi_VnUJyfb"
      },
      "execution_count": 1,
      "outputs": []
    },
    {
      "cell_type": "markdown",
      "source": [
        "##PyTensor"
      ],
      "metadata": {
        "id": "9zVA4Nq2J4Jr"
      }
    },
    {
      "cell_type": "markdown",
      "source": [
        "####Functions"
      ],
      "metadata": {
        "id": "kk_U1m5SSsJi"
      }
    },
    {
      "cell_type": "code",
      "source": [
        "def rlwm_step(dC, dR, pA, pG, pP, dq_RL, dq_WM):\n",
        "    cond = pt.switch(pt.lt(dq_RL, dR), 1, 0)\n",
        "    dq_RL += (cond + (1.0 - cond) * pG) * pA * (dR - dq_RL) * dC\n",
        "    dq_WM += (cond + (1.0 - cond) * pG) * 1.0 * (dR - dq_RL) * dC\n",
        "    dq_WM += pP * (pt.true_div(1, dR.shape[2]) - dq_WM)\n",
        "    return [dq_RL, dq_WM]\n",
        "\n",
        "def rlwm_scan(dC, dR, pA, pG, pP, dq_RL, dq_WM):\n",
        "    ([dq_RL, dq_WM], _) = pytensor.scan(rlwm_step, sequences=[dC, dR, pA, pG, pP], non_sequences=[], outputs_info=[dq_RL, dq_WM])\n",
        "    return dq_RL, dq_WM\n",
        "\n",
        "\n",
        "def rlwm_softmax(Qs, pB):\n",
        "    shape = Qs.shape\n",
        "    tempered_qs = pt.mul(Qs,pB)\n",
        "    qs_max = pt.max(tempered_qs,axis=2)\n",
        "    qs_max = pt.repeat(qs_max.reshape((shape[0], shape[1], 1, shape[3])), shape[2], axis=2)\n",
        "    numerator = pt.exp(tempered_qs - qs_max)\n",
        "    denominator = pt.sum(numerator, axis=2)\n",
        "    denominator = pt.repeat(denominator.reshape((shape[0], shape[1], 1, shape[3])), shape[2], axis=2)\n",
        "    Ps = pt.true_div(numerator, denominator)\n",
        "    return Ps\n",
        "\n",
        "\n",
        "def rlwm_likelihood(dC, dq_RL, dq_WM, pB, pC, pE, pR, set_sizes):\n",
        "    weight = pR * pt.clip(pt.true_div(pC, set_sizes), -10e6, 1)\n",
        "    Ps_RL = rlwm_softmax(dq_RL, pB)\n",
        "    Ps_WM = rlwm_softmax(dq_WM, pB)\n",
        "    pol = weight * Ps_WM + (1.0 - weight) * Ps_RL\n",
        "    pol_final = (1.0 - pE) * pol + pE * pt.true_div(1.0,dC.shape[2])\n",
        "    likelihood = pt.log(pol_final)\n",
        "    return likelihood\n",
        "\n",
        "def rlwm_Ps(dq_RL, dq_WM, dC, dR, pA, pB, pG, pP):\n",
        "    dq_RL, dq_WM = rlwm_scan(dC, dR, pA, pG, pP, dq_RL, dq_WM)\n",
        "    Ps_RL = rlwm_softmax(dq_RL, pB)\n",
        "    Ps_WM = rlwm_softmax(dq_WM, pB)\n",
        "    return Ps_RL, Ps_WM\n",
        "\n",
        "\n",
        "def rlwm_recovery(dq_RL, dq_WM, dC, dR, pA, pB, pC, pE, pG, pP, pR, set_sizes):\n",
        "    dq_RL, dq_WM = rlwm_scan(dC, dR, pA, pG, pP, dq_RL, dq_WM)\n",
        "    likelihood = rlwm_likelihood(dC, dq_RL, dq_WM, pB, pC, pE, pR, set_sizes)\n",
        "    return likelihood"
      ],
      "metadata": {
        "id": "btpenR8nSxm6"
      },
      "execution_count": 2,
      "outputs": []
    },
    {
      "cell_type": "markdown",
      "source": [
        "####Compilers"
      ],
      "metadata": {
        "id": "GjZWgiJOSyb3"
      }
    },
    {
      "cell_type": "code",
      "execution_count": 3,
      "metadata": {
        "id": "UTPXZtEOBbuZ"
      },
      "outputs": [],
      "source": [
        "def rlwm_step_compile():\n",
        "    dC3 = pt.dtensor3(\"dC3\")\n",
        "    dR3 = pt.dtensor3(\"dR3\")\n",
        "    dq_RL3 = pt.dtensor3(\"dq_RL3\")\n",
        "    dq_WM3 = pt.dtensor3(\"dq_WM3\")\n",
        "    pA3 = pt.dtensor3(\"pA3\")\n",
        "    pG3 = pt.dtensor3(\"pG3\")\n",
        "    pP3 = pt.dtensor3(\"pP3\")\n",
        "\n",
        "    dq_RL, dq_WM = rlwm_step(dC3, dR3, pA3, pG3, pP3, dq_RL3, dq_WM3)\n",
        "    rlwm_step_func = pytensor.function(inputs=[dC3, dR3, pA3, pG3, pP3, dq_RL3, dq_WM3], outputs=[dq_RL, dq_WM])\n",
        "\n",
        "    return rlwm_step_func\n",
        "\n",
        "\n",
        "def rlwm_scan_compile():\n",
        "    dC4 = pt.dtensor4(\"dC4\")\n",
        "    dR4 = pt.dtensor4(\"dR4\")\n",
        "    dq_RL3 = pt.dtensor3(\"dq_RL3\")\n",
        "    dq_WM3 = pt.dtensor3(\"dq_WM3\")\n",
        "    pA4 = pt.dtensor4(\"pA4\")\n",
        "    pG4 = pt.dtensor4(\"pG4\")\n",
        "    pP4 = pt.dtensor4(\"pP4\")\n",
        "\n",
        "    dq_RL, dq_WM = rlwm_scan(dC4, dR4, pA4, pG4, pP4, dq_RL3, dq_WM3)\n",
        "    rlwm_step_func = pytensor.function(inputs=[dC4, dR4, pA4, pG4, pP4, dq_RL3, dq_WM3], outputs=[dq_RL, dq_WM])\n",
        "\n",
        "    return rlwm_step_func\n",
        "\n",
        "\n",
        "def rlwm_softmax_compile():\n",
        "    Qs = pt.dtensor4('Qs')\n",
        "    B = pt.dtensor4('B')\n",
        "\n",
        "    Ps = rlwm_softmax(Qs, B)\n",
        "    Ps_func = pytensor.function(inputs=[Qs, B], outputs=Ps)\n",
        "\n",
        "    return Ps_func\n",
        "\n",
        "\n",
        "def rlwm_likelihood_compile():\n",
        "    dC4 = pt.dtensor4(\"dC4\")\n",
        "    dq_RL4 = pt.dtensor4(\"dq_RL4\")\n",
        "    dq_WM4 = pt.dtensor4(\"dq_WM4\")\n",
        "    pB4 = pt.dtensor4(\"pB4\")\n",
        "    pC4 = pt.dtensor4(\"pC4\")\n",
        "    pE4 = pt.dtensor4(\"pE4\")\n",
        "    pR4 = pt.dtensor4(\"pR4\")\n",
        "    set_sizes = pt.dtensor4(\"set_sizes\")\n",
        "\n",
        "    likelihood = rlwm_likelihood(dC4, dq_RL4, dq_WM4, pB4, pC4, pE4, pR4, set_sizes)\n",
        "    rlwm_likelihood_func = pytensor.function(inputs=[dC4, dq_RL4, dq_WM4, pB4, pC4, pE4, pR4, set_sizes], outputs=likelihood)\n",
        "\n",
        "    return rlwm_likelihood_func\n",
        "\n",
        "def rlwm_Ps_compile():\n",
        "\n",
        "    dq_RL = pt.dtensor3(\"dq_RL\")\n",
        "    dq_WM = pt.dtensor3(\"dq_WM\")\n",
        "    dC = pt.dtensor4(\"dC\")\n",
        "    dR = pt.dtensor4(\"dR\")\n",
        "    pA = pt.dtensor4(\"pA\")\n",
        "    pB = pt.dtensor4(\"pB\")\n",
        "    pG = pt.dtensor4(\"pG\")\n",
        "    pP = pt.dtensor4(\"pP\")\n",
        "\n",
        "    Ps_RL, Ps_WM = rlwm_Ps(dq_RL, dq_WM, dC, dR, pA, pB, pG, pP)\n",
        "    rlwm_Ps_func = pytensor.function(inputs=[dq_RL, dq_WM, dC, dR, pA, pB, pG, pP], outputs=[Ps_RL, Ps_WM])\n",
        "\n",
        "    return rlwm_Ps_func\n",
        "\n",
        "def rlwm_recovery_compile():\n",
        "    dq_RL = pt.dtensor3(\"dq_RL\")\n",
        "    dq_WM = pt.dtensor3(\"dq_WM\")\n",
        "    dC = pt.dtensor4(\"dC\")\n",
        "    dR = pt.dtensor4(\"dR\")\n",
        "    pA = pt.dtensor4(\"pA\")\n",
        "    pB = pt.dtensor4(\"pB\")\n",
        "    pC = pt.dtensor4(\"pC\")\n",
        "    pE = pt.dtensor4(\"pE\")\n",
        "    pG = pt.dtensor4(\"pG\")\n",
        "    pP = pt.dtensor4(\"pP\")\n",
        "    pR = pt.dtensor4(\"pR\")\n",
        "    set_sizes = pt.dtensor4(\"set_sizes\")\n",
        "\n",
        "    likelihood = rlwm_recovery(dq_RL, dq_WM, dC, dR, pA, pB, pC, pE, pG, pP, pR, set_sizes)\n",
        "    rlwm_recovery_func = pytensor.function(inputs=[dq_RL, dq_WM, dC, dR, pA, pB, pC, pE, pG, pP, pR, set_sizes], outputs=likelihood)\n",
        "\n",
        "    return rlwm_recovery_func"
      ]
    },
    {
      "cell_type": "markdown",
      "source": [
        "####Tests"
      ],
      "metadata": {
        "id": "BNIqN6b0TATT"
      }
    },
    {
      "cell_type": "code",
      "source": [
        "def rlwm_step_test():\n",
        "    n_participants = 6\n",
        "    n_choices = 3\n",
        "    n_stimuli = [4, 5, 6, 7, 8]\n",
        "    max_stimuli = max(n_stimuli)\n",
        "    n_blocks = 5\n",
        "    shape4 = (n_participants, n_choices, n_blocks)\n",
        "\n",
        "    dC4_ = np.random.randint(low=0, high=n_choices, size=shape4)\n",
        "    dR4_ = np.random.randint(low=0, high=1, size=shape4)\n",
        "    pA4_ = np.ones(shape4) * 0.1\n",
        "    pG4_ = np.ones(shape4) * 0.9\n",
        "    pP4_ = np.ones(shape4) * 1.0\n",
        "    mask = np.ones(shape4)\n",
        "    cond = np.ones(shape4)\n",
        "    dQ4_ = np.ones(shape4) * 1/n_choices\n",
        "    dq_RL4_ = np.ones(shape4) * 1/n_choices\n",
        "    dq_WM4_ = np.ones(shape4) * 1/n_choices\n",
        "\n",
        "    test_func = rlwm_step_compile()\n",
        "\n",
        "    return test_func(dC4_, dR4_, pA4_, pG4_, pP4_, dq_RL4_, dq_WM4_)\n",
        "\n",
        "\n",
        "def rlwm_scan_test():\n",
        "    n_trials = 23\n",
        "    n_participants = 6\n",
        "    n_choices = 3\n",
        "    n_stimuli = [4, 5, 6, 7, 8]\n",
        "    max_stimuli = max(n_stimuli)\n",
        "    n_blocks = 5\n",
        "    shape5 = (n_trials * max_stimuli, n_participants, n_choices, n_blocks)\n",
        "\n",
        "    dC5_ = np.random.randint(low=0, high=n_choices, size=shape5)\n",
        "    dR5_ = np.random.randint(low=0, high=1, size=shape5)\n",
        "    dq_RL4_ = np.ones_like(dR5_)[0] * 1 / n_choices\n",
        "    dq_WM4_ = np.ones_like(dR5_)[0] * 1 / n_choices\n",
        "    pA5_ = np.ones_like(dR5_) * 0.1\n",
        "    pG5_ = np.ones_like(dR5_) * 0.9\n",
        "    pP5_ = np.ones_like(dR5_) * 1.0\n",
        "\n",
        "    test_func = rlwm_scan_compile()\n",
        "\n",
        "    return test_func(dC5_, dR5_, pA5_, pG5_, pP5_, dq_RL4_, dq_WM4_)\n",
        "\n",
        "\n",
        "def rlwm_softmax_test():\n",
        "    n_trials = 23\n",
        "    n_participants = 6\n",
        "    n_choices = 3\n",
        "    n_stimuli = [4, 5, 6, 7, 8]\n",
        "    max_stimuli = np.max(n_stimuli)\n",
        "    n_blocks = 5\n",
        "    shape = (n_trials * max_stimuli, n_participants, n_choices, n_blocks)\n",
        "\n",
        "    Qs = np.ones(shape)\n",
        "    B = np.ones_like(Qs)\n",
        "\n",
        "    test_func = rlwm_softmax_compile()\n",
        "\n",
        "    return test_func(Qs, B)\n",
        "\n",
        "\n",
        "def rlwm_likelihood_test():\n",
        "    n_trials = 23\n",
        "    n_participants = 6\n",
        "    n_choices = 3\n",
        "    n_stimuli = [4, 5, 6, 7, 8]\n",
        "    max_stimuli = np.max(n_stimuli)\n",
        "    n_blocks = 5\n",
        "    shape5 = (n_trials * max_stimuli, n_participants, n_choices, n_blocks)\n",
        "\n",
        "    dC5_ = np.random.randint(low=0, high=n_choices, size=shape5)\n",
        "    dq_RL5_ = - np.ones_like(dC5_) * 1 / n_choices\n",
        "    dq_WM5_ = - np.ones_like(dC5_) * 1 / n_choices\n",
        "    pB5_ = np.ones_like(dC5_) * 1.0\n",
        "    pC5_ = np.ones_like(dC5_) * 4.0\n",
        "    pE5_ = np.ones_like(dC5_) * 0.5\n",
        "    pR5_ = np.ones_like(dC5_) * 0.8\n",
        "    set_sizes_ = np.tile(n_stimuli, (shape5[0], shape5[1], shape5[2], 1))\n",
        "\n",
        "    test_func = rlwm_likelihood_compile()\n",
        "\n",
        "    return test_func(dC5_, dq_RL5_, dq_WM5_, pB5_, pC5_, pE5_, pR5_, set_sizes_)[0]\n",
        "\n",
        "\n",
        "def rlwm_Ps_test():\n",
        "    n_trials = 23\n",
        "    n_participants = 7\n",
        "    n_choices = 4\n",
        "    n_stimuli = [4, 5, 6, 7, 8]\n",
        "    max_stimuli = np.max(n_stimuli)\n",
        "    n_blocks = 5\n",
        "    shape = (n_trials * max_stimuli, n_participants, n_choices, n_blocks)\n",
        "\n",
        "    dq_RL_ = np.ones(shape)[0] * 1.0 / n_choices\n",
        "    dq_WM_ = np.ones(shape)[0] * 1.0 / n_choices\n",
        "\n",
        "    dC_ = np.random.randint(low=0, high=n_choices, size=shape)\n",
        "    dR_ = np.random.randint(low=0, high=1, size=shape)\n",
        "    pA_ = np.ones_like(dC_) * 0.01\n",
        "    pB_ = np.ones_like(dC_) * 1.0\n",
        "    pG_ = np.ones_like(dC_) * 0.8\n",
        "    pP_ = np.ones_like(dC_) * 0.3\n",
        "\n",
        "    test_func = rlwm_Ps_compile()\n",
        "\n",
        "    return test_func(dq_RL_, dq_WM_, dC_, dR_, pA_, pB_, pG_, pP_)[0]\n",
        "\n",
        "\n",
        "def rlwm_recovery_test():\n",
        "    n_trials = 15\n",
        "    n_participants = 20\n",
        "    n_choices = 3\n",
        "    n_blocks = 22\n",
        "    n_stimuli = [6 for _ in range(n_blocks)]\n",
        "    max_stimuli = max(n_stimuli)\n",
        "    shape = (n_trials * max_stimuli, n_participants, n_choices, n_blocks)\n",
        "\n",
        "    dq_RL_ = np.ones(shape)[0] * 1.0 / n_choices\n",
        "    dq_WM_ = np.ones(shape)[0] * 1.0 / n_choices\n",
        "\n",
        "    dC_ = np.random.randint(low=0, high=n_choices, size=shape)\n",
        "    dR_ = np.random.randint(low=0, high=1, size=shape)\n",
        "    pA_ = np.ones_like(dC_) * 0.01\n",
        "    pB_ = np.ones_like(dC_) * 1.0\n",
        "    pC_ = np.ones_like(dC_) * 4.0\n",
        "    pE_ = np.ones_like(dC_) * 0.02\n",
        "    pG_ = np.ones_like(dC_) * 0.8\n",
        "    pP_ = np.ones_like(dC_) * 0.3\n",
        "    pR_ = np.ones_like(dC_) * 0.8\n",
        "    set_sizes_ = np.tile(n_stimuli, (shape[0], shape[1], shape[2], 1))\n",
        "\n",
        "    test_func = rlwm_recovery_compile()\n",
        "\n",
        "    return test_func(dq_RL_, dq_WM_, dC_, dR_, pA_, pB_, pC_, pE_, pG_, pP_, pR_, set_sizes_)"
      ],
      "metadata": {
        "id": "L99G--YrTB7r"
      },
      "execution_count": 4,
      "outputs": []
    },
    {
      "cell_type": "markdown",
      "source": [
        "####Run Compilers and Tests here"
      ],
      "metadata": {
        "id": "JWxAMAkKTFG8"
      }
    },
    {
      "cell_type": "code",
      "source": [
        "rlwm_step_compile()\n",
        "dq_RL, dq_WM =  rlwm_step_test()\n",
        "dq_RL.shape, dq_WM.shape"
      ],
      "metadata": {
        "id": "gUIZzF7pBfZD",
        "colab": {
          "base_uri": "https://localhost:8080/"
        },
        "outputId": "8a4223b2-01f1-4893-9bc0-6c86c0abc91c"
      },
      "execution_count": 6,
      "outputs": [
        {
          "output_type": "execute_result",
          "data": {
            "text/plain": [
              "((6, 3, 5), (6, 3, 5))"
            ]
          },
          "metadata": {},
          "execution_count": 6
        }
      ]
    },
    {
      "cell_type": "code",
      "source": [
        "rlwm_scan_compile()\n",
        "dq_RL, dq_WM = rlwm_scan_test()\n",
        "dq_RL.shape, dq_WM.shape"
      ],
      "metadata": {
        "id": "wYXuaCJHBpPD",
        "colab": {
          "base_uri": "https://localhost:8080/"
        },
        "outputId": "8766123a-9712-4056-e11a-a461b1ea0f7d"
      },
      "execution_count": 7,
      "outputs": [
        {
          "output_type": "execute_result",
          "data": {
            "text/plain": [
              "((184, 6, 3, 5), (184, 6, 3, 5))"
            ]
          },
          "metadata": {},
          "execution_count": 7
        }
      ]
    },
    {
      "cell_type": "code",
      "source": [
        "rlwm_softmax_compile()\n",
        "rlwm_softmax_test().shape"
      ],
      "metadata": {
        "colab": {
          "base_uri": "https://localhost:8080/"
        },
        "id": "2Px9mS9IkuAm",
        "outputId": "34611af8-f176-4084-d350-26c7d3f37a14"
      },
      "execution_count": 8,
      "outputs": [
        {
          "output_type": "execute_result",
          "data": {
            "text/plain": [
              "(184, 6, 3, 5)"
            ]
          },
          "metadata": {},
          "execution_count": 8
        }
      ]
    },
    {
      "cell_type": "code",
      "source": [
        "rlwm_likelihood_compile()\n",
        "rlwm_likelihood_test().shape"
      ],
      "metadata": {
        "colab": {
          "base_uri": "https://localhost:8080/"
        },
        "id": "vlJ4zUcvBv9d",
        "outputId": "be050c6a-be32-4db1-83db-194f3b0001cf"
      },
      "execution_count": 9,
      "outputs": [
        {
          "output_type": "execute_result",
          "data": {
            "text/plain": [
              "(6, 3, 5)"
            ]
          },
          "metadata": {},
          "execution_count": 9
        }
      ]
    },
    {
      "cell_type": "code",
      "source": [
        "rlwm_Ps_compile()\n",
        "rlwm_Ps_test().shape"
      ],
      "metadata": {
        "colab": {
          "base_uri": "https://localhost:8080/"
        },
        "id": "aeQOnPAVm3QD",
        "outputId": "d85a5e16-f7c0-4898-a55c-0b36e4d7809b"
      },
      "execution_count": 10,
      "outputs": [
        {
          "output_type": "execute_result",
          "data": {
            "text/plain": [
              "(184, 7, 4, 5)"
            ]
          },
          "metadata": {},
          "execution_count": 10
        }
      ]
    },
    {
      "cell_type": "code",
      "source": [
        "rlwm_recovery_compile()\n",
        "rlwm_recovery_test().flatten().shape"
      ],
      "metadata": {
        "colab": {
          "base_uri": "https://localhost:8080/"
        },
        "id": "4-s2eR_RB0XW",
        "outputId": "aa4a8aa0-8cf4-4a92-cb87-4a7f0a67a362"
      },
      "execution_count": 11,
      "outputs": [
        {
          "output_type": "execute_result",
          "data": {
            "text/plain": [
              "(118800,)"
            ]
          },
          "metadata": {},
          "execution_count": 11
        }
      ]
    },
    {
      "cell_type": "markdown",
      "source": [
        "##RLWM Data Generation"
      ],
      "metadata": {
        "id": "8ua5eh-sJ-fu"
      }
    },
    {
      "cell_type": "code",
      "source": [
        "model_config_rl = {\n",
        "    \"RLWM_v2\": {\n",
        "        \"doc\": \"RLWM model v2.\",\n",
        "        \"params\": [\"rl_alpha\", \"rl_phi\", \"rl_rho\", \"rl_gamma\", \"rl_epsilon\", \"C\"],\n",
        "        \"param_bounds\": [[0.0, 0.0, 0.0, 0.0, 0.0, 2.0], [1.0, 1.0, 1.0, 1.0, 1.0, 5.0]],\n",
        "    }\n",
        "}"
      ],
      "metadata": {
        "id": "fOySZ7xhJ9tY"
      },
      "execution_count": 4,
      "outputs": []
    },
    {
      "cell_type": "code",
      "source": [
        "def gen_trial_seq(set_size, num_rep_per_block):\n",
        "    trials = list()\n",
        "\n",
        "    for stim in np.arange(set_size):\n",
        "        trials.extend([stim]*random.choice(num_rep_per_block))\n",
        "    random.shuffle(trials)\n",
        "\n",
        "    return trials\n",
        "\n",
        "def gen_SR_map(set_size, num_actions):\n",
        "    S_R_map = {}\n",
        "    acts = np.arange(num_actions)\n",
        "\n",
        "    for stim in np.arange(set_size):\n",
        "        S_R_map[stim] = random.choice(acts)\n",
        "\n",
        "    return S_R_map\n",
        "\n",
        "def step_action(s, a, S_R_map):\n",
        "    if a == S_R_map[s]:\n",
        "        rew = 1\n",
        "    else:\n",
        "        rew = 0\n",
        "\n",
        "    return rew\n",
        "\n",
        "def softmax(q_val, beta):\n",
        "    q_val = np.array(q_val)*beta\n",
        "    q_val = q_val - np.max(q_val)\n",
        "    q_val = np.exp(q_val)\n",
        "    q_val = q_val / np.sum(q_val)\n",
        "    return q_val"
      ],
      "metadata": {
        "id": "8ruND_mvKFrD"
      },
      "execution_count": 5,
      "outputs": []
    },
    {
      "cell_type": "code",
      "source": [
        "def simulate_RLWM(param_rl, set_size_list, num_rep_per_block, num_actions, subjs=1):\n",
        "\n",
        "    sub_list = np.arange(subjs)\n",
        "    actions = np.arange(num_actions)\n",
        "\n",
        "    sub_list_sub_id = list()\n",
        "    sub_list_block_num = list()\n",
        "    sub_list_stim = list()\n",
        "    sub_list_actions = list()\n",
        "    sub_list_reward = list()\n",
        "    sub_list_corr = list()\n",
        "    sub_list_stim_ctr = list()\n",
        "    sub_list_set_size = list()\n",
        "\n",
        "    for subj in sub_list:\n",
        "        # RLWM parameters\n",
        "        alpha = param_rl[0] # RL learning rate\n",
        "        phi = param_rl[1] # WM decay\n",
        "        rho = param_rl[2] # WM weight\n",
        "        gamma = param_rl[3] # perseveration on negative outcomes\n",
        "        epsilon = param_rl[4] # weight of uniform policy\n",
        "        C = param_rl[5] # WM capacity\n",
        "        beta = 100 # inverse temperature\n",
        "\n",
        "        pol = np.zeros(num_actions)\n",
        "\n",
        "        for bl in range(len(set_size_list)):\n",
        "            #print(\">> block -- \", bl)\n",
        "            set_size = set_size_list[bl]\n",
        "\n",
        "            S_R_map = gen_SR_map(set_size, num_actions)\n",
        "            trials = gen_trial_seq(set_size, num_rep_per_block)\n",
        "\n",
        "            # print(trials)\n",
        "\n",
        "            q_RL = np.ones((set_size, num_actions)) * 1/num_actions\n",
        "            q_WM = np.ones((set_size, num_actions)) * 1/num_actions\n",
        "            weight = rho * min(1, C/set_size)\n",
        "\n",
        "            stim_counter = np.zeros(set_size)\n",
        "\n",
        "            for tr in np.arange(len(trials)):\n",
        "                state = trials[tr]\n",
        "                stim_counter[state] += 1\n",
        "\n",
        "                pol_RL = softmax(q_RL[state, :], beta)\n",
        "                pol_WM = softmax(q_WM[state, :], beta)\n",
        "\n",
        "                pol = weight * pol_WM + (1-weight) * pol_RL\n",
        "\n",
        "                pol_final = (1 - epsilon) * pol + epsilon * np.tile([1/num_actions], num_actions)\n",
        "\n",
        "                action = np.random.choice(actions, p=pol_final)\n",
        "\n",
        "\n",
        "                reward = step_action(state, action, S_R_map)\n",
        "                #print(\"\\t\\t\\tdone action\", state, action, reward)\n",
        "\n",
        "                #print(\"\\t\\t\\tupdating q\")\n",
        "                if reward == 1:\n",
        "                    sub_list_corr.append(1)\n",
        "                    q_RL[state, action] = q_RL[state, action] + alpha * (reward - q_RL[state, action])\n",
        "                    q_WM[state, action] = reward\n",
        "                elif reward == 0:\n",
        "                    sub_list_corr.append(0)\n",
        "                    q_RL[state, action] = q_RL[state, action] + gamma * alpha * (reward - q_RL[state, action])\n",
        "                    q_WM[state, action] = q_WM[state, action] + gamma * (reward - q_WM[state, action])\n",
        "                #print(\"\\t\\t\\tdone updating q\")\n",
        "                q_WM = q_WM + phi * ((1/num_actions)-q_WM)\n",
        "                #print(\"\\t\\t\\tdone WM decay\")\n",
        "\n",
        "                # store data\n",
        "                sub_list_sub_id.append(subj)\n",
        "                sub_list_block_num.append(bl)\n",
        "                sub_list_stim.append(state)\n",
        "                sub_list_actions.append(action)\n",
        "                sub_list_reward.append(reward)\n",
        "                sub_list_stim_ctr.append(stim_counter[state])\n",
        "                sub_list_set_size.append(set_size)\n",
        "        #     print(\"\\t\\t -- end trial\")\n",
        "        # print(\"\\t -- end block\")\n",
        "\n",
        "    sub_list_sub_id = np.array(sub_list_sub_id)\n",
        "    sub_list_stim = np.array(sub_list_stim)\n",
        "    sub_list_actions = np.array(sub_list_actions)\n",
        "    sub_list_reward = np.array(sub_list_reward)\n",
        "    sub_list_block_num = np.array(sub_list_block_num)\n",
        "    sub_list_corr = np.array(sub_list_corr)\n",
        "    sub_list_stim_ctr = np.array(sub_list_stim_ctr)\n",
        "\n",
        "    sub_data = np.stack([sub_list_sub_id, sub_list_block_num, sub_list_stim, sub_list_actions, sub_list_reward, sub_list_corr, sub_list_stim_ctr, sub_list_set_size], axis=1)\n",
        "    data = pd.DataFrame(sub_data, columns=['subj_idx', 'block_num', 'stim', 'response', 'feedback', 'corr', 'stim_ctr', 'set_size'])\n",
        "\n",
        "    return data"
      ],
      "metadata": {
        "id": "4HldgLgHKQwr"
      },
      "execution_count": 6,
      "outputs": []
    },
    {
      "cell_type": "code",
      "source": [
        "model_rl = 'RLWM_v2'\n",
        "config_rl = model_config_rl[model_rl]"
      ],
      "metadata": {
        "id": "Qz357zyxKTMK"
      },
      "execution_count": 7,
      "outputs": []
    },
    {
      "cell_type": "code",
      "source": [
        "s_size = [1, 2, 3, 4, 5, 6]\n",
        "freq = [3, 4, 6, 3, 3, 3]\n",
        "\n",
        "set_size_list = []\n",
        "for i in range(len(s_size)):\n",
        "    set_size_list.extend([s_size[i]]*freq[i])\n",
        "\n",
        "np.random.shuffle(set_size_list)\n",
        "set_size_list"
      ],
      "metadata": {
        "colab": {
          "base_uri": "https://localhost:8080/"
        },
        "id": "3MsuFCuMKUtS",
        "outputId": "74d7c23e-79c6-4cca-9f77-61b4f83319ec"
      },
      "execution_count": 8,
      "outputs": [
        {
          "output_type": "execute_result",
          "data": {
            "text/plain": [
              "[4, 2, 2, 2, 6, 2, 3, 4, 6, 5, 1, 1, 3, 6, 3, 5, 1, 4, 3, 5, 3, 3]"
            ]
          },
          "metadata": {},
          "execution_count": 8
        }
      ]
    },
    {
      "cell_type": "code",
      "source": [
        "num_rep_per_block = [15]\n",
        "\n",
        "num_datasets = 1\n",
        "num_actions = 3\n",
        "subjs = 20"
      ],
      "metadata": {
        "id": "YIqhhhVoKWa7"
      },
      "execution_count": 9,
      "outputs": []
    },
    {
      "cell_type": "code",
      "source": [
        "priors_rl_alpha = [0, 0.01]\n",
        "priors_rl_phi = [0, 0.40]\n",
        "priors_rl_rho = [0.75, 1]\n",
        "priors_rl_gamma = [0.60, 0.90]\n",
        "priors_rl_epsilon = [0, 0.05]\n",
        "priors_rl_C = [2, 5]\n",
        "\n",
        "rl_alpha = np.random.uniform(priors_rl_alpha[0], priors_rl_alpha[1], subjs)\n",
        "rl_phi = np.random.uniform(priors_rl_phi[0], priors_rl_phi[1], subjs)\n",
        "rl_rho = np.random.uniform(priors_rl_rho[0], priors_rl_rho[1], subjs)\n",
        "rl_gamma = np.random.uniform(priors_rl_gamma[0], priors_rl_gamma[1], subjs)\n",
        "rl_epsilon = np.random.uniform(priors_rl_epsilon[0], priors_rl_epsilon[1], subjs)\n",
        "rl_C = np.random.uniform(priors_rl_C[0], priors_rl_C[1], subjs)"
      ],
      "metadata": {
        "id": "DoDgnDw6KYHP"
      },
      "execution_count": 10,
      "outputs": []
    },
    {
      "cell_type": "code",
      "source": [
        "file = list()\n",
        "\n",
        "for n in range(num_datasets):\n",
        "    print(\"\\n==> dataset: \", n)\n",
        "    dataset_file = {}\n",
        "\n",
        "    dataset_file['info'] = {\n",
        "                        'num_datasets': num_datasets, 'num_subj': subjs, 'num_actions': num_actions,\n",
        "                        'model_rl': model_rl,\n",
        "                        'set_size_list': set_size_list, 'num_rep_per_block': num_rep_per_block\n",
        "                        }\n",
        "\n",
        "    dataset_file['data'] = list()\n",
        "    for i in range(subjs):\n",
        "        print(\"[dataset: %d] generating subj data: %d\" % (n, i))\n",
        "\n",
        "        subj_param_rl = np.array([rl_alpha[i], rl_phi[i], rl_rho[i], rl_gamma[i], rl_epsilon[i], rl_C[i]])\n",
        "\n",
        "        subj_data = {}\n",
        "\n",
        "        sim_data = simulate_RLWM(subj_param_rl, set_size_list, num_rep_per_block, num_actions=num_actions, subjs=1)\n",
        "        sim_data['subj_idx'] = i\n",
        "\n",
        "        subj_data['subj_idx'] = i\n",
        "        subj_data['true_param'] = subj_param_rl\n",
        "        subj_data['sim_data'] = sim_data\n",
        "\n",
        "        #print(\"\\t --\", subj_param_rl, subj_data['true_param'])\n",
        "        dataset_file['data'].append(subj_data)\n",
        "\n",
        "    file.append(dataset_file)"
      ],
      "metadata": {
        "colab": {
          "base_uri": "https://localhost:8080/"
        },
        "id": "iF4WXcfVKaap",
        "outputId": "040f6334-0c56-47f0-bc27-ebfd9c259250"
      },
      "execution_count": 11,
      "outputs": [
        {
          "output_type": "stream",
          "name": "stdout",
          "text": [
            "\n",
            "==> dataset:  0\n",
            "[dataset: 0] generating subj data: 0\n",
            "[dataset: 0] generating subj data: 1\n",
            "[dataset: 0] generating subj data: 2\n",
            "[dataset: 0] generating subj data: 3\n",
            "[dataset: 0] generating subj data: 4\n",
            "[dataset: 0] generating subj data: 5\n",
            "[dataset: 0] generating subj data: 6\n",
            "[dataset: 0] generating subj data: 7\n",
            "[dataset: 0] generating subj data: 8\n",
            "[dataset: 0] generating subj data: 9\n",
            "[dataset: 0] generating subj data: 10\n",
            "[dataset: 0] generating subj data: 11\n",
            "[dataset: 0] generating subj data: 12\n",
            "[dataset: 0] generating subj data: 13\n",
            "[dataset: 0] generating subj data: 14\n",
            "[dataset: 0] generating subj data: 15\n",
            "[dataset: 0] generating subj data: 16\n",
            "[dataset: 0] generating subj data: 17\n",
            "[dataset: 0] generating subj data: 18\n",
            "[dataset: 0] generating subj data: 19\n"
          ]
        }
      ]
    },
    {
      "cell_type": "code",
      "source": [
        "dataset = file[0]['data']"
      ],
      "metadata": {
        "id": "90HUYuiMKeWN"
      },
      "execution_count": 12,
      "outputs": []
    },
    {
      "cell_type": "code",
      "source": [
        "list_sub_data = list()\n",
        "for itr in range(len(dataset)):\n",
        "    data = dataset[itr]['sim_data']\n",
        "    data['subj_idx'] = itr\n",
        "\n",
        "    list_sub_data.append(data)\n",
        "\n",
        "PR_data = pd.concat(list_sub_data, ignore_index=True)"
      ],
      "metadata": {
        "id": "058QIy4aKgUQ"
      },
      "execution_count": 13,
      "outputs": []
    },
    {
      "cell_type": "code",
      "source": [
        "PR_data"
      ],
      "metadata": {
        "colab": {
          "base_uri": "https://localhost:8080/",
          "height": 0
        },
        "id": "9JEG01RzKhzU",
        "outputId": "be5f0250-45cb-4b6d-c419-829ce33d5ca0"
      },
      "execution_count": 14,
      "outputs": [
        {
          "output_type": "execute_result",
          "data": {
            "text/plain": [
              "       subj_idx  block_num  stim  response  feedback  corr  stim_ctr  set_size\n",
              "0             0        0.0   1.0       2.0       1.0   1.0       1.0       4.0\n",
              "1             0        0.0   2.0       0.0       0.0   0.0       1.0       4.0\n",
              "2             0        0.0   0.0       2.0       0.0   0.0       1.0       4.0\n",
              "3             0        0.0   3.0       0.0       1.0   1.0       1.0       4.0\n",
              "4             0        0.0   2.0       1.0       1.0   1.0       2.0       4.0\n",
              "...         ...        ...   ...       ...       ...   ...       ...       ...\n",
              "22195        19       21.0   1.0       0.0       1.0   1.0      14.0       3.0\n",
              "22196        19       21.0   2.0       2.0       1.0   1.0      14.0       3.0\n",
              "22197        19       21.0   1.0       0.0       1.0   1.0      15.0       3.0\n",
              "22198        19       21.0   0.0       2.0       1.0   1.0      15.0       3.0\n",
              "22199        19       21.0   2.0       2.0       1.0   1.0      15.0       3.0\n",
              "\n",
              "[22200 rows x 8 columns]"
            ],
            "text/html": [
              "\n",
              "  <div id=\"df-c625731e-0104-449f-ae3d-4ae3caaae984\" class=\"colab-df-container\">\n",
              "    <div>\n",
              "<style scoped>\n",
              "    .dataframe tbody tr th:only-of-type {\n",
              "        vertical-align: middle;\n",
              "    }\n",
              "\n",
              "    .dataframe tbody tr th {\n",
              "        vertical-align: top;\n",
              "    }\n",
              "\n",
              "    .dataframe thead th {\n",
              "        text-align: right;\n",
              "    }\n",
              "</style>\n",
              "<table border=\"1\" class=\"dataframe\">\n",
              "  <thead>\n",
              "    <tr style=\"text-align: right;\">\n",
              "      <th></th>\n",
              "      <th>subj_idx</th>\n",
              "      <th>block_num</th>\n",
              "      <th>stim</th>\n",
              "      <th>response</th>\n",
              "      <th>feedback</th>\n",
              "      <th>corr</th>\n",
              "      <th>stim_ctr</th>\n",
              "      <th>set_size</th>\n",
              "    </tr>\n",
              "  </thead>\n",
              "  <tbody>\n",
              "    <tr>\n",
              "      <th>0</th>\n",
              "      <td>0</td>\n",
              "      <td>0.0</td>\n",
              "      <td>1.0</td>\n",
              "      <td>2.0</td>\n",
              "      <td>1.0</td>\n",
              "      <td>1.0</td>\n",
              "      <td>1.0</td>\n",
              "      <td>4.0</td>\n",
              "    </tr>\n",
              "    <tr>\n",
              "      <th>1</th>\n",
              "      <td>0</td>\n",
              "      <td>0.0</td>\n",
              "      <td>2.0</td>\n",
              "      <td>0.0</td>\n",
              "      <td>0.0</td>\n",
              "      <td>0.0</td>\n",
              "      <td>1.0</td>\n",
              "      <td>4.0</td>\n",
              "    </tr>\n",
              "    <tr>\n",
              "      <th>2</th>\n",
              "      <td>0</td>\n",
              "      <td>0.0</td>\n",
              "      <td>0.0</td>\n",
              "      <td>2.0</td>\n",
              "      <td>0.0</td>\n",
              "      <td>0.0</td>\n",
              "      <td>1.0</td>\n",
              "      <td>4.0</td>\n",
              "    </tr>\n",
              "    <tr>\n",
              "      <th>3</th>\n",
              "      <td>0</td>\n",
              "      <td>0.0</td>\n",
              "      <td>3.0</td>\n",
              "      <td>0.0</td>\n",
              "      <td>1.0</td>\n",
              "      <td>1.0</td>\n",
              "      <td>1.0</td>\n",
              "      <td>4.0</td>\n",
              "    </tr>\n",
              "    <tr>\n",
              "      <th>4</th>\n",
              "      <td>0</td>\n",
              "      <td>0.0</td>\n",
              "      <td>2.0</td>\n",
              "      <td>1.0</td>\n",
              "      <td>1.0</td>\n",
              "      <td>1.0</td>\n",
              "      <td>2.0</td>\n",
              "      <td>4.0</td>\n",
              "    </tr>\n",
              "    <tr>\n",
              "      <th>...</th>\n",
              "      <td>...</td>\n",
              "      <td>...</td>\n",
              "      <td>...</td>\n",
              "      <td>...</td>\n",
              "      <td>...</td>\n",
              "      <td>...</td>\n",
              "      <td>...</td>\n",
              "      <td>...</td>\n",
              "    </tr>\n",
              "    <tr>\n",
              "      <th>22195</th>\n",
              "      <td>19</td>\n",
              "      <td>21.0</td>\n",
              "      <td>1.0</td>\n",
              "      <td>0.0</td>\n",
              "      <td>1.0</td>\n",
              "      <td>1.0</td>\n",
              "      <td>14.0</td>\n",
              "      <td>3.0</td>\n",
              "    </tr>\n",
              "    <tr>\n",
              "      <th>22196</th>\n",
              "      <td>19</td>\n",
              "      <td>21.0</td>\n",
              "      <td>2.0</td>\n",
              "      <td>2.0</td>\n",
              "      <td>1.0</td>\n",
              "      <td>1.0</td>\n",
              "      <td>14.0</td>\n",
              "      <td>3.0</td>\n",
              "    </tr>\n",
              "    <tr>\n",
              "      <th>22197</th>\n",
              "      <td>19</td>\n",
              "      <td>21.0</td>\n",
              "      <td>1.0</td>\n",
              "      <td>0.0</td>\n",
              "      <td>1.0</td>\n",
              "      <td>1.0</td>\n",
              "      <td>15.0</td>\n",
              "      <td>3.0</td>\n",
              "    </tr>\n",
              "    <tr>\n",
              "      <th>22198</th>\n",
              "      <td>19</td>\n",
              "      <td>21.0</td>\n",
              "      <td>0.0</td>\n",
              "      <td>2.0</td>\n",
              "      <td>1.0</td>\n",
              "      <td>1.0</td>\n",
              "      <td>15.0</td>\n",
              "      <td>3.0</td>\n",
              "    </tr>\n",
              "    <tr>\n",
              "      <th>22199</th>\n",
              "      <td>19</td>\n",
              "      <td>21.0</td>\n",
              "      <td>2.0</td>\n",
              "      <td>2.0</td>\n",
              "      <td>1.0</td>\n",
              "      <td>1.0</td>\n",
              "      <td>15.0</td>\n",
              "      <td>3.0</td>\n",
              "    </tr>\n",
              "  </tbody>\n",
              "</table>\n",
              "<p>22200 rows × 8 columns</p>\n",
              "</div>\n",
              "    <div class=\"colab-df-buttons\">\n",
              "\n",
              "  <div class=\"colab-df-container\">\n",
              "    <button class=\"colab-df-convert\" onclick=\"convertToInteractive('df-c625731e-0104-449f-ae3d-4ae3caaae984')\"\n",
              "            title=\"Convert this dataframe to an interactive table.\"\n",
              "            style=\"display:none;\">\n",
              "\n",
              "  <svg xmlns=\"http://www.w3.org/2000/svg\" height=\"24px\" viewBox=\"0 -960 960 960\">\n",
              "    <path d=\"M120-120v-720h720v720H120Zm60-500h600v-160H180v160Zm220 220h160v-160H400v160Zm0 220h160v-160H400v160ZM180-400h160v-160H180v160Zm440 0h160v-160H620v160ZM180-180h160v-160H180v160Zm440 0h160v-160H620v160Z\"/>\n",
              "  </svg>\n",
              "    </button>\n",
              "\n",
              "  <style>\n",
              "    .colab-df-container {\n",
              "      display:flex;\n",
              "      gap: 12px;\n",
              "    }\n",
              "\n",
              "    .colab-df-convert {\n",
              "      background-color: #E8F0FE;\n",
              "      border: none;\n",
              "      border-radius: 50%;\n",
              "      cursor: pointer;\n",
              "      display: none;\n",
              "      fill: #1967D2;\n",
              "      height: 32px;\n",
              "      padding: 0 0 0 0;\n",
              "      width: 32px;\n",
              "    }\n",
              "\n",
              "    .colab-df-convert:hover {\n",
              "      background-color: #E2EBFA;\n",
              "      box-shadow: 0px 1px 2px rgba(60, 64, 67, 0.3), 0px 1px 3px 1px rgba(60, 64, 67, 0.15);\n",
              "      fill: #174EA6;\n",
              "    }\n",
              "\n",
              "    .colab-df-buttons div {\n",
              "      margin-bottom: 4px;\n",
              "    }\n",
              "\n",
              "    [theme=dark] .colab-df-convert {\n",
              "      background-color: #3B4455;\n",
              "      fill: #D2E3FC;\n",
              "    }\n",
              "\n",
              "    [theme=dark] .colab-df-convert:hover {\n",
              "      background-color: #434B5C;\n",
              "      box-shadow: 0px 1px 3px 1px rgba(0, 0, 0, 0.15);\n",
              "      filter: drop-shadow(0px 1px 2px rgba(0, 0, 0, 0.3));\n",
              "      fill: #FFFFFF;\n",
              "    }\n",
              "  </style>\n",
              "\n",
              "    <script>\n",
              "      const buttonEl =\n",
              "        document.querySelector('#df-c625731e-0104-449f-ae3d-4ae3caaae984 button.colab-df-convert');\n",
              "      buttonEl.style.display =\n",
              "        google.colab.kernel.accessAllowed ? 'block' : 'none';\n",
              "\n",
              "      async function convertToInteractive(key) {\n",
              "        const element = document.querySelector('#df-c625731e-0104-449f-ae3d-4ae3caaae984');\n",
              "        const dataTable =\n",
              "          await google.colab.kernel.invokeFunction('convertToInteractive',\n",
              "                                                    [key], {});\n",
              "        if (!dataTable) return;\n",
              "\n",
              "        const docLinkHtml = 'Like what you see? Visit the ' +\n",
              "          '<a target=\"_blank\" href=https://colab.research.google.com/notebooks/data_table.ipynb>data table notebook</a>'\n",
              "          + ' to learn more about interactive tables.';\n",
              "        element.innerHTML = '';\n",
              "        dataTable['output_type'] = 'display_data';\n",
              "        await google.colab.output.renderOutput(dataTable, element);\n",
              "        const docLink = document.createElement('div');\n",
              "        docLink.innerHTML = docLinkHtml;\n",
              "        element.appendChild(docLink);\n",
              "      }\n",
              "    </script>\n",
              "  </div>\n",
              "\n",
              "\n",
              "<div id=\"df-33734ddf-5dac-4e1a-9f4d-b679d4857b53\">\n",
              "  <button class=\"colab-df-quickchart\" onclick=\"quickchart('df-33734ddf-5dac-4e1a-9f4d-b679d4857b53')\"\n",
              "            title=\"Suggest charts\"\n",
              "            style=\"display:none;\">\n",
              "\n",
              "<svg xmlns=\"http://www.w3.org/2000/svg\" height=\"24px\"viewBox=\"0 0 24 24\"\n",
              "     width=\"24px\">\n",
              "    <g>\n",
              "        <path d=\"M19 3H5c-1.1 0-2 .9-2 2v14c0 1.1.9 2 2 2h14c1.1 0 2-.9 2-2V5c0-1.1-.9-2-2-2zM9 17H7v-7h2v7zm4 0h-2V7h2v10zm4 0h-2v-4h2v4z\"/>\n",
              "    </g>\n",
              "</svg>\n",
              "  </button>\n",
              "\n",
              "<style>\n",
              "  .colab-df-quickchart {\n",
              "      --bg-color: #E8F0FE;\n",
              "      --fill-color: #1967D2;\n",
              "      --hover-bg-color: #E2EBFA;\n",
              "      --hover-fill-color: #174EA6;\n",
              "      --disabled-fill-color: #AAA;\n",
              "      --disabled-bg-color: #DDD;\n",
              "  }\n",
              "\n",
              "  [theme=dark] .colab-df-quickchart {\n",
              "      --bg-color: #3B4455;\n",
              "      --fill-color: #D2E3FC;\n",
              "      --hover-bg-color: #434B5C;\n",
              "      --hover-fill-color: #FFFFFF;\n",
              "      --disabled-bg-color: #3B4455;\n",
              "      --disabled-fill-color: #666;\n",
              "  }\n",
              "\n",
              "  .colab-df-quickchart {\n",
              "    background-color: var(--bg-color);\n",
              "    border: none;\n",
              "    border-radius: 50%;\n",
              "    cursor: pointer;\n",
              "    display: none;\n",
              "    fill: var(--fill-color);\n",
              "    height: 32px;\n",
              "    padding: 0;\n",
              "    width: 32px;\n",
              "  }\n",
              "\n",
              "  .colab-df-quickchart:hover {\n",
              "    background-color: var(--hover-bg-color);\n",
              "    box-shadow: 0 1px 2px rgba(60, 64, 67, 0.3), 0 1px 3px 1px rgba(60, 64, 67, 0.15);\n",
              "    fill: var(--button-hover-fill-color);\n",
              "  }\n",
              "\n",
              "  .colab-df-quickchart-complete:disabled,\n",
              "  .colab-df-quickchart-complete:disabled:hover {\n",
              "    background-color: var(--disabled-bg-color);\n",
              "    fill: var(--disabled-fill-color);\n",
              "    box-shadow: none;\n",
              "  }\n",
              "\n",
              "  .colab-df-spinner {\n",
              "    border: 2px solid var(--fill-color);\n",
              "    border-color: transparent;\n",
              "    border-bottom-color: var(--fill-color);\n",
              "    animation:\n",
              "      spin 1s steps(1) infinite;\n",
              "  }\n",
              "\n",
              "  @keyframes spin {\n",
              "    0% {\n",
              "      border-color: transparent;\n",
              "      border-bottom-color: var(--fill-color);\n",
              "      border-left-color: var(--fill-color);\n",
              "    }\n",
              "    20% {\n",
              "      border-color: transparent;\n",
              "      border-left-color: var(--fill-color);\n",
              "      border-top-color: var(--fill-color);\n",
              "    }\n",
              "    30% {\n",
              "      border-color: transparent;\n",
              "      border-left-color: var(--fill-color);\n",
              "      border-top-color: var(--fill-color);\n",
              "      border-right-color: var(--fill-color);\n",
              "    }\n",
              "    40% {\n",
              "      border-color: transparent;\n",
              "      border-right-color: var(--fill-color);\n",
              "      border-top-color: var(--fill-color);\n",
              "    }\n",
              "    60% {\n",
              "      border-color: transparent;\n",
              "      border-right-color: var(--fill-color);\n",
              "    }\n",
              "    80% {\n",
              "      border-color: transparent;\n",
              "      border-right-color: var(--fill-color);\n",
              "      border-bottom-color: var(--fill-color);\n",
              "    }\n",
              "    90% {\n",
              "      border-color: transparent;\n",
              "      border-bottom-color: var(--fill-color);\n",
              "    }\n",
              "  }\n",
              "</style>\n",
              "\n",
              "  <script>\n",
              "    async function quickchart(key) {\n",
              "      const quickchartButtonEl =\n",
              "        document.querySelector('#' + key + ' button');\n",
              "      quickchartButtonEl.disabled = true;  // To prevent multiple clicks.\n",
              "      quickchartButtonEl.classList.add('colab-df-spinner');\n",
              "      try {\n",
              "        const charts = await google.colab.kernel.invokeFunction(\n",
              "            'suggestCharts', [key], {});\n",
              "      } catch (error) {\n",
              "        console.error('Error during call to suggestCharts:', error);\n",
              "      }\n",
              "      quickchartButtonEl.classList.remove('colab-df-spinner');\n",
              "      quickchartButtonEl.classList.add('colab-df-quickchart-complete');\n",
              "    }\n",
              "    (() => {\n",
              "      let quickchartButtonEl =\n",
              "        document.querySelector('#df-33734ddf-5dac-4e1a-9f4d-b679d4857b53 button');\n",
              "      quickchartButtonEl.style.display =\n",
              "        google.colab.kernel.accessAllowed ? 'block' : 'none';\n",
              "    })();\n",
              "  </script>\n",
              "</div>\n",
              "    </div>\n",
              "  </div>\n"
            ],
            "application/vnd.google.colaboratory.intrinsic+json": {
              "type": "dataframe",
              "variable_name": "PR_data",
              "summary": "{\n  \"name\": \"PR_data\",\n  \"rows\": 22200,\n  \"fields\": [\n    {\n      \"column\": \"subj_idx\",\n      \"properties\": {\n        \"dtype\": \"number\",\n        \"std\": 5,\n        \"min\": 0,\n        \"max\": 19,\n        \"num_unique_values\": 20,\n        \"samples\": [\n          0,\n          17,\n          15\n        ],\n        \"semantic_type\": \"\",\n        \"description\": \"\"\n      }\n    },\n    {\n      \"column\": \"block_num\",\n      \"properties\": {\n        \"dtype\": \"number\",\n        \"std\": 6.218074593414812,\n        \"min\": 0.0,\n        \"max\": 21.0,\n        \"num_unique_values\": 22,\n        \"samples\": [\n          0.0,\n          13.0,\n          8.0\n        ],\n        \"semantic_type\": \"\",\n        \"description\": \"\"\n      }\n    },\n    {\n      \"column\": \"stim\",\n      \"properties\": {\n        \"dtype\": \"number\",\n        \"std\": 1.4345667192320635,\n        \"min\": 0.0,\n        \"max\": 5.0,\n        \"num_unique_values\": 6,\n        \"samples\": [\n          1.0,\n          2.0,\n          4.0\n        ],\n        \"semantic_type\": \"\",\n        \"description\": \"\"\n      }\n    },\n    {\n      \"column\": \"response\",\n      \"properties\": {\n        \"dtype\": \"number\",\n        \"std\": 0.8170297480716856,\n        \"min\": 0.0,\n        \"max\": 2.0,\n        \"num_unique_values\": 3,\n        \"samples\": [\n          2.0,\n          0.0,\n          1.0\n        ],\n        \"semantic_type\": \"\",\n        \"description\": \"\"\n      }\n    },\n    {\n      \"column\": \"feedback\",\n      \"properties\": {\n        \"dtype\": \"number\",\n        \"std\": 0.39933173049804843,\n        \"min\": 0.0,\n        \"max\": 1.0,\n        \"num_unique_values\": 2,\n        \"samples\": [\n          0.0,\n          1.0\n        ],\n        \"semantic_type\": \"\",\n        \"description\": \"\"\n      }\n    },\n    {\n      \"column\": \"corr\",\n      \"properties\": {\n        \"dtype\": \"number\",\n        \"std\": 0.39933173049804843,\n        \"min\": 0.0,\n        \"max\": 1.0,\n        \"num_unique_values\": 2,\n        \"samples\": [\n          0.0,\n          1.0\n        ],\n        \"semantic_type\": \"\",\n        \"description\": \"\"\n      }\n    },\n    {\n      \"column\": \"stim_ctr\",\n      \"properties\": {\n        \"dtype\": \"number\",\n        \"std\": 4.320591110645038,\n        \"min\": 1.0,\n        \"max\": 15.0,\n        \"num_unique_values\": 15,\n        \"samples\": [\n          10.0,\n          12.0\n        ],\n        \"semantic_type\": \"\",\n        \"description\": \"\"\n      }\n    },\n    {\n      \"column\": \"set_size\",\n      \"properties\": {\n        \"dtype\": \"number\",\n        \"std\": 1.4847990304254344,\n        \"min\": 1.0,\n        \"max\": 6.0,\n        \"num_unique_values\": 6,\n        \"samples\": [\n          4.0,\n          2.0\n        ],\n        \"semantic_type\": \"\",\n        \"description\": \"\"\n      }\n    }\n  ]\n}"
            }
          },
          "metadata": {},
          "execution_count": 14
        }
      ]
    },
    {
      "cell_type": "markdown",
      "source": [
        "##PyMC"
      ],
      "metadata": {
        "id": "tPGqzem3tVop"
      }
    },
    {
      "cell_type": "markdown",
      "source": [
        "###Reorganize data for vectorization"
      ],
      "metadata": {
        "id": "Pbq8sJecK1Tv"
      }
    },
    {
      "cell_type": "code",
      "source": [
        "df = PR_data.sort_values(['subj_idx', 'block_num'])"
      ],
      "metadata": {
        "id": "fss6e6hQ8Elv"
      },
      "execution_count": 15,
      "outputs": []
    },
    {
      "cell_type": "code",
      "source": [
        "max_trials = df[['subj_idx','block_num']].value_counts().max()\n",
        "n_participants = df['subj_idx'].max() + 1\n",
        "n_choices = int(df['response'].max()) + 1\n",
        "n_blocks = int(df['block_num'].max()) + 1\n",
        "\n",
        "shape = (max_trials, n_participants, n_choices, n_blocks)\n",
        "choices = np.ones(shape) * -10\n",
        "rewards = np.ones(shape) * -10\n",
        "set_sizes = np.zeros(shape)\n",
        "subj_idxs = np.zeros(shape)\n",
        "block_nums = np.zeros(shape)\n",
        "\n",
        "for subj_idx in df['subj_idx'].unique():\n",
        "    for block_num in df['block_num'].unique():\n",
        "      # number trials * number of stimuli\n",
        "        subj_block_data = df[(df['subj_idx'] == subj_idx) & (df['block_num'] == block_num)]\n",
        "        n_trials = subj_block_data.shape[0]\n",
        "        subj_block_choices = subj_block_data['response'].to_numpy(dtype=np.int32)\n",
        "        subj_block_rewards = subj_block_data['feedback'].to_numpy(dtype=np.float32)\n",
        "        subj_block_set_size = subj_block_data['set_size'].to_numpy(dtype=np.float32)\n",
        "        subj_block_idxs = subj_block_data['subj_idx'].to_numpy(dtype=np.int32)\n",
        "        subj_block_nums = subj_block_data['block_num'].to_numpy(dtype=np.float32)\n",
        "\n",
        "        subj_block_choices = np.eye(n_choices)[subj_block_choices]\n",
        "        subj_block_rewards = subj_block_rewards.reshape((n_trials, 1)).repeat(n_choices, axis=1)\n",
        "        subj_block_set_size = subj_block_set_size.reshape((n_trials, 1)).repeat(n_choices, axis=1)\n",
        "        subj_block_idxs = subj_block_idxs.reshape((n_trials, 1)).repeat(n_choices, axis=1)\n",
        "        subj_block_nums = subj_block_nums.reshape((n_trials, 1)).repeat(n_choices, axis=1)\n",
        "\n",
        "        choices[:n_trials, subj_idx, :, int(block_num)] = subj_block_choices\n",
        "        rewards[:n_trials, subj_idx, :, int(block_num)] = subj_block_choices * subj_block_rewards\n",
        "        set_sizes[:n_trials, subj_idx, :, int(block_num)] = subj_block_set_size\n",
        "        subj_idxs[:n_trials, subj_idx, :, int(block_num)] = subj_block_idxs\n",
        "        block_nums[:n_trials, subj_idx, :, int(block_num)] = subj_block_nums\n",
        "\n",
        "padded_ohe_df = pd.DataFrame(data={'subj_idx': subj_idxs.flatten(),\n",
        "                               'block_num': block_nums.flatten(),\n",
        "                               'response': choices.flatten(),\n",
        "                               'feedback': rewards.flatten(),\n",
        "                               'set_size': set_sizes.flatten(),\n",
        "                               }).sort_values(['subj_idx', 'block_num']).reset_index().drop(columns=['index'])\n",
        "padded_ohe_df.shape"
      ],
      "metadata": {
        "id": "npPzhBVYUwAU",
        "colab": {
          "base_uri": "https://localhost:8080/"
        },
        "outputId": "199ee41a-1f66-4ccd-c309-3afbdb6c38ea"
      },
      "execution_count": 16,
      "outputs": [
        {
          "output_type": "execute_result",
          "data": {
            "text/plain": [
              "(118800, 5)"
            ]
          },
          "metadata": {},
          "execution_count": 16
        }
      ]
    },
    {
      "cell_type": "markdown",
      "source": [
        "###Prep for PyMC"
      ],
      "metadata": {
        "id": "bnqqeN4Ipign"
      }
    },
    {
      "cell_type": "code",
      "source": [
        "# Make coordinates\n",
        "participant_ids, participants = pd.factorize(padded_ohe_df['subj_idx'])\n",
        "coords = {\n",
        "          \"participant_idx\": np.array(participants),\n",
        "          # \"participant_idx\": np.arange(len(participant_ids)),\n",
        "          \"obs_idx\": np.arange(padded_ohe_df.shape[0])\n",
        "         }"
      ],
      "metadata": {
        "id": "TN6o1ZErpPyj"
      },
      "execution_count": 19,
      "outputs": []
    },
    {
      "cell_type": "code",
      "source": [
        "90*20*3*22"
      ],
      "metadata": {
        "colab": {
          "base_uri": "https://localhost:8080/"
        },
        "id": "Q9sdu-lI-yNw",
        "outputId": "cbc9d708-65fa-4ed0-c2a1-94c46a60443a"
      },
      "execution_count": 19,
      "outputs": [
        {
          "output_type": "execute_result",
          "data": {
            "text/plain": [
              "118800"
            ]
          },
          "metadata": {},
          "execution_count": 19
        }
      ]
    },
    {
      "cell_type": "code",
      "source": [
        "n_trials, n_participants, n_choices, n_blocks = (90, 20, 3, 22)\n",
        "\n",
        "def rlwm_hdll(pA_, pB_, pC_, pE_, pG_, pP_, pR_, choices, rewards, set_sizes_):\n",
        "    inner_shape = (n_participants, n_choices, n_blocks)\n",
        "    full_shape = (n_trials, inner_shape[0], inner_shape[1], inner_shape[2])\n",
        "    dq_RL_ = pt.ones(inner_shape) * pt.true_div(1.0, n_choices)\n",
        "    dq_WM_ = pt.ones(inner_shape) * pt.true_div(1.0, n_choices)\n",
        "    dC_ = choices.reshape(full_shape)\n",
        "    dR_ = rewards.reshape(full_shape)\n",
        "    set_sizes_ = set_sizes_.reshape(full_shape)\n",
        "\n",
        "    pA_ = pA_.reshape(full_shape)\n",
        "    pB_ = pB_.reshape(full_shape)\n",
        "    pC_ = pC_.reshape(full_shape)\n",
        "    pE_ = pE_.reshape(full_shape)\n",
        "    pG_ = pG_.reshape(full_shape)\n",
        "    pP_ = pP_.reshape(full_shape)\n",
        "    pR_ = pR_.reshape(full_shape)\n",
        "\n",
        "    return rlwm_recovery(dq_RL_, dq_WM_, dC_, dR_, pA_, pB_, pC_, pE_, pG_, pP_, pR_, set_sizes_)[0].flatten()"
      ],
      "metadata": {
        "id": "Jb11FojTqYoT"
      },
      "execution_count": 17,
      "outputs": []
    },
    {
      "cell_type": "code",
      "source": [
        "pA = pt.dvector()\n",
        "pB = pt.dvector()\n",
        "pC = pt.dvector()\n",
        "pE = pt.dvector()\n",
        "pG = pt.dvector()\n",
        "pP = pt.dvector()\n",
        "pR = pt.dvector()\n",
        "choices = pt.dvector()\n",
        "rewards = pt.dvector()\n",
        "set_sizes = pt.dvector()\n",
        "\n",
        "output = rlwm_hdll(pA, pB, pC, pE, pG, pP, pR, choices, rewards, set_sizes)\n",
        "\n",
        "my_rlwm_hdll_func = pytensor.function(inputs=[pA, pB, pC, pE, pG, pP, pR, choices, rewards, set_sizes], outputs=output)\n",
        "\n",
        "pA_ = np.ones(padded_ohe_df.shape[0]).flatten()\n",
        "pB_ = np.ones(padded_ohe_df.shape[0]).flatten()\n",
        "pC_ = np.ones(padded_ohe_df.shape[0]).flatten()\n",
        "pE_ = np.ones(padded_ohe_df.shape[0]).flatten()\n",
        "pG_ = np.ones(padded_ohe_df.shape[0]).flatten()\n",
        "pP_ = np.ones(padded_ohe_df.shape[0]).flatten()\n",
        "pR_ = np.ones(padded_ohe_df.shape[0]).flatten()\n",
        "choices_ = padded_ohe_df['response'].to_numpy(dtype=np.int32)\n",
        "rewards_ = padded_ohe_df['feedback'].to_numpy(dtype=np.float32)\n",
        "set_sizes_ = padded_ohe_df['set_size'].to_numpy(dtype=np.float32)\n",
        "\n",
        "my_rlwm_hdll_func(pA_, pB_, pC_, pE_, pG_, pP_, pR_, choices_, rewards_, set_sizes_)"
      ],
      "metadata": {
        "colab": {
          "base_uri": "https://localhost:8080/"
        },
        "id": "MlTu4MBxj7Hd",
        "outputId": "2075da2b-8ad5-482b-e2c6-f73061599f41"
      },
      "execution_count": 21,
      "outputs": [
        {
          "output_type": "execute_result",
          "data": {
            "text/plain": [
              "array([-1.09861226, -1.09861226, -1.09861226, ..., -1.09861226,\n",
              "       -1.09861226, -1.09861226])"
            ]
          },
          "metadata": {},
          "execution_count": 21
        }
      ]
    },
    {
      "cell_type": "markdown",
      "source": [
        "###Run PyMC"
      ],
      "metadata": {
        "id": "KboQ5zQ4qWj0"
      }
    },
    {
      "cell_type": "code",
      "source": [
        "with pm.Model(coords=coords) as hierarchical_model:\n",
        "    # Data\n",
        "    Choices = pm.ConstantData('Choices', choices)\n",
        "    Rewards = pm.ConstantData('Rewards', rewards)\n",
        "    Set_sizes = pm.ConstantData('Set_sizes', set_sizes)\n",
        "\n",
        "\n",
        "    # Hyperpriors for group nodes\n",
        "    pA_alpha = pm.Gamma(\"pA_alpha\", alpha = 3. , beta = 3.)\n",
        "    pA_beta = pm.Gamma(\"pA_beta\", alpha = 3. , beta = 3.)\n",
        "    pB_alpha = pm.Gamma(\"pB_alpha\", alpha = 3. , beta = 3.)\n",
        "    pB_beta = pm.Gamma(\"pB_beta\", alpha = 3. , beta = 3.)\n",
        "    pC_alpha = pm.Gamma(\"pC_alpha\", alpha = 3. , beta = 3.)\n",
        "    pC_beta = pm.Gamma(\"pC_beta\", alpha = 3. , beta = 3.)\n",
        "    pE_alpha = pm.Gamma(\"pE_alpha\", alpha = 3. , beta = 3.)\n",
        "    pE_beta = pm.Gamma(\"pE_beta\", alpha = 3. , beta = 3.)\n",
        "    pG_alpha = pm.Gamma(\"pG_alpha\", alpha = 3. , beta = 3.)\n",
        "    pG_beta = pm.Gamma(\"pG_beta\", alpha = 3. , beta = 3.)\n",
        "    pP_alpha = pm.Gamma(\"pP_alpha\", alpha = 3. , beta = 3.)\n",
        "    pP_beta = pm.Gamma(\"pP_beta\", alpha = 3. , beta = 3.)\n",
        "    pR_alpha = pm.Gamma(\"pR_alpha\", alpha = 3. , beta = 3.)\n",
        "    pR_beta = pm.Gamma(\"pR_beta\", alpha = 3. , beta = 3.)\n",
        "\n",
        "\n",
        "    # Priors for variables\n",
        "    pA = pm.Beta(name=\"pA\", alpha=pA_alpha, beta=pA_beta, dims=\"participant_idx\")\n",
        "    pB = pm.Beta(name=\"pB\", alpha=pB_alpha, beta=pB_beta, dims=\"participant_idx\")\n",
        "    pC = pm.Beta(name=\"pC\", alpha=pC_alpha, beta=pC_beta, dims=\"participant_idx\")\n",
        "    pE = pm.Beta(name=\"pE\", alpha=pE_alpha, beta=pE_beta, dims=\"participant_idx\")\n",
        "    pG = pm.Beta(name=\"pG\", alpha=pG_alpha, beta=pG_beta, dims=\"participant_idx\")\n",
        "    pP = pm.Beta(name=\"pP\", alpha=pP_alpha, beta=pP_beta, dims=\"participant_idx\")\n",
        "    pR = pm.Beta(name=\"pR\", alpha=pR_alpha, beta=pR_beta, dims=\"participant_idx\")\n",
        "\n",
        "\n",
        "    # Render parameters trial wise\n",
        "    pA_trial = pA[participant_ids]\n",
        "    pB_trial = pB[participant_ids]\n",
        "    pC_trial = pC[participant_ids]\n",
        "    pE_trial = pE[participant_ids]\n",
        "    pG_trial = pG[participant_ids]\n",
        "    pP_trial = pP[participant_ids]\n",
        "    pR_trial = pR[participant_ids]\n",
        "\n",
        "\n",
        "    # CHOOSE WHICH WRAPPER FUNCTION TO USE HERE\n",
        "    pm.Potential(\"likelihood\", rlwm_hdll(pA_trial,pB_trial,pC_trial,pE_trial,pG_trial,pP_trial,pR_trial,Choices,Rewards,Set_sizes))\n",
        "    idata_pooled = pm.sample(500, tune=500, chains=1, nuts_sampler=\"numpyro\")"
      ],
      "metadata": {
        "colab": {
          "base_uri": "https://localhost:8080/"
        },
        "id": "X-7hleDBp4QG",
        "outputId": "9c5026a0-920d-4ba2-e749-81ecf1fad99a"
      },
      "execution_count": null,
      "outputs": [
        {
          "output_type": "stream",
          "name": "stderr",
          "text": [
            "warmup:  16%|█▋        | 164/1000 [03:40<11:06,  1.25it/s, 95 steps of size 5.63e-02. acc. prob=0.77]"
          ]
        }
      ]
    }
  ]
}