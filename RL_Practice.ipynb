{
  "cells": [
    {
      "cell_type": "markdown",
      "metadata": {
        "id": "view-in-github",
        "colab_type": "text"
      },
      "source": [
        "<a href=\"https://colab.research.google.com/github/TheLemonPig/RL-SSM/blob/main/RL_Practice.ipynb\" target=\"_parent\"><img src=\"https://colab.research.google.com/assets/colab-badge.svg\" alt=\"Open In Colab\"/></a>"
      ]
    },
    {
      "cell_type": "markdown",
      "metadata": {
        "id": "neUkcaYQK5Tx"
      },
      "source": [
        "## 1. Install Packages"
      ]
    },
    {
      "cell_type": "code",
      "execution_count": 1,
      "metadata": {
        "id": "l1j3ckbqc63Q",
        "colab": {
          "base_uri": "https://localhost:8080/"
        },
        "outputId": "9be0fd80-c787-4a4d-f01c-cf754ff53fd6"
      },
      "outputs": [
        {
          "output_type": "stream",
          "name": "stdout",
          "text": [
            "Collecting numpyro\n",
            "  Downloading numpyro-0.13.2-py3-none-any.whl (312 kB)\n",
            "\u001b[2K     \u001b[90m━━━━━━━━━━━━━━━━━━━━━━━━━━━━━━━━━━━━━━━━\u001b[0m \u001b[32m312.7/312.7 kB\u001b[0m \u001b[31m3.0 MB/s\u001b[0m eta \u001b[36m0:00:00\u001b[0m\n",
            "\u001b[?25hRequirement already satisfied: jax>=0.4.14 in /usr/local/lib/python3.10/dist-packages (from numpyro) (0.4.16)\n",
            "Requirement already satisfied: jaxlib>=0.4.14 in /usr/local/lib/python3.10/dist-packages (from numpyro) (0.4.16+cuda11.cudnn86)\n",
            "Requirement already satisfied: multipledispatch in /usr/local/lib/python3.10/dist-packages (from numpyro) (1.0.0)\n",
            "Requirement already satisfied: numpy in /usr/local/lib/python3.10/dist-packages (from numpyro) (1.23.5)\n",
            "Requirement already satisfied: tqdm in /usr/local/lib/python3.10/dist-packages (from numpyro) (4.66.1)\n",
            "Requirement already satisfied: ml-dtypes>=0.2.0 in /usr/local/lib/python3.10/dist-packages (from jax>=0.4.14->numpyro) (0.2.0)\n",
            "Requirement already satisfied: opt-einsum in /usr/local/lib/python3.10/dist-packages (from jax>=0.4.14->numpyro) (3.3.0)\n",
            "Requirement already satisfied: scipy>=1.7 in /usr/local/lib/python3.10/dist-packages (from jax>=0.4.14->numpyro) (1.11.3)\n",
            "Installing collected packages: numpyro\n",
            "Successfully installed numpyro-0.13.2\n"
          ]
        }
      ],
      "source": [
        "# restart runtime after running and skip this cell\n",
        "!pip install numpyro"
      ]
    },
    {
      "cell_type": "markdown",
      "metadata": {
        "id": "3iBL0F9hK-Av"
      },
      "source": [
        "##2. Import Packages"
      ]
    },
    {
      "cell_type": "code",
      "execution_count": 2,
      "metadata": {
        "id": "NilYSyS5LD28"
      },
      "outputs": [],
      "source": [
        "import numpyro\n",
        "import numpy as np\n",
        "import pandas as pd\n",
        "from scipy.optimize import minimize\n",
        "import pytensor\n",
        "import pytensor.tensor as pt\n",
        "import matplotlib.pyplot as plt\n",
        "import functools\n",
        "from scipy.optimize import curve_fit\n",
        "import pymc as pm\n",
        "import arviz as az\n",
        "from typing import List, Callable\n",
        "from functools import partial\n",
        "from tqdm import tqdm"
      ]
    },
    {
      "cell_type": "markdown",
      "metadata": {
        "id": "IIcDt4awWOOH"
      },
      "source": [
        "##3. Create Simple RL Model"
      ]
    },
    {
      "cell_type": "code",
      "execution_count": 3,
      "metadata": {
        "id": "gy_6Ep2ngimL"
      },
      "outputs": [],
      "source": [
        "def softmax(qs, tau):\n",
        "  safe_tau = np.abs(tau) + 1e-2\n",
        "  return np.exp(qs/safe_tau) / np.exp(qs/safe_tau).sum()\n",
        "\n",
        "def rescola(qt, alpha, reward):\n",
        "  return qt + alpha * (reward - qt)"
      ]
    },
    {
      "cell_type": "code",
      "execution_count": 4,
      "metadata": {
        "id": "MWi5tyhDa9Az"
      },
      "outputs": [],
      "source": [
        "class Distribution:\n",
        "\n",
        "  def __init__(self, func: Callable, kwargs):\n",
        "    self.func: Callable = partial(func, **kwargs)\n",
        "\n",
        "  def __call__(self):\n",
        "    return self.func.__call__()"
      ]
    },
    {
      "cell_type": "code",
      "execution_count": 5,
      "metadata": {
        "id": "V9ynEt2aLSoE"
      },
      "outputs": [],
      "source": [
        "class SimpleRL:\n",
        "\n",
        "  def __init__(self, n_trials: int, distributions: List[Distribution]):\n",
        "    self.n_choices: int = len(distributions)\n",
        "    self.n_trials: int = n_trials\n",
        "    self.distributions: List[Distribution] = distributions\n",
        "    self.qs: np.array = np.ones((self.n_choices,)) * 0.    #  check whether I should set to 0.5\n",
        "    self.q_trace: np.array = np.ones((self.n_trials,self.n_choices))\n",
        "    self.rewards: np.array = np.zeros((self.n_trials),dtype=np.int32)\n",
        "    self.choices: np.array = np.zeros((self.n_trials),dtype=np.int32)\n",
        "\n",
        "  def simulate(self, alpha, temperature):\n",
        "    for i in range(self.n_trials):\n",
        "      # Q-values are recorded to trace\n",
        "      self.q_trace[i] = self.qs\n",
        "      # softmax decision function\n",
        "      ps = softmax(self.qs,temperature)\n",
        "      # choice made based on weighted probabilities of Q-values\n",
        "      choice = np.random.choice(a=self.n_choices,size=1,p=ps)[0]\n",
        "      # choice is recorded to trace\n",
        "      self.choices[i] = choice\n",
        "      # reward calculated\n",
        "      dist = self.distributions[choice]  # supply a list of distributions to choose from\n",
        "      reward = dist()  # sample from distribution by calling it\n",
        "      # Q-values updated\n",
        "      self.rewards[i] = reward\n",
        "      self.qs[choice] = rescola(self.qs[choice],alpha,reward)\n",
        "    # Q-values trace returned\n",
        "    # main data to be returned (basis for fits), is choices and rewards per trial\n",
        "    return self.rewards, self.choices"
      ]
    },
    {
      "cell_type": "markdown",
      "metadata": {
        "id": "abbuDSLGcLmC"
      },
      "source": [
        "##4. Simulate Model"
      ]
    },
    {
      "cell_type": "code",
      "execution_count": 6,
      "metadata": {
        "id": "USclBDfYOul2"
      },
      "outputs": [],
      "source": [
        "seed = 0\n",
        "np.random.seed(seed)\n",
        "mean_rewards = [-0.3,0.7]\n",
        "dists = [Distribution(np.random.normal,{\"loc\":mn, \"scale\":1.0}) for mn in mean_rewards]\n",
        "n_trials = 1000\n",
        "temperature = 1\n",
        "alpha = 0.01"
      ]
    },
    {
      "cell_type": "code",
      "execution_count": 7,
      "metadata": {
        "id": "ACqDY-sMcN-n"
      },
      "outputs": [],
      "source": [
        "rl_model = SimpleRL(n_trials=n_trials, distributions=dists)\n",
        "rewards, choices = rl_model.simulate(alpha,temperature)\n",
        "qs = rl_model.q_trace"
      ]
    },
    {
      "cell_type": "code",
      "execution_count": 8,
      "metadata": {
        "colab": {
          "base_uri": "https://localhost:8080/",
          "height": 466
        },
        "id": "MpTnRSs_ctM8",
        "outputId": "5daed430-297c-42af-b394-807f1fd26a27"
      },
      "outputs": [
        {
          "output_type": "execute_result",
          "data": {
            "text/plain": [
              "[<matplotlib.lines.Line2D at 0x7ad2e7ec22f0>,\n",
              " <matplotlib.lines.Line2D at 0x7ad2e7ec2350>]"
            ]
          },
          "metadata": {},
          "execution_count": 8
        },
        {
          "output_type": "display_data",
          "data": {
            "text/plain": [
              "<Figure size 640x480 with 1 Axes>"
            ],
            "image/png": "[encoded data removed]"
          },
          "metadata": {}
        }
      ],
      "source": [
        "# plotting q values\n",
        "plt.plot(qs)"
      ]
    },
    {
      "cell_type": "markdown",
      "metadata": {
        "id": "2XFI0rwCzOmP"
      },
      "source": [
        "##5. Create Loglikelihood Function in PyTensor"
      ]
    },
    {
      "cell_type": "markdown",
      "source": [
        "###5a. Simulate RL"
      ],
      "metadata": {
        "id": "kEIfhec1Z-zX"
      }
    },
    {
      "cell_type": "code",
      "execution_count": null,
      "metadata": {
        "id": "cv9-dvlCJlnL"
      },
      "outputs": [],
      "source": [
        "# parameters & variables\n",
        "C = pt.ivector(\"C\") # choice vector\n",
        "R = pt.ivector(\"R\") # reward vector\n",
        "Q = pt.dvector(\"Q\") # empty matrix to store q-values across trials\n",
        "a = pt.scalar(\"a\") # learning rate\n",
        "\n",
        "# function for a single RL step\n",
        "def rl_step(c, r, q_tm1):\n",
        "  m = pt.set_subtensor(pt.zeros_like(q_tm1)[c], pt.constant(1))\n",
        "  rm = r * m\n",
        "  qm = q_tm1 * m\n",
        "  return qm + a * (rm - qm)\n",
        "\n",
        "# scan function build\n",
        "Qs, updates = pytensor.scan(rl_step, sequences=[C,R], outputs_info=Q)\n",
        "\n",
        "# Q Prediction function compilation\n",
        "q_predict = pytensor.function(inputs=[C, R, Q, a], outputs=Qs)\n",
        "\n",
        "# test values\n",
        "C_test = np.ones((100,), dtype=np.int32)\n",
        "R_test = np.ones((100,), dtype=np.int32)\n",
        "Q_test = np.zeros(shape=(2,), dtype=pytensor.config.floatX)\n",
        "a_test = 0.1\n",
        "\n",
        "# RL Model function test\n",
        "q_predict(C_test,R_test,Q_test,a_test)"
      ]
    },
    {
      "cell_type": "markdown",
      "source": [
        "###5b. Calculate Loglikelihood of Simulation given parameters"
      ],
      "metadata": {
        "id": "TmI4FT9_aD-X"
      }
    },
    {
      "cell_type": "code",
      "source": [
        "b = pt.dscalar(\"b\")\n",
        "ll = pt.dscalar(\"q_select\")\n",
        "\n",
        "def ll_def(c, qs, ll):\n",
        "  mask = pt.set_subtensor(pt.zeros_like(qs)[c], pt.constant(1))\n",
        "  ps = pt.exp(qs/b) / pt.exp(qs/b).sum()\n",
        "  p_select = (ps * mask).sum()\n",
        "  ll = pt.log(p_select)\n",
        "  return ll\n",
        "\n",
        "loglikes, updates = pytensor.scan(ll_def, sequences=[C,Qs], outputs_info=ll)\n",
        "# look in jax documentation for resolution\n",
        "# Ps = pt.exp(Qs/b) / pt.exp(Qs/b).sum()\n",
        "# P_select = pt.set_subtensor(pt.zeros_like(Ps)[C],pt.constant(1.))\n",
        "# P_select = pt.zeros_like(Ps).transpose()\n",
        "# n_choices = 2\n",
        "# # for i in range(n_choices):\n",
        "# P_select = pt.where(pt.eq(C,pt.constant(1)),\n",
        "#                     pt.set_subtensor(P_select[C],pt.constant(1)),\n",
        "#                     pt.set_subtensor(P_select[C],pt.constant(0)))\n",
        "# loglikes = pt.log(P_select.sum(axis=1)).transpose()\n",
        "loglike = loglikes.sum()\n",
        "\n",
        "# update to use pt.where and pt.set_subtensor\n",
        "# loglikes = pt.where(C==0,pt.)\n",
        "\n",
        "def make_ll_func(C,R):\n",
        "  def ll_func(a,b):\n",
        "    return loglike\n",
        "  return ll_func\n",
        "\n",
        "ll_func = make_ll_func(C,R)\n",
        "\n",
        "output = ll_func(a,b)\n",
        "\n",
        "loglike_func = pytensor.function(inputs=[C,R,Q,ll,a,b],outputs=output)\n",
        "# loglike_func = pytensor.function(inputs=[C,R,Q,ll,a,b],outputs=loglike)\n",
        "\n",
        "np.random.seed(0)\n",
        "n_choices = 2\n",
        "n_trials = 100\n",
        "C_test = np.array(np.random.randint(low=0,high=n_choices,size=(n_trials,)), dtype=np.int32)\n",
        "R_test = np.ones((n_trials,), dtype=np.int32) * C_test\n",
        "Q_test = np.ones(shape=(n_choices,), dtype=pytensor.config.floatX)\n",
        "# mask_test = np.zeros((n_choices,), dtype=np.int32)\n",
        "ll_test = 0\n",
        "a_test = 0.1\n",
        "b_test = 0.5\n",
        "\n",
        "# RL Loglikelihood function test\n",
        "# print(choice_mask_func(mask_test, C_test))\n",
        "# Q_pred = q_predict(C_test,R_test,Q_test,a_test)\n",
        "# print(Ps_func(Q_pred,b_test))\n",
        "loglike_func(C_test,R_test,Q_test,ll_test,a_test,b_test)\n",
        "# loglike_func(C_test,R_test,Q_test,a_test,b_test)"
      ],
      "metadata": {
        "colab": {
          "base_uri": "https://localhost:8080/",
          "height": 453
        },
        "id": "TeTHQHCuGscN",
        "outputId": "988ab7b6-a1b3-44c8-b178-d50b661700f3"
      },
      "execution_count": 55,
      "outputs": [
        {
          "output_type": "error",
          "ename": "UnusedInputError",
          "evalue": "ignored",
          "traceback": [
            "\u001b[0;31m---------------------------------------------------------------------------\u001b[0m",
            "\u001b[0;31mUnusedInputError\u001b[0m                          Traceback (most recent call last)",
            "\u001b[0;32m<ipython-input-55-47441de42aa5>\u001b[0m in \u001b[0;36m<cell line: 36>\u001b[0;34m()\u001b[0m\n\u001b[1;32m     34\u001b[0m \u001b[0moutput\u001b[0m \u001b[0;34m=\u001b[0m \u001b[0mll_func\u001b[0m\u001b[0;34m(\u001b[0m\u001b[0ma\u001b[0m\u001b[0;34m,\u001b[0m\u001b[0mb\u001b[0m\u001b[0;34m)\u001b[0m\u001b[0;34m\u001b[0m\u001b[0;34m\u001b[0m\u001b[0m\n\u001b[1;32m     35\u001b[0m \u001b[0;34m\u001b[0m\u001b[0m\n\u001b[0;32m---> 36\u001b[0;31m \u001b[0mloglike_func\u001b[0m \u001b[0;34m=\u001b[0m \u001b[0mpytensor\u001b[0m\u001b[0;34m.\u001b[0m\u001b[0mfunction\u001b[0m\u001b[0;34m(\u001b[0m\u001b[0minputs\u001b[0m\u001b[0;34m=\u001b[0m\u001b[0;34m[\u001b[0m\u001b[0mC\u001b[0m\u001b[0;34m,\u001b[0m\u001b[0mR\u001b[0m\u001b[0;34m,\u001b[0m\u001b[0mQ\u001b[0m\u001b[0;34m,\u001b[0m\u001b[0mll\u001b[0m\u001b[0;34m,\u001b[0m\u001b[0ma\u001b[0m\u001b[0;34m,\u001b[0m\u001b[0mb\u001b[0m\u001b[0;34m]\u001b[0m\u001b[0;34m,\u001b[0m\u001b[0moutputs\u001b[0m\u001b[0;34m=\u001b[0m\u001b[0moutput\u001b[0m\u001b[0;34m)\u001b[0m\u001b[0;34m\u001b[0m\u001b[0;34m\u001b[0m\u001b[0m\n\u001b[0m\u001b[1;32m     37\u001b[0m \u001b[0;31m# loglike_func = pytensor.function(inputs=[C,R,Q,ll,a,b],outputs=loglike)\u001b[0m\u001b[0;34m\u001b[0m\u001b[0;34m\u001b[0m\u001b[0m\n\u001b[1;32m     38\u001b[0m \u001b[0;34m\u001b[0m\u001b[0m\n",
            "\u001b[0;32m/usr/local/lib/python3.10/dist-packages/pytensor/compile/function/__init__.py\u001b[0m in \u001b[0;36mfunction\u001b[0;34m(inputs, outputs, mode, updates, givens, no_default_updates, accept_inplace, name, rebuild_strict, allow_input_downcast, profile, on_unused_input)\u001b[0m\n\u001b[1;32m    313\u001b[0m         \u001b[0;31m# note: pfunc will also call orig_function -- orig_function is\u001b[0m\u001b[0;34m\u001b[0m\u001b[0;34m\u001b[0m\u001b[0m\n\u001b[1;32m    314\u001b[0m         \u001b[0;31m#      a choke point that all compilation must pass through\u001b[0m\u001b[0;34m\u001b[0m\u001b[0;34m\u001b[0m\u001b[0m\n\u001b[0;32m--> 315\u001b[0;31m         fn = pfunc(\n\u001b[0m\u001b[1;32m    316\u001b[0m             \u001b[0mparams\u001b[0m\u001b[0;34m=\u001b[0m\u001b[0minputs\u001b[0m\u001b[0;34m,\u001b[0m\u001b[0;34m\u001b[0m\u001b[0;34m\u001b[0m\u001b[0m\n\u001b[1;32m    317\u001b[0m             \u001b[0moutputs\u001b[0m\u001b[0;34m=\u001b[0m\u001b[0moutputs\u001b[0m\u001b[0;34m,\u001b[0m\u001b[0;34m\u001b[0m\u001b[0;34m\u001b[0m\u001b[0m\n",
            "\u001b[0;32m/usr/local/lib/python3.10/dist-packages/pytensor/compile/function/pfunc.py\u001b[0m in \u001b[0;36mpfunc\u001b[0;34m(params, outputs, mode, updates, givens, no_default_updates, accept_inplace, name, rebuild_strict, allow_input_downcast, profile, on_unused_input, output_keys, fgraph)\u001b[0m\n\u001b[1;32m    466\u001b[0m     )\n\u001b[1;32m    467\u001b[0m \u001b[0;34m\u001b[0m\u001b[0m\n\u001b[0;32m--> 468\u001b[0;31m     return orig_function(\n\u001b[0m\u001b[1;32m    469\u001b[0m         \u001b[0minputs\u001b[0m\u001b[0;34m,\u001b[0m\u001b[0;34m\u001b[0m\u001b[0;34m\u001b[0m\u001b[0m\n\u001b[1;32m    470\u001b[0m         \u001b[0mcloned_outputs\u001b[0m\u001b[0;34m,\u001b[0m\u001b[0;34m\u001b[0m\u001b[0;34m\u001b[0m\u001b[0m\n",
            "\u001b[0;32m/usr/local/lib/python3.10/dist-packages/pytensor/compile/function/types.py\u001b[0m in \u001b[0;36morig_function\u001b[0;34m(inputs, outputs, mode, accept_inplace, name, profile, on_unused_input, output_keys, fgraph)\u001b[0m\n\u001b[1;32m   1742\u001b[0m     \u001b[0;32mtry\u001b[0m\u001b[0;34m:\u001b[0m\u001b[0;34m\u001b[0m\u001b[0;34m\u001b[0m\u001b[0m\n\u001b[1;32m   1743\u001b[0m         \u001b[0mMaker\u001b[0m \u001b[0;34m=\u001b[0m \u001b[0mgetattr\u001b[0m\u001b[0;34m(\u001b[0m\u001b[0mmode\u001b[0m\u001b[0;34m,\u001b[0m \u001b[0;34m\"function_maker\"\u001b[0m\u001b[0;34m,\u001b[0m \u001b[0mFunctionMaker\u001b[0m\u001b[0;34m)\u001b[0m\u001b[0;34m\u001b[0m\u001b[0;34m\u001b[0m\u001b[0m\n\u001b[0;32m-> 1744\u001b[0;31m         m = Maker(\n\u001b[0m\u001b[1;32m   1745\u001b[0m             \u001b[0minputs\u001b[0m\u001b[0;34m,\u001b[0m\u001b[0;34m\u001b[0m\u001b[0;34m\u001b[0m\u001b[0m\n\u001b[1;32m   1746\u001b[0m             \u001b[0moutputs\u001b[0m\u001b[0;34m,\u001b[0m\u001b[0;34m\u001b[0m\u001b[0;34m\u001b[0m\u001b[0m\n",
            "\u001b[0;32m/usr/local/lib/python3.10/dist-packages/pytensor/compile/function/types.py\u001b[0m in \u001b[0;36m__init__\u001b[0;34m(self, inputs, outputs, mode, accept_inplace, function_builder, profile, on_unused_input, fgraph, output_keys, name, no_fgraph_prep)\u001b[0m\n\u001b[1;32m   1502\u001b[0m \u001b[0;34m\u001b[0m\u001b[0m\n\u001b[1;32m   1503\u001b[0m         \u001b[0;31m# Check if some input variables are unused\u001b[0m\u001b[0;34m\u001b[0m\u001b[0;34m\u001b[0m\u001b[0m\n\u001b[0;32m-> 1504\u001b[0;31m         \u001b[0mself\u001b[0m\u001b[0;34m.\u001b[0m\u001b[0mcheck_unused_inputs\u001b[0m\u001b[0;34m(\u001b[0m\u001b[0minputs\u001b[0m\u001b[0;34m,\u001b[0m \u001b[0moutputs\u001b[0m\u001b[0;34m,\u001b[0m \u001b[0mon_unused_input\u001b[0m\u001b[0;34m)\u001b[0m\u001b[0;34m\u001b[0m\u001b[0;34m\u001b[0m\u001b[0m\n\u001b[0m\u001b[1;32m   1505\u001b[0m \u001b[0;34m\u001b[0m\u001b[0m\n\u001b[1;32m   1506\u001b[0m         \u001b[0mindices\u001b[0m \u001b[0;34m=\u001b[0m \u001b[0;34m[\u001b[0m\u001b[0;34m[\u001b[0m\u001b[0minput\u001b[0m\u001b[0;34m,\u001b[0m \u001b[0;32mNone\u001b[0m\u001b[0;34m,\u001b[0m \u001b[0;34m[\u001b[0m\u001b[0minput\u001b[0m\u001b[0;34m]\u001b[0m\u001b[0;34m]\u001b[0m \u001b[0;32mfor\u001b[0m \u001b[0minput\u001b[0m \u001b[0;32min\u001b[0m \u001b[0minputs\u001b[0m\u001b[0;34m]\u001b[0m\u001b[0;34m\u001b[0m\u001b[0;34m\u001b[0m\u001b[0m\n",
            "\u001b[0;32m/usr/local/lib/python3.10/dist-packages/pytensor/compile/function/types.py\u001b[0m in \u001b[0;36mcheck_unused_inputs\u001b[0;34m(inputs, outputs, on_unused_input)\u001b[0m\n\u001b[1;32m   1379\u001b[0m                     )\n\u001b[1;32m   1380\u001b[0m                 \u001b[0;32melif\u001b[0m \u001b[0mon_unused_input\u001b[0m \u001b[0;34m==\u001b[0m \u001b[0;34m\"raise\"\u001b[0m\u001b[0;34m:\u001b[0m\u001b[0;34m\u001b[0m\u001b[0;34m\u001b[0m\u001b[0m\n\u001b[0;32m-> 1381\u001b[0;31m                     \u001b[0;32mraise\u001b[0m \u001b[0mUnusedInputError\u001b[0m\u001b[0;34m(\u001b[0m\u001b[0mmsg\u001b[0m \u001b[0;34m%\u001b[0m \u001b[0;34m(\u001b[0m\u001b[0minputs\u001b[0m\u001b[0;34m.\u001b[0m\u001b[0mindex\u001b[0m\u001b[0;34m(\u001b[0m\u001b[0mi\u001b[0m\u001b[0;34m)\u001b[0m\u001b[0;34m,\u001b[0m \u001b[0mi\u001b[0m\u001b[0;34m.\u001b[0m\u001b[0mvariable\u001b[0m\u001b[0;34m,\u001b[0m \u001b[0merr_msg\u001b[0m\u001b[0;34m)\u001b[0m\u001b[0;34m)\u001b[0m\u001b[0;34m\u001b[0m\u001b[0;34m\u001b[0m\u001b[0m\n\u001b[0m\u001b[1;32m   1382\u001b[0m                 \u001b[0;32melse\u001b[0m\u001b[0;34m:\u001b[0m\u001b[0;34m\u001b[0m\u001b[0;34m\u001b[0m\u001b[0m\n\u001b[1;32m   1383\u001b[0m                     raise ValueError(\n",
            "\u001b[0;31mUnusedInputError\u001b[0m: pytensor.function was asked to create a function computing outputs given certain inputs, but the provided input variable at index 1 is not part of the computational graph needed to compute the outputs: R.\nTo make this error into a warning, you can pass the parameter on_unused_input='warn' to pytensor.function. To disable it completely, use on_unused_input='ignore'."
          ]
        }
      ]
    },
    {
      "cell_type": "code",
      "source": [
        "# parameters & variables\n",
        "C = pt.ivector(\"C\") # choice vector\n",
        "R = pt.ivector(\"R\") # reward vector\n",
        "Q = pt.dvector(\"Q\") # empty vector to store q-values across trials -> matrix of q-values\n",
        "a = pt.scalar(\"a\") # learning rate\n",
        "b = pt.dscalar(\"b\") # RL decision temperature\n",
        "ll = pt.dscalar(\"q_select\") # empty scalar to store loglikehood values across trials -> vector of loglikelihood values\n",
        "\n",
        "def make_ll_func(C,R,Q,ll):\n",
        "  def ll_func(a,b):\n",
        "    # function for a single RL step\n",
        "    def rl_step(c, r, q_tm1):\n",
        "      m = pt.set_subtensor(pt.zeros_like(q_tm1)[c], pt.constant(1))\n",
        "      rm = r * m\n",
        "      qm = q_tm1 * m\n",
        "      return qm + a * (rm - qm)\n",
        "\n",
        "    # scan function build\n",
        "    Qs, updates = pytensor.scan(rl_step, sequences=[C,R], outputs_info=Q)\n",
        "\n",
        "    # function to calculate loglikehood for each trial\n",
        "    def ll_def(c, qs, ll):\n",
        "      mask = pt.set_subtensor(pt.zeros_like(qs)[c], pt.constant(1))\n",
        "      ps = pt.exp(qs/b) / pt.exp(qs/b).sum()\n",
        "      p_select = (ps * mask).sum()\n",
        "      ll = pt.log(p_select)\n",
        "      return ll\n",
        "\n",
        "    # scan function build\n",
        "    loglikes, updates = pytensor.scan(ll_def, sequences=[C,Qs], outputs_info=ll)\n",
        "\n",
        "    # final output\n",
        "    loglike = loglikes.sum()\n",
        "    return loglike\n",
        "  return ll_func\n",
        "\n",
        "ll_func = make_ll_func(C,R,Q,ll)\n",
        "\n",
        "output = ll_func(a,b)\n",
        "\n",
        "# loglike_func = pytensor.function(inputs=[C,R,Q,ll,a,b],outputs=output)\n",
        "loglike_func = pytensor.function(inputs=[C,R,Q,ll,a,b],outputs=output)\n",
        "\n",
        "# Test parameters\n",
        "np.random.seed(0)\n",
        "n_choices = 2\n",
        "n_trials = 100\n",
        "C_test = np.array(np.random.randint(low=0,high=n_choices,size=(n_trials,)), dtype=np.int32)\n",
        "R_test = np.ones((n_trials,), dtype=np.int32) * C_test\n",
        "Q_test = np.ones(shape=(n_choices,), dtype=pytensor.config.floatX)\n",
        "ll_test = 0\n",
        "a_test = 0.1\n",
        "b_test = 0.5\n",
        "\n",
        "# RL Loglikelihood function test\n",
        "loglike_func(C_test,R_test,Q_test,ll_test,a_test,b_test)"
      ],
      "metadata": {
        "colab": {
          "base_uri": "https://localhost:8080/"
        },
        "id": "SP4IK4xDy4uV",
        "outputId": "64dd68b1-c49c-4734-9295-288f3eafedf7"
      },
      "execution_count": 69,
      "outputs": [
        {
          "output_type": "execute_result",
          "data": {
            "text/plain": [
              "array(-59.19219022)"
            ]
          },
          "metadata": {},
          "execution_count": 69
        }
      ]
    },
    {
      "cell_type": "code",
      "source": [
        "# P_select_test = pytensor.function(inputs=[C,R,Q,a,b],outputs=P_select)\n",
        "# loglikes_test = pytensor.function(inputs=[C,R,Q,a,b],outputs=loglikes)\n",
        "\n",
        "# P_select_test(C_test,R_test,Q_test,a_test,b_test).transpose()"
      ],
      "metadata": {
        "id": "HdRPHkCVuado"
      },
      "execution_count": null,
      "outputs": []
    },
    {
      "cell_type": "code",
      "source": [
        "# loglikes_test(C_test,R_test,Q_test,a_test,b_test)"
      ],
      "metadata": {
        "id": "bm3Syu2jumqt"
      },
      "execution_count": null,
      "outputs": []
    },
    {
      "cell_type": "markdown",
      "metadata": {
        "id": "OzAsJeGScoGY"
      },
      "source": [
        "##6. Calculate Likelihoods"
      ]
    },
    {
      "cell_type": "code",
      "execution_count": 40,
      "metadata": {
        "id": "RrSfCkLGtUtr"
      },
      "outputs": [],
      "source": [
        "# Creating Ground Truth Data\n",
        "n_trials = 100\n",
        "mean_rewards = [-0.3,0.7]\n",
        "dists = [Distribution(np.random.normal,{\"loc\":mn, \"scale\":1.0}) for mn in mean_rewards]\n",
        "# Creating Ground Truth Choices\n",
        "a_true = 0.1\n",
        "b_true = 0.8\n",
        "rl_model = SimpleRL(n_trials=n_trials,distributions=dists)\n",
        "R_true, C_true = rl_model.simulate(a_true,b_true)"
      ]
    },
    {
      "cell_type": "code",
      "execution_count": 53,
      "metadata": {
        "id": "xD9RkcYeudm6"
      },
      "outputs": [],
      "source": [
        "# blackbox loglikelihood function for RL Model\n",
        "# def rl_ll(params,R,C):\n",
        "#   a, b = params\n",
        "#   m = np.max(C)\n",
        "#   q = np.zeros((m+1,))\n",
        "#   Q_predict = q_predict(C,R,q,a)\n",
        "#   probabilities = softmax(Q_predict, b)\n",
        "#   selected_probabilities = probabilities[:, C]\n",
        "#   log_likelihood = np.sum(np.log(selected_probabilities))\n",
        "#   return log_likelihood\n",
        "\n",
        "# rl_ll((a_true,b_true),R_true,C_true)"
      ]
    },
    {
      "cell_type": "markdown",
      "metadata": {
        "id": "i1RfSvpbyNEm"
      },
      "source": [
        "##7. PyMC Likelihood Modelling"
      ]
    },
    {
      "cell_type": "markdown",
      "metadata": {
        "id": "mjYKyLCl-Sfd"
      },
      "source": [
        "Wrapping model into PyMC using pm potential\n",
        "\n",
        "Code was taken from PyMC documentation and modified"
      ]
    },
    {
      "cell_type": "code",
      "execution_count": 73,
      "metadata": {
        "id": "LEMWGEx63EJ8"
      },
      "outputs": [],
      "source": [
        "# define a pytensor Op for our likelihood function\n",
        "class LogLike(pt.Op):\n",
        "\n",
        "    itypes = [pt.dvector]  # expects a vector of parameter values when called\n",
        "    otypes = [pt.dscalar]  # outputs a single scalar value (the log likelihood)\n",
        "\n",
        "    def __init__(self, loglike, c, r):\n",
        "        # add inputs as class attributes\n",
        "        self.likelihood = loglike\n",
        "        self.C = c\n",
        "        self.R = r\n",
        "\n",
        "    def perform(self, node, inputs, outputs):\n",
        "      (theta,) = inputs  # this will contain my variables\n",
        "      outputs[0][0] = self.likelihood(theta[0], theta[1])\n",
        "      # a,b = theta\n",
        "      # outputs[0][0] = self.likelihood(self.C, self.R, self.Qs, self.ll, a, b)\n"
      ]
    },
    {
      "cell_type": "code",
      "execution_count": 76,
      "metadata": {
        "colab": {
          "base_uri": "https://localhost:8080/",
          "height": 935
        },
        "id": "pio-FCiq3OWj",
        "outputId": "abfc0995-fafc-4e62-ea09-5a2d61e1463d"
      },
      "outputs": [
        {
          "output_type": "error",
          "ename": "TypeError",
          "evalue": "ignored",
          "traceback": [
            "\u001b[0;31m---------------------------------------------------------------------------\u001b[0m",
            "\u001b[0;31mTypeError\u001b[0m                                 Traceback (most recent call last)",
            "\u001b[0;32m/usr/local/lib/python3.10/dist-packages/pytensor/compile/function/types.py\u001b[0m in \u001b[0;36m__call__\u001b[0;34m(self, *args, **kwargs)\u001b[0m\n\u001b[1;32m    969\u001b[0m             outputs = (\n\u001b[0;32m--> 970\u001b[0;31m                 \u001b[0mself\u001b[0m\u001b[0;34m.\u001b[0m\u001b[0mvm\u001b[0m\u001b[0;34m(\u001b[0m\u001b[0;34m)\u001b[0m\u001b[0;34m\u001b[0m\u001b[0;34m\u001b[0m\u001b[0m\n\u001b[0m\u001b[1;32m    971\u001b[0m                 \u001b[0;32mif\u001b[0m \u001b[0moutput_subset\u001b[0m \u001b[0;32mis\u001b[0m \u001b[0;32mNone\u001b[0m\u001b[0;34m\u001b[0m\u001b[0;34m\u001b[0m\u001b[0m\n",
            "\u001b[0;32m/usr/local/lib/python3.10/dist-packages/pytensor/graph/op.py\u001b[0m in \u001b[0;36mrval\u001b[0;34m(p, i, o, n, params)\u001b[0m\n\u001b[1;32m    551\u001b[0m             ):\n\u001b[0;32m--> 552\u001b[0;31m                 \u001b[0mr\u001b[0m \u001b[0;34m=\u001b[0m \u001b[0mp\u001b[0m\u001b[0;34m(\u001b[0m\u001b[0mn\u001b[0m\u001b[0;34m,\u001b[0m \u001b[0;34m[\u001b[0m\u001b[0mx\u001b[0m\u001b[0;34m[\u001b[0m\u001b[0;36m0\u001b[0m\u001b[0;34m]\u001b[0m \u001b[0;32mfor\u001b[0m \u001b[0mx\u001b[0m \u001b[0;32min\u001b[0m \u001b[0mi\u001b[0m\u001b[0;34m]\u001b[0m\u001b[0;34m,\u001b[0m \u001b[0mo\u001b[0m\u001b[0;34m)\u001b[0m\u001b[0;34m\u001b[0m\u001b[0;34m\u001b[0m\u001b[0m\n\u001b[0m\u001b[1;32m    553\u001b[0m                 \u001b[0;32mfor\u001b[0m \u001b[0mo\u001b[0m \u001b[0;32min\u001b[0m \u001b[0mnode\u001b[0m\u001b[0;34m.\u001b[0m\u001b[0moutputs\u001b[0m\u001b[0;34m:\u001b[0m\u001b[0;34m\u001b[0m\u001b[0;34m\u001b[0m\u001b[0m\n",
            "\u001b[0;32m<ipython-input-73-36627b59580d>\u001b[0m in \u001b[0;36mperform\u001b[0;34m(self, node, inputs, outputs)\u001b[0m\n\u001b[1;32m     16\u001b[0m       \u001b[0;34m(\u001b[0m\u001b[0mtheta\u001b[0m\u001b[0;34m,\u001b[0m\u001b[0;34m)\u001b[0m \u001b[0;34m=\u001b[0m \u001b[0minputs\u001b[0m  \u001b[0;31m# this will contain my variables\u001b[0m\u001b[0;34m\u001b[0m\u001b[0;34m\u001b[0m\u001b[0m\n\u001b[0;32m---> 17\u001b[0;31m       \u001b[0moutputs\u001b[0m\u001b[0;34m[\u001b[0m\u001b[0;36m0\u001b[0m\u001b[0;34m]\u001b[0m\u001b[0;34m[\u001b[0m\u001b[0;36m0\u001b[0m\u001b[0;34m]\u001b[0m \u001b[0;34m=\u001b[0m \u001b[0mself\u001b[0m\u001b[0;34m.\u001b[0m\u001b[0mlikelihood\u001b[0m\u001b[0;34m(\u001b[0m\u001b[0mtheta\u001b[0m\u001b[0;34m[\u001b[0m\u001b[0;36m0\u001b[0m\u001b[0;34m]\u001b[0m\u001b[0;34m,\u001b[0m \u001b[0mtheta\u001b[0m\u001b[0;34m[\u001b[0m\u001b[0;36m1\u001b[0m\u001b[0;34m]\u001b[0m\u001b[0;34m)\u001b[0m\u001b[0;34m\u001b[0m\u001b[0;34m\u001b[0m\u001b[0m\n\u001b[0m\u001b[1;32m     18\u001b[0m       \u001b[0;31m# a,b = theta\u001b[0m\u001b[0;34m\u001b[0m\u001b[0;34m\u001b[0m\u001b[0m\n",
            "\u001b[0;32m<ipython-input-69-a7b5402dce15>\u001b[0m in \u001b[0;36mll_func\u001b[0;34m(a, b)\u001b[0m\n\u001b[1;32m     18\u001b[0m     \u001b[0;31m# scan function build\u001b[0m\u001b[0;34m\u001b[0m\u001b[0;34m\u001b[0m\u001b[0m\n\u001b[0;32m---> 19\u001b[0;31m     \u001b[0mQs\u001b[0m\u001b[0;34m,\u001b[0m \u001b[0mupdates\u001b[0m \u001b[0;34m=\u001b[0m \u001b[0mpytensor\u001b[0m\u001b[0;34m.\u001b[0m\u001b[0mscan\u001b[0m\u001b[0;34m(\u001b[0m\u001b[0mrl_step\u001b[0m\u001b[0;34m,\u001b[0m \u001b[0msequences\u001b[0m\u001b[0;34m=\u001b[0m\u001b[0;34m[\u001b[0m\u001b[0mC\u001b[0m\u001b[0;34m,\u001b[0m\u001b[0mR\u001b[0m\u001b[0;34m]\u001b[0m\u001b[0;34m,\u001b[0m \u001b[0moutputs_info\u001b[0m\u001b[0;34m=\u001b[0m\u001b[0mQ\u001b[0m\u001b[0;34m)\u001b[0m\u001b[0;34m\u001b[0m\u001b[0;34m\u001b[0m\u001b[0m\n\u001b[0m\u001b[1;32m     20\u001b[0m \u001b[0;34m\u001b[0m\u001b[0m\n",
            "\u001b[0;32m/usr/local/lib/python3.10/dist-packages/pytensor/scan/basic.py\u001b[0m in \u001b[0;36mscan\u001b[0;34m(fn, sequences, outputs_info, non_sequences, n_steps, truncate_gradient, go_backwards, mode, name, profile, allow_gc, strict, return_list)\u001b[0m\n\u001b[1;32m    674\u001b[0m \u001b[0;34m\u001b[0m\u001b[0m\n\u001b[0;32m--> 675\u001b[0;31m     \u001b[0mscan_seqs\u001b[0m \u001b[0;34m=\u001b[0m \u001b[0;34m[\u001b[0m\u001b[0mseq\u001b[0m\u001b[0;34m[\u001b[0m\u001b[0;34m:\u001b[0m\u001b[0mactual_n_steps\u001b[0m\u001b[0;34m]\u001b[0m \u001b[0;32mfor\u001b[0m \u001b[0mseq\u001b[0m \u001b[0;32min\u001b[0m \u001b[0mscan_seqs\u001b[0m\u001b[0;34m]\u001b[0m\u001b[0;34m\u001b[0m\u001b[0;34m\u001b[0m\u001b[0m\n\u001b[0m\u001b[1;32m    676\u001b[0m     \u001b[0;31m# Conventions :\u001b[0m\u001b[0;34m\u001b[0m\u001b[0;34m\u001b[0m\u001b[0m\n",
            "\u001b[0;32m/usr/local/lib/python3.10/dist-packages/pytensor/scan/basic.py\u001b[0m in \u001b[0;36m<listcomp>\u001b[0;34m(.0)\u001b[0m\n\u001b[1;32m    674\u001b[0m \u001b[0;34m\u001b[0m\u001b[0m\n\u001b[0;32m--> 675\u001b[0;31m     \u001b[0mscan_seqs\u001b[0m \u001b[0;34m=\u001b[0m \u001b[0;34m[\u001b[0m\u001b[0mseq\u001b[0m\u001b[0;34m[\u001b[0m\u001b[0;34m:\u001b[0m\u001b[0mactual_n_steps\u001b[0m\u001b[0;34m]\u001b[0m \u001b[0;32mfor\u001b[0m \u001b[0mseq\u001b[0m \u001b[0;32min\u001b[0m \u001b[0mscan_seqs\u001b[0m\u001b[0;34m]\u001b[0m\u001b[0;34m\u001b[0m\u001b[0;34m\u001b[0m\u001b[0m\n\u001b[0m\u001b[1;32m    676\u001b[0m     \u001b[0;31m# Conventions :\u001b[0m\u001b[0;34m\u001b[0m\u001b[0;34m\u001b[0m\u001b[0m\n",
            "\u001b[0;31mTypeError\u001b[0m: slice indices must be integers or None or have an __index__ method",
            "\nDuring handling of the above exception, another exception occurred:\n",
            "\u001b[0;31mTypeError\u001b[0m                                 Traceback (most recent call last)",
            "\u001b[0;32m<ipython-input-76-3d4ea8a72e4a>\u001b[0m in \u001b[0;36m<cell line: 12>\u001b[0;34m()\u001b[0m\n\u001b[1;32m     22\u001b[0m \u001b[0;34m\u001b[0m\u001b[0m\n\u001b[1;32m     23\u001b[0m     \u001b[0;31m# Use custom number of draws to replace the HMC based defaults\u001b[0m\u001b[0;34m\u001b[0m\u001b[0;34m\u001b[0m\u001b[0m\n\u001b[0;32m---> 24\u001b[0;31m     \u001b[0midata_mh\u001b[0m \u001b[0;34m=\u001b[0m \u001b[0mpm\u001b[0m\u001b[0;34m.\u001b[0m\u001b[0msample\u001b[0m\u001b[0;34m(\u001b[0m\u001b[0;36m3000\u001b[0m\u001b[0;34m,\u001b[0m \u001b[0mtune\u001b[0m\u001b[0;34m=\u001b[0m\u001b[0;36m1000\u001b[0m\u001b[0;34m,\u001b[0m \u001b[0mnuts_sampler\u001b[0m\u001b[0;34m=\u001b[0m\u001b[0;34m\"pymc\"\u001b[0m\u001b[0;34m)\u001b[0m\u001b[0;34m\u001b[0m\u001b[0;34m\u001b[0m\u001b[0m\n\u001b[0m\u001b[1;32m     25\u001b[0m \u001b[0;34m\u001b[0m\u001b[0m\n\u001b[1;32m     26\u001b[0m \u001b[0;31m# plot the traces\u001b[0m\u001b[0;34m\u001b[0m\u001b[0;34m\u001b[0m\u001b[0m\n",
            "\u001b[0;32m/usr/local/lib/python3.10/dist-packages/pymc/sampling/mcmc.py\u001b[0m in \u001b[0;36msample\u001b[0;34m(draws, tune, chains, cores, random_seed, progressbar, step, nuts_sampler, initvals, init, jitter_max_retries, n_init, trace, discard_tuned_samples, compute_convergence_checks, keep_warning_stat, return_inferencedata, idata_kwargs, nuts_sampler_kwargs, callback, mp_ctx, model, **kwargs)\u001b[0m\n\u001b[1;32m    706\u001b[0m     \u001b[0mip\u001b[0m\u001b[0;34m:\u001b[0m \u001b[0mDict\u001b[0m\u001b[0;34m[\u001b[0m\u001b[0mstr\u001b[0m\u001b[0;34m,\u001b[0m \u001b[0mnp\u001b[0m\u001b[0;34m.\u001b[0m\u001b[0mndarray\u001b[0m\u001b[0;34m]\u001b[0m\u001b[0;34m\u001b[0m\u001b[0;34m\u001b[0m\u001b[0m\n\u001b[1;32m    707\u001b[0m     \u001b[0;32mfor\u001b[0m \u001b[0mip\u001b[0m \u001b[0;32min\u001b[0m \u001b[0minitial_points\u001b[0m\u001b[0;34m:\u001b[0m\u001b[0;34m\u001b[0m\u001b[0;34m\u001b[0m\u001b[0m\n\u001b[0;32m--> 708\u001b[0;31m         \u001b[0mmodel\u001b[0m\u001b[0;34m.\u001b[0m\u001b[0mcheck_start_vals\u001b[0m\u001b[0;34m(\u001b[0m\u001b[0mip\u001b[0m\u001b[0;34m)\u001b[0m\u001b[0;34m\u001b[0m\u001b[0;34m\u001b[0m\u001b[0m\n\u001b[0m\u001b[1;32m    709\u001b[0m         \u001b[0m_check_start_shape\u001b[0m\u001b[0;34m(\u001b[0m\u001b[0mmodel\u001b[0m\u001b[0;34m,\u001b[0m \u001b[0mip\u001b[0m\u001b[0;34m)\u001b[0m\u001b[0;34m\u001b[0m\u001b[0;34m\u001b[0m\u001b[0m\n\u001b[1;32m    710\u001b[0m \u001b[0;34m\u001b[0m\u001b[0m\n",
            "\u001b[0;32m/usr/local/lib/python3.10/dist-packages/pymc/model.py\u001b[0m in \u001b[0;36mcheck_start_vals\u001b[0;34m(self, start)\u001b[0m\n\u001b[1;32m   1695\u001b[0m                 )\n\u001b[1;32m   1696\u001b[0m \u001b[0;34m\u001b[0m\u001b[0m\n\u001b[0;32m-> 1697\u001b[0;31m             \u001b[0minitial_eval\u001b[0m \u001b[0;34m=\u001b[0m \u001b[0mself\u001b[0m\u001b[0;34m.\u001b[0m\u001b[0mpoint_logps\u001b[0m\u001b[0;34m(\u001b[0m\u001b[0mpoint\u001b[0m\u001b[0;34m=\u001b[0m\u001b[0melem\u001b[0m\u001b[0;34m)\u001b[0m\u001b[0;34m\u001b[0m\u001b[0;34m\u001b[0m\u001b[0m\n\u001b[0m\u001b[1;32m   1698\u001b[0m \u001b[0;34m\u001b[0m\u001b[0m\n\u001b[1;32m   1699\u001b[0m             \u001b[0;32mif\u001b[0m \u001b[0;32mnot\u001b[0m \u001b[0mall\u001b[0m\u001b[0;34m(\u001b[0m\u001b[0mnp\u001b[0m\u001b[0;34m.\u001b[0m\u001b[0misfinite\u001b[0m\u001b[0;34m(\u001b[0m\u001b[0mv\u001b[0m\u001b[0;34m)\u001b[0m \u001b[0;32mfor\u001b[0m \u001b[0mv\u001b[0m \u001b[0;32min\u001b[0m \u001b[0minitial_eval\u001b[0m\u001b[0;34m.\u001b[0m\u001b[0mvalues\u001b[0m\u001b[0;34m(\u001b[0m\u001b[0;34m)\u001b[0m\u001b[0;34m)\u001b[0m\u001b[0;34m:\u001b[0m\u001b[0;34m\u001b[0m\u001b[0;34m\u001b[0m\u001b[0m\n",
            "\u001b[0;32m/usr/local/lib/python3.10/dist-packages/pymc/model.py\u001b[0m in \u001b[0;36mpoint_logps\u001b[0;34m(self, point, round_vals)\u001b[0m\n\u001b[1;32m   1730\u001b[0m             for factor, factor_logp in zip(\n\u001b[1;32m   1731\u001b[0m                 \u001b[0mfactors\u001b[0m\u001b[0;34m,\u001b[0m\u001b[0;34m\u001b[0m\u001b[0;34m\u001b[0m\u001b[0m\n\u001b[0;32m-> 1732\u001b[0;31m                 \u001b[0mself\u001b[0m\u001b[0;34m.\u001b[0m\u001b[0mcompile_fn\u001b[0m\u001b[0;34m(\u001b[0m\u001b[0mfactor_logps_fn\u001b[0m\u001b[0;34m)\u001b[0m\u001b[0;34m(\u001b[0m\u001b[0mpoint\u001b[0m\u001b[0;34m)\u001b[0m\u001b[0;34m,\u001b[0m\u001b[0;34m\u001b[0m\u001b[0;34m\u001b[0m\u001b[0m\n\u001b[0m\u001b[1;32m   1733\u001b[0m             )\n\u001b[1;32m   1734\u001b[0m         }\n",
            "\u001b[0;32m/usr/local/lib/python3.10/dist-packages/pymc/pytensorf.py\u001b[0m in \u001b[0;36m__call__\u001b[0;34m(self, state)\u001b[0m\n\u001b[1;32m    760\u001b[0m \u001b[0;34m\u001b[0m\u001b[0m\n\u001b[1;32m    761\u001b[0m     \u001b[0;32mdef\u001b[0m \u001b[0m__call__\u001b[0m\u001b[0;34m(\u001b[0m\u001b[0mself\u001b[0m\u001b[0;34m,\u001b[0m \u001b[0mstate\u001b[0m\u001b[0;34m)\u001b[0m\u001b[0;34m:\u001b[0m\u001b[0;34m\u001b[0m\u001b[0;34m\u001b[0m\u001b[0m\n\u001b[0;32m--> 762\u001b[0;31m         \u001b[0;32mreturn\u001b[0m \u001b[0mself\u001b[0m\u001b[0;34m.\u001b[0m\u001b[0mf\u001b[0m\u001b[0;34m(\u001b[0m\u001b[0;34m**\u001b[0m\u001b[0mstate\u001b[0m\u001b[0;34m)\u001b[0m\u001b[0;34m\u001b[0m\u001b[0;34m\u001b[0m\u001b[0m\n\u001b[0m\u001b[1;32m    763\u001b[0m \u001b[0;34m\u001b[0m\u001b[0m\n\u001b[1;32m    764\u001b[0m \u001b[0;34m\u001b[0m\u001b[0m\n",
            "\u001b[0;32m/usr/local/lib/python3.10/dist-packages/pytensor/compile/function/types.py\u001b[0m in \u001b[0;36m__call__\u001b[0;34m(self, *args, **kwargs)\u001b[0m\n\u001b[1;32m    981\u001b[0m                 \u001b[0;32mif\u001b[0m \u001b[0mhasattr\u001b[0m\u001b[0;34m(\u001b[0m\u001b[0mself\u001b[0m\u001b[0;34m.\u001b[0m\u001b[0mvm\u001b[0m\u001b[0;34m,\u001b[0m \u001b[0;34m\"thunks\"\u001b[0m\u001b[0;34m)\u001b[0m\u001b[0;34m:\u001b[0m\u001b[0;34m\u001b[0m\u001b[0;34m\u001b[0m\u001b[0m\n\u001b[1;32m    982\u001b[0m                     \u001b[0mthunk\u001b[0m \u001b[0;34m=\u001b[0m \u001b[0mself\u001b[0m\u001b[0;34m.\u001b[0m\u001b[0mvm\u001b[0m\u001b[0;34m.\u001b[0m\u001b[0mthunks\u001b[0m\u001b[0;34m[\u001b[0m\u001b[0mself\u001b[0m\u001b[0;34m.\u001b[0m\u001b[0mvm\u001b[0m\u001b[0;34m.\u001b[0m\u001b[0mposition_of_error\u001b[0m\u001b[0;34m]\u001b[0m\u001b[0;34m\u001b[0m\u001b[0;34m\u001b[0m\u001b[0m\n\u001b[0;32m--> 983\u001b[0;31m                 raise_with_op(\n\u001b[0m\u001b[1;32m    984\u001b[0m                     \u001b[0mself\u001b[0m\u001b[0;34m.\u001b[0m\u001b[0mmaker\u001b[0m\u001b[0;34m.\u001b[0m\u001b[0mfgraph\u001b[0m\u001b[0;34m,\u001b[0m\u001b[0;34m\u001b[0m\u001b[0;34m\u001b[0m\u001b[0m\n\u001b[1;32m    985\u001b[0m                     \u001b[0mnode\u001b[0m\u001b[0;34m=\u001b[0m\u001b[0mself\u001b[0m\u001b[0;34m.\u001b[0m\u001b[0mvm\u001b[0m\u001b[0;34m.\u001b[0m\u001b[0mnodes\u001b[0m\u001b[0;34m[\u001b[0m\u001b[0mself\u001b[0m\u001b[0;34m.\u001b[0m\u001b[0mvm\u001b[0m\u001b[0;34m.\u001b[0m\u001b[0mposition_of_error\u001b[0m\u001b[0;34m]\u001b[0m\u001b[0;34m,\u001b[0m\u001b[0;34m\u001b[0m\u001b[0;34m\u001b[0m\u001b[0m\n",
            "\u001b[0;32m/usr/local/lib/python3.10/dist-packages/pytensor/link/utils.py\u001b[0m in \u001b[0;36mraise_with_op\u001b[0;34m(fgraph, node, thunk, exc_info, storage_map)\u001b[0m\n\u001b[1;32m    533\u001b[0m         \u001b[0;31m# Some exception need extra parameter in inputs. So forget the\u001b[0m\u001b[0;34m\u001b[0m\u001b[0;34m\u001b[0m\u001b[0m\n\u001b[1;32m    534\u001b[0m         \u001b[0;31m# extra long error message in that case.\u001b[0m\u001b[0;34m\u001b[0m\u001b[0;34m\u001b[0m\u001b[0m\n\u001b[0;32m--> 535\u001b[0;31m     \u001b[0;32mraise\u001b[0m \u001b[0mexc_value\u001b[0m\u001b[0;34m.\u001b[0m\u001b[0mwith_traceback\u001b[0m\u001b[0;34m(\u001b[0m\u001b[0mexc_trace\u001b[0m\u001b[0;34m)\u001b[0m\u001b[0;34m\u001b[0m\u001b[0;34m\u001b[0m\u001b[0m\n\u001b[0m\u001b[1;32m    536\u001b[0m \u001b[0;34m\u001b[0m\u001b[0m\n\u001b[1;32m    537\u001b[0m \u001b[0;34m\u001b[0m\u001b[0m\n",
            "\u001b[0;32m/usr/local/lib/python3.10/dist-packages/pytensor/compile/function/types.py\u001b[0m in \u001b[0;36m__call__\u001b[0;34m(self, *args, **kwargs)\u001b[0m\n\u001b[1;32m    968\u001b[0m         \u001b[0;32mtry\u001b[0m\u001b[0;34m:\u001b[0m\u001b[0;34m\u001b[0m\u001b[0;34m\u001b[0m\u001b[0m\n\u001b[1;32m    969\u001b[0m             outputs = (\n\u001b[0;32m--> 970\u001b[0;31m                 \u001b[0mself\u001b[0m\u001b[0;34m.\u001b[0m\u001b[0mvm\u001b[0m\u001b[0;34m(\u001b[0m\u001b[0;34m)\u001b[0m\u001b[0;34m\u001b[0m\u001b[0;34m\u001b[0m\u001b[0m\n\u001b[0m\u001b[1;32m    971\u001b[0m                 \u001b[0;32mif\u001b[0m \u001b[0moutput_subset\u001b[0m \u001b[0;32mis\u001b[0m \u001b[0;32mNone\u001b[0m\u001b[0;34m\u001b[0m\u001b[0;34m\u001b[0m\u001b[0m\n\u001b[1;32m    972\u001b[0m                 \u001b[0;32melse\u001b[0m \u001b[0mself\u001b[0m\u001b[0;34m.\u001b[0m\u001b[0mvm\u001b[0m\u001b[0;34m(\u001b[0m\u001b[0moutput_subset\u001b[0m\u001b[0;34m=\u001b[0m\u001b[0moutput_subset\u001b[0m\u001b[0;34m)\u001b[0m\u001b[0;34m\u001b[0m\u001b[0;34m\u001b[0m\u001b[0m\n",
            "\u001b[0;32m/usr/local/lib/python3.10/dist-packages/pytensor/graph/op.py\u001b[0m in \u001b[0;36mrval\u001b[0;34m(p, i, o, n, params)\u001b[0m\n\u001b[1;32m    550\u001b[0m                 \u001b[0mp\u001b[0m\u001b[0;34m=\u001b[0m\u001b[0mp\u001b[0m\u001b[0;34m,\u001b[0m \u001b[0mi\u001b[0m\u001b[0;34m=\u001b[0m\u001b[0mnode_input_storage\u001b[0m\u001b[0;34m,\u001b[0m \u001b[0mo\u001b[0m\u001b[0;34m=\u001b[0m\u001b[0mnode_output_storage\u001b[0m\u001b[0;34m,\u001b[0m \u001b[0mn\u001b[0m\u001b[0;34m=\u001b[0m\u001b[0mnode\u001b[0m\u001b[0;34m,\u001b[0m \u001b[0mparams\u001b[0m\u001b[0;34m=\u001b[0m\u001b[0;32mNone\u001b[0m\u001b[0;34m\u001b[0m\u001b[0;34m\u001b[0m\u001b[0m\n\u001b[1;32m    551\u001b[0m             ):\n\u001b[0;32m--> 552\u001b[0;31m                 \u001b[0mr\u001b[0m \u001b[0;34m=\u001b[0m \u001b[0mp\u001b[0m\u001b[0;34m(\u001b[0m\u001b[0mn\u001b[0m\u001b[0;34m,\u001b[0m \u001b[0;34m[\u001b[0m\u001b[0mx\u001b[0m\u001b[0;34m[\u001b[0m\u001b[0;36m0\u001b[0m\u001b[0;34m]\u001b[0m \u001b[0;32mfor\u001b[0m \u001b[0mx\u001b[0m \u001b[0;32min\u001b[0m \u001b[0mi\u001b[0m\u001b[0;34m]\u001b[0m\u001b[0;34m,\u001b[0m \u001b[0mo\u001b[0m\u001b[0;34m)\u001b[0m\u001b[0;34m\u001b[0m\u001b[0;34m\u001b[0m\u001b[0m\n\u001b[0m\u001b[1;32m    553\u001b[0m                 \u001b[0;32mfor\u001b[0m \u001b[0mo\u001b[0m \u001b[0;32min\u001b[0m \u001b[0mnode\u001b[0m\u001b[0;34m.\u001b[0m\u001b[0moutputs\u001b[0m\u001b[0;34m:\u001b[0m\u001b[0;34m\u001b[0m\u001b[0;34m\u001b[0m\u001b[0m\n\u001b[1;32m    554\u001b[0m                     \u001b[0mcompute_map\u001b[0m\u001b[0;34m[\u001b[0m\u001b[0mo\u001b[0m\u001b[0;34m]\u001b[0m\u001b[0;34m[\u001b[0m\u001b[0;36m0\u001b[0m\u001b[0;34m]\u001b[0m \u001b[0;34m=\u001b[0m \u001b[0;32mTrue\u001b[0m\u001b[0;34m\u001b[0m\u001b[0;34m\u001b[0m\u001b[0m\n",
            "\u001b[0;32m<ipython-input-73-36627b59580d>\u001b[0m in \u001b[0;36mperform\u001b[0;34m(self, node, inputs, outputs)\u001b[0m\n\u001b[1;32m     15\u001b[0m     \u001b[0;32mdef\u001b[0m \u001b[0mperform\u001b[0m\u001b[0;34m(\u001b[0m\u001b[0mself\u001b[0m\u001b[0;34m,\u001b[0m \u001b[0mnode\u001b[0m\u001b[0;34m,\u001b[0m \u001b[0minputs\u001b[0m\u001b[0;34m,\u001b[0m \u001b[0moutputs\u001b[0m\u001b[0;34m)\u001b[0m\u001b[0;34m:\u001b[0m\u001b[0;34m\u001b[0m\u001b[0;34m\u001b[0m\u001b[0m\n\u001b[1;32m     16\u001b[0m       \u001b[0;34m(\u001b[0m\u001b[0mtheta\u001b[0m\u001b[0;34m,\u001b[0m\u001b[0;34m)\u001b[0m \u001b[0;34m=\u001b[0m \u001b[0minputs\u001b[0m  \u001b[0;31m# this will contain my variables\u001b[0m\u001b[0;34m\u001b[0m\u001b[0;34m\u001b[0m\u001b[0m\n\u001b[0;32m---> 17\u001b[0;31m       \u001b[0moutputs\u001b[0m\u001b[0;34m[\u001b[0m\u001b[0;36m0\u001b[0m\u001b[0;34m]\u001b[0m\u001b[0;34m[\u001b[0m\u001b[0;36m0\u001b[0m\u001b[0;34m]\u001b[0m \u001b[0;34m=\u001b[0m \u001b[0mself\u001b[0m\u001b[0;34m.\u001b[0m\u001b[0mlikelihood\u001b[0m\u001b[0;34m(\u001b[0m\u001b[0mtheta\u001b[0m\u001b[0;34m[\u001b[0m\u001b[0;36m0\u001b[0m\u001b[0;34m]\u001b[0m\u001b[0;34m,\u001b[0m \u001b[0mtheta\u001b[0m\u001b[0;34m[\u001b[0m\u001b[0;36m1\u001b[0m\u001b[0;34m]\u001b[0m\u001b[0;34m)\u001b[0m\u001b[0;34m\u001b[0m\u001b[0;34m\u001b[0m\u001b[0m\n\u001b[0m\u001b[1;32m     18\u001b[0m       \u001b[0;31m# a,b = theta\u001b[0m\u001b[0;34m\u001b[0m\u001b[0;34m\u001b[0m\u001b[0m\n\u001b[1;32m     19\u001b[0m       \u001b[0;31m# outputs[0][0] = self.likelihood(self.C, self.R, self.Qs, self.ll, a, b)\u001b[0m\u001b[0;34m\u001b[0m\u001b[0;34m\u001b[0m\u001b[0m\n",
            "\u001b[0;32m<ipython-input-69-a7b5402dce15>\u001b[0m in \u001b[0;36mll_func\u001b[0;34m(a, b)\u001b[0m\n\u001b[1;32m     17\u001b[0m \u001b[0;34m\u001b[0m\u001b[0m\n\u001b[1;32m     18\u001b[0m     \u001b[0;31m# scan function build\u001b[0m\u001b[0;34m\u001b[0m\u001b[0;34m\u001b[0m\u001b[0m\n\u001b[0;32m---> 19\u001b[0;31m     \u001b[0mQs\u001b[0m\u001b[0;34m,\u001b[0m \u001b[0mupdates\u001b[0m \u001b[0;34m=\u001b[0m \u001b[0mpytensor\u001b[0m\u001b[0;34m.\u001b[0m\u001b[0mscan\u001b[0m\u001b[0;34m(\u001b[0m\u001b[0mrl_step\u001b[0m\u001b[0;34m,\u001b[0m \u001b[0msequences\u001b[0m\u001b[0;34m=\u001b[0m\u001b[0;34m[\u001b[0m\u001b[0mC\u001b[0m\u001b[0;34m,\u001b[0m\u001b[0mR\u001b[0m\u001b[0;34m]\u001b[0m\u001b[0;34m,\u001b[0m \u001b[0moutputs_info\u001b[0m\u001b[0;34m=\u001b[0m\u001b[0mQ\u001b[0m\u001b[0;34m)\u001b[0m\u001b[0;34m\u001b[0m\u001b[0;34m\u001b[0m\u001b[0m\n\u001b[0m\u001b[1;32m     20\u001b[0m \u001b[0;34m\u001b[0m\u001b[0m\n\u001b[1;32m     21\u001b[0m     \u001b[0;31m# function to calculate loglikehood for each trial\u001b[0m\u001b[0;34m\u001b[0m\u001b[0;34m\u001b[0m\u001b[0m\n",
            "\u001b[0;32m/usr/local/lib/python3.10/dist-packages/pytensor/scan/basic.py\u001b[0m in \u001b[0;36mscan\u001b[0;34m(fn, sequences, outputs_info, non_sequences, n_steps, truncate_gradient, go_backwards, mode, name, profile, allow_gc, strict, return_list)\u001b[0m\n\u001b[1;32m    673\u001b[0m         \u001b[0mactual_n_steps\u001b[0m \u001b[0;34m=\u001b[0m \u001b[0mat\u001b[0m\u001b[0;34m.\u001b[0m\u001b[0mas_tensor\u001b[0m\u001b[0;34m(\u001b[0m\u001b[0mn_steps\u001b[0m\u001b[0;34m)\u001b[0m\u001b[0;34m\u001b[0m\u001b[0;34m\u001b[0m\u001b[0m\n\u001b[1;32m    674\u001b[0m \u001b[0;34m\u001b[0m\u001b[0m\n\u001b[0;32m--> 675\u001b[0;31m     \u001b[0mscan_seqs\u001b[0m \u001b[0;34m=\u001b[0m \u001b[0;34m[\u001b[0m\u001b[0mseq\u001b[0m\u001b[0;34m[\u001b[0m\u001b[0;34m:\u001b[0m\u001b[0mactual_n_steps\u001b[0m\u001b[0;34m]\u001b[0m \u001b[0;32mfor\u001b[0m \u001b[0mseq\u001b[0m \u001b[0;32min\u001b[0m \u001b[0mscan_seqs\u001b[0m\u001b[0;34m]\u001b[0m\u001b[0;34m\u001b[0m\u001b[0;34m\u001b[0m\u001b[0m\n\u001b[0m\u001b[1;32m    676\u001b[0m     \u001b[0;31m# Conventions :\u001b[0m\u001b[0;34m\u001b[0m\u001b[0;34m\u001b[0m\u001b[0m\n\u001b[1;32m    677\u001b[0m     \u001b[0;31m#   mit_mot = multiple input taps, multiple output taps ( only provided\u001b[0m\u001b[0;34m\u001b[0m\u001b[0;34m\u001b[0m\u001b[0m\n",
            "\u001b[0;32m/usr/local/lib/python3.10/dist-packages/pytensor/scan/basic.py\u001b[0m in \u001b[0;36m<listcomp>\u001b[0;34m(.0)\u001b[0m\n\u001b[1;32m    673\u001b[0m         \u001b[0mactual_n_steps\u001b[0m \u001b[0;34m=\u001b[0m \u001b[0mat\u001b[0m\u001b[0;34m.\u001b[0m\u001b[0mas_tensor\u001b[0m\u001b[0;34m(\u001b[0m\u001b[0mn_steps\u001b[0m\u001b[0;34m)\u001b[0m\u001b[0;34m\u001b[0m\u001b[0;34m\u001b[0m\u001b[0m\n\u001b[1;32m    674\u001b[0m \u001b[0;34m\u001b[0m\u001b[0m\n\u001b[0;32m--> 675\u001b[0;31m     \u001b[0mscan_seqs\u001b[0m \u001b[0;34m=\u001b[0m \u001b[0;34m[\u001b[0m\u001b[0mseq\u001b[0m\u001b[0;34m[\u001b[0m\u001b[0;34m:\u001b[0m\u001b[0mactual_n_steps\u001b[0m\u001b[0;34m]\u001b[0m \u001b[0;32mfor\u001b[0m \u001b[0mseq\u001b[0m \u001b[0;32min\u001b[0m \u001b[0mscan_seqs\u001b[0m\u001b[0;34m]\u001b[0m\u001b[0;34m\u001b[0m\u001b[0;34m\u001b[0m\u001b[0m\n\u001b[0m\u001b[1;32m    676\u001b[0m     \u001b[0;31m# Conventions :\u001b[0m\u001b[0;34m\u001b[0m\u001b[0;34m\u001b[0m\u001b[0m\n\u001b[1;32m    677\u001b[0m     \u001b[0;31m#   mit_mot = multiple input taps, multiple output taps ( only provided\u001b[0m\u001b[0;34m\u001b[0m\u001b[0;34m\u001b[0m\u001b[0m\n",
            "\u001b[0;31mTypeError\u001b[0m: slice indices must be integers or None or have an __index__ method\nApply node that caused the error: LogLike(MakeVector{dtype='float64'}.0)\nToposort index: 3\nInputs types: [TensorType(float64, shape=(2,))]\nInputs shapes: [(2,)]\nInputs strides: [(8,)]\nInputs values: [array([0.5, 0.5])]\nOutputs clients: [['output']]\n\nBacktrace when the node is created (use PyTensor flag traceback__limit=N to make it longer):\n  File \"/usr/local/lib/python3.10/dist-packages/ipykernel/zmqshell.py\", line 539, in run_cell\n    return super(ZMQInteractiveShell, self).run_cell(*args, **kwargs)\n  File \"/usr/local/lib/python3.10/dist-packages/IPython/core/interactiveshell.py\", line 2975, in run_cell\n    result = self._run_cell(\n  File \"/usr/local/lib/python3.10/dist-packages/IPython/core/interactiveshell.py\", line 3030, in _run_cell\n    return runner(coro)\n  File \"/usr/local/lib/python3.10/dist-packages/IPython/core/async_helpers.py\", line 78, in _pseudo_sync_runner\n    coro.send(None)\n  File \"/usr/local/lib/python3.10/dist-packages/IPython/core/interactiveshell.py\", line 3257, in run_cell_async\n    has_raised = await self.run_ast_nodes(code_ast.body, cell_name,\n  File \"/usr/local/lib/python3.10/dist-packages/IPython/core/interactiveshell.py\", line 3473, in run_ast_nodes\n    if (await self.run_code(code, result,  async_=asy)):\n  File \"/usr/local/lib/python3.10/dist-packages/IPython/core/interactiveshell.py\", line 3553, in run_code\n    exec(code_obj, self.user_global_ns, self.user_ns)\n  File \"<ipython-input-76-3d4ea8a72e4a>\", line 21, in <cell line: 12>\n    pm.Potential(\"likelihood\", logl(theta))\n\nHINT: Use the PyTensor flag `exception_verbosity=high` for a debug print-out and storage map footprint of this Apply node."
          ]
        }
      ],
      "source": [
        "# set up our data\n",
        "ll_true = 0\n",
        "Qs_true = pt.ones((2,)) * 0.5\n",
        "C_true, R_true, a_true, b_true\n",
        "\n",
        "ll_func = make_ll_func(C_true,R_true,Qs_true,ll_true)\n",
        "\n",
        "# create our Op\n",
        "logl = LogLike(ll_func, C_true, R_true)\n",
        "\n",
        "# use PyMC to sampler from log-likelihood\n",
        "with pm.Model():\n",
        "    # Priors\n",
        "    a = pm.Beta(name=\"a\",alpha=10,beta=10)\n",
        "    b = pm.Beta(name=\"b\",alpha=10,beta=10)\n",
        "\n",
        "    # convert m and c to a tensor vector\n",
        "    theta = pt.as_tensor_variable([a, b])\n",
        "\n",
        "    # use a Potential to \"call\" the Op and include it in the logp computation\n",
        "    pm.Potential(\"likelihood\", logl(theta))\n",
        "\n",
        "    # Use custom number of draws to replace the HMC based defaults\n",
        "    idata_mh = pm.sample(3000, tune=1000, nuts_sampler=\"pymc\")\n",
        "\n",
        "# plot the traces\n",
        "az.plot_trace(idata_mh, lines=[(\"m\", {}, a_true), (\"c\", {}, b_true)]);"
      ]
    },
    {
      "cell_type": "code",
      "execution_count": null,
      "metadata": {
        "id": "A1dueLcb6Rfc"
      },
      "outputs": [],
      "source": [
        "az.plot_pair(idata_mh, kind=\"kde\")"
      ]
    },
    {
      "cell_type": "markdown",
      "metadata": {
        "id": "Xzdk3nR2sI1d"
      },
      "source": [
        "##8. Model Calibration"
      ]
    },
    {
      "cell_type": "code",
      "execution_count": null,
      "metadata": {
        "id": "mwVda_XlLJ_Y"
      },
      "outputs": [],
      "source": [
        "def fit_pymc(R,C,priors):\n",
        "  # create our Op\n",
        "  logl = LogLike(loglike_func, R, C)\n",
        "  # use PyMC to sampler from log-likelihood\n",
        "  with pm.Model():\n",
        "      # uniform priors on m and c\n",
        "      prior_dists, prior_args = priors\n",
        "      a = prior_dists[0](*prior_args[0])\n",
        "      b = prior_dists[1](*prior_args[1])\n",
        "      # convert m and c to a tensor vector\n",
        "      theta = pt.as_tensor_variable([a, b])\n",
        "      # use a Potential to \"call\" the Op and include it in the logp computation\n",
        "      pm.Potential(\"likelihood\", logl(theta))\n",
        "      # Use custom number of draws to replace the HMC based defaults\n",
        "      idata_mh = pm.sample(3000, tune=1000, nuts_sampler=\"numpyro\")\n",
        "  return idata_mh"
      ]
    },
    {
      "cell_type": "code",
      "execution_count": null,
      "metadata": {
        "id": "UuHQJztfsIST"
      },
      "outputs": [],
      "source": [
        "# Calibration Parameters\n",
        "nrep = 10\n",
        "trials = 500\n",
        "a_range = (0.01,0.99)\n",
        "b_range = (0.01,0.99)\n",
        "mean_rewards = [-0.3,0.7]\n",
        "dists = [Distribution(np.random.normal,{\"loc\":mn, \"scale\":1.0}) for mn in mean_rewards]\n",
        "prior_dist = (pm.Uniform, pm.Uniform)\n",
        "prior_args = ([\"a\", 1e-4, 1e-0],\n",
        "              [\"b\", 1e-4, 1e+0])  # alpha=1, beta=1; alpha=10 beta=10\n",
        "priors = (prior_dist, prior_args)\n",
        "# Calibrator Functions\n",
        "def sample(n_trials,dists,a,b):\n",
        "  return SimpleRL(n_trials=n_trials,distributions=dists).simulate(alpha=a,temperature=b)"
      ]
    },
    {
      "cell_type": "code",
      "execution_count": null,
      "metadata": {
        "id": "Qblt6tCHsw4y"
      },
      "outputs": [],
      "source": [
        "# quantiles = np.zeros((nrep,2))\n",
        "# for rep_i in tqdm(range(nrep)):\n",
        "#   a_true = np.random.uniform(*a_range)\n",
        "#   b_true = np.random.uniform(*b_range)\n",
        "#   y_R, y_C = sample(trials,dists,a_true,b_true)\n",
        "#   data = fit_pymc(y_R, y_C, priors)\n",
        "#   quantiles[rep_i,0] = np.mean(data.posterior.a > a_true)\n",
        "#   quantiles[rep_i,1] = np.mean(data.posterior.b > b_true)\n",
        "#   az.plot_trace(data, lines=[(\"m\", {}, a_true), (\"c\", {}, b_true)])"
      ]
    },
    {
      "cell_type": "code",
      "execution_count": null,
      "metadata": {
        "id": "6z2Hfjf9UcjG"
      },
      "outputs": [],
      "source": [
        "# plt.hist(quantiles[:,0])\n",
        "# plt.show()\n",
        "# plt.hist(quantiles[:,1])\n",
        "# plt.show()\n",
        "# quantiles"
      ]
    },
    {
      "cell_type": "markdown",
      "metadata": {
        "id": "XEm0uuB6YI7T"
      },
      "source": [
        "##9. Hierarchical Bayes for Reinforcment Learning"
      ]
    },
    {
      "cell_type": "markdown",
      "metadata": {
        "id": "7gMSwjIdkx5A"
      },
      "source": [
        "Create Multi-participant RL data"
      ]
    },
    {
      "cell_type": "code",
      "execution_count": null,
      "metadata": {
        "id": "Kq4GiW-CgamR"
      },
      "outputs": [],
      "source": [
        "class MultiRL:\n",
        "\n",
        "  def __init__(self, n_trials: int, n_participants: int, distributions: List[Distribution]):\n",
        "    self.participants: List[SimpleRL] = [\n",
        "        SimpleRL(n_trials, distributions) for _ in range(n_participants)\n",
        "    ]\n",
        "    self.alphas = list()\n",
        "    self.temperatures = list()\n",
        "\n",
        "  def simulate(self, alpha_a, alpha_b, temperature_a, temperature_b):\n",
        "    group_data = []\n",
        "    for idx, participant_model in enumerate(self.participants):\n",
        "      # sample participant parameters\n",
        "      alpha = np.random.beta(alpha_a, alpha_b)\n",
        "      temperature = np.random.beta(temperature_a, temperature_b)\n",
        "      self.alphas.append(alpha)\n",
        "      self.temperatures.append(temperature)\n",
        "      participant_rewards, participants_choices = np.vstack(participant_model.simulate(alpha, temperature))\n",
        "      assert sum(np.isnan(participant_rewards)) == 0, participant_rewards\n",
        "      trial_col = np.arange(participant_model.n_trials).reshape((-1,1))\n",
        "      idx_col = np.ones_like(trial_col) * idx\n",
        "      group_data.append(np.concatenate([idx_col,participant_rewards.reshape((-1,1)),participants_choices.reshape((-1,1)),trial_col],axis=1))\n",
        "    return np.concatenate(group_data)\n"
      ]
    },
    {
      "cell_type": "code",
      "execution_count": null,
      "metadata": {
        "id": "biLtXQS_f8WH"
      },
      "outputs": [],
      "source": [
        "multi_rl_model = MultiRL(n_trials=50,n_participants=5,distributions=dists)\n",
        "data = multi_rl_model.simulate(alpha_a=2.0,alpha_b=5.0,temperature_a=2.0,temperature_b=2.0)\n",
        "data.shape"
      ]
    },
    {
      "cell_type": "markdown",
      "metadata": {
        "id": "8cdTQK1Km3Z1"
      },
      "source": [
        "Create Hierarchical Model - update for RL"
      ]
    },
    {
      "cell_type": "code",
      "source": [
        "# define a pytensor Op for our likelihood function\n",
        "class MultiLogLike(pt.Op):\n",
        "\n",
        "    itypes = [pt.dmatrix]  # expects a matrix of parameter values when called\n",
        "    otypes = [pt.dscalar]  # outputs a single scalar value (the log likelihood)\n",
        "\n",
        "    def __init__(self, loglike, r, c, ids):\n",
        "        # add inputs as class attributes\n",
        "        self.likelihood = loglike\n",
        "        self.R = r\n",
        "        self.C = c\n",
        "        self.ids = ids\n",
        "\n",
        "    def perform(self, node, inputs, outputs):\n",
        "      (theta,) = inputs  # this will contain my variables\n",
        "      total = 0\n",
        "      # total = np.zeros((len(self.ids.unique())))\n",
        "      for i, id in enumerate(self.ids.unique()):\n",
        "        id_index = self.ids.loc[self.ids == id]\n",
        "        r = self.R.loc[id_index]\n",
        "        c = self.C.loc[id_index]\n",
        "        a = theta[0][i]\n",
        "        b = theta[1][i]\n",
        "        total += self.likelihood((a,b), r, c)\n",
        "      outputs[0][0] = np.array(total)"
      ],
      "metadata": {
        "id": "Wc8awm4Xb042"
      },
      "execution_count": null,
      "outputs": []
    },
    {
      "cell_type": "code",
      "execution_count": null,
      "metadata": {
        "id": "ZNUH453rkPPs"
      },
      "outputs": [],
      "source": [
        "df = pd.DataFrame(data=data,columns=['Participant_ID','Rewards','Choices','Trial_Num'])\n",
        "participant_ids, participants = pd.factorize(df['Participant_ID'])\n",
        "coords = {\n",
        "    \"Participant\": participants,\n",
        "    \"obs_id\": np.arange(len(participant_ids)),\n",
        "}\n",
        "mlogl = MultiLogLike(loglike_func, df['Rewards'], df['Choices'],df['Participant_ID'])"
      ]
    },
    {
      "cell_type": "code",
      "execution_count": null,
      "metadata": {
        "id": "tf7tvIbmQL1J"
      },
      "outputs": [],
      "source": [
        "with pm.Model(coords=coords) as hierarchical_model:\n",
        "\n",
        "    # Hyperpriors for group nodes\n",
        "    alpha_a = pm.HalfNormal(name=\"alpha_a\", sigma=1.0)\n",
        "    beta_a = pm.HalfNormal(name=\"beta_a\", sigma=1.0)\n",
        "    alpha_b = pm.HalfNormal(name=\"alpha_b\", sigma=1.0)\n",
        "    beta_b = pm.HalfNormal(name=\"beta_b\", sigma=1.0)\n",
        "\n",
        "    # Intercept for each participant, distributed around group mean mu_a\n",
        "    # Above we just set mu and sd to a fixed value while here we\n",
        "    # plug in a common group distribution for all a and b (which are\n",
        "    # vectors of length n_participants).\n",
        "    a = pm.Beta(name=\"a\",alpha=alpha_a,beta=beta_a,dims=\"Participant\")\n",
        "    b = pm.Beta(name=\"b\",alpha=alpha_b,beta=beta_b,dims=\"Participant\")\n",
        "\n",
        "    # convert m and c to a tensor vector\n",
        "    theta = pt.as_tensor_variable([a, b])\n",
        "\n",
        "    # use a Potential to \"call\" the Op and include it in the logp computation\n",
        "    pm.Potential(\"likelihood\", mlogl(theta))\n",
        "    # Use custom number of draws to replace the HMC based defaults\n",
        "    idata_mh = pm.sample(3000, tune=1000, nuts_sampler=\"numpyro\")"
      ]
    },
    {
      "cell_type": "code",
      "source": [
        "az.plot_trace(idata_mh);  # real and assumed disributions differed ; limited parameter values"
      ],
      "metadata": {
        "id": "mIZcsYMZ4Bgq"
      },
      "execution_count": null,
      "outputs": []
    },
    {
      "cell_type": "code",
      "source": [
        "az.rcParams['plot.max_subplots'] = 100\n",
        "az.plot_pair(idata_mh, kind=\"kde\")"
      ],
      "metadata": {
        "id": "ncNXQ90s2yMT"
      },
      "execution_count": null,
      "outputs": []
    },
    {
      "cell_type": "code",
      "source": [
        "az.plot_trace(idata_mh);  # bad beta values"
      ],
      "metadata": {
        "id": "Nf0oesnYAZzM"
      },
      "execution_count": null,
      "outputs": []
    }
  ],
  "metadata": {
    "colab": {
      "provenance": [],
      "authorship_tag": "ABX9TyNLqfpz8+JEfqocGyM4Jv1i",
      "include_colab_link": true
    },
    "kernelspec": {
      "display_name": "Python 3",
      "name": "python3"
    },
    "language_info": {
      "name": "python"
    }
  },
  "nbformat": 4,
  "nbformat_minor": 0
}