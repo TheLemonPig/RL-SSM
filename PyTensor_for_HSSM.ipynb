{
  "nbformat": 4,
  "nbformat_minor": 0,
  "metadata": {
    "colab": {
      "provenance": [],
      "authorship_tag": "ABX9TyN2UdNI3MprA3yQpM1N8QTY",
      "include_colab_link": true
    },
    "kernelspec": {
      "name": "python3",
      "display_name": "Python 3"
    },
    "language_info": {
      "name": "python"
    }
  },
  "cells": [
    {
      "cell_type": "markdown",
      "metadata": {
        "id": "view-in-github",
        "colab_type": "text"
      },
      "source": [
        "<a href=\"https://colab.research.google.com/github/TheLemonPig/RL-SSM/blob/main/PyTensor_for_HSSM.ipynb\" target=\"_parent\"><img src=\"https://colab.research.google.com/assets/colab-badge.svg\" alt=\"Open In Colab\"/></a>"
      ]
    },
    {
      "cell_type": "markdown",
      "source": [
        "# PyTensor for HSSM"
      ],
      "metadata": {
        "id": "ukXZe3jOfXG3"
      }
    },
    {
      "cell_type": "markdown",
      "source": [
        "**TODO: Split the Sections into their own slimmer notebooks e.g. one for Introduction to PyTensor**"
      ],
      "metadata": {
        "id": "DHfD1Ig68snH"
      }
    },
    {
      "cell_type": "markdown",
      "source": [
        "##1. Introduction to PyTensor"
      ],
      "metadata": {
        "id": "0Pz_ORzJffLA"
      }
    },
    {
      "cell_type": "markdown",
      "source": [
        "More can be found at: https://pytensor.readthedocs.io/en/latest/tutorial/index.html"
      ],
      "metadata": {
        "id": "oYoaBBd9fiBd"
      }
    },
    {
      "cell_type": "code",
      "source": [
        "# This is the conventional way to import PyTensor\n",
        "import pytensor.tensor as pt\n",
        "from pytensor import function\n",
        "\n",
        "import numpy as np"
      ],
      "metadata": {
        "id": "Qeru0qFZghwz"
      },
      "execution_count": 4,
      "outputs": []
    },
    {
      "cell_type": "markdown",
      "source": [
        "More can be found at: https://pytensor.readthedocs.io/en/latest/tutorial/adding.html"
      ],
      "metadata": {
        "id": "btm4InBFhz_i"
      }
    },
    {
      "cell_type": "markdown",
      "source": [
        "PyTensor is a language built for optimization. If you are familiar with NumPy and SymPy, it is sort of a combination of the two. This tutorial will not assume you are familiar with SymPy but it will assume you are familiar with NumPy."
      ],
      "metadata": {
        "id": "1QaVsUv-h9hu"
      }
    },
    {
      "cell_type": "markdown",
      "source": [
        "The goal in PyTensor, is to create optimized differentiable versions of functions you have written in other languages. It achieves this by converting your python code into C in a differentiable format. The details of this are not important. But the consequences are:\n",
        "1. PyTensor requires you to rewrite your functions in terms of a more limited set of functions\n",
        "2. PyTensor-based functions must be passed to a PyTensor compiler before they will work in Python\n",
        "3. The PyTensor compiler requires additional information about your input variables in order to work\n",
        "4. Downstream effects if your are not able to rewrite your function exactly (this is common with more complex functions)\n",
        "\n",
        "In reality this creates two main additional stages to your workflow:\n",
        "1. Rewriting functions\n",
        "2. Compiling functions\n",
        "\n",
        "In addition, one part of your workflow will be drastically changed, which is how you debug your function. Since PyTensor-based functions do not work in Python, you can't use your debugger or use print statements whenever you want to debug your code. Instead, you will need to create a unit test, which will require compiling the relevant PyTensor code into its own function."
      ],
      "metadata": {
        "id": "N86E4O_2igv9"
      }
    },
    {
      "cell_type": "markdown",
      "source": [
        "Here I will give a simple example of what that would all look like, including debugging.\n",
        "\n",
        "Suppose you need to write a function to find the distance between two locations, using the function $f(a,b,x,y) = \\sqrt{(x-a)^2 + (y-b)^2}$"
      ],
      "metadata": {
        "id": "3dCE8HoolnbT"
      }
    },
    {
      "cell_type": "code",
      "source": [
        "# Python Pythagorus function\n",
        "# Note: You would not need to rewrite much of this functuo\n",
        "# ...but we will do so to show you all the steps\n",
        "def python_distance(a, b,x,y):\n",
        "    return np.sqrt((x-a)**2 + (y-b)**2)"
      ],
      "metadata": {
        "id": "GIVpybORs0Sp"
      },
      "execution_count": 5,
      "outputs": []
    },
    {
      "cell_type": "markdown",
      "source": [
        "###1a. Rewrite the function\n",
        "\n",
        "*You will see in the documentation that you do not need to write functions as formally as we will. But since we will always be doing this, please take this as your best starting point* *italicized text*"
      ],
      "metadata": {
        "id": "UuntyhLTmaCw"
      }
    },
    {
      "cell_type": "code",
      "source": [
        "# Distance function (pretending the bug is not easy to see)\n",
        "def pytensor_distance(a, b, x, y):\n",
        "    # Note that arithmetic operations do not need to be rewritten\n",
        "    # Also note that PyTensor typically has analagous functions to NumPy, often with the same name\n",
        "    return pt.sqrt((x-a) ** 2 + (y-b) * 2)"
      ],
      "metadata": {
        "id": "Xz6XVZUxm7EB"
      },
      "execution_count": 7,
      "outputs": []
    },
    {
      "cell_type": "markdown",
      "source": [
        "###1b. Compile the function\n",
        "\n"
      ],
      "metadata": {
        "id": "IqKpaeFQnW0e"
      }
    },
    {
      "cell_type": "code",
      "source": [
        "# Initialize Inputs - this will be explained more later\n",
        "a = pt.dscalar('a')\n",
        "b = pt.dscalar('b')\n",
        "x = pt.dscalar('x')\n",
        "y = pt.dscalar('y')\n",
        "\n",
        "# Call your function on the inputs\n",
        "# Collect the output\n",
        "pytensor_output = pytensor_distance(a,b,x,y)\n",
        "\n",
        "# Compile your PyTensor based function\n",
        "pytensor_distance_compiled = function([a, b, x, y], pytensor_output)"
      ],
      "metadata": {
        "id": "5EuXlJ_khCvo"
      },
      "execution_count": 9,
      "outputs": []
    },
    {
      "cell_type": "markdown",
      "source": [
        "###1c. Test the function"
      ],
      "metadata": {
        "id": "zvsAA8PJzDV3"
      }
    },
    {
      "cell_type": "code",
      "source": [
        "def pytensor_test(a,b,x,y):\n",
        "    try:\n",
        "        # Note: It is possible for minute differences to be created, usually <1e-10, between the functions, so consider rounding, especially in more complex functions\n",
        "        assert pytensor_distance_compiled(a,b,x,y) == python_distance(a,b,x,y), f\"{pytensor_distance_compiled(a,b,x,y)} != {python_distance(a,b,x,y)}\"\n",
        "    except AssertionError as err:\n",
        "        raise AssertionError(f\"Test failed: {err}\")\n",
        "\n",
        "a, b, x, y = 0.5, 0.5, 1.0, 1.0\n",
        "pytensor_test(a,b,x,y)"
      ],
      "metadata": {
        "colab": {
          "base_uri": "https://localhost:8080/",
          "height": 408
        },
        "id": "Gx6jfyyOgg0H",
        "outputId": "96502fc8-cd3a-4e0f-f564-afc118916269"
      },
      "execution_count": 16,
      "outputs": [
        {
          "output_type": "error",
          "ename": "AssertionError",
          "evalue": "Test failed: 0.75 != 0.7071067811865476",
          "traceback": [
            "\u001b[0;31m---------------------------------------------------------------------------\u001b[0m",
            "\u001b[0;31mAssertionError\u001b[0m                            Traceback (most recent call last)",
            "\u001b[0;32m<ipython-input-16-721f1502a21e>\u001b[0m in \u001b[0;36mpytensor_test\u001b[0;34m(a, b, x, y)\u001b[0m\n\u001b[1;32m      3\u001b[0m         \u001b[0;31m# Note: It is possible for minute differences to be created, usually <1e-10, between the functions, so consider rounding, especially in more complex functions\u001b[0m\u001b[0;34m\u001b[0m\u001b[0;34m\u001b[0m\u001b[0m\n\u001b[0;32m----> 4\u001b[0;31m         \u001b[0;32massert\u001b[0m \u001b[0mpytensor_distance_compiled\u001b[0m\u001b[0;34m(\u001b[0m\u001b[0ma\u001b[0m\u001b[0;34m,\u001b[0m\u001b[0mb\u001b[0m\u001b[0;34m,\u001b[0m\u001b[0mx\u001b[0m\u001b[0;34m,\u001b[0m\u001b[0my\u001b[0m\u001b[0;34m)\u001b[0m \u001b[0;34m==\u001b[0m \u001b[0mpython_distance\u001b[0m\u001b[0;34m(\u001b[0m\u001b[0ma\u001b[0m\u001b[0;34m,\u001b[0m\u001b[0mb\u001b[0m\u001b[0;34m,\u001b[0m\u001b[0mx\u001b[0m\u001b[0;34m,\u001b[0m\u001b[0my\u001b[0m\u001b[0;34m)\u001b[0m\u001b[0;34m,\u001b[0m \u001b[0;34mf\"{pytensor_distance_compiled(a,b,x,y)} != {python_distance(a,b,x,y)}\"\u001b[0m\u001b[0;34m\u001b[0m\u001b[0;34m\u001b[0m\u001b[0m\n\u001b[0m\u001b[1;32m      5\u001b[0m     \u001b[0;32mexcept\u001b[0m \u001b[0mAssertionError\u001b[0m \u001b[0;32mas\u001b[0m \u001b[0merr\u001b[0m\u001b[0;34m:\u001b[0m\u001b[0;34m\u001b[0m\u001b[0;34m\u001b[0m\u001b[0m\n",
            "\u001b[0;31mAssertionError\u001b[0m: 0.75 != 0.7071067811865476",
            "\nDuring handling of the above exception, another exception occurred:\n",
            "\u001b[0;31mAssertionError\u001b[0m                            Traceback (most recent call last)",
            "\u001b[0;32m<ipython-input-16-721f1502a21e>\u001b[0m in \u001b[0;36m<cell line: 9>\u001b[0;34m()\u001b[0m\n\u001b[1;32m      7\u001b[0m \u001b[0;34m\u001b[0m\u001b[0m\n\u001b[1;32m      8\u001b[0m \u001b[0ma\u001b[0m\u001b[0;34m,\u001b[0m \u001b[0mb\u001b[0m\u001b[0;34m,\u001b[0m \u001b[0mx\u001b[0m\u001b[0;34m,\u001b[0m \u001b[0my\u001b[0m \u001b[0;34m=\u001b[0m \u001b[0;36m0.5\u001b[0m\u001b[0;34m,\u001b[0m \u001b[0;36m0.5\u001b[0m\u001b[0;34m,\u001b[0m \u001b[0;36m1.0\u001b[0m\u001b[0;34m,\u001b[0m \u001b[0;36m1.0\u001b[0m\u001b[0;34m\u001b[0m\u001b[0;34m\u001b[0m\u001b[0m\n\u001b[0;32m----> 9\u001b[0;31m \u001b[0mpytensor_test\u001b[0m\u001b[0;34m(\u001b[0m\u001b[0ma\u001b[0m\u001b[0;34m,\u001b[0m\u001b[0mb\u001b[0m\u001b[0;34m,\u001b[0m\u001b[0mx\u001b[0m\u001b[0;34m,\u001b[0m\u001b[0my\u001b[0m\u001b[0;34m)\u001b[0m\u001b[0;34m\u001b[0m\u001b[0;34m\u001b[0m\u001b[0m\n\u001b[0m",
            "\u001b[0;32m<ipython-input-16-721f1502a21e>\u001b[0m in \u001b[0;36mpytensor_test\u001b[0;34m(a, b, x, y)\u001b[0m\n\u001b[1;32m      4\u001b[0m         \u001b[0;32massert\u001b[0m \u001b[0mpytensor_distance_compiled\u001b[0m\u001b[0;34m(\u001b[0m\u001b[0ma\u001b[0m\u001b[0;34m,\u001b[0m\u001b[0mb\u001b[0m\u001b[0;34m,\u001b[0m\u001b[0mx\u001b[0m\u001b[0;34m,\u001b[0m\u001b[0my\u001b[0m\u001b[0;34m)\u001b[0m \u001b[0;34m==\u001b[0m \u001b[0mpython_distance\u001b[0m\u001b[0;34m(\u001b[0m\u001b[0ma\u001b[0m\u001b[0;34m,\u001b[0m\u001b[0mb\u001b[0m\u001b[0;34m,\u001b[0m\u001b[0mx\u001b[0m\u001b[0;34m,\u001b[0m\u001b[0my\u001b[0m\u001b[0;34m)\u001b[0m\u001b[0;34m,\u001b[0m \u001b[0;34mf\"{pytensor_distance_compiled(a,b,x,y)} != {python_distance(a,b,x,y)}\"\u001b[0m\u001b[0;34m\u001b[0m\u001b[0;34m\u001b[0m\u001b[0m\n\u001b[1;32m      5\u001b[0m     \u001b[0;32mexcept\u001b[0m \u001b[0mAssertionError\u001b[0m \u001b[0;32mas\u001b[0m \u001b[0merr\u001b[0m\u001b[0;34m:\u001b[0m\u001b[0;34m\u001b[0m\u001b[0;34m\u001b[0m\u001b[0m\n\u001b[0;32m----> 6\u001b[0;31m         \u001b[0;32mraise\u001b[0m \u001b[0mAssertionError\u001b[0m\u001b[0;34m(\u001b[0m\u001b[0;34mf\"Test failed: {err}\"\u001b[0m\u001b[0;34m)\u001b[0m\u001b[0;34m\u001b[0m\u001b[0;34m\u001b[0m\u001b[0m\n\u001b[0m\u001b[1;32m      7\u001b[0m \u001b[0;34m\u001b[0m\u001b[0m\n\u001b[1;32m      8\u001b[0m \u001b[0ma\u001b[0m\u001b[0;34m,\u001b[0m \u001b[0mb\u001b[0m\u001b[0;34m,\u001b[0m \u001b[0mx\u001b[0m\u001b[0;34m,\u001b[0m \u001b[0my\u001b[0m \u001b[0;34m=\u001b[0m \u001b[0;36m0.5\u001b[0m\u001b[0;34m,\u001b[0m \u001b[0;36m0.5\u001b[0m\u001b[0;34m,\u001b[0m \u001b[0;36m1.0\u001b[0m\u001b[0;34m,\u001b[0m \u001b[0;36m1.0\u001b[0m\u001b[0;34m\u001b[0m\u001b[0;34m\u001b[0m\u001b[0m\n",
            "\u001b[0;31mAssertionError\u001b[0m: Test failed: 0.75 != 0.7071067811865476"
          ]
        }
      ]
    },
    {
      "cell_type": "markdown",
      "source": [
        "###1d. Debug the function"
      ],
      "metadata": {
        "id": "5iWbJpVb0FFZ"
      }
    },
    {
      "cell_type": "code",
      "source": [
        "# unit functions\n",
        "def pytensor_distance_a(a, x):\n",
        "    return (x-a) ** 2\n",
        "\n",
        "def pytensor_distance_b(b, y):\n",
        "    return (y-b) * 2\n",
        "\n",
        "# Ideally write your overall function in terms of the unit functions and test it too\n",
        "# Typos are pretty common and one way you will catch them is if this version...\n",
        "# ...of your pytensor function works while your original one didn't.\n",
        "def pytensor_distance_c(a,b,x,y):\n",
        "    return pt.sqrt(pytensor_distance_a(a,x) + pytensor_distance_b(b,y))\n",
        "\n",
        "# Initialize Inputs - this will be explained more later\n",
        "a = pt.dscalar('a')\n",
        "b = pt.dscalar('b')\n",
        "x = pt.dscalar('x')\n",
        "y = pt.dscalar('y')\n",
        "\n",
        "# Call your functions on the inputs\n",
        "# Collect the output\n",
        "pytensor_output_a = pytensor_distance_a(a,x)\n",
        "pytensor_output_b = pytensor_distance_b(b,y)\n",
        "pytensor_output_c = pytensor_distance_c(a,b,x,y)\n",
        "\n",
        "# Compile your PyTensor-based functions\n",
        "pytensor_distance_compiled_a = function([a, x], pytensor_output_a)\n",
        "pytensor_distance_compiled_b = function([b, y], pytensor_output_b)\n",
        "pytensor_distance_compiled_c = function([a, b, x, y], pytensor_output_c)"
      ],
      "metadata": {
        "id": "nWLdbveY5Kri"
      },
      "execution_count": 18,
      "outputs": []
    },
    {
      "cell_type": "code",
      "execution_count": 21,
      "metadata": {
        "id": "PBmwNl2Ax1ha"
      },
      "outputs": [],
      "source": [
        "# Take your original function and do the same\n",
        "def python_distance_a(a, x):\n",
        "    return (x-a) ** 2\n",
        "\n",
        "def python_distance_b(b, y):\n",
        "    return (y-b) ** 2\n",
        "\n",
        "def python_distance_c(a,b,x,y):\n",
        "    return np.sqrt(python_distance_a(a,x) + python_distance_b(b,y))"
      ]
    },
    {
      "cell_type": "code",
      "source": [
        "# Run test\n",
        "def pytensor_unit_tests(a,b,x,y):\n",
        "    try:\n",
        "        assert pytensor_distance_a(a, x) == python_distance_a(a, x), f\"Test 1 - {pytensor_distance_a(a, x)} != {python_distance_a(a, x)}\"\n",
        "        assert pytensor_distance_b(b, y) == python_distance_b(b, y), f\"Test 2 - {pytensor_distance_b(b, y)} != {python_distance_b(b, y)}\"\n",
        "        assert pytensor_distance_compiled_c(a,b,x,y) == python_distance(a,b,x,y), f\"Test 3 - {pytensor_distance_compiled_c(a,b,x,y)} != {python_distance(a,b,x,y)}\"\n",
        "\n",
        "    except AssertionError as err:\n",
        "        raise AssertionError(f\"Test failed: {err}\")\n",
        "\n",
        "a, b, x, y = 0.5, 0.5, 1.0, 1.0\n",
        "pytensor_unit_tests(a,b,x,y)"
      ],
      "metadata": {
        "colab": {
          "base_uri": "https://localhost:8080/",
          "height": 408
        },
        "id": "lIGC0UUk5ueS",
        "outputId": "310ae847-c497-487b-f459-a355adcacfd4"
      },
      "execution_count": 24,
      "outputs": [
        {
          "output_type": "error",
          "ename": "AssertionError",
          "evalue": "Test failed: Test 2 - 1.0 != 0.25",
          "traceback": [
            "\u001b[0;31m---------------------------------------------------------------------------\u001b[0m",
            "\u001b[0;31mAssertionError\u001b[0m                            Traceback (most recent call last)",
            "\u001b[0;32m<ipython-input-24-d2d6c1f512a9>\u001b[0m in \u001b[0;36mpytensor_unit_tests\u001b[0;34m(a, b, x, y)\u001b[0m\n\u001b[1;32m      4\u001b[0m         \u001b[0;32massert\u001b[0m \u001b[0mpytensor_distance_a\u001b[0m\u001b[0;34m(\u001b[0m\u001b[0ma\u001b[0m\u001b[0;34m,\u001b[0m \u001b[0mx\u001b[0m\u001b[0;34m)\u001b[0m \u001b[0;34m==\u001b[0m \u001b[0mpython_distance_a\u001b[0m\u001b[0;34m(\u001b[0m\u001b[0ma\u001b[0m\u001b[0;34m,\u001b[0m \u001b[0mx\u001b[0m\u001b[0;34m)\u001b[0m\u001b[0;34m,\u001b[0m \u001b[0;34mf\"Test 1 - {pytensor_distance_a(a, x)} != {python_distance_a(a, x)}\"\u001b[0m\u001b[0;34m\u001b[0m\u001b[0;34m\u001b[0m\u001b[0m\n\u001b[0;32m----> 5\u001b[0;31m         \u001b[0;32massert\u001b[0m \u001b[0mpytensor_distance_b\u001b[0m\u001b[0;34m(\u001b[0m\u001b[0mb\u001b[0m\u001b[0;34m,\u001b[0m \u001b[0my\u001b[0m\u001b[0;34m)\u001b[0m \u001b[0;34m==\u001b[0m \u001b[0mpython_distance_b\u001b[0m\u001b[0;34m(\u001b[0m\u001b[0mb\u001b[0m\u001b[0;34m,\u001b[0m \u001b[0my\u001b[0m\u001b[0;34m)\u001b[0m\u001b[0;34m,\u001b[0m \u001b[0;34mf\"Test 2 - {pytensor_distance_b(b, y)} != {python_distance_b(b, y)}\"\u001b[0m\u001b[0;34m\u001b[0m\u001b[0;34m\u001b[0m\u001b[0m\n\u001b[0m\u001b[1;32m      6\u001b[0m         \u001b[0;32massert\u001b[0m \u001b[0mpytensor_distance_compiled_c\u001b[0m\u001b[0;34m(\u001b[0m\u001b[0ma\u001b[0m\u001b[0;34m,\u001b[0m\u001b[0mb\u001b[0m\u001b[0;34m,\u001b[0m\u001b[0mx\u001b[0m\u001b[0;34m,\u001b[0m\u001b[0my\u001b[0m\u001b[0;34m)\u001b[0m \u001b[0;34m==\u001b[0m \u001b[0mpython_distance\u001b[0m\u001b[0;34m(\u001b[0m\u001b[0ma\u001b[0m\u001b[0;34m,\u001b[0m\u001b[0mb\u001b[0m\u001b[0;34m,\u001b[0m\u001b[0mx\u001b[0m\u001b[0;34m,\u001b[0m\u001b[0my\u001b[0m\u001b[0;34m)\u001b[0m\u001b[0;34m,\u001b[0m \u001b[0;34mf\"Test 3 - {pytensor_distance_compiled_c(a,b,x,y)} != {python_distance(a,b,x,y)}\"\u001b[0m\u001b[0;34m\u001b[0m\u001b[0;34m\u001b[0m\u001b[0m\n",
            "\u001b[0;31mAssertionError\u001b[0m: Test 2 - 1.0 != 0.25",
            "\nDuring handling of the above exception, another exception occurred:\n",
            "\u001b[0;31mAssertionError\u001b[0m                            Traceback (most recent call last)",
            "\u001b[0;32m<ipython-input-24-d2d6c1f512a9>\u001b[0m in \u001b[0;36m<cell line: 12>\u001b[0;34m()\u001b[0m\n\u001b[1;32m     10\u001b[0m \u001b[0;34m\u001b[0m\u001b[0m\n\u001b[1;32m     11\u001b[0m \u001b[0ma\u001b[0m\u001b[0;34m,\u001b[0m \u001b[0mb\u001b[0m\u001b[0;34m,\u001b[0m \u001b[0mx\u001b[0m\u001b[0;34m,\u001b[0m \u001b[0my\u001b[0m \u001b[0;34m=\u001b[0m \u001b[0;36m0.5\u001b[0m\u001b[0;34m,\u001b[0m \u001b[0;36m0.5\u001b[0m\u001b[0;34m,\u001b[0m \u001b[0;36m1.0\u001b[0m\u001b[0;34m,\u001b[0m \u001b[0;36m1.0\u001b[0m\u001b[0;34m\u001b[0m\u001b[0;34m\u001b[0m\u001b[0m\n\u001b[0;32m---> 12\u001b[0;31m \u001b[0mpytensor_unit_tests\u001b[0m\u001b[0;34m(\u001b[0m\u001b[0ma\u001b[0m\u001b[0;34m,\u001b[0m\u001b[0mb\u001b[0m\u001b[0;34m,\u001b[0m\u001b[0mx\u001b[0m\u001b[0;34m,\u001b[0m\u001b[0my\u001b[0m\u001b[0;34m)\u001b[0m\u001b[0;34m\u001b[0m\u001b[0;34m\u001b[0m\u001b[0m\n\u001b[0m",
            "\u001b[0;32m<ipython-input-24-d2d6c1f512a9>\u001b[0m in \u001b[0;36mpytensor_unit_tests\u001b[0;34m(a, b, x, y)\u001b[0m\n\u001b[1;32m      7\u001b[0m \u001b[0;34m\u001b[0m\u001b[0m\n\u001b[1;32m      8\u001b[0m     \u001b[0;32mexcept\u001b[0m \u001b[0mAssertionError\u001b[0m \u001b[0;32mas\u001b[0m \u001b[0merr\u001b[0m\u001b[0;34m:\u001b[0m\u001b[0;34m\u001b[0m\u001b[0;34m\u001b[0m\u001b[0m\n\u001b[0;32m----> 9\u001b[0;31m         \u001b[0;32mraise\u001b[0m \u001b[0mAssertionError\u001b[0m\u001b[0;34m(\u001b[0m\u001b[0;34mf\"Test failed: {err}\"\u001b[0m\u001b[0;34m)\u001b[0m\u001b[0;34m\u001b[0m\u001b[0;34m\u001b[0m\u001b[0m\n\u001b[0m\u001b[1;32m     10\u001b[0m \u001b[0;34m\u001b[0m\u001b[0m\n\u001b[1;32m     11\u001b[0m \u001b[0ma\u001b[0m\u001b[0;34m,\u001b[0m \u001b[0mb\u001b[0m\u001b[0;34m,\u001b[0m \u001b[0mx\u001b[0m\u001b[0;34m,\u001b[0m \u001b[0my\u001b[0m \u001b[0;34m=\u001b[0m \u001b[0;36m0.5\u001b[0m\u001b[0;34m,\u001b[0m \u001b[0;36m0.5\u001b[0m\u001b[0;34m,\u001b[0m \u001b[0;36m1.0\u001b[0m\u001b[0;34m,\u001b[0m \u001b[0;36m1.0\u001b[0m\u001b[0;34m\u001b[0m\u001b[0;34m\u001b[0m\u001b[0m\n",
            "\u001b[0;31mAssertionError\u001b[0m: Test failed: Test 2 - 1.0 != 0.25"
          ]
        }
      ]
    },
    {
      "cell_type": "markdown",
      "source": [
        "Hopefully through this process you will hone in on your typo and fix your original function.\n",
        "\n",
        "Note: It is possible to print statements in PyTensor. I have not investigated it much, but it looks like it could be useful in some situations: https://pytensor.readthedocs.io/en/latest/library/printing.html"
      ],
      "metadata": {
        "id": "35SNdHoM8VKO"
      }
    },
    {
      "cell_type": "markdown",
      "source": [
        "##2. PyTensor for RL"
      ],
      "metadata": {
        "id": "Kqtk2k0CamtN"
      }
    },
    {
      "cell_type": "code",
      "source": [
        "import pytensor.tensor as pt\n",
        "from pytensor import function, scan\n",
        "import numpy as np"
      ],
      "metadata": {
        "id": "_YyaiHPCPMR3"
      },
      "execution_count": 1,
      "outputs": []
    },
    {
      "cell_type": "markdown",
      "source": [
        "Reinforcment Learning is inherently sequential, meaning that we will need to make use of `for` loops.\n",
        "\n",
        "In PyTensor, this can be acheived in a very narrow sense using the `scan` function."
      ],
      "metadata": {
        "id": "NbaBoPG5KYdC"
      }
    },
    {
      "cell_type": "markdown",
      "source": [
        "###2a. Using scan"
      ],
      "metadata": {
        "id": "pRO7jUZYKxjf"
      }
    },
    {
      "cell_type": "markdown",
      "source": [
        "For more, see: https://pytensor.readthedocs.io/en/latest/library/scan.html"
      ],
      "metadata": {
        "id": "8kwH_PWAK6g0"
      }
    },
    {
      "cell_type": "markdown",
      "source": [
        "For simplicity, we will start with a numerical example, before moving on to a matrix example."
      ],
      "metadata": {
        "id": "n2qVNkrPLH-q"
      }
    },
    {
      "cell_type": "markdown",
      "source": [
        "####2ai. Using scan with numerical inputs/outputs"
      ],
      "metadata": {
        "id": "FQGG6TOALOG9"
      }
    },
    {
      "cell_type": "markdown",
      "source": [
        "Suppose we want to calculate the first $n$ terms of the series using the recursion formula: $s_{n+1} = \\frac{s_{n}}{n+1} + m$ for $s_0=1$ and any $m$"
      ],
      "metadata": {
        "id": "J_E7zawpL1b-"
      }
    },
    {
      "cell_type": "markdown",
      "source": [
        "A python function for this could look like:"
      ],
      "metadata": {
        "id": "GB1BK-QPNtwN"
      }
    },
    {
      "cell_type": "code",
      "source": [
        "def formula(sn,n,m):\n",
        "    return sn/(n+1) + m\n",
        "\n",
        "def get_term(n,m):\n",
        "    sn = 1\n",
        "    series = np.zeros(n)\n",
        "    series[0] = sn\n",
        "    for i in range(n):\n",
        "        sn = formula(sn,i,m)\n",
        "        series[i] = sn\n",
        "    return series"
      ],
      "metadata": {
        "id": "QftkqLvSK577"
      },
      "execution_count": 107,
      "outputs": []
    },
    {
      "cell_type": "markdown",
      "source": [
        "This is how we would write it in PyTensor:"
      ],
      "metadata": {
        "id": "NVlDnsnBOqlJ"
      }
    },
    {
      "cell_type": "code",
      "source": [
        "# We have to slightly adapt our function because the order of arguments in the function is incredibly important for getting PyTensor to work correctly\n",
        "# They should be organized like this: sequences, outputs_info, non_sequences\n",
        "def formula(n,sn,m):\n",
        "    return sn/(n+1) + m\n",
        "\n",
        "def get_term_pytensor(n,m):\n",
        "    sn = pt.constant(1.0, dtype='float64')  # you will sometimes need to define the type like this. You will need to be very careful about type. PyTensor generally defaults to 32-bit types\n",
        "    ns = pt.arange(n, dtype='float64')\n",
        "    term, _ = scan(fn=formula, sequences=ns, non_sequences=m, outputs_info=sn)  # The ordering of\n",
        "    return term"
      ],
      "metadata": {
        "id": "1tynn8FMc2TP"
      },
      "execution_count": 99,
      "outputs": []
    },
    {
      "cell_type": "code",
      "source": [
        "n_compile = pt.scalar(\"n\", dtype='int64')  # note n must be an integer (you can't have the 3.5th term of a series)\n",
        "m_compile = pt.scalar(\"m\", dtype='float64')\n",
        "\n",
        "output = get_term_pytensor(n_compile, m_compile)\n",
        "my_func = function(inputs=[n_compile,m_compile],outputs=output)  # note the LACK of parentheses for the outputs. You will need these if you have multiple outputs but otherwise you do not want your function unknowingly wrapping your output in a list"
      ],
      "metadata": {
        "id": "Wx9ZG2q0QJXX"
      },
      "execution_count": 100,
      "outputs": []
    },
    {
      "cell_type": "markdown",
      "source": [
        "It is always important to compare the outputs of your PyTensor function with the original Python function."
      ],
      "metadata": {
        "id": "iniPynF7RXTN"
      }
    },
    {
      "cell_type": "code",
      "source": [
        "get_term(10,1)"
      ],
      "metadata": {
        "colab": {
          "base_uri": "https://localhost:8080/"
        },
        "id": "5QIR8kTBRVUv",
        "outputId": "811f4b5a-6db8-45ae-f4a6-d2dfa4a91ad8"
      },
      "execution_count": 108,
      "outputs": [
        {
          "output_type": "execute_result",
          "data": {
            "text/plain": [
              "array([2.        , 2.        , 1.66666667, 1.41666667, 1.28333333,\n",
              "       1.21388889, 1.1734127 , 1.14667659, 1.12740851, 1.11274085])"
            ]
          },
          "metadata": {},
          "execution_count": 108
        }
      ]
    },
    {
      "cell_type": "code",
      "source": [
        "my_func(10,1)"
      ],
      "metadata": {
        "colab": {
          "base_uri": "https://localhost:8080/"
        },
        "id": "QOP1lVwCRgL0",
        "outputId": "9968a219-8505-4ea8-9109-850e1ecf7733"
      },
      "execution_count": 102,
      "outputs": [
        {
          "output_type": "execute_result",
          "data": {
            "text/plain": [
              "array([2.        , 2.        , 1.66666667, 1.41666667, 1.28333333,\n",
              "       1.21388889, 1.1734127 , 1.14667659, 1.12740851, 1.11274085])"
            ]
          },
          "metadata": {},
          "execution_count": 102
        }
      ]
    },
    {
      "cell_type": "markdown",
      "source": [
        "###2b.Using scan for RL"
      ],
      "metadata": {
        "id": "Phegn_r6WlsA"
      }
    },
    {
      "cell_type": "markdown",
      "source": [
        "Now because you cannot index PyTensor arrays using arrays, we must one-hot the data so that indexing is not necessary. This saves us having to scan over trials to extract the relevant Q-values for the likelihood. (If you can find another way, then a lot of the code dealing with one-hotting from here on isn't necessary)."
      ],
      "metadata": {
        "id": "2nrujwrgW2TW"
      }
    },
    {
      "cell_type": "markdown",
      "source": [
        "####2bi.Using scan for single participant RL"
      ],
      "metadata": {
        "id": "tAIoMmF9exEd"
      }
    },
    {
      "cell_type": "markdown",
      "source": [
        "For simplicty we will go over what it looks like for an individual participant, and then extend the code to multiple participants"
      ],
      "metadata": {
        "id": "A8WgaHiCe1Dd"
      }
    },
    {
      "cell_type": "code",
      "source": [
        "\n",
        "def rl_step(C, R, Q_tm1, A):\n",
        "    \"\"\"\n",
        "    function for a single RL step\n",
        "    C: Choice -- vector (trials)\n",
        "    R: Reward -- vector (trials)\n",
        "    Q_tm1: Q-Values at the previous time step -- matrix (choices)\n",
        "    A: Alpha parameter -- scalar ()\n",
        "    \"\"\"\n",
        "    return Q_tm1 + pt.mul(A,pt.mul(C,(R - Q_tm1)))"
      ],
      "metadata": {
        "id": "9XXBzm81Xx7a"
      },
      "execution_count": 2,
      "outputs": []
    },
    {
      "cell_type": "code",
      "source": [
        "def rl_scan(Cs,Rs,A,n_choices):\n",
        "    \"\"\"\n",
        "    scan function over RL steps\n",
        "    CM: Choices -- matrix (trials,choices)\n",
        "    RM: Rewards -- matrix (trials,choices)\n",
        "    A: Alpha parameter -- vector (choices)\n",
        "    n_choices: number of choices -- scalar ()\n",
        "\n",
        "    QM: vector (choices) --> matrix (trials, choices)\n",
        "    \"\"\"\n",
        "    Qs = pt.ones(n_choices) * 0.5\n",
        "    Qs, _ = scan(fn=rl_step, sequences=[Cs,Rs], non_sequences = [A], outputs_info=Qs)\n",
        "    return Qs"
      ],
      "metadata": {
        "id": "9SkAHsV-X36S"
      },
      "execution_count": 3,
      "outputs": []
    },
    {
      "cell_type": "code",
      "source": [
        "# Defining the inputs of the to-be-compiled function\n",
        "Cs = pt.imatrix(\"Cs\")\n",
        "Rs = pt.dmatrix(\"Rs\")\n",
        "A = pt.dvector(\"A\")\n",
        "n_choices = pt.iscalar('n_choices')\n",
        "\n",
        "# Compiling function\n",
        "output = rl_scan(Cs,Rs,A,n_choices)\n",
        "rl_func = function(inputs=[Cs,Rs,A,n_choices], outputs=output)"
      ],
      "metadata": {
        "id": "vapxdRdYYBsl"
      },
      "execution_count": 7,
      "outputs": []
    },
    {
      "cell_type": "code",
      "source": [
        "# Synthetic Metaparameters\n",
        "n_trials = 100\n",
        "n_choices = 2\n",
        "\n",
        "# Creating synthetic data\n",
        "Cs = np.zeros((n_trials,n_choices),dtype=np.int32)\n",
        "Cs[:,0] = np.random.randint(2,size=(n_trials))\n",
        "Cs[:,1] = 1 - Cs[:,0]\n",
        "Rs = np.ones((n_trials, n_choices), dtype=np.float32)\n",
        "A = np.array(np.ones((n_choices)) * 0.1, dtype=np.float32)\n",
        "\n",
        "# Testing compiled function\n",
        "rl_func(Cs,Rs,A,n_choices)"
      ],
      "metadata": {
        "id": "Y9s2S6JAZQPv"
      },
      "execution_count": null,
      "outputs": []
    },
    {
      "cell_type": "markdown",
      "source": [
        "####2bii. Using scan over multiple participants"
      ],
      "metadata": {
        "id": "ojxZVxmggVXm"
      }
    },
    {
      "cell_type": "code",
      "source": [],
      "metadata": {
        "id": "A0_o50K_gd2X"
      },
      "execution_count": null,
      "outputs": []
    }
  ]
}