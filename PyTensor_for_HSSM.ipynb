{
  "nbformat": 4,
  "nbformat_minor": 0,
  "metadata": {
    "colab": {
      "provenance": [],
      "authorship_tag": "ABX9TyNAGlouUNKXhCprHWhpl3p9",
      "include_colab_link": true
    },
    "kernelspec": {
      "name": "python3",
      "display_name": "Python 3"
    },
    "language_info": {
      "name": "python"
    }
  },
  "cells": [
    {
      "cell_type": "markdown",
      "metadata": {
        "id": "view-in-github",
        "colab_type": "text"
      },
      "source": [
        "<a href=\"https://colab.research.google.com/github/TheLemonPig/RL-SSM/blob/main/PyTensor_for_HSSM.ipynb\" target=\"_parent\"><img src=\"https://colab.research.google.com/assets/colab-badge.svg\" alt=\"Open In Colab\"/></a>"
      ]
    },
    {
      "cell_type": "markdown",
      "source": [
        "# PyTensor for HSSM"
      ],
      "metadata": {
        "id": "ukXZe3jOfXG3"
      }
    },
    {
      "cell_type": "markdown",
      "source": [
        "##1. Introduction to PyTensor"
      ],
      "metadata": {
        "id": "0Pz_ORzJffLA"
      }
    },
    {
      "cell_type": "markdown",
      "source": [
        "More can be found at: https://pytensor.readthedocs.io/en/latest/tutorial/index.html"
      ],
      "metadata": {
        "id": "oYoaBBd9fiBd"
      }
    },
    {
      "cell_type": "code",
      "source": [
        "# This is the conventional way to import PyTensor\n",
        "import pytensor.tensor as pt\n",
        "from pytensor import function"
      ],
      "metadata": {
        "id": "Qeru0qFZghwz"
      },
      "execution_count": 1,
      "outputs": []
    },
    {
      "cell_type": "markdown",
      "source": [
        "###1a. Using PyTensor"
      ],
      "metadata": {
        "id": "H9vgcEH4hajG"
      }
    },
    {
      "cell_type": "markdown",
      "source": [
        "More can be found at: https://pytensor.readthedocs.io/en/latest/tutorial/adding.html"
      ],
      "metadata": {
        "id": "btm4InBFhz_i"
      }
    },
    {
      "cell_type": "markdown",
      "source": [
        "PyTensor is a language built for optimization. If you are familiar with NumPy and SymPy, it is sort of a combination of the two. This tutorial will not assume you are familiar with SymPy but it will assume you are familiar with NumPy."
      ],
      "metadata": {
        "id": "1QaVsUv-h9hu"
      }
    },
    {
      "cell_type": "markdown",
      "source": [
        "The goal in PyTensor, is to create optimized differentiable versions of functions you have written in other languages. It achieves this by converting your python code into C in a differentiable format. The details of this are not important. But the consequences are:\n",
        "1. PyTensor requires you to rewrite your functions in terms of a more limited set of functions\n",
        "2. PyTensor-based functions must be passed to a PyTensor compiler before they will work in Python\n",
        "3. The PyTensor compiler requires additional information about your input variables in order to work\n",
        "\n",
        "In reality this creates two main additional stages to your workflow:\n",
        "1. Rewriting functions\n",
        "2. Compiling functions\n",
        "\n",
        "In addition, one part of your workflow will be drastically changed, which is how you debug your function. Since PyTensor-based functions do not work in Python, you can't use your debugger or use print statements whenever you want to debug your code. Instead, you will need to create a unit test, which will require compiling the relevant PyTensor code into its own function."
      ],
      "metadata": {
        "id": "N86E4O_2igv9"
      }
    },
    {
      "cell_type": "markdown",
      "source": [
        "Here I will give a simple example of what that would all look like, including debugging.\n",
        "\n",
        "Suppose you need to write a function for Pythagorian's Rule: $a^2 + b^2 = c^2$"
      ],
      "metadata": {
        "id": "3dCE8HoolnbT"
      }
    },
    {
      "cell_type": "markdown",
      "source": [
        "**1ai. Write a function**\n",
        "\n",
        "*You will see in the documentation that you do not need to write functions as formally as we will. But since we will always be doing this, please take this as your best starting point*"
      ],
      "metadata": {
        "id": "UuntyhLTmaCw"
      }
    },
    {
      "cell_type": "code",
      "source": [
        "# Pythagorus function (pretending the bug is not easy to see)\n",
        "def pythagorus(a, b)\n",
        "    # In this simple case, you would not need to rewrite this code in PyTensor\n",
        "    return a**2 + b*2"
      ],
      "metadata": {
        "id": "Xz6XVZUxm7EB"
      },
      "execution_count": 2,
      "outputs": []
    },
    {
      "cell_type": "markdown",
      "source": [
        "**1aii. Compile the function**\n",
        "\n"
      ],
      "metadata": {
        "id": "IqKpaeFQnW0e"
      }
    },
    {
      "cell_type": "code",
      "source": [
        "# Initialize Inputs - this will be explained more later\n",
        "a = pt.dscalar('a')\n",
        "b = pt.dscalar('b')\n",
        "\n",
        "# Call your function on the inputs\n",
        "# Collect the output\n",
        "c = pythagorus(a,b)\n",
        "\n",
        "pythagorus = function([a, b], c)"
      ],
      "metadata": {
        "id": "5EuXlJ_khCvo"
      },
      "execution_count": null,
      "outputs": []
    },
    {
      "cell_type": "code",
      "source": [],
      "metadata": {
        "id": "Gx6jfyyOgg0H"
      },
      "execution_count": null,
      "outputs": []
    },
    {
      "cell_type": "code",
      "execution_count": null,
      "metadata": {
        "id": "PBmwNl2Ax1ha"
      },
      "outputs": [],
      "source": []
    }
  ]
}