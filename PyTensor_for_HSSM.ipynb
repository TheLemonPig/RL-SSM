{
  "nbformat": 4,
  "nbformat_minor": 0,
  "metadata": {
    "colab": {
      "provenance": [],
      "authorship_tag": "ABX9TyN/HAhtcKcYjLmvvVMljrih",
      "include_colab_link": true
    },
    "kernelspec": {
      "name": "python3",
      "display_name": "Python 3"
    },
    "language_info": {
      "name": "python"
    }
  },
  "cells": [
    {
      "cell_type": "markdown",
      "metadata": {
        "id": "view-in-github",
        "colab_type": "text"
      },
      "source": [
        "<a href=\"https://colab.research.google.com/github/TheLemonPig/RL-SSM/blob/main/PyTensor_for_HSSM.ipynb\" target=\"_parent\"><img src=\"https://colab.research.google.com/assets/colab-badge.svg\" alt=\"Open In Colab\"/></a>"
      ]
    },
    {
      "cell_type": "markdown",
      "source": [
        "# PyTensor for HSSM"
      ],
      "metadata": {
        "id": "ukXZe3jOfXG3"
      }
    },
    {
      "cell_type": "markdown",
      "source": [
        "TODO: Split the Sections into their own slimmer notebooks e.g. one for Introduction to PyTensor"
      ],
      "metadata": {
        "id": "DHfD1Ig68snH"
      }
    },
    {
      "cell_type": "markdown",
      "source": [
        "##1. Introduction to PyTensor"
      ],
      "metadata": {
        "id": "0Pz_ORzJffLA"
      }
    },
    {
      "cell_type": "markdown",
      "source": [
        "More can be found at: https://pytensor.readthedocs.io/en/latest/tutorial/index.html"
      ],
      "metadata": {
        "id": "oYoaBBd9fiBd"
      }
    },
    {
      "cell_type": "code",
      "source": [
        "# This is the conventional way to import PyTensor\n",
        "import pytensor.tensor as pt\n",
        "from pytensor import function\n",
        "\n",
        "import numpy as np"
      ],
      "metadata": {
        "id": "Qeru0qFZghwz"
      },
      "execution_count": 4,
      "outputs": []
    },
    {
      "cell_type": "markdown",
      "source": [
        "###1a. Using PyTensor"
      ],
      "metadata": {
        "id": "H9vgcEH4hajG"
      }
    },
    {
      "cell_type": "markdown",
      "source": [
        "More can be found at: https://pytensor.readthedocs.io/en/latest/tutorial/adding.html"
      ],
      "metadata": {
        "id": "btm4InBFhz_i"
      }
    },
    {
      "cell_type": "markdown",
      "source": [
        "PyTensor is a language built for optimization. If you are familiar with NumPy and SymPy, it is sort of a combination of the two. This tutorial will not assume you are familiar with SymPy but it will assume you are familiar with NumPy."
      ],
      "metadata": {
        "id": "1QaVsUv-h9hu"
      }
    },
    {
      "cell_type": "markdown",
      "source": [
        "The goal in PyTensor, is to create optimized differentiable versions of functions you have written in other languages. It achieves this by converting your python code into C in a differentiable format. The details of this are not important. But the consequences are:\n",
        "1. PyTensor requires you to rewrite your functions in terms of a more limited set of functions\n",
        "2. PyTensor-based functions must be passed to a PyTensor compiler before they will work in Python\n",
        "3. The PyTensor compiler requires additional information about your input variables in order to work\n",
        "4. Downstream effects if your are not able to rewrite your function exactly (this is common with more complex functions)\n",
        "\n",
        "In reality this creates two main additional stages to your workflow:\n",
        "1. Rewriting functions\n",
        "2. Compiling functions\n",
        "\n",
        "In addition, one part of your workflow will be drastically changed, which is how you debug your function. Since PyTensor-based functions do not work in Python, you can't use your debugger or use print statements whenever you want to debug your code. Instead, you will need to create a unit test, which will require compiling the relevant PyTensor code into its own function."
      ],
      "metadata": {
        "id": "N86E4O_2igv9"
      }
    },
    {
      "cell_type": "markdown",
      "source": [
        "Here I will give a simple example of what that would all look like, including debugging.\n",
        "\n",
        "Suppose you need to write a function to find the distance between two locations, using the function $f(a,b,x,y) = \\sqrt{(x-a)^2 + (y-b)^2}$"
      ],
      "metadata": {
        "id": "3dCE8HoolnbT"
      }
    },
    {
      "cell_type": "code",
      "source": [
        "# Python Pythagorus function\n",
        "# Note: You would not need to rewrite much of this functuo\n",
        "# ...but we will do so to show you all the steps\n",
        "def python_distance(a, b,x,y):\n",
        "    return np.sqrt((x-a)**2 + (y-b)**2)"
      ],
      "metadata": {
        "id": "GIVpybORs0Sp"
      },
      "execution_count": 5,
      "outputs": []
    },
    {
      "cell_type": "markdown",
      "source": [
        "**1ai. Rewrite the function**\n",
        "\n",
        "*You will see in the documentation that you do not need to write functions as formally as we will. But since we will always be doing this, please take this as your best starting point* *italicized text*"
      ],
      "metadata": {
        "id": "UuntyhLTmaCw"
      }
    },
    {
      "cell_type": "code",
      "source": [
        "# Distance function (pretending the bug is not easy to see)\n",
        "def pytensor_distance(a, b, x, y):\n",
        "    # Note that arithmetic operations do not need to be rewritten\n",
        "    # Also note that PyTensor typically has analagous functions to NumPy, often with the same name\n",
        "    return pt.sqrt((x-a) ** 2 + (y-b) * 2)"
      ],
      "metadata": {
        "id": "Xz6XVZUxm7EB"
      },
      "execution_count": 7,
      "outputs": []
    },
    {
      "cell_type": "markdown",
      "source": [
        "**1aii. Compile the function**\n",
        "\n"
      ],
      "metadata": {
        "id": "IqKpaeFQnW0e"
      }
    },
    {
      "cell_type": "code",
      "source": [
        "# Initialize Inputs - this will be explained more later\n",
        "a = pt.dscalar('a')\n",
        "b = pt.dscalar('b')\n",
        "x = pt.dscalar('x')\n",
        "y = pt.dscalar('y')\n",
        "\n",
        "# Call your function on the inputs\n",
        "# Collect the output\n",
        "pytensor_output = pytensor_distance(a,b,x,y)\n",
        "\n",
        "# Compile your PyTensor based function\n",
        "pytensor_distance_compiled = function([a, b, x, y], pytensor_output)"
      ],
      "metadata": {
        "id": "5EuXlJ_khCvo"
      },
      "execution_count": 9,
      "outputs": []
    },
    {
      "cell_type": "markdown",
      "source": [
        "**1aiii. Test the function**"
      ],
      "metadata": {
        "id": "zvsAA8PJzDV3"
      }
    },
    {
      "cell_type": "code",
      "source": [
        "def pytensor_test(a,b,x,y):\n",
        "    try:\n",
        "        # Note: It is possible for minute differences to be created, usually <1e-10, between the functions, so consider rounding, especially in more complex functions\n",
        "        assert pytensor_distance_compiled(a,b,x,y) == python_distance(a,b,x,y), f\"{pytensor_distance_compiled(a,b,x,y)} != {python_distance(a,b,x,y)}\"\n",
        "    except AssertionError as err:\n",
        "        raise AssertionError(f\"Test failed: {err}\")\n",
        "\n",
        "a, b, x, y = 0.5, 0.5, 1.0, 1.0\n",
        "pytensor_test(a,b,x,y)"
      ],
      "metadata": {
        "colab": {
          "base_uri": "https://localhost:8080/",
          "height": 408
        },
        "id": "Gx6jfyyOgg0H",
        "outputId": "96502fc8-cd3a-4e0f-f564-afc118916269"
      },
      "execution_count": 16,
      "outputs": [
        {
          "output_type": "error",
          "ename": "AssertionError",
          "evalue": "Test failed: 0.75 != 0.7071067811865476",
          "traceback": [
            "\u001b[0;31m---------------------------------------------------------------------------\u001b[0m",
            "\u001b[0;31mAssertionError\u001b[0m                            Traceback (most recent call last)",
            "\u001b[0;32m<ipython-input-16-721f1502a21e>\u001b[0m in \u001b[0;36mpytensor_test\u001b[0;34m(a, b, x, y)\u001b[0m\n\u001b[1;32m      3\u001b[0m         \u001b[0;31m# Note: It is possible for minute differences to be created, usually <1e-10, between the functions, so consider rounding, especially in more complex functions\u001b[0m\u001b[0;34m\u001b[0m\u001b[0;34m\u001b[0m\u001b[0m\n\u001b[0;32m----> 4\u001b[0;31m         \u001b[0;32massert\u001b[0m \u001b[0mpytensor_distance_compiled\u001b[0m\u001b[0;34m(\u001b[0m\u001b[0ma\u001b[0m\u001b[0;34m,\u001b[0m\u001b[0mb\u001b[0m\u001b[0;34m,\u001b[0m\u001b[0mx\u001b[0m\u001b[0;34m,\u001b[0m\u001b[0my\u001b[0m\u001b[0;34m)\u001b[0m \u001b[0;34m==\u001b[0m \u001b[0mpython_distance\u001b[0m\u001b[0;34m(\u001b[0m\u001b[0ma\u001b[0m\u001b[0;34m,\u001b[0m\u001b[0mb\u001b[0m\u001b[0;34m,\u001b[0m\u001b[0mx\u001b[0m\u001b[0;34m,\u001b[0m\u001b[0my\u001b[0m\u001b[0;34m)\u001b[0m\u001b[0;34m,\u001b[0m \u001b[0;34mf\"{pytensor_distance_compiled(a,b,x,y)} != {python_distance(a,b,x,y)}\"\u001b[0m\u001b[0;34m\u001b[0m\u001b[0;34m\u001b[0m\u001b[0m\n\u001b[0m\u001b[1;32m      5\u001b[0m     \u001b[0;32mexcept\u001b[0m \u001b[0mAssertionError\u001b[0m \u001b[0;32mas\u001b[0m \u001b[0merr\u001b[0m\u001b[0;34m:\u001b[0m\u001b[0;34m\u001b[0m\u001b[0;34m\u001b[0m\u001b[0m\n",
            "\u001b[0;31mAssertionError\u001b[0m: 0.75 != 0.7071067811865476",
            "\nDuring handling of the above exception, another exception occurred:\n",
            "\u001b[0;31mAssertionError\u001b[0m                            Traceback (most recent call last)",
            "\u001b[0;32m<ipython-input-16-721f1502a21e>\u001b[0m in \u001b[0;36m<cell line: 9>\u001b[0;34m()\u001b[0m\n\u001b[1;32m      7\u001b[0m \u001b[0;34m\u001b[0m\u001b[0m\n\u001b[1;32m      8\u001b[0m \u001b[0ma\u001b[0m\u001b[0;34m,\u001b[0m \u001b[0mb\u001b[0m\u001b[0;34m,\u001b[0m \u001b[0mx\u001b[0m\u001b[0;34m,\u001b[0m \u001b[0my\u001b[0m \u001b[0;34m=\u001b[0m \u001b[0;36m0.5\u001b[0m\u001b[0;34m,\u001b[0m \u001b[0;36m0.5\u001b[0m\u001b[0;34m,\u001b[0m \u001b[0;36m1.0\u001b[0m\u001b[0;34m,\u001b[0m \u001b[0;36m1.0\u001b[0m\u001b[0;34m\u001b[0m\u001b[0;34m\u001b[0m\u001b[0m\n\u001b[0;32m----> 9\u001b[0;31m \u001b[0mpytensor_test\u001b[0m\u001b[0;34m(\u001b[0m\u001b[0ma\u001b[0m\u001b[0;34m,\u001b[0m\u001b[0mb\u001b[0m\u001b[0;34m,\u001b[0m\u001b[0mx\u001b[0m\u001b[0;34m,\u001b[0m\u001b[0my\u001b[0m\u001b[0;34m)\u001b[0m\u001b[0;34m\u001b[0m\u001b[0;34m\u001b[0m\u001b[0m\n\u001b[0m",
            "\u001b[0;32m<ipython-input-16-721f1502a21e>\u001b[0m in \u001b[0;36mpytensor_test\u001b[0;34m(a, b, x, y)\u001b[0m\n\u001b[1;32m      4\u001b[0m         \u001b[0;32massert\u001b[0m \u001b[0mpytensor_distance_compiled\u001b[0m\u001b[0;34m(\u001b[0m\u001b[0ma\u001b[0m\u001b[0;34m,\u001b[0m\u001b[0mb\u001b[0m\u001b[0;34m,\u001b[0m\u001b[0mx\u001b[0m\u001b[0;34m,\u001b[0m\u001b[0my\u001b[0m\u001b[0;34m)\u001b[0m \u001b[0;34m==\u001b[0m \u001b[0mpython_distance\u001b[0m\u001b[0;34m(\u001b[0m\u001b[0ma\u001b[0m\u001b[0;34m,\u001b[0m\u001b[0mb\u001b[0m\u001b[0;34m,\u001b[0m\u001b[0mx\u001b[0m\u001b[0;34m,\u001b[0m\u001b[0my\u001b[0m\u001b[0;34m)\u001b[0m\u001b[0;34m,\u001b[0m \u001b[0;34mf\"{pytensor_distance_compiled(a,b,x,y)} != {python_distance(a,b,x,y)}\"\u001b[0m\u001b[0;34m\u001b[0m\u001b[0;34m\u001b[0m\u001b[0m\n\u001b[1;32m      5\u001b[0m     \u001b[0;32mexcept\u001b[0m \u001b[0mAssertionError\u001b[0m \u001b[0;32mas\u001b[0m \u001b[0merr\u001b[0m\u001b[0;34m:\u001b[0m\u001b[0;34m\u001b[0m\u001b[0;34m\u001b[0m\u001b[0m\n\u001b[0;32m----> 6\u001b[0;31m         \u001b[0;32mraise\u001b[0m \u001b[0mAssertionError\u001b[0m\u001b[0;34m(\u001b[0m\u001b[0;34mf\"Test failed: {err}\"\u001b[0m\u001b[0;34m)\u001b[0m\u001b[0;34m\u001b[0m\u001b[0;34m\u001b[0m\u001b[0m\n\u001b[0m\u001b[1;32m      7\u001b[0m \u001b[0;34m\u001b[0m\u001b[0m\n\u001b[1;32m      8\u001b[0m \u001b[0ma\u001b[0m\u001b[0;34m,\u001b[0m \u001b[0mb\u001b[0m\u001b[0;34m,\u001b[0m \u001b[0mx\u001b[0m\u001b[0;34m,\u001b[0m \u001b[0my\u001b[0m \u001b[0;34m=\u001b[0m \u001b[0;36m0.5\u001b[0m\u001b[0;34m,\u001b[0m \u001b[0;36m0.5\u001b[0m\u001b[0;34m,\u001b[0m \u001b[0;36m1.0\u001b[0m\u001b[0;34m,\u001b[0m \u001b[0;36m1.0\u001b[0m\u001b[0;34m\u001b[0m\u001b[0;34m\u001b[0m\u001b[0m\n",
            "\u001b[0;31mAssertionError\u001b[0m: Test failed: 0.75 != 0.7071067811865476"
          ]
        }
      ]
    },
    {
      "cell_type": "markdown",
      "source": [
        "**1aiv. Debug the function**"
      ],
      "metadata": {
        "id": "5iWbJpVb0FFZ"
      }
    },
    {
      "cell_type": "code",
      "source": [
        "# unit functions\n",
        "def pytensor_distance_a(a, x):\n",
        "    return (x-a) ** 2\n",
        "\n",
        "def pytensor_distance_b(b, y):\n",
        "    return (y-b) * 2\n",
        "\n",
        "# Ideally write your overall function in terms of the unit functions and test it too\n",
        "# Typos are pretty common and one way you will catch them is if this version...\n",
        "# ...of your pytensor function works while your original one didn't.\n",
        "def pytensor_distance_c(a,b,x,y):\n",
        "    return pt.sqrt(pytensor_distance_a(a,x) + pytensor_distance_b(b,y))\n",
        "\n",
        "# Initialize Inputs - this will be explained more later\n",
        "a = pt.dscalar('a')\n",
        "b = pt.dscalar('b')\n",
        "x = pt.dscalar('x')\n",
        "y = pt.dscalar('y')\n",
        "\n",
        "# Call your functions on the inputs\n",
        "# Collect the output\n",
        "pytensor_output_a = pytensor_distance_a(a,x)\n",
        "pytensor_output_b = pytensor_distance_b(b,y)\n",
        "pytensor_output_c = pytensor_distance_c(a,b,x,y)\n",
        "\n",
        "# Compile your PyTensor-based functions\n",
        "pytensor_distance_compiled_a = function([a, x], pytensor_output_a)\n",
        "pytensor_distance_compiled_b = function([b, y], pytensor_output_b)\n",
        "pytensor_distance_compiled_c = function([a, b, x, y], pytensor_output_c)"
      ],
      "metadata": {
        "id": "nWLdbveY5Kri"
      },
      "execution_count": 18,
      "outputs": []
    },
    {
      "cell_type": "code",
      "execution_count": 21,
      "metadata": {
        "id": "PBmwNl2Ax1ha"
      },
      "outputs": [],
      "source": [
        "# Take your original function and do the same\n",
        "def python_distance_a(a, x):\n",
        "    return (x-a) ** 2\n",
        "\n",
        "def python_distance_b(b, y):\n",
        "    return (y-b) ** 2\n",
        "\n",
        "def python_distance_c(a,b,x,y):\n",
        "    return np.sqrt(python_distance_a(a,x) + python_distance_b(b,y))"
      ]
    },
    {
      "cell_type": "code",
      "source": [
        "# Run test\n",
        "def pytensor_unit_tests(a,b,x,y):\n",
        "    try:\n",
        "        assert pytensor_distance_a(a, x) == python_distance_a(a, x), f\"Test 1 - {pytensor_distance_a(a, x)} != {python_distance_a(a, x)}\"\n",
        "        assert pytensor_distance_b(b, y) == python_distance_b(b, y), f\"Test 2 - {pytensor_distance_b(b, y)} != {python_distance_b(b, y)}\"\n",
        "        assert pytensor_distance_compiled_c(a,b,x,y) == python_distance(a,b,x,y), f\"Test 3 - {pytensor_distance_compiled_c(a,b,x,y)} != {python_distance(a,b,x,y)}\"\n",
        "\n",
        "    except AssertionError as err:\n",
        "        raise AssertionError(f\"Test failed: {err}\")\n",
        "\n",
        "a, b, x, y = 0.5, 0.5, 1.0, 1.0\n",
        "pytensor_unit_tests(a,b,x,y)"
      ],
      "metadata": {
        "colab": {
          "base_uri": "https://localhost:8080/",
          "height": 408
        },
        "id": "lIGC0UUk5ueS",
        "outputId": "310ae847-c497-487b-f459-a355adcacfd4"
      },
      "execution_count": 24,
      "outputs": [
        {
          "output_type": "error",
          "ename": "AssertionError",
          "evalue": "Test failed: Test 2 - 1.0 != 0.25",
          "traceback": [
            "\u001b[0;31m---------------------------------------------------------------------------\u001b[0m",
            "\u001b[0;31mAssertionError\u001b[0m                            Traceback (most recent call last)",
            "\u001b[0;32m<ipython-input-24-d2d6c1f512a9>\u001b[0m in \u001b[0;36mpytensor_unit_tests\u001b[0;34m(a, b, x, y)\u001b[0m\n\u001b[1;32m      4\u001b[0m         \u001b[0;32massert\u001b[0m \u001b[0mpytensor_distance_a\u001b[0m\u001b[0;34m(\u001b[0m\u001b[0ma\u001b[0m\u001b[0;34m,\u001b[0m \u001b[0mx\u001b[0m\u001b[0;34m)\u001b[0m \u001b[0;34m==\u001b[0m \u001b[0mpython_distance_a\u001b[0m\u001b[0;34m(\u001b[0m\u001b[0ma\u001b[0m\u001b[0;34m,\u001b[0m \u001b[0mx\u001b[0m\u001b[0;34m)\u001b[0m\u001b[0;34m,\u001b[0m \u001b[0;34mf\"Test 1 - {pytensor_distance_a(a, x)} != {python_distance_a(a, x)}\"\u001b[0m\u001b[0;34m\u001b[0m\u001b[0;34m\u001b[0m\u001b[0m\n\u001b[0;32m----> 5\u001b[0;31m         \u001b[0;32massert\u001b[0m \u001b[0mpytensor_distance_b\u001b[0m\u001b[0;34m(\u001b[0m\u001b[0mb\u001b[0m\u001b[0;34m,\u001b[0m \u001b[0my\u001b[0m\u001b[0;34m)\u001b[0m \u001b[0;34m==\u001b[0m \u001b[0mpython_distance_b\u001b[0m\u001b[0;34m(\u001b[0m\u001b[0mb\u001b[0m\u001b[0;34m,\u001b[0m \u001b[0my\u001b[0m\u001b[0;34m)\u001b[0m\u001b[0;34m,\u001b[0m \u001b[0;34mf\"Test 2 - {pytensor_distance_b(b, y)} != {python_distance_b(b, y)}\"\u001b[0m\u001b[0;34m\u001b[0m\u001b[0;34m\u001b[0m\u001b[0m\n\u001b[0m\u001b[1;32m      6\u001b[0m         \u001b[0;32massert\u001b[0m \u001b[0mpytensor_distance_compiled_c\u001b[0m\u001b[0;34m(\u001b[0m\u001b[0ma\u001b[0m\u001b[0;34m,\u001b[0m\u001b[0mb\u001b[0m\u001b[0;34m,\u001b[0m\u001b[0mx\u001b[0m\u001b[0;34m,\u001b[0m\u001b[0my\u001b[0m\u001b[0;34m)\u001b[0m \u001b[0;34m==\u001b[0m \u001b[0mpython_distance\u001b[0m\u001b[0;34m(\u001b[0m\u001b[0ma\u001b[0m\u001b[0;34m,\u001b[0m\u001b[0mb\u001b[0m\u001b[0;34m,\u001b[0m\u001b[0mx\u001b[0m\u001b[0;34m,\u001b[0m\u001b[0my\u001b[0m\u001b[0;34m)\u001b[0m\u001b[0;34m,\u001b[0m \u001b[0;34mf\"Test 3 - {pytensor_distance_compiled_c(a,b,x,y)} != {python_distance(a,b,x,y)}\"\u001b[0m\u001b[0;34m\u001b[0m\u001b[0;34m\u001b[0m\u001b[0m\n",
            "\u001b[0;31mAssertionError\u001b[0m: Test 2 - 1.0 != 0.25",
            "\nDuring handling of the above exception, another exception occurred:\n",
            "\u001b[0;31mAssertionError\u001b[0m                            Traceback (most recent call last)",
            "\u001b[0;32m<ipython-input-24-d2d6c1f512a9>\u001b[0m in \u001b[0;36m<cell line: 12>\u001b[0;34m()\u001b[0m\n\u001b[1;32m     10\u001b[0m \u001b[0;34m\u001b[0m\u001b[0m\n\u001b[1;32m     11\u001b[0m \u001b[0ma\u001b[0m\u001b[0;34m,\u001b[0m \u001b[0mb\u001b[0m\u001b[0;34m,\u001b[0m \u001b[0mx\u001b[0m\u001b[0;34m,\u001b[0m \u001b[0my\u001b[0m \u001b[0;34m=\u001b[0m \u001b[0;36m0.5\u001b[0m\u001b[0;34m,\u001b[0m \u001b[0;36m0.5\u001b[0m\u001b[0;34m,\u001b[0m \u001b[0;36m1.0\u001b[0m\u001b[0;34m,\u001b[0m \u001b[0;36m1.0\u001b[0m\u001b[0;34m\u001b[0m\u001b[0;34m\u001b[0m\u001b[0m\n\u001b[0;32m---> 12\u001b[0;31m \u001b[0mpytensor_unit_tests\u001b[0m\u001b[0;34m(\u001b[0m\u001b[0ma\u001b[0m\u001b[0;34m,\u001b[0m\u001b[0mb\u001b[0m\u001b[0;34m,\u001b[0m\u001b[0mx\u001b[0m\u001b[0;34m,\u001b[0m\u001b[0my\u001b[0m\u001b[0;34m)\u001b[0m\u001b[0;34m\u001b[0m\u001b[0;34m\u001b[0m\u001b[0m\n\u001b[0m",
            "\u001b[0;32m<ipython-input-24-d2d6c1f512a9>\u001b[0m in \u001b[0;36mpytensor_unit_tests\u001b[0;34m(a, b, x, y)\u001b[0m\n\u001b[1;32m      7\u001b[0m \u001b[0;34m\u001b[0m\u001b[0m\n\u001b[1;32m      8\u001b[0m     \u001b[0;32mexcept\u001b[0m \u001b[0mAssertionError\u001b[0m \u001b[0;32mas\u001b[0m \u001b[0merr\u001b[0m\u001b[0;34m:\u001b[0m\u001b[0;34m\u001b[0m\u001b[0;34m\u001b[0m\u001b[0m\n\u001b[0;32m----> 9\u001b[0;31m         \u001b[0;32mraise\u001b[0m \u001b[0mAssertionError\u001b[0m\u001b[0;34m(\u001b[0m\u001b[0;34mf\"Test failed: {err}\"\u001b[0m\u001b[0;34m)\u001b[0m\u001b[0;34m\u001b[0m\u001b[0;34m\u001b[0m\u001b[0m\n\u001b[0m\u001b[1;32m     10\u001b[0m \u001b[0;34m\u001b[0m\u001b[0m\n\u001b[1;32m     11\u001b[0m \u001b[0ma\u001b[0m\u001b[0;34m,\u001b[0m \u001b[0mb\u001b[0m\u001b[0;34m,\u001b[0m \u001b[0mx\u001b[0m\u001b[0;34m,\u001b[0m \u001b[0my\u001b[0m \u001b[0;34m=\u001b[0m \u001b[0;36m0.5\u001b[0m\u001b[0;34m,\u001b[0m \u001b[0;36m0.5\u001b[0m\u001b[0;34m,\u001b[0m \u001b[0;36m1.0\u001b[0m\u001b[0;34m,\u001b[0m \u001b[0;36m1.0\u001b[0m\u001b[0;34m\u001b[0m\u001b[0;34m\u001b[0m\u001b[0m\n",
            "\u001b[0;31mAssertionError\u001b[0m: Test failed: Test 2 - 1.0 != 0.25"
          ]
        }
      ]
    },
    {
      "cell_type": "markdown",
      "source": [
        "Hopefully through this process you will hone in on your typo and fix your original function.\n",
        "\n",
        "Note: It is possible to print statements in PyTensor. I have not investigated it much, but it looks like it could be useful in some situations: https://pytensor.readthedocs.io/en/latest/library/printing.html"
      ],
      "metadata": {
        "id": "35SNdHoM8VKO"
      }
    }
  ]
}