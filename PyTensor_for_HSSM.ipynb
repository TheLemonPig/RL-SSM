{
  "nbformat": 4,
  "nbformat_minor": 0,
  "metadata": {
    "colab": {
      "provenance": [],
      "authorship_tag": "ABX9TyPW433y+ws5A1dIRfVPoqPN",
      "include_colab_link": true
    },
    "kernelspec": {
      "name": "python3",
      "display_name": "Python 3"
    },
    "language_info": {
      "name": "python"
    }
  },
  "cells": [
    {
      "cell_type": "markdown",
      "metadata": {
        "id": "view-in-github",
        "colab_type": "text"
      },
      "source": [
        "<a href=\"https://colab.research.google.com/github/TheLemonPig/RL-SSM/blob/main/PyTensor_for_HSSM.ipynb\" target=\"_parent\"><img src=\"https://colab.research.google.com/assets/colab-badge.svg\" alt=\"Open In Colab\"/></a>"
      ]
    },
    {
      "cell_type": "markdown",
      "source": [
        "# PyTensor for HSSM"
      ],
      "metadata": {
        "id": "ukXZe3jOfXG3"
      }
    },
    {
      "cell_type": "markdown",
      "source": [
        "**TODO: Split the Sections into their own slimmer notebooks e.g. one for Introduction to PyTensor**"
      ],
      "metadata": {
        "id": "DHfD1Ig68snH"
      }
    },
    {
      "cell_type": "markdown",
      "source": [
        "##1. Introduction to PyTensor"
      ],
      "metadata": {
        "id": "0Pz_ORzJffLA"
      }
    },
    {
      "cell_type": "markdown",
      "source": [
        "More can be found at: https://pytensor.readthedocs.io/en/latest/tutorial/index.html"
      ],
      "metadata": {
        "id": "oYoaBBd9fiBd"
      }
    },
    {
      "cell_type": "code",
      "source": [
        "# This is the conventional way to import PyTensor\n",
        "import pytensor.tensor as pt\n",
        "from pytensor import function\n",
        "\n",
        "import numpy as np"
      ],
      "metadata": {
        "id": "Qeru0qFZghwz"
      },
      "execution_count": 4,
      "outputs": []
    },
    {
      "cell_type": "markdown",
      "source": [
        "More can be found at: https://pytensor.readthedocs.io/en/latest/tutorial/adding.html"
      ],
      "metadata": {
        "id": "btm4InBFhz_i"
      }
    },
    {
      "cell_type": "markdown",
      "source": [
        "PyTensor is a language built for optimization. If you are familiar with NumPy and SymPy, it is sort of a combination of the two. This tutorial will not assume you are familiar with SymPy but it will assume you are familiar with NumPy."
      ],
      "metadata": {
        "id": "1QaVsUv-h9hu"
      }
    },
    {
      "cell_type": "markdown",
      "source": [
        "The goal in PyTensor, is to create optimized differentiable versions of functions you have written in other languages. It achieves this by converting your python code into C in a differentiable format. The details of this are not important. But the consequences are:\n",
        "1. PyTensor requires you to rewrite your functions in terms of a more limited set of functions\n",
        "2. PyTensor-based functions must be passed to a PyTensor compiler before they will work in Python\n",
        "3. The PyTensor compiler requires additional information about your input variables in order to work\n",
        "4. Downstream effects if your are not able to rewrite your function exactly (this is common with more complex functions)\n",
        "\n",
        "In reality this creates two main additional stages to your workflow:\n",
        "1. Rewriting functions\n",
        "2. Compiling functions\n",
        "\n",
        "In addition, one part of your workflow will be drastically changed, which is how you debug your function. Since PyTensor-based functions do not work in Python, you can't use your debugger or use print statements whenever you want to debug your code. Instead, you will need to create a unit test, which will require compiling the relevant PyTensor code into its own function."
      ],
      "metadata": {
        "id": "N86E4O_2igv9"
      }
    },
    {
      "cell_type": "markdown",
      "source": [
        "Here I will give a simple example of what that would all look like, including debugging.\n",
        "\n",
        "Suppose you need to write a function to find the distance between two locations, using the function $f(a,b,x,y) = \\sqrt{(x-a)^2 + (y-b)^2}$"
      ],
      "metadata": {
        "id": "3dCE8HoolnbT"
      }
    },
    {
      "cell_type": "code",
      "source": [
        "# Python Pythagorus function\n",
        "# Note: You would not need to rewrite much of this functuo\n",
        "# ...but we will do so to show you all the steps\n",
        "def python_distance(a, b,x,y):\n",
        "    return np.sqrt((x-a)**2 + (y-b)**2)"
      ],
      "metadata": {
        "id": "GIVpybORs0Sp"
      },
      "execution_count": 5,
      "outputs": []
    },
    {
      "cell_type": "markdown",
      "source": [
        "###1a. Rewrite the function\n",
        "\n",
        "*You will see in the documentation that you do not need to write functions as formally as we will. But since we will always be doing this, please take this as your best starting point* *italicized text*"
      ],
      "metadata": {
        "id": "UuntyhLTmaCw"
      }
    },
    {
      "cell_type": "code",
      "source": [
        "# Distance function (pretending the bug is not easy to see)\n",
        "def pytensor_distance(a, b, x, y):\n",
        "    # Note that arithmetic operations do not need to be rewritten\n",
        "    # Also note that PyTensor typically has analagous functions to NumPy, often with the same name\n",
        "    return pt.sqrt((x-a) ** 2 + (y-b) * 2)"
      ],
      "metadata": {
        "id": "Xz6XVZUxm7EB"
      },
      "execution_count": 7,
      "outputs": []
    },
    {
      "cell_type": "markdown",
      "source": [
        "###1b. Compile the function\n",
        "\n"
      ],
      "metadata": {
        "id": "IqKpaeFQnW0e"
      }
    },
    {
      "cell_type": "code",
      "source": [
        "# Initialize Inputs - this will be explained more later\n",
        "a = pt.dscalar('a')\n",
        "b = pt.dscalar('b')\n",
        "x = pt.dscalar('x')\n",
        "y = pt.dscalar('y')\n",
        "\n",
        "# Call your function on the inputs\n",
        "# Collect the output\n",
        "pytensor_output = pytensor_distance(a,b,x,y)\n",
        "\n",
        "# Compile your PyTensor based function\n",
        "pytensor_distance_compiled = function([a, b, x, y], pytensor_output)"
      ],
      "metadata": {
        "id": "5EuXlJ_khCvo"
      },
      "execution_count": 9,
      "outputs": []
    },
    {
      "cell_type": "markdown",
      "source": [
        "###1c. Test the function"
      ],
      "metadata": {
        "id": "zvsAA8PJzDV3"
      }
    },
    {
      "cell_type": "code",
      "source": [
        "def pytensor_test(a,b,x,y):\n",
        "    try:\n",
        "        # Note: It is possible for minute differences to be created, usually <1e-10, between the functions, so consider rounding, especially in more complex functions\n",
        "        assert pytensor_distance_compiled(a,b,x,y) == python_distance(a,b,x,y), f\"{pytensor_distance_compiled(a,b,x,y)} != {python_distance(a,b,x,y)}\"\n",
        "    except AssertionError as err:\n",
        "        raise AssertionError(f\"Test failed: {err}\")\n",
        "\n",
        "a, b, x, y = 0.5, 0.5, 1.0, 1.0\n",
        "pytensor_test(a,b,x,y)"
      ],
      "metadata": {
        "colab": {
          "base_uri": "https://localhost:8080/",
          "height": 408
        },
        "id": "Gx6jfyyOgg0H",
        "outputId": "96502fc8-cd3a-4e0f-f564-afc118916269"
      },
      "execution_count": 16,
      "outputs": [
        {
          "output_type": "error",
          "ename": "AssertionError",
          "evalue": "Test failed: 0.75 != 0.7071067811865476",
          "traceback": [
            "\u001b[0;31m---------------------------------------------------------------------------\u001b[0m",
            "\u001b[0;31mAssertionError\u001b[0m                            Traceback (most recent call last)",
            "\u001b[0;32m<ipython-input-16-721f1502a21e>\u001b[0m in \u001b[0;36mpytensor_test\u001b[0;34m(a, b, x, y)\u001b[0m\n\u001b[1;32m      3\u001b[0m         \u001b[0;31m# Note: It is possible for minute differences to be created, usually <1e-10, between the functions, so consider rounding, especially in more complex functions\u001b[0m\u001b[0;34m\u001b[0m\u001b[0;34m\u001b[0m\u001b[0m\n\u001b[0;32m----> 4\u001b[0;31m         \u001b[0;32massert\u001b[0m \u001b[0mpytensor_distance_compiled\u001b[0m\u001b[0;34m(\u001b[0m\u001b[0ma\u001b[0m\u001b[0;34m,\u001b[0m\u001b[0mb\u001b[0m\u001b[0;34m,\u001b[0m\u001b[0mx\u001b[0m\u001b[0;34m,\u001b[0m\u001b[0my\u001b[0m\u001b[0;34m)\u001b[0m \u001b[0;34m==\u001b[0m \u001b[0mpython_distance\u001b[0m\u001b[0;34m(\u001b[0m\u001b[0ma\u001b[0m\u001b[0;34m,\u001b[0m\u001b[0mb\u001b[0m\u001b[0;34m,\u001b[0m\u001b[0mx\u001b[0m\u001b[0;34m,\u001b[0m\u001b[0my\u001b[0m\u001b[0;34m)\u001b[0m\u001b[0;34m,\u001b[0m \u001b[0;34mf\"{pytensor_distance_compiled(a,b,x,y)} != {python_distance(a,b,x,y)}\"\u001b[0m\u001b[0;34m\u001b[0m\u001b[0;34m\u001b[0m\u001b[0m\n\u001b[0m\u001b[1;32m      5\u001b[0m     \u001b[0;32mexcept\u001b[0m \u001b[0mAssertionError\u001b[0m \u001b[0;32mas\u001b[0m \u001b[0merr\u001b[0m\u001b[0;34m:\u001b[0m\u001b[0;34m\u001b[0m\u001b[0;34m\u001b[0m\u001b[0m\n",
            "\u001b[0;31mAssertionError\u001b[0m: 0.75 != 0.7071067811865476",
            "\nDuring handling of the above exception, another exception occurred:\n",
            "\u001b[0;31mAssertionError\u001b[0m                            Traceback (most recent call last)",
            "\u001b[0;32m<ipython-input-16-721f1502a21e>\u001b[0m in \u001b[0;36m<cell line: 9>\u001b[0;34m()\u001b[0m\n\u001b[1;32m      7\u001b[0m \u001b[0;34m\u001b[0m\u001b[0m\n\u001b[1;32m      8\u001b[0m \u001b[0ma\u001b[0m\u001b[0;34m,\u001b[0m \u001b[0mb\u001b[0m\u001b[0;34m,\u001b[0m \u001b[0mx\u001b[0m\u001b[0;34m,\u001b[0m \u001b[0my\u001b[0m \u001b[0;34m=\u001b[0m \u001b[0;36m0.5\u001b[0m\u001b[0;34m,\u001b[0m \u001b[0;36m0.5\u001b[0m\u001b[0;34m,\u001b[0m \u001b[0;36m1.0\u001b[0m\u001b[0;34m,\u001b[0m \u001b[0;36m1.0\u001b[0m\u001b[0;34m\u001b[0m\u001b[0;34m\u001b[0m\u001b[0m\n\u001b[0;32m----> 9\u001b[0;31m \u001b[0mpytensor_test\u001b[0m\u001b[0;34m(\u001b[0m\u001b[0ma\u001b[0m\u001b[0;34m,\u001b[0m\u001b[0mb\u001b[0m\u001b[0;34m,\u001b[0m\u001b[0mx\u001b[0m\u001b[0;34m,\u001b[0m\u001b[0my\u001b[0m\u001b[0;34m)\u001b[0m\u001b[0;34m\u001b[0m\u001b[0;34m\u001b[0m\u001b[0m\n\u001b[0m",
            "\u001b[0;32m<ipython-input-16-721f1502a21e>\u001b[0m in \u001b[0;36mpytensor_test\u001b[0;34m(a, b, x, y)\u001b[0m\n\u001b[1;32m      4\u001b[0m         \u001b[0;32massert\u001b[0m \u001b[0mpytensor_distance_compiled\u001b[0m\u001b[0;34m(\u001b[0m\u001b[0ma\u001b[0m\u001b[0;34m,\u001b[0m\u001b[0mb\u001b[0m\u001b[0;34m,\u001b[0m\u001b[0mx\u001b[0m\u001b[0;34m,\u001b[0m\u001b[0my\u001b[0m\u001b[0;34m)\u001b[0m \u001b[0;34m==\u001b[0m \u001b[0mpython_distance\u001b[0m\u001b[0;34m(\u001b[0m\u001b[0ma\u001b[0m\u001b[0;34m,\u001b[0m\u001b[0mb\u001b[0m\u001b[0;34m,\u001b[0m\u001b[0mx\u001b[0m\u001b[0;34m,\u001b[0m\u001b[0my\u001b[0m\u001b[0;34m)\u001b[0m\u001b[0;34m,\u001b[0m \u001b[0;34mf\"{pytensor_distance_compiled(a,b,x,y)} != {python_distance(a,b,x,y)}\"\u001b[0m\u001b[0;34m\u001b[0m\u001b[0;34m\u001b[0m\u001b[0m\n\u001b[1;32m      5\u001b[0m     \u001b[0;32mexcept\u001b[0m \u001b[0mAssertionError\u001b[0m \u001b[0;32mas\u001b[0m \u001b[0merr\u001b[0m\u001b[0;34m:\u001b[0m\u001b[0;34m\u001b[0m\u001b[0;34m\u001b[0m\u001b[0m\n\u001b[0;32m----> 6\u001b[0;31m         \u001b[0;32mraise\u001b[0m \u001b[0mAssertionError\u001b[0m\u001b[0;34m(\u001b[0m\u001b[0;34mf\"Test failed: {err}\"\u001b[0m\u001b[0;34m)\u001b[0m\u001b[0;34m\u001b[0m\u001b[0;34m\u001b[0m\u001b[0m\n\u001b[0m\u001b[1;32m      7\u001b[0m \u001b[0;34m\u001b[0m\u001b[0m\n\u001b[1;32m      8\u001b[0m \u001b[0ma\u001b[0m\u001b[0;34m,\u001b[0m \u001b[0mb\u001b[0m\u001b[0;34m,\u001b[0m \u001b[0mx\u001b[0m\u001b[0;34m,\u001b[0m \u001b[0my\u001b[0m \u001b[0;34m=\u001b[0m \u001b[0;36m0.5\u001b[0m\u001b[0;34m,\u001b[0m \u001b[0;36m0.5\u001b[0m\u001b[0;34m,\u001b[0m \u001b[0;36m1.0\u001b[0m\u001b[0;34m,\u001b[0m \u001b[0;36m1.0\u001b[0m\u001b[0;34m\u001b[0m\u001b[0;34m\u001b[0m\u001b[0m\n",
            "\u001b[0;31mAssertionError\u001b[0m: Test failed: 0.75 != 0.7071067811865476"
          ]
        }
      ]
    },
    {
      "cell_type": "markdown",
      "source": [
        "###1d. Debug the function"
      ],
      "metadata": {
        "id": "5iWbJpVb0FFZ"
      }
    },
    {
      "cell_type": "code",
      "source": [
        "# unit functions\n",
        "def pytensor_distance_a(a, x):\n",
        "    return (x-a) ** 2\n",
        "\n",
        "def pytensor_distance_b(b, y):\n",
        "    return (y-b) * 2\n",
        "\n",
        "# Ideally write your overall function in terms of the unit functions and test it too\n",
        "# Typos are pretty common and one way you will catch them is if this version...\n",
        "# ...of your pytensor function works while your original one didn't.\n",
        "def pytensor_distance_c(a,b,x,y):\n",
        "    return pt.sqrt(pytensor_distance_a(a,x) + pytensor_distance_b(b,y))\n",
        "\n",
        "# Initialize Inputs - this will be explained more later\n",
        "a = pt.dscalar('a')\n",
        "b = pt.dscalar('b')\n",
        "x = pt.dscalar('x')\n",
        "y = pt.dscalar('y')\n",
        "\n",
        "# Call your functions on the inputs\n",
        "# Collect the output\n",
        "pytensor_output_a = pytensor_distance_a(a,x)\n",
        "pytensor_output_b = pytensor_distance_b(b,y)\n",
        "pytensor_output_c = pytensor_distance_c(a,b,x,y)\n",
        "\n",
        "# Compile your PyTensor-based functions\n",
        "pytensor_distance_compiled_a = function([a, x], pytensor_output_a)\n",
        "pytensor_distance_compiled_b = function([b, y], pytensor_output_b)\n",
        "pytensor_distance_compiled_c = function([a, b, x, y], pytensor_output_c)"
      ],
      "metadata": {
        "id": "nWLdbveY5Kri"
      },
      "execution_count": 18,
      "outputs": []
    },
    {
      "cell_type": "code",
      "execution_count": 21,
      "metadata": {
        "id": "PBmwNl2Ax1ha"
      },
      "outputs": [],
      "source": [
        "# Take your original function and do the same\n",
        "def python_distance_a(a, x):\n",
        "    return (x-a) ** 2\n",
        "\n",
        "def python_distance_b(b, y):\n",
        "    return (y-b) ** 2\n",
        "\n",
        "def python_distance_c(a,b,x,y):\n",
        "    return np.sqrt(python_distance_a(a,x) + python_distance_b(b,y))"
      ]
    },
    {
      "cell_type": "code",
      "source": [
        "# Run test\n",
        "def pytensor_unit_tests(a,b,x,y):\n",
        "    try:\n",
        "        assert pytensor_distance_a(a, x) == python_distance_a(a, x), f\"Test 1 - {pytensor_distance_a(a, x)} != {python_distance_a(a, x)}\"\n",
        "        assert pytensor_distance_b(b, y) == python_distance_b(b, y), f\"Test 2 - {pytensor_distance_b(b, y)} != {python_distance_b(b, y)}\"\n",
        "        assert pytensor_distance_compiled_c(a,b,x,y) == python_distance(a,b,x,y), f\"Test 3 - {pytensor_distance_compiled_c(a,b,x,y)} != {python_distance(a,b,x,y)}\"\n",
        "\n",
        "    except AssertionError as err:\n",
        "        raise AssertionError(f\"Test failed: {err}\")\n",
        "\n",
        "a, b, x, y = 0.5, 0.5, 1.0, 1.0\n",
        "pytensor_unit_tests(a,b,x,y)"
      ],
      "metadata": {
        "colab": {
          "base_uri": "https://localhost:8080/",
          "height": 408
        },
        "id": "lIGC0UUk5ueS",
        "outputId": "310ae847-c497-487b-f459-a355adcacfd4"
      },
      "execution_count": 24,
      "outputs": [
        {
          "output_type": "error",
          "ename": "AssertionError",
          "evalue": "Test failed: Test 2 - 1.0 != 0.25",
          "traceback": [
            "\u001b[0;31m---------------------------------------------------------------------------\u001b[0m",
            "\u001b[0;31mAssertionError\u001b[0m                            Traceback (most recent call last)",
            "\u001b[0;32m<ipython-input-24-d2d6c1f512a9>\u001b[0m in \u001b[0;36mpytensor_unit_tests\u001b[0;34m(a, b, x, y)\u001b[0m\n\u001b[1;32m      4\u001b[0m         \u001b[0;32massert\u001b[0m \u001b[0mpytensor_distance_a\u001b[0m\u001b[0;34m(\u001b[0m\u001b[0ma\u001b[0m\u001b[0;34m,\u001b[0m \u001b[0mx\u001b[0m\u001b[0;34m)\u001b[0m \u001b[0;34m==\u001b[0m \u001b[0mpython_distance_a\u001b[0m\u001b[0;34m(\u001b[0m\u001b[0ma\u001b[0m\u001b[0;34m,\u001b[0m \u001b[0mx\u001b[0m\u001b[0;34m)\u001b[0m\u001b[0;34m,\u001b[0m \u001b[0;34mf\"Test 1 - {pytensor_distance_a(a, x)} != {python_distance_a(a, x)}\"\u001b[0m\u001b[0;34m\u001b[0m\u001b[0;34m\u001b[0m\u001b[0m\n\u001b[0;32m----> 5\u001b[0;31m         \u001b[0;32massert\u001b[0m \u001b[0mpytensor_distance_b\u001b[0m\u001b[0;34m(\u001b[0m\u001b[0mb\u001b[0m\u001b[0;34m,\u001b[0m \u001b[0my\u001b[0m\u001b[0;34m)\u001b[0m \u001b[0;34m==\u001b[0m \u001b[0mpython_distance_b\u001b[0m\u001b[0;34m(\u001b[0m\u001b[0mb\u001b[0m\u001b[0;34m,\u001b[0m \u001b[0my\u001b[0m\u001b[0;34m)\u001b[0m\u001b[0;34m,\u001b[0m \u001b[0;34mf\"Test 2 - {pytensor_distance_b(b, y)} != {python_distance_b(b, y)}\"\u001b[0m\u001b[0;34m\u001b[0m\u001b[0;34m\u001b[0m\u001b[0m\n\u001b[0m\u001b[1;32m      6\u001b[0m         \u001b[0;32massert\u001b[0m \u001b[0mpytensor_distance_compiled_c\u001b[0m\u001b[0;34m(\u001b[0m\u001b[0ma\u001b[0m\u001b[0;34m,\u001b[0m\u001b[0mb\u001b[0m\u001b[0;34m,\u001b[0m\u001b[0mx\u001b[0m\u001b[0;34m,\u001b[0m\u001b[0my\u001b[0m\u001b[0;34m)\u001b[0m \u001b[0;34m==\u001b[0m \u001b[0mpython_distance\u001b[0m\u001b[0;34m(\u001b[0m\u001b[0ma\u001b[0m\u001b[0;34m,\u001b[0m\u001b[0mb\u001b[0m\u001b[0;34m,\u001b[0m\u001b[0mx\u001b[0m\u001b[0;34m,\u001b[0m\u001b[0my\u001b[0m\u001b[0;34m)\u001b[0m\u001b[0;34m,\u001b[0m \u001b[0;34mf\"Test 3 - {pytensor_distance_compiled_c(a,b,x,y)} != {python_distance(a,b,x,y)}\"\u001b[0m\u001b[0;34m\u001b[0m\u001b[0;34m\u001b[0m\u001b[0m\n",
            "\u001b[0;31mAssertionError\u001b[0m: Test 2 - 1.0 != 0.25",
            "\nDuring handling of the above exception, another exception occurred:\n",
            "\u001b[0;31mAssertionError\u001b[0m                            Traceback (most recent call last)",
            "\u001b[0;32m<ipython-input-24-d2d6c1f512a9>\u001b[0m in \u001b[0;36m<cell line: 12>\u001b[0;34m()\u001b[0m\n\u001b[1;32m     10\u001b[0m \u001b[0;34m\u001b[0m\u001b[0m\n\u001b[1;32m     11\u001b[0m \u001b[0ma\u001b[0m\u001b[0;34m,\u001b[0m \u001b[0mb\u001b[0m\u001b[0;34m,\u001b[0m \u001b[0mx\u001b[0m\u001b[0;34m,\u001b[0m \u001b[0my\u001b[0m \u001b[0;34m=\u001b[0m \u001b[0;36m0.5\u001b[0m\u001b[0;34m,\u001b[0m \u001b[0;36m0.5\u001b[0m\u001b[0;34m,\u001b[0m \u001b[0;36m1.0\u001b[0m\u001b[0;34m,\u001b[0m \u001b[0;36m1.0\u001b[0m\u001b[0;34m\u001b[0m\u001b[0;34m\u001b[0m\u001b[0m\n\u001b[0;32m---> 12\u001b[0;31m \u001b[0mpytensor_unit_tests\u001b[0m\u001b[0;34m(\u001b[0m\u001b[0ma\u001b[0m\u001b[0;34m,\u001b[0m\u001b[0mb\u001b[0m\u001b[0;34m,\u001b[0m\u001b[0mx\u001b[0m\u001b[0;34m,\u001b[0m\u001b[0my\u001b[0m\u001b[0;34m)\u001b[0m\u001b[0;34m\u001b[0m\u001b[0;34m\u001b[0m\u001b[0m\n\u001b[0m",
            "\u001b[0;32m<ipython-input-24-d2d6c1f512a9>\u001b[0m in \u001b[0;36mpytensor_unit_tests\u001b[0;34m(a, b, x, y)\u001b[0m\n\u001b[1;32m      7\u001b[0m \u001b[0;34m\u001b[0m\u001b[0m\n\u001b[1;32m      8\u001b[0m     \u001b[0;32mexcept\u001b[0m \u001b[0mAssertionError\u001b[0m \u001b[0;32mas\u001b[0m \u001b[0merr\u001b[0m\u001b[0;34m:\u001b[0m\u001b[0;34m\u001b[0m\u001b[0;34m\u001b[0m\u001b[0m\n\u001b[0;32m----> 9\u001b[0;31m         \u001b[0;32mraise\u001b[0m \u001b[0mAssertionError\u001b[0m\u001b[0;34m(\u001b[0m\u001b[0;34mf\"Test failed: {err}\"\u001b[0m\u001b[0;34m)\u001b[0m\u001b[0;34m\u001b[0m\u001b[0;34m\u001b[0m\u001b[0m\n\u001b[0m\u001b[1;32m     10\u001b[0m \u001b[0;34m\u001b[0m\u001b[0m\n\u001b[1;32m     11\u001b[0m \u001b[0ma\u001b[0m\u001b[0;34m,\u001b[0m \u001b[0mb\u001b[0m\u001b[0;34m,\u001b[0m \u001b[0mx\u001b[0m\u001b[0;34m,\u001b[0m \u001b[0my\u001b[0m \u001b[0;34m=\u001b[0m \u001b[0;36m0.5\u001b[0m\u001b[0;34m,\u001b[0m \u001b[0;36m0.5\u001b[0m\u001b[0;34m,\u001b[0m \u001b[0;36m1.0\u001b[0m\u001b[0;34m,\u001b[0m \u001b[0;36m1.0\u001b[0m\u001b[0;34m\u001b[0m\u001b[0;34m\u001b[0m\u001b[0m\n",
            "\u001b[0;31mAssertionError\u001b[0m: Test failed: Test 2 - 1.0 != 0.25"
          ]
        }
      ]
    },
    {
      "cell_type": "markdown",
      "source": [
        "Hopefully through this process you will hone in on your typo and fix your original function.\n",
        "\n",
        "Note: It is possible to print statements in PyTensor. I have not investigated it much, but it looks like it could be useful in some situations: https://pytensor.readthedocs.io/en/latest/library/printing.html\n",
        "\n",
        "**Note:** If you have a bug you cannot make sense of, it is always worth restarting the runtime if you are working within a notebook. This will genuinely fix half of your confusing bugs!! This is **especially** true if you have jumped around in your notebook. You will also sometimes find that skipping sections helps. This is a sign that you are naming variables/functions with the same name, as PyTensor does not like it when you do this."
      ],
      "metadata": {
        "id": "35SNdHoM8VKO"
      }
    },
    {
      "cell_type": "markdown",
      "source": [
        "##2. PyTensor for RL"
      ],
      "metadata": {
        "id": "Kqtk2k0CamtN"
      }
    },
    {
      "cell_type": "code",
      "source": [
        "import pytensor.tensor as pt\n",
        "from pytensor import function, scan\n",
        "import numpy as np"
      ],
      "metadata": {
        "id": "_YyaiHPCPMR3"
      },
      "execution_count": 1,
      "outputs": []
    },
    {
      "cell_type": "markdown",
      "source": [
        "Reinforcment Learning is inherently sequential, meaning that we will need to make use of `for` loops.\n",
        "\n",
        "In PyTensor, this can be acheived in a very narrow sense using the `scan` function."
      ],
      "metadata": {
        "id": "NbaBoPG5KYdC"
      }
    },
    {
      "cell_type": "markdown",
      "source": [
        "###2a. Using scan"
      ],
      "metadata": {
        "id": "pRO7jUZYKxjf"
      }
    },
    {
      "cell_type": "markdown",
      "source": [
        "For more, see: https://pytensor.readthedocs.io/en/latest/library/scan.html"
      ],
      "metadata": {
        "id": "8kwH_PWAK6g0"
      }
    },
    {
      "cell_type": "markdown",
      "source": [
        "For simplicity, we will start with a numerical example, before moving on to a matrix example."
      ],
      "metadata": {
        "id": "n2qVNkrPLH-q"
      }
    },
    {
      "cell_type": "markdown",
      "source": [
        "####2ai. Using scan with numerical inputs/outputs"
      ],
      "metadata": {
        "id": "FQGG6TOALOG9"
      }
    },
    {
      "cell_type": "markdown",
      "source": [
        "Suppose we want to calculate the first $n$ terms of the series using the recursion formula: $s_{n+1} = \\frac{s_{n}}{n+1} + m$ for $s_0=1$ and any $m$"
      ],
      "metadata": {
        "id": "J_E7zawpL1b-"
      }
    },
    {
      "cell_type": "markdown",
      "source": [
        "A python function for this could look like:"
      ],
      "metadata": {
        "id": "GB1BK-QPNtwN"
      }
    },
    {
      "cell_type": "code",
      "source": [
        "def formula(sn,n,m):\n",
        "    return sn/(n+1) + m\n",
        "\n",
        "def get_term(n,m):\n",
        "    sn = 1\n",
        "    series = np.zeros(n)\n",
        "    series[0] = sn\n",
        "    for i in range(n):\n",
        "        sn = formula(sn,i,m)\n",
        "        series[i] = sn\n",
        "    return series"
      ],
      "metadata": {
        "id": "QftkqLvSK577"
      },
      "execution_count": 107,
      "outputs": []
    },
    {
      "cell_type": "markdown",
      "source": [
        "This is how we would write it in PyTensor:"
      ],
      "metadata": {
        "id": "NVlDnsnBOqlJ"
      }
    },
    {
      "cell_type": "code",
      "source": [
        "# We have to slightly adapt our function because the order of arguments in the function is incredibly important for getting PyTensor to work correctly\n",
        "# They should be organized like this: sequences, outputs_info, non_sequences\n",
        "def formula(n,sn,m):\n",
        "    return sn/(n+1) + m\n",
        "\n",
        "def get_term_pytensor(n,m):\n",
        "    sn = pt.constant(1.0, dtype='float64')  # you will sometimes need to define the type like this. You will need to be very careful about type. PyTensor generally defaults to 32-bit types\n",
        "    ns = pt.arange(n, dtype='float64')\n",
        "    term, _ = scan(fn=formula, sequences=ns, non_sequences=m, outputs_info=sn)  # The ordering of\n",
        "    return term"
      ],
      "metadata": {
        "id": "1tynn8FMc2TP"
      },
      "execution_count": 99,
      "outputs": []
    },
    {
      "cell_type": "code",
      "source": [
        "n_compile = pt.scalar(\"n\", dtype='int64')  # note n must be an integer (you can't have the 3.5th term of a series)\n",
        "m_compile = pt.scalar(\"m\", dtype='float64')\n",
        "\n",
        "output = get_term_pytensor(n_compile, m_compile)\n",
        "my_func = function(inputs=[n_compile,m_compile],outputs=output)  # note the LACK of parentheses for the outputs. You will need these if you have multiple outputs but otherwise you do not want your function unknowingly wrapping your output in a list"
      ],
      "metadata": {
        "id": "Wx9ZG2q0QJXX"
      },
      "execution_count": 100,
      "outputs": []
    },
    {
      "cell_type": "markdown",
      "source": [
        "It is always important to compare the outputs of your PyTensor function with the original Python function."
      ],
      "metadata": {
        "id": "iniPynF7RXTN"
      }
    },
    {
      "cell_type": "code",
      "source": [
        "get_term(10,1)"
      ],
      "metadata": {
        "colab": {
          "base_uri": "https://localhost:8080/"
        },
        "id": "5QIR8kTBRVUv",
        "outputId": "811f4b5a-6db8-45ae-f4a6-d2dfa4a91ad8"
      },
      "execution_count": 108,
      "outputs": [
        {
          "output_type": "execute_result",
          "data": {
            "text/plain": [
              "array([2.        , 2.        , 1.66666667, 1.41666667, 1.28333333,\n",
              "       1.21388889, 1.1734127 , 1.14667659, 1.12740851, 1.11274085])"
            ]
          },
          "metadata": {},
          "execution_count": 108
        }
      ]
    },
    {
      "cell_type": "code",
      "source": [
        "my_func(10,1)"
      ],
      "metadata": {
        "colab": {
          "base_uri": "https://localhost:8080/"
        },
        "id": "QOP1lVwCRgL0",
        "outputId": "9968a219-8505-4ea8-9109-850e1ecf7733"
      },
      "execution_count": 102,
      "outputs": [
        {
          "output_type": "execute_result",
          "data": {
            "text/plain": [
              "array([2.        , 2.        , 1.66666667, 1.41666667, 1.28333333,\n",
              "       1.21388889, 1.1734127 , 1.14667659, 1.12740851, 1.11274085])"
            ]
          },
          "metadata": {},
          "execution_count": 102
        }
      ]
    },
    {
      "cell_type": "markdown",
      "source": [
        "###2b.Using scan for RL"
      ],
      "metadata": {
        "id": "Phegn_r6WlsA"
      }
    },
    {
      "cell_type": "markdown",
      "source": [
        "Now because you cannot index PyTensor arrays using arrays, we must one-hot the data so that indexing is not necessary. This saves us having to scan over trials to extract the relevant Q-values for the likelihood. (If you can find another way, then a lot of the code dealing with one-hotting from here on isn't necessary).\n",
        "\n",
        "**Note:** It is important to know that the first dimension of the tensors that you place in `sequences` should be the dimension that is missing from the tensor you pass to `outputs_info`. `scan` will iterate over subtensors of the sequence tensor by indexing from the first dimension. This dimension will be added to the output of your scan function. In this way `outputs_info` allows you to place an initial value to iterate over, where the intial value is used to calculate the second value and this repeats over each iteration of the scan function."
      ],
      "metadata": {
        "id": "2nrujwrgW2TW"
      }
    },
    {
      "cell_type": "markdown",
      "source": [
        "####2bi.Using scan for single participant RL"
      ],
      "metadata": {
        "id": "tAIoMmF9exEd"
      }
    },
    {
      "cell_type": "markdown",
      "source": [
        "For simplicty we will go over what it looks like for an individual participant, and then extend the code to multiple participants"
      ],
      "metadata": {
        "id": "A8WgaHiCe1Dd"
      }
    },
    {
      "cell_type": "markdown",
      "source": [
        "In all of these functions you will notice that we include the dimension for choice. This is the dimension which is being one-hotted: taking the choice 0 is represented as [1, 0], and taking the choice 1 is represented as [0, 1]. We need as many numbers as there are choices if we want to place a 1 at the index of the value of the choice. This is why we need to create an extra dimension which is the size of the number of choices."
      ],
      "metadata": {
        "id": "pEZyM05xkX7C"
      }
    },
    {
      "cell_type": "markdown",
      "source": [
        "**Simulating RL in Python**"
      ],
      "metadata": {
        "id": "SCYhJXsKmfVg"
      }
    },
    {
      "cell_type": "code",
      "source": [
        "from functools import partial\n",
        "from typing import Callable, List"
      ],
      "metadata": {
        "id": "u8OKLXPsnU19"
      },
      "execution_count": 2,
      "outputs": []
    },
    {
      "cell_type": "code",
      "source": [
        "def softmax(qs, beta):\n",
        "  return np.exp(qs*beta) / np.exp(qs*beta).sum()\n",
        "\n",
        "class Distribution:\n",
        "\n",
        "  def __init__(self, func: Callable, kwargs):\n",
        "    self.func: Callable = partial(func, **kwargs)\n",
        "\n",
        "  def __call__(self):\n",
        "    return self.func.__call__()\n",
        "\n",
        "class SimpleRL:\n",
        "\n",
        "  def __init__(self, n_trials: int, distributions: List[Distribution]):\n",
        "    self.n_choices: int = len(distributions)\n",
        "    self.n_trials: int = n_trials\n",
        "    self.distributions: List[Distribution] = distributions\n",
        "    self.qs: np.array = np.ones((self.n_choices,)) * 0.5\n",
        "    self.q_trace: np.array = np.ones((self.n_trials,self.n_choices))\n",
        "    self.rewards: np.array = np.zeros((self.n_trials))\n",
        "    self.choices: np.array = np.zeros((self.n_trials),dtype=np.int32)\n",
        "\n",
        "  def simulate(self, alpha, beta):\n",
        "    for i in range(self.n_trials):\n",
        "      # Q-values are recorded to trace\n",
        "      self.q_trace[i] = self.qs\n",
        "      # softmax decision function\n",
        "      ps = softmax(self.qs,beta)\n",
        "      # choice made based on weighted probabilities of Q-values\n",
        "      choice = np.random.choice(a=self.n_choices,size=1,p=ps)[0]\n",
        "      # choice is recorded to trace\n",
        "      self.choices[i] = choice\n",
        "      # reward calculated\n",
        "      dist = self.distributions[choice]  # supply a list of distributions to choose from\n",
        "      reward = dist()  # sample from distribution by calling it\n",
        "      # Q-values updated\n",
        "      self.rewards[i] = reward\n",
        "      self.qs[choice] = self.qs[choice] + alpha * (reward - self.qs[choice])\n",
        "      self.q_trace[i] = self.qs\n",
        "    # Q-values trace returned\n",
        "    # main data to be returned (basis for fits), is choices and rewards per trial\n",
        "    return self.rewards, self.choices, self.q_trace"
      ],
      "metadata": {
        "id": "fjQja5XOm_Rh"
      },
      "execution_count": 3,
      "outputs": []
    },
    {
      "cell_type": "code",
      "source": [
        "seed = 0\n",
        "np.random.seed(seed)\n",
        "mean_rewards = [-1.0,1.0]\n",
        "dists = [Distribution(np.random.normal,{\"loc\":mn, \"scale\":1.0}) for mn in mean_rewards]\n",
        "n_trials = 100\n",
        "\n",
        "alpha, beta = 0.1, 1.0\n",
        "\n",
        "simple_rl = SimpleRL(n_trials, dists)\n",
        "Rs, Cs, Qs = simple_rl.simulate(alpha, beta)"
      ],
      "metadata": {
        "id": "1aCw8zIfnMsB"
      },
      "execution_count": 4,
      "outputs": []
    },
    {
      "cell_type": "markdown",
      "source": [
        "**Recovering Qs in PyTensor**"
      ],
      "metadata": {
        "id": "AwVGTYU_m3g_"
      }
    },
    {
      "cell_type": "code",
      "source": [
        "def rl_step(C, R, Q, A):\n",
        "    \"\"\"\n",
        "    rl_step: function for a single RL step\n",
        "\n",
        "    C: Choice -- vector (choices)\n",
        "    R: Reward -- vector (choices)\n",
        "    Q: Q-Values at the previous time step -- vector (choices)\n",
        "    A: Alpha parameter -- scalar ()\n",
        "    \"\"\"\n",
        "    return Q + A * (R - Q) * C"
      ],
      "metadata": {
        "id": "9XXBzm81Xx7a"
      },
      "execution_count": 11,
      "outputs": []
    },
    {
      "cell_type": "code",
      "source": [
        "def rl_scan(Cs,Rs,A):\n",
        "    \"\"\"\n",
        "    rl_scan: scan function over RL steps\n",
        "\n",
        "    Cs: Choices -- matrix (trials, choices)\n",
        "    Rs: Rewards -- matrix (trials, choices)\n",
        "    A: Alpha parameter -- vector (choices)\n",
        "\n",
        "    Qs: Q-values -- matrix (trials, choices)\n",
        "    \"\"\"\n",
        "    Qs = pt.ones(Cs.shape[1]) * 0.5 # note Qs shape changes over scan:  vector (choices) --> matrix (trials, choices)\n",
        "    Qs, _ = scan(fn=rl_step, sequences=[Cs,Rs], non_sequences = [A], outputs_info=Qs)\n",
        "    return Qs"
      ],
      "metadata": {
        "id": "9SkAHsV-X36S"
      },
      "execution_count": 14,
      "outputs": []
    },
    {
      "cell_type": "code",
      "source": [
        "# Defining the inputs of the to-be-compiled function\n",
        "Cs = pt.imatrix(\"Cs\")\n",
        "Rs = pt.dmatrix(\"Rs\")\n",
        "A = pt.dvector(\"A\")\n",
        "\n",
        "# Compiling function\n",
        "output = rl_scan(Cs,Rs,A)\n",
        "rl_func = function(inputs=[Cs,Rs,A], outputs=output)"
      ],
      "metadata": {
        "id": "vapxdRdYYBsl"
      },
      "execution_count": 17,
      "outputs": []
    },
    {
      "cell_type": "code",
      "source": [
        "seed = 0\n",
        "np.random.seed(seed)\n",
        "mean_rewards = [-1.0,1.0]\n",
        "dists = [Distribution(np.random.normal,{\"loc\":mn, \"scale\":1.0}) for mn in mean_rewards]\n",
        "n_trials = 100\n",
        "\n",
        "alpha, beta = 0.1, 1.0\n",
        "\n",
        "simple_rl = SimpleRL(n_trials, dists)\n",
        "Python_Rs, Python_Cs, Python_Qs = simple_rl.simulate(alpha, beta)\n",
        "n_choices = len(mean_rewards)\n",
        "\n",
        "# Testing compiled function\n",
        "Rs = np.repeat(Python_Rs.reshape(-1,1), repeats = n_choices, axis=1)\n",
        "Cs = np.zeros((Python_Cs.shape[0], n_choices))\n",
        "for n in range(n_choices):\n",
        "  Cs[:, n] = (Python_Cs == n)\n",
        "Cs = np.array(Cs, dtype=np.int32)\n",
        "A = np.ones(n_choices) * alpha\n",
        "PyTensor_Qs = rl_func(Cs,Rs,A)\n",
        "PyTensor_Qs[:10]"
      ],
      "metadata": {
        "colab": {
          "base_uri": "https://localhost:8080/"
        },
        "id": "Y9s2S6JAZQPv",
        "outputId": "6299b1db-b8b0-4999-a6f1-dcf138915c44"
      },
      "execution_count": 18,
      "outputs": [
        {
          "output_type": "execute_result",
          "data": {
            "text/plain": [
              "array([[0.5       , 0.62415917],\n",
              "       [0.5       , 0.81703463],\n",
              "       [0.5       , 0.75105876],\n",
              "       [0.5       , 0.97294533],\n",
              "       [0.5       , 1.10226265],\n",
              "       [0.5       , 1.04144873],\n",
              "       [0.5       , 1.08573507],\n",
              "       [0.5       , 1.13507561],\n",
              "       [0.5       , 1.10340979],\n",
              "       [0.5       , 1.23408928]])"
            ]
          },
          "metadata": {},
          "execution_count": 18
        }
      ]
    },
    {
      "cell_type": "code",
      "source": [
        "Python_Qs[:10]"
      ],
      "metadata": {
        "colab": {
          "base_uri": "https://localhost:8080/"
        },
        "id": "HCMzhDQkpLS9",
        "outputId": "6f747c06-a0e1-48cf-88aa-b702f0ef9b9a"
      },
      "execution_count": 19,
      "outputs": [
        {
          "output_type": "execute_result",
          "data": {
            "text/plain": [
              "array([[0.5       , 0.62415917],\n",
              "       [0.5       , 0.81703463],\n",
              "       [0.5       , 0.75105876],\n",
              "       [0.5       , 0.97294533],\n",
              "       [0.5       , 1.10226265],\n",
              "       [0.5       , 1.04144873],\n",
              "       [0.5       , 1.08573507],\n",
              "       [0.5       , 1.13507561],\n",
              "       [0.5       , 1.10340979],\n",
              "       [0.5       , 1.23408928]])"
            ]
          },
          "metadata": {},
          "execution_count": 19
        }
      ]
    },
    {
      "cell_type": "markdown",
      "source": [
        "####2bii. Using scan over multiple participants"
      ],
      "metadata": {
        "id": "ojxZVxmggVXm"
      }
    },
    {
      "cell_type": "markdown",
      "source": [
        "**Simulating multi-participant RL in Python**"
      ],
      "metadata": {
        "id": "aaHf1tWv8ZmJ"
      }
    },
    {
      "cell_type": "code",
      "source": [
        "class MultiRL:\n",
        "\n",
        "  def __init__(self, n_trials: int, n_participants: int, distributions: List[Distribution]):\n",
        "    self.participants: List[SimpleRL] = [\n",
        "        SimpleRL(n_trials, distributions) for _ in range(n_participants)\n",
        "    ]\n",
        "    self.n_trials = n_trials\n",
        "    self.n_participants = n_participants\n",
        "    self.n_choices = len(distributions)\n",
        "    self.alphas = np.zeros(n_participants)\n",
        "    self.betas = np.zeros(n_participants)\n",
        "\n",
        "  def simulate(self, alpha_a, alpha_b, beta_a, beta_b):\n",
        "    group_data = []\n",
        "    group_rewards = np.zeros((self.n_trials,self.n_participants))\n",
        "    group_choices = np.zeros((self.n_trials,self.n_participants))\n",
        "    group_Qs = np.zeros((self.n_trials,self.n_participants,self.n_choices))\n",
        "    for idx, participant_model in enumerate(self.participants):\n",
        "        # sample participant parameters\n",
        "        alpha = np.random.beta(alpha_a, alpha_b)\n",
        "        beta = np.random.beta(beta_a, beta_b)\n",
        "        self.alphas[idx] = alpha\n",
        "        self.betas[idx] = beta\n",
        "        # run RL for participant\n",
        "        participant_rewards, participant_choices, participant_Qs = participant_model.simulate(alpha, beta)\n",
        "        group_rewards[:, idx] = participant_rewards\n",
        "        group_choices[:, idx] = participant_choices\n",
        "        group_Qs[:, idx] = participant_Qs\n",
        "    return group_rewards, group_choices, group_Qs\n",
        "\n",
        "  def get_params(self):\n",
        "    return self.alphas, self.betas\n"
      ],
      "metadata": {
        "id": "lIGS8alM8ZAn"
      },
      "execution_count": 19,
      "outputs": []
    },
    {
      "cell_type": "markdown",
      "source": [
        "**Recovering multi-participant Qs in PyTensor**"
      ],
      "metadata": {
        "id": "qY4p7WpB8hcN"
      }
    },
    {
      "cell_type": "code",
      "source": [
        "# Notice that this function is written in the same way as for a single participant\n",
        "\n",
        "def rl_multi_step(C, R, Q, A):\n",
        "    \"\"\"\n",
        "    rl_step: function for a single RL step\n",
        "\n",
        "    C: Choice -- matrix (participants, choices)\n",
        "    R: Reward -- matrix (participants, choices)\n",
        "    Q: Q-Values at the previous time step -- matrix (participants, choices)\n",
        "    A: Alpha parameter -- matrix (participants, choices)\n",
        "    \"\"\"\n",
        "    return Q + A * (R - Q) * C"
      ],
      "metadata": {
        "id": "A0_o50K_gd2X"
      },
      "execution_count": 6,
      "outputs": []
    },
    {
      "cell_type": "code",
      "source": [
        "# Notice that this function is written in ALMOST the same way as for a single participant\n",
        "# Tensor3 is how PyTensor defines 3-Dimensional arrays\n",
        "\n",
        "def rl_multi_scan(CMs,RMs,AM):\n",
        "    \"\"\"\n",
        "    rl_scan: scan function over RL steps\n",
        "\n",
        "    CMs: Choices -- tensor3 (trials, participants, choices)\n",
        "    RMs: Rewards -- tensor3 (trials, participants, choices)\n",
        "    AM: Alpha parameter -- matrix (participants, choices)\n",
        "\n",
        "    Qs: Q-values -- tensor3 (trials, participants, choices)\n",
        "    \"\"\"\n",
        "    QMs = pt.ones((CMs.shape[1], CMs.shape[2])) * 0.5 # note Qs shape changes over scan:  matrix (participants, choices) --> tensor3 (trials, participants, choices)\n",
        "    QTs, _ = scan(fn=rl_multi_step, sequences=[CMs,RMs], non_sequences = [AM], outputs_info=QMs)  # NOTICE THAT WE DO NOT PLACE BRACKETS AROUND THE OUTPUT!!\n",
        "    return QTs"
      ],
      "metadata": {
        "id": "saB55Ka0iBlt"
      },
      "execution_count": 13,
      "outputs": []
    },
    {
      "cell_type": "code",
      "source": [
        "# Defining the inputs of the to-be-compiled function\n",
        "CMs = pt.itensor3(\"CMs\")\n",
        "RMs = pt.dtensor3(\"RMs\")\n",
        "AM = pt.dmatrix(\"AM\")\n",
        "\n",
        "# Compiling function\n",
        "output = rl_multi_scan(CMs,RMs,AM)\n",
        "rl_func = function(inputs=[CMs,RMs,AM], outputs=output)"
      ],
      "metadata": {
        "id": "YTB8fxXQjdhE"
      },
      "execution_count": 14,
      "outputs": []
    },
    {
      "cell_type": "code",
      "source": [
        "seed = 0\n",
        "np.random.seed(seed)\n",
        "mean_rewards = [-1.0,1.0]\n",
        "dists = [Distribution(np.random.normal,{\"loc\":mn, \"scale\":1.0}) for mn in mean_rewards]\n",
        "n_trials = 100\n",
        "n_participants = 3\n",
        "n_choices = len(mean_rewards)\n",
        "\n",
        "alpha_a, alpha_b, beta_a, beta_b = 2, 2, 2, 2\n",
        "# alpha, beta = 0.1, 1.0 -- For MultiRL the parameters vary with a distribution\n",
        "\n",
        "multi_rl = MultiRL(n_trials, n_participants, dists)\n",
        "Python_Rs, Python_Cs, Python_Qs = multi_rl.simulate(alpha_a, alpha_b, beta_a, beta_b)\n",
        "\n",
        "alphas, _ = multi_rl.get_params()\n",
        "\n",
        "# Testing compiled function\n",
        "Rs = np.repeat(Python_Rs.reshape(n_trials,n_participants,1), n_choices, axis=2)\n",
        "Cs = np.zeros((n_trials, n_participants, n_choices))\n",
        "for n in range(n_choices):\n",
        "    Cs[:, :, n] = (Python_Cs == n)\n",
        "Cs = np.array(Cs, dtype=np.int32)\n",
        "A = np.tile(alphas.reshape(-1,1),[1,n_choices])\n",
        "PyTensor_Qs = rl_func(Cs,Rs,A)\n",
        "PyTensor_Qs[:5]"
      ],
      "metadata": {
        "colab": {
          "base_uri": "https://localhost:8080/"
        },
        "id": "gGnFmy2P8s26",
        "outputId": "ea837c15-6b7a-4ed9-be61-dc1549d8bcdb"
      },
      "execution_count": 26,
      "outputs": [
        {
          "output_type": "execute_result",
          "data": {
            "text/plain": [
              "array([[[ 0.5       ,  1.73022911],\n",
              "        [ 0.21225973,  0.5       ],\n",
              "        [ 0.07119759,  0.5       ]],\n",
              "\n",
              "       [[ 0.5       ,  0.86919225],\n",
              "        [-0.03987525,  0.5       ],\n",
              "        [-0.52974563,  0.5       ]],\n",
              "\n",
              "       [[ 0.5       ,  1.29766769],\n",
              "        [-0.03987525,  0.75788475],\n",
              "        [-0.52974563,  0.61445943]],\n",
              "\n",
              "       [[ 0.5       ,  1.49373382],\n",
              "        [-0.26587443,  0.75788475],\n",
              "        [-0.52974563, -0.30926341]],\n",
              "\n",
              "       [[ 0.5       ,  1.02332718],\n",
              "        [-0.4027839 ,  0.75788475],\n",
              "        [-2.22131283, -0.30926341]]])"
            ]
          },
          "metadata": {},
          "execution_count": 26
        }
      ]
    },
    {
      "cell_type": "code",
      "source": [
        "Python_Qs[:5]"
      ],
      "metadata": {
        "colab": {
          "base_uri": "https://localhost:8080/"
        },
        "id": "VFjvOoQe8vAM",
        "outputId": "68bfc238-cb3e-46ce-8dbe-16f1883b841c"
      },
      "execution_count": 27,
      "outputs": [
        {
          "output_type": "execute_result",
          "data": {
            "text/plain": [
              "array([[[ 0.5       ,  1.73022911],\n",
              "        [ 0.21225973,  0.5       ],\n",
              "        [ 0.07119759,  0.5       ]],\n",
              "\n",
              "       [[ 0.5       ,  0.86919225],\n",
              "        [-0.03987525,  0.5       ],\n",
              "        [-0.52974563,  0.5       ]],\n",
              "\n",
              "       [[ 0.5       ,  1.29766769],\n",
              "        [-0.03987525,  0.75788475],\n",
              "        [-0.52974563,  0.61445943]],\n",
              "\n",
              "       [[ 0.5       ,  1.49373382],\n",
              "        [-0.26587443,  0.75788475],\n",
              "        [-0.52974563, -0.30926341]],\n",
              "\n",
              "       [[ 0.5       ,  1.02332718],\n",
              "        [-0.4027839 ,  0.75788475],\n",
              "        [-2.22131283, -0.30926341]]])"
            ]
          },
          "metadata": {},
          "execution_count": 27
        }
      ]
    }
  ]
}