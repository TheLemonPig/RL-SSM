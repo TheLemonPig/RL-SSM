{
  "nbformat": 4,
  "nbformat_minor": 0,
  "metadata": {
    "colab": {
      "provenance": [],
      "authorship_tag": "ABX9TyNiycR/QAzmHn1vaGTNk+ah",
      "include_colab_link": true
    },
    "kernelspec": {
      "name": "python3",
      "display_name": "Python 3"
    },
    "language_info": {
      "name": "python"
    }
  },
  "cells": [
    {
      "cell_type": "markdown",
      "metadata": {
        "id": "view-in-github",
        "colab_type": "text"
      },
      "source": [
        "<a href=\"https://colab.research.google.com/github/TheLemonPig/RL-SSM/blob/main/RLWM_SSM_differentiable.ipynb\" target=\"_parent\"><img src=\"https://colab.research.google.com/assets/colab-badge.svg\" alt=\"Open In Colab\"/></a>"
      ]
    },
    {
      "cell_type": "code",
      "execution_count": null,
      "metadata": {
        "id": "hRLyVFDSKhgj"
      },
      "outputs": [],
      "source": [
        "!pip install 'pymc>=5.9'\n",
        "!pip install numpyro\n",
        "!pip install git+https://github.com/AlexanderFengler/ssm-simulators@main!\n",
        "!pip install git+https://github.com/AlexanderFengler/LANfactory"
      ]
    },
    {
      "cell_type": "code",
      "source": [
        "import pymc as pm\n",
        "import numpy as np\n",
        "import random, pickle\n",
        "import matplotlib.pyplot as plt\n",
        "import pandas as pd\n",
        "import pytensor\n",
        "import pytensor.tensor as pt\n",
        "import arviz as az\n",
        "import numpy as np\n",
        "import matplotlib.pyplot as plt\n",
        "import pickle\n",
        "import ssms\n",
        "from ssms.basic_simulators.simulator import simulator\n",
        "import lanfactory"
      ],
      "metadata": {
        "colab": {
          "base_uri": "https://localhost:8080/"
        },
        "id": "GWM0hvr8KxTp",
        "outputId": "d7729b8f-7050-40b9-c1d9-7481c93ccf8a"
      },
      "execution_count": 1,
      "outputs": [
        {
          "output_type": "stream",
          "name": "stdout",
          "text": [
            "passing 1\n",
            "wandb not available\n",
            "wandb not available\n"
          ]
        }
      ]
    },
    {
      "cell_type": "code",
      "source": [
        "np.random.seed(0)\n",
        "random.seed(0)"
      ],
      "metadata": {
        "id": "jAqPunB5QLlv"
      },
      "execution_count": null,
      "outputs": []
    },
    {
      "cell_type": "code",
      "source": [
        "ssms_model = 'lba_angle_3_v1'\n",
        "model_config = ssms.config.model_config[ssms_model]\n",
        "param_theta = np.array([0.5, 0.3, 0.2, 0.5, 0.2, 0.0])\n",
        "res = simulator(\n",
        "                param_theta,\n",
        "                model=ssms_model,\n",
        "                n_samples=2000,\n",
        "                delta_t=0.001,\n",
        "                max_t=5,\n",
        "                )"
      ],
      "metadata": {
        "id": "QcyubNNtQSZ5"
      },
      "execution_count": null,
      "outputs": []
    },
    {
      "cell_type": "markdown",
      "metadata": {
        "id": "9zVA4Nq2J4Jr"
      },
      "source": [
        "##PyTensor"
      ]
    },
    {
      "cell_type": "markdown",
      "metadata": {
        "id": "kk_U1m5SSsJi"
      },
      "source": [
        "####Functions"
      ]
    },
    {
      "cell_type": "code",
      "execution_count": null,
      "metadata": {
        "id": "btpenR8nSxm6"
      },
      "outputs": [],
      "source": [
        "def rlwm_step(dC, dR, pA, pG, pP, dq_RL, dq_WM):\n",
        "    \"\"\"\n",
        "    rlwm_step: calculate a single RLWM step\n",
        "    (n_participants, n_choices, n_blocks, n_stimuli)\n",
        "    dC: Choices (data)\n",
        "    dR: Rewards (data)\n",
        "    pA: Alphas (parameter)\n",
        "    pG: Gammas (parameter)\n",
        "    pP: Phis (parameter)\n",
        "    dq_RL: RL Qs (data)\n",
        "    dq_WM: WM Qs (data)\n",
        "    \"\"\"\n",
        "    cond = pt.switch(pt.lt(dq_RL, dR), 1, 0)\n",
        "    dq_RL += (cond + (1.0 - cond) * pG) * pA * (dR - dq_RL) * dC\n",
        "    dq_WM += (cond + (1.0 - cond) * pG) * 1.0 * (dR - dq_WM) * dC\n",
        "    dq_WM += pP * (1 / dR.shape[1] - dq_WM)\n",
        "    return [dq_RL, dq_WM]\n",
        "\n",
        "def rlwm_scan(dC, dR, pA, pG, pP, dq_RL, dq_WM):\n",
        "    \"\"\"\n",
        "    rlwm_scan: calculate a RLWM Q-Values\n",
        "    (n_trials, n_participants, n_choices, n_blocks, n_stimuli)\n",
        "    dC: Choices (data)\n",
        "    dR: Rewards (data)\n",
        "    pA: Alphas (parameter)\n",
        "    pG: Gammas (parameter)\n",
        "    pP: Phis (parameter)\n",
        "    dq_RL: RL Qs (data)\n",
        "    dq_WM: WM Qs (data)\n",
        "    \"\"\"\n",
        "    ([dQ_RL, dQ_WM], _) = pytensor.scan(rlwm_step, sequences=[dC, dR, pA, pG, pP], non_sequences=[], outputs_info=[dq_RL, dq_WM])\n",
        "    shape = dC.shape\n",
        "    n_trials_m1 = shape[0]-1\n",
        "    dQ_RL = pt.subtensor.set_subtensor(pt.repeat(dq_RL.reshape((1,shape[1],shape[2],shape[3],shape[4])),shape[0],axis=0)[-n_trials_m1:], dQ_RL[:n_trials_m1])\n",
        "    dQ_WM = pt.subtensor.set_subtensor(pt.repeat(dq_WM.reshape((1,shape[1],shape[2],shape[3],shape[4])),shape[0],axis=0)[-n_trials_m1:], dQ_WM[:n_trials_m1])\n",
        "    return dQ_RL, dQ_WM\n",
        "\n",
        "\n",
        "def rlwmssm_softmax(Qs, pB):\n",
        "    \"\"\"\n",
        "    rlwm_softmax: calculate probabilities using a tempered softmax over Q-Values\n",
        "\n",
        "    Qs: Q-Values (data)\n",
        "    pB: Betas (parameter)\n",
        "    \"\"\"\n",
        "    shape = Qs.shape\n",
        "    tempered_qs = pt.mul(Qs,pB)\n",
        "    qs_max = pt.max(tempered_qs,axis=2)\n",
        "    qs_max = pt.repeat(qs_max.reshape((shape[0], shape[1], 1, shape[3], shape[4])), shape[2], axis=2)\n",
        "    numerator = pt.exp(tempered_qs - qs_max)\n",
        "    denominator = pt.sum(numerator, axis=2)\n",
        "    denominator = pt.repeat(denominator.reshape((shape[0], shape[1], 1, shape[3], shape[4])), shape[2], axis=2)\n",
        "    Ps = numerator / denominator\n",
        "    return Ps\n",
        "\n",
        "def rlwm_policy(dC, dq_RL, dq_WM, pB, pC, pE, pR, set_sizes):\n",
        "    weight = pR * pt.clip(pC/set_sizes, 0, 1)\n",
        "    Ps_RL = rlwm_softmax(dq_RL, pB)\n",
        "    Ps_WM = rlwm_softmax(dq_WM, pB)\n",
        "    pol = weight * Ps_WM + (1.0 - weight) * Ps_RL\n",
        "    pol_final = (1.0 - pE) * pol + pE * 1.0/dC.shape[2]\n",
        "    return pol_final\n",
        "\n",
        "def rlwmssm_likelihood(dC, dq_RL, dq_WM, pB, pC, pE, pR, set_sizes):\n",
        "    \"\"\"\n",
        "    rlwm_likelihood: calculate RLWM Likelihoods from precomputed Q-Values\n",
        "\n",
        "    dC: Choices (data)\n",
        "    dq_RL: Precomputed RL Qs (data)\n",
        "    dq_WM: Precomputed WM Qs (data)\n",
        "    pB: Betas (parameter)\n",
        "    pC: Working Memory Capacities (parameter)\n",
        "    pE: Epsilons (parameter)\n",
        "    pR: Rhos (parameter)\n",
        "    set_sizes: set sizes for each participant block (data)\n",
        "    \"\"\"\n",
        "    pol_final = rlwm_policy(dC, dq_RL, dq_WM, pB, pC, pE, pR, set_sizes)\n",
        "    # pol_final: (n_trials, n_participants, n_choices, n_blocks, n_stimuli)\n",
        "    p_select = (pol_final * dC).sum(axis=[2,4])\n",
        "    # p_select: (n_trials, n_participants, n_blocks)\n",
        "    # p_select_padded = p_select\n",
        "    p_select_padded = p_select + (1.0 - dC.sum(axis=[2,4]))\n",
        "    ll_select = pt.log(p_select_padded)\n",
        "    return ll_select\n",
        "\n",
        "\n",
        "def rlwmssm_recovery(dq_RL, dq_WM, dC, dR, pA, pB, pC, pE, pG, pP, pR, set_sizes):\n",
        "    \"\"\"\n",
        "    rlwm_likelihood: calculate RLWM Likelihoods given over a valid set of parameters and complete dataset of choices, rewards, and set sizes\n",
        "\n",
        "    dC: Choices (data)\n",
        "    dq_RL: Precomputed RL Qs (data)\n",
        "    dq_WM: Precomputed WM Qs (data)\n",
        "    pB: Betas (parameter)\n",
        "    pC: Working Memory Capacities (parameter)\n",
        "    pE: Epsilons (parameter)\n",
        "    pR: Rhos (parameter)\n",
        "    set_sizes: set sizes for each participant block (data)\n",
        "    \"\"\"\n",
        "    dq_RL, dq_WM = rlwm_scan(dC, dR, pA, pG, pP, dq_RL, dq_WM)\n",
        "    likelihood = rlwmssm_likelihood(dC, dq_RL, dq_WM, pB, pC, pE, pR, set_sizes)\n",
        "\n",
        "    return likelihood"
      ]
    },
    {
      "cell_type": "markdown",
      "metadata": {
        "id": "GjZWgiJOSyb3"
      },
      "source": [
        "####Compilers"
      ]
    },
    {
      "cell_type": "code",
      "execution_count": null,
      "metadata": {
        "id": "UTPXZtEOBbuZ"
      },
      "outputs": [],
      "source": [
        "def rlwm_step_compile():\n",
        "    dC3 = pt.dtensor4(\"dC3\")\n",
        "    dR3 = pt.dtensor4(\"dR3\")\n",
        "    dq_RL3 = pt.dtensor4(\"dq_RL3\")\n",
        "    dq_WM3 = pt.dtensor4(\"dq_WM3\")\n",
        "    pA3 = pt.dtensor4(\"pA3\")\n",
        "    pG3 = pt.dtensor4(\"pG3\")\n",
        "    pP3 = pt.dtensor4(\"pP3\")\n",
        "\n",
        "    dq_RL, dq_WM = rlwm_step(dC3, dR3, pA3, pG3, pP3, dq_RL3, dq_WM3)\n",
        "    rlwm_step_func = pytensor.function(inputs=[dC3, dR3, pA3, pG3, pP3, dq_RL3, dq_WM3], outputs=[dq_RL, dq_WM])\n",
        "\n",
        "    return rlwm_step_func\n",
        "\n",
        "\n",
        "def rlwm_scan_compile():\n",
        "    dC4 = pt.dtensor5(\"dC4\")\n",
        "    dR4 = pt.dtensor5(\"dR4\")\n",
        "    dq_RL3 = pt.dtensor4(\"dq_RL3\")\n",
        "    dq_WM3 = pt.dtensor4(\"dq_WM3\")\n",
        "    pA4 = pt.dtensor5(\"pA4\")\n",
        "    pG4 = pt.dtensor5(\"pG4\")\n",
        "    pP4 = pt.dtensor5(\"pP4\")\n",
        "\n",
        "    dq_RL, dq_WM = rlwm_scan(dC4, dR4, pA4, pG4, pP4, dq_RL3, dq_WM3)\n",
        "    rlwm_step_func = pytensor.function(inputs=[dC4, dR4, pA4, pG4, pP4, dq_RL3, dq_WM3], outputs=[dq_RL, dq_WM])\n",
        "\n",
        "    return rlwm_step_func\n",
        "\n",
        "\n",
        "def rlwm_softmax_compile():\n",
        "    Qs = pt.dtensor5('Qs')\n",
        "    B = pt.dtensor5('B')\n",
        "\n",
        "    Ps = rlwm_softmax(Qs, B)\n",
        "    Ps_func = pytensor.function(inputs=[Qs, B], outputs=Ps)\n",
        "\n",
        "    return Ps_func\n",
        "\n",
        "\n",
        "def rlwm_likelihood_compile():\n",
        "    dC4 = pt.dtensor5(\"dC4\")\n",
        "    dq_RL4 = pt.dtensor5(\"dq_RL4\")\n",
        "    dq_WM4 = pt.dtensor5(\"dq_WM4\")\n",
        "    pB4 = pt.dtensor5(\"pB4\")\n",
        "    pC4 = pt.dtensor5(\"pC4\")\n",
        "    pE4 = pt.dtensor5(\"pE4\")\n",
        "    pR4 = pt.dtensor5(\"pR4\")\n",
        "    set_sizes = pt.dtensor5(\"set_sizes\")\n",
        "\n",
        "    likelihood = rlwm_likelihood(dC4, dq_RL4, dq_WM4, pB4, pC4, pE4, pR4, set_sizes)\n",
        "    rlwm_likelihood_func = pytensor.function(inputs=[dC4, dq_RL4, dq_WM4, pB4, pC4, pE4, pR4, set_sizes], outputs=likelihood)\n",
        "\n",
        "    return rlwm_likelihood_func\n",
        "\n",
        "def rlwm_Ps_compile():\n",
        "\n",
        "    dq_RL = pt.dtensor4(\"dq_RL\")\n",
        "    dq_WM = pt.dtensor4(\"dq_WM\")\n",
        "    dC = pt.dtensor5(\"dC\")\n",
        "    dR = pt.dtensor5(\"dR\")\n",
        "    pA = pt.dtensor5(\"pA\")\n",
        "    pB = pt.dtensor5(\"pB\")\n",
        "    pG = pt.dtensor5(\"pG\")\n",
        "    pP = pt.dtensor5(\"pP\")\n",
        "\n",
        "    Ps_RL, Ps_WM = rlwm_Ps(dq_RL, dq_WM, dC, dR, pA, pB, pG, pP)\n",
        "    rlwm_Ps_func = pytensor.function(inputs=[dq_RL, dq_WM, dC, dR, pA, pB, pG, pP], outputs=[Ps_RL, Ps_WM])\n",
        "\n",
        "    return rlwm_Ps_func\n",
        "\n",
        "def rlwm_recovery_compile():\n",
        "    dq_RL = pt.dtensor4(\"dq_RL\")\n",
        "    dq_WM = pt.dtensor4(\"dq_WM\")\n",
        "    dC = pt.dtensor5(\"dC\")\n",
        "    dR = pt.dtensor5(\"dR\")\n",
        "    pA = pt.dtensor5(\"pA\")\n",
        "    pB = pt.dtensor5(\"pB\")\n",
        "    pC = pt.dtensor5(\"pC\")\n",
        "    pE = pt.dtensor5(\"pE\")\n",
        "    pG = pt.dtensor5(\"pG\")\n",
        "    pP = pt.dtensor5(\"pP\")\n",
        "    pR = pt.dtensor5(\"pR\")\n",
        "    set_sizes = pt.dtensor5(\"set_sizes\")\n",
        "\n",
        "    likelihood = rlwm_recovery(dq_RL, dq_WM, dC, dR, pA, pB, pC, pE, pG, pP, pR, set_sizes)\n",
        "    rlwm_recovery_func = pytensor.function(inputs=[dq_RL, dq_WM, dC, dR, pA, pB, pC, pE, pG, pP, pR, set_sizes], outputs=likelihood)\n",
        "\n",
        "    return rlwm_recovery_func"
      ]
    }
  ]
}