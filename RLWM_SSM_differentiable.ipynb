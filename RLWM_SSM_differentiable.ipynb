{
  "nbformat": 4,
  "nbformat_minor": 0,
  "metadata": {
    "colab": {
      "provenance": [],
      "gpuType": "T4",
      "mount_file_id": "15pAfwr1UubsHZylyU9tEkm_XdOTBgpHa",
      "authorship_tag": "ABX9TyM/Tbc/azaso8PNYdDPCNdl",
      "include_colab_link": true
    },
    "kernelspec": {
      "name": "python3",
      "display_name": "Python 3"
    },
    "language_info": {
      "name": "python"
    },
    "accelerator": "GPU"
  },
  "cells": [
    {
      "cell_type": "markdown",
      "metadata": {
        "id": "view-in-github",
        "colab_type": "text"
      },
      "source": [
        "<a href=\"https://colab.research.google.com/github/TheLemonPig/RL-SSM/blob/main/RLWM_SSM_differentiable.ipynb\" target=\"_parent\"><img src=\"https://colab.research.google.com/assets/colab-badge.svg\" alt=\"Open In Colab\"/></a>"
      ]
    },
    {
      "cell_type": "code",
      "execution_count": null,
      "metadata": {
        "colab": {
          "base_uri": "https://localhost:8080/"
        },
        "id": "hRLyVFDSKhgj",
        "outputId": "c62dbbe8-fe07-4b68-8d0e-a53928a3dc53"
      },
      "outputs": [
        {
          "output_type": "stream",
          "name": "stdout",
          "text": [
            "Requirement already satisfied: pymc>=5.9 in /usr/local/lib/python3.10/dist-packages (5.10.4)\n",
            "Requirement already satisfied: arviz>=0.13.0 in /usr/local/lib/python3.10/dist-packages (from pymc>=5.9) (0.15.1)\n",
            "Requirement already satisfied: cachetools>=4.2.1 in /usr/local/lib/python3.10/dist-packages (from pymc>=5.9) (5.3.3)\n",
            "Requirement already satisfied: cloudpickle in /usr/local/lib/python3.10/dist-packages (from pymc>=5.9) (2.2.1)\n",
            "Requirement already satisfied: fastprogress>=0.2.0 in /usr/local/lib/python3.10/dist-packages (from pymc>=5.9) (1.0.3)\n",
            "Requirement already satisfied: numpy>=1.15.0 in /usr/local/lib/python3.10/dist-packages (from pymc>=5.9) (1.25.2)\n",
            "Requirement already satisfied: pandas>=0.24.0 in /usr/local/lib/python3.10/dist-packages (from pymc>=5.9) (2.0.3)\n",
            "Requirement already satisfied: pytensor<2.19,>=2.18.1 in /usr/local/lib/python3.10/dist-packages (from pymc>=5.9) (2.18.6)\n",
            "Requirement already satisfied: scipy>=1.4.1 in /usr/local/lib/python3.10/dist-packages (from pymc>=5.9) (1.11.4)\n",
            "Requirement already satisfied: typing-extensions>=3.7.4 in /usr/local/lib/python3.10/dist-packages (from pymc>=5.9) (4.10.0)\n",
            "Requirement already satisfied: setuptools>=60.0.0 in /usr/local/lib/python3.10/dist-packages (from arviz>=0.13.0->pymc>=5.9) (67.7.2)\n",
            "Requirement already satisfied: matplotlib>=3.2 in /usr/local/lib/python3.10/dist-packages (from arviz>=0.13.0->pymc>=5.9) (3.7.1)\n",
            "Requirement already satisfied: packaging in /usr/local/lib/python3.10/dist-packages (from arviz>=0.13.0->pymc>=5.9) (24.0)\n",
            "Requirement already satisfied: xarray>=0.21.0 in /usr/local/lib/python3.10/dist-packages (from arviz>=0.13.0->pymc>=5.9) (2023.7.0)\n",
            "Requirement already satisfied: h5netcdf>=1.0.2 in /usr/local/lib/python3.10/dist-packages (from arviz>=0.13.0->pymc>=5.9) (1.3.0)\n",
            "Requirement already satisfied: xarray-einstats>=0.3 in /usr/local/lib/python3.10/dist-packages (from arviz>=0.13.0->pymc>=5.9) (0.7.0)\n",
            "Requirement already satisfied: python-dateutil>=2.8.2 in /usr/local/lib/python3.10/dist-packages (from pandas>=0.24.0->pymc>=5.9) (2.8.2)\n",
            "Requirement already satisfied: pytz>=2020.1 in /usr/local/lib/python3.10/dist-packages (from pandas>=0.24.0->pymc>=5.9) (2023.4)\n",
            "Requirement already satisfied: tzdata>=2022.1 in /usr/local/lib/python3.10/dist-packages (from pandas>=0.24.0->pymc>=5.9) (2024.1)\n",
            "Requirement already satisfied: filelock in /usr/local/lib/python3.10/dist-packages (from pytensor<2.19,>=2.18.1->pymc>=5.9) (3.13.3)\n",
            "Requirement already satisfied: etuples in /usr/local/lib/python3.10/dist-packages (from pytensor<2.19,>=2.18.1->pymc>=5.9) (0.3.9)\n",
            "Requirement already satisfied: logical-unification in /usr/local/lib/python3.10/dist-packages (from pytensor<2.19,>=2.18.1->pymc>=5.9) (0.4.6)\n",
            "Requirement already satisfied: miniKanren in /usr/local/lib/python3.10/dist-packages (from pytensor<2.19,>=2.18.1->pymc>=5.9) (1.0.3)\n",
            "Requirement already satisfied: cons in /usr/local/lib/python3.10/dist-packages (from pytensor<2.19,>=2.18.1->pymc>=5.9) (0.4.6)\n",
            "Requirement already satisfied: h5py in /usr/local/lib/python3.10/dist-packages (from h5netcdf>=1.0.2->arviz>=0.13.0->pymc>=5.9) (3.9.0)\n",
            "Requirement already satisfied: contourpy>=1.0.1 in /usr/local/lib/python3.10/dist-packages (from matplotlib>=3.2->arviz>=0.13.0->pymc>=5.9) (1.2.1)\n",
            "Requirement already satisfied: cycler>=0.10 in /usr/local/lib/python3.10/dist-packages (from matplotlib>=3.2->arviz>=0.13.0->pymc>=5.9) (0.12.1)\n",
            "Requirement already satisfied: fonttools>=4.22.0 in /usr/local/lib/python3.10/dist-packages (from matplotlib>=3.2->arviz>=0.13.0->pymc>=5.9) (4.50.0)\n",
            "Requirement already satisfied: kiwisolver>=1.0.1 in /usr/local/lib/python3.10/dist-packages (from matplotlib>=3.2->arviz>=0.13.0->pymc>=5.9) (1.4.5)\n",
            "Requirement already satisfied: pillow>=6.2.0 in /usr/local/lib/python3.10/dist-packages (from matplotlib>=3.2->arviz>=0.13.0->pymc>=5.9) (9.4.0)\n",
            "Requirement already satisfied: pyparsing>=2.3.1 in /usr/local/lib/python3.10/dist-packages (from matplotlib>=3.2->arviz>=0.13.0->pymc>=5.9) (3.1.2)\n",
            "Requirement already satisfied: six>=1.5 in /usr/local/lib/python3.10/dist-packages (from python-dateutil>=2.8.2->pandas>=0.24.0->pymc>=5.9) (1.16.0)\n",
            "Requirement already satisfied: toolz in /usr/local/lib/python3.10/dist-packages (from logical-unification->pytensor<2.19,>=2.18.1->pymc>=5.9) (0.12.1)\n",
            "Requirement already satisfied: multipledispatch in /usr/local/lib/python3.10/dist-packages (from logical-unification->pytensor<2.19,>=2.18.1->pymc>=5.9) (1.0.0)\n",
            "Requirement already satisfied: numpyro in /usr/local/lib/python3.10/dist-packages (0.14.0)\n",
            "Requirement already satisfied: jax>=0.4.14 in /usr/local/lib/python3.10/dist-packages (from numpyro) (0.4.26)\n",
            "Requirement already satisfied: jaxlib>=0.4.14 in /usr/local/lib/python3.10/dist-packages (from numpyro) (0.4.26+cuda12.cudnn89)\n",
            "Requirement already satisfied: multipledispatch in /usr/local/lib/python3.10/dist-packages (from numpyro) (1.0.0)\n",
            "Requirement already satisfied: numpy in /usr/local/lib/python3.10/dist-packages (from numpyro) (1.25.2)\n",
            "Requirement already satisfied: tqdm in /usr/local/lib/python3.10/dist-packages (from numpyro) (4.66.2)\n",
            "Requirement already satisfied: ml-dtypes>=0.2.0 in /usr/local/lib/python3.10/dist-packages (from jax>=0.4.14->numpyro) (0.2.0)\n",
            "Requirement already satisfied: opt-einsum in /usr/local/lib/python3.10/dist-packages (from jax>=0.4.14->numpyro) (3.3.0)\n",
            "Requirement already satisfied: scipy>=1.9 in /usr/local/lib/python3.10/dist-packages (from jax>=0.4.14->numpyro) (1.11.4)\n",
            "Collecting git+https://github.com/AlexanderFengler/ssm-simulators@main\n",
            "  Cloning https://github.com/AlexanderFengler/ssm-simulators (to revision main) to /tmp/pip-req-build-j5bu_aa7\n",
            "  Running command git clone --filter=blob:none --quiet https://github.com/AlexanderFengler/ssm-simulators /tmp/pip-req-build-j5bu_aa7\n",
            "  Resolved https://github.com/AlexanderFengler/ssm-simulators to commit db17bf04816e2b011e8179f42ffebbecf4bc11f1\n",
            "  Installing build dependencies ... \u001b[?25l\u001b[?25hdone\n",
            "  Getting requirements to build wheel ... \u001b[?25l\u001b[?25hdone\n",
            "  Preparing metadata (pyproject.toml) ... \u001b[?25l\u001b[?25hdone\n",
            "Requirement already satisfied: numpy>=1.17.0 in /usr/local/lib/python3.10/dist-packages (from ssm-simulators==0.7.1) (1.25.2)\n",
            "Requirement already satisfied: scipy>=1.6.3 in /usr/local/lib/python3.10/dist-packages (from ssm-simulators==0.7.1) (1.11.4)\n",
            "Requirement already satisfied: cython>=0.29.23 in /usr/local/lib/python3.10/dist-packages (from ssm-simulators==0.7.1) (3.0.10)\n",
            "Requirement already satisfied: pandas>=1.0.0 in /usr/local/lib/python3.10/dist-packages (from ssm-simulators==0.7.1) (2.0.3)\n",
            "Requirement already satisfied: scikit-learn>=0.24.0 in /usr/local/lib/python3.10/dist-packages (from ssm-simulators==0.7.1) (1.2.2)\n",
            "Requirement already satisfied: psutil>=5.0.0 in /usr/local/lib/python3.10/dist-packages (from ssm-simulators==0.7.1) (5.9.5)\n",
            "Requirement already satisfied: python-dateutil>=2.8.2 in /usr/local/lib/python3.10/dist-packages (from pandas>=1.0.0->ssm-simulators==0.7.1) (2.8.2)\n",
            "Requirement already satisfied: pytz>=2020.1 in /usr/local/lib/python3.10/dist-packages (from pandas>=1.0.0->ssm-simulators==0.7.1) (2023.4)\n",
            "Requirement already satisfied: tzdata>=2022.1 in /usr/local/lib/python3.10/dist-packages (from pandas>=1.0.0->ssm-simulators==0.7.1) (2024.1)\n",
            "Requirement already satisfied: joblib>=1.1.1 in /usr/local/lib/python3.10/dist-packages (from scikit-learn>=0.24.0->ssm-simulators==0.7.1) (1.3.2)\n",
            "Requirement already satisfied: threadpoolctl>=2.0.0 in /usr/local/lib/python3.10/dist-packages (from scikit-learn>=0.24.0->ssm-simulators==0.7.1) (3.4.0)\n",
            "Requirement already satisfied: six>=1.5 in /usr/local/lib/python3.10/dist-packages (from python-dateutil>=2.8.2->pandas>=1.0.0->ssm-simulators==0.7.1) (1.16.0)\n",
            "Collecting git+https://github.com/AlexanderFengler/LANfactory\n",
            "  Cloning https://github.com/AlexanderFengler/LANfactory to /tmp/pip-req-build-2sj4tgfp\n",
            "  Running command git clone --filter=blob:none --quiet https://github.com/AlexanderFengler/LANfactory /tmp/pip-req-build-2sj4tgfp\n",
            "  Resolved https://github.com/AlexanderFengler/LANfactory to commit b1dd8081f8dabf3c03dbd543ada54dacfa370911\n",
            "  Installing build dependencies ... \u001b[?25l\u001b[?25hdone\n",
            "  Getting requirements to build wheel ... \u001b[?25l\u001b[?25hdone\n",
            "  Preparing metadata (pyproject.toml) ... \u001b[?25l\u001b[?25hdone\n",
            "Requirement already satisfied: NumPy>=1.17.0 in /usr/local/lib/python3.10/dist-packages (from lanfactory==0.4.6) (1.25.2)\n",
            "Requirement already satisfied: SciPy>=1.6.3 in /usr/local/lib/python3.10/dist-packages (from lanfactory==0.4.6) (1.11.4)\n",
            "Requirement already satisfied: pandas>=1.2.4 in /usr/local/lib/python3.10/dist-packages (from lanfactory==0.4.6) (2.0.3)\n",
            "Requirement already satisfied: torch>=1.7 in /usr/local/lib/python3.10/dist-packages (from lanfactory==0.4.6) (2.2.1+cu121)\n",
            "Requirement already satisfied: jax>=0.4.14 in /usr/local/lib/python3.10/dist-packages (from lanfactory==0.4.6) (0.4.26)\n",
            "Requirement already satisfied: flax>=0.6.4 in /usr/local/lib/python3.10/dist-packages (from lanfactory==0.4.6) (0.8.2)\n",
            "Requirement already satisfied: optax>=0.1.4 in /usr/local/lib/python3.10/dist-packages (from lanfactory==0.4.6) (0.2.2)\n",
            "Requirement already satisfied: tqdm>=4.0.0 in /usr/local/lib/python3.10/dist-packages (from lanfactory==0.4.6) (4.66.2)\n",
            "Requirement already satisfied: msgpack in /usr/local/lib/python3.10/dist-packages (from flax>=0.6.4->lanfactory==0.4.6) (1.0.8)\n",
            "Requirement already satisfied: orbax-checkpoint in /usr/local/lib/python3.10/dist-packages (from flax>=0.6.4->lanfactory==0.4.6) (0.4.4)\n",
            "Requirement already satisfied: tensorstore in /usr/local/lib/python3.10/dist-packages (from flax>=0.6.4->lanfactory==0.4.6) (0.1.45)\n",
            "Requirement already satisfied: rich>=11.1 in /usr/local/lib/python3.10/dist-packages (from flax>=0.6.4->lanfactory==0.4.6) (13.7.1)\n",
            "Requirement already satisfied: typing-extensions>=4.2 in /usr/local/lib/python3.10/dist-packages (from flax>=0.6.4->lanfactory==0.4.6) (4.10.0)\n",
            "Requirement already satisfied: PyYAML>=5.4.1 in /usr/local/lib/python3.10/dist-packages (from flax>=0.6.4->lanfactory==0.4.6) (6.0.1)\n",
            "Requirement already satisfied: ml-dtypes>=0.2.0 in /usr/local/lib/python3.10/dist-packages (from jax>=0.4.14->lanfactory==0.4.6) (0.2.0)\n",
            "Requirement already satisfied: opt-einsum in /usr/local/lib/python3.10/dist-packages (from jax>=0.4.14->lanfactory==0.4.6) (3.3.0)\n",
            "Requirement already satisfied: absl-py>=0.7.1 in /usr/local/lib/python3.10/dist-packages (from optax>=0.1.4->lanfactory==0.4.6) (1.4.0)\n",
            "Requirement already satisfied: chex>=0.1.86 in /usr/local/lib/python3.10/dist-packages (from optax>=0.1.4->lanfactory==0.4.6) (0.1.86)\n",
            "Requirement already satisfied: jaxlib>=0.1.37 in /usr/local/lib/python3.10/dist-packages (from optax>=0.1.4->lanfactory==0.4.6) (0.4.26+cuda12.cudnn89)\n",
            "Requirement already satisfied: python-dateutil>=2.8.2 in /usr/local/lib/python3.10/dist-packages (from pandas>=1.2.4->lanfactory==0.4.6) (2.8.2)\n",
            "Requirement already satisfied: pytz>=2020.1 in /usr/local/lib/python3.10/dist-packages (from pandas>=1.2.4->lanfactory==0.4.6) (2023.4)\n",
            "Requirement already satisfied: tzdata>=2022.1 in /usr/local/lib/python3.10/dist-packages (from pandas>=1.2.4->lanfactory==0.4.6) (2024.1)\n",
            "Requirement already satisfied: filelock in /usr/local/lib/python3.10/dist-packages (from torch>=1.7->lanfactory==0.4.6) (3.13.3)\n",
            "Requirement already satisfied: sympy in /usr/local/lib/python3.10/dist-packages (from torch>=1.7->lanfactory==0.4.6) (1.12)\n",
            "Requirement already satisfied: networkx in /usr/local/lib/python3.10/dist-packages (from torch>=1.7->lanfactory==0.4.6) (3.2.1)\n",
            "Requirement already satisfied: jinja2 in /usr/local/lib/python3.10/dist-packages (from torch>=1.7->lanfactory==0.4.6) (3.1.3)\n",
            "Requirement already satisfied: fsspec in /usr/local/lib/python3.10/dist-packages (from torch>=1.7->lanfactory==0.4.6) (2023.6.0)\n",
            "Collecting nvidia-cuda-nvrtc-cu12==12.1.105 (from torch>=1.7->lanfactory==0.4.6)\n",
            "  Using cached nvidia_cuda_nvrtc_cu12-12.1.105-py3-none-manylinux1_x86_64.whl (23.7 MB)\n",
            "Collecting nvidia-cuda-runtime-cu12==12.1.105 (from torch>=1.7->lanfactory==0.4.6)\n",
            "  Using cached nvidia_cuda_runtime_cu12-12.1.105-py3-none-manylinux1_x86_64.whl (823 kB)\n",
            "Collecting nvidia-cuda-cupti-cu12==12.1.105 (from torch>=1.7->lanfactory==0.4.6)\n",
            "  Using cached nvidia_cuda_cupti_cu12-12.1.105-py3-none-manylinux1_x86_64.whl (14.1 MB)\n",
            "Collecting nvidia-cudnn-cu12==8.9.2.26 (from torch>=1.7->lanfactory==0.4.6)\n",
            "  Using cached nvidia_cudnn_cu12-8.9.2.26-py3-none-manylinux1_x86_64.whl (731.7 MB)\n",
            "Collecting nvidia-cublas-cu12==12.1.3.1 (from torch>=1.7->lanfactory==0.4.6)\n",
            "  Downloading nvidia_cublas_cu12-12.1.3.1-py3-none-manylinux1_x86_64.whl (410.6 MB)\n",
            "\u001b[2K     \u001b[90m━━━━━━━━━━━━━━━━━━━━━━━━━━━━━━━━━━━━━━━━\u001b[0m \u001b[32m410.6/410.6 MB\u001b[0m \u001b[31m2.4 MB/s\u001b[0m eta \u001b[36m0:00:00\u001b[0m\n",
            "\u001b[?25hCollecting nvidia-cufft-cu12==11.0.2.54 (from torch>=1.7->lanfactory==0.4.6)\n",
            "  Downloading nvidia_cufft_cu12-11.0.2.54-py3-none-manylinux1_x86_64.whl (121.6 MB)\n",
            "\u001b[2K     \u001b[90m━━━━━━━━━━━━━━━━━━━━━━━━━━━━━━━━━━━━━━━━\u001b[0m \u001b[32m121.6/121.6 MB\u001b[0m \u001b[31m2.2 MB/s\u001b[0m eta \u001b[36m0:00:00\u001b[0m\n",
            "\u001b[?25hCollecting nvidia-curand-cu12==10.3.2.106 (from torch>=1.7->lanfactory==0.4.6)\n",
            "  Downloading nvidia_curand_cu12-10.3.2.106-py3-none-manylinux1_x86_64.whl (56.5 MB)\n",
            "\u001b[2K     \u001b[90m━━━━━━━━━━━━━━━━━━━━━━━━━━━━━━━━━━━━━━━━\u001b[0m \u001b[32m56.5/56.5 MB\u001b[0m \u001b[31m1.6 MB/s\u001b[0m eta \u001b[36m0:00:00\u001b[0m\n",
            "\u001b[?25hCollecting nvidia-cusolver-cu12==11.4.5.107 (from torch>=1.7->lanfactory==0.4.6)\n",
            "  Downloading nvidia_cusolver_cu12-11.4.5.107-py3-none-manylinux1_x86_64.whl (124.2 MB)\n",
            "\u001b[2K     \u001b[90m━━━━━━━━━━━━━━━━━━━━━━━━━━━━━━━━━━━━━━━━\u001b[0m \u001b[32m124.2/124.2 MB\u001b[0m \u001b[31m2.1 MB/s\u001b[0m eta \u001b[36m0:00:00\u001b[0m\n",
            "\u001b[?25hCollecting nvidia-cusparse-cu12==12.1.0.106 (from torch>=1.7->lanfactory==0.4.6)\n",
            "  Downloading nvidia_cusparse_cu12-12.1.0.106-py3-none-manylinux1_x86_64.whl (196.0 MB)\n",
            "\u001b[2K     \u001b[90m━━━━━━━━━━━━━━━━━━━━━━━━━━━━━━━━━━━━━━━━\u001b[0m \u001b[32m196.0/196.0 MB\u001b[0m \u001b[31m1.8 MB/s\u001b[0m eta \u001b[36m0:00:00\u001b[0m\n",
            "\u001b[?25hCollecting nvidia-nccl-cu12==2.19.3 (from torch>=1.7->lanfactory==0.4.6)\n",
            "  Downloading nvidia_nccl_cu12-2.19.3-py3-none-manylinux1_x86_64.whl (166.0 MB)\n",
            "\u001b[2K     \u001b[91m━━━━━━━━━━━━━━━━━━\u001b[0m\u001b[90m╺\u001b[0m\u001b[90m━━━━━━━━━━━━━━━━━━━━━\u001b[0m \u001b[32m76.8/166.0 MB\u001b[0m \u001b[31m2.7 MB/s\u001b[0m eta \u001b[36m0:00:33\u001b[0m"
          ]
        }
      ],
      "source": [
        "!pip install 'pymc>=5.9'\n",
        "!pip install numpyro\n",
        "!pip install git+https://github.com/AlexanderFengler/ssm-simulators@main\n",
        "!pip install git+https://github.com/AlexanderFengler/LANfactory"
      ]
    },
    {
      "cell_type": "code",
      "source": [
        "import pymc as pm\n",
        "import numpy as np\n",
        "import random, pickle\n",
        "import matplotlib.pyplot as plt\n",
        "import pandas as pd\n",
        "import pytensor\n",
        "import pytensor.tensor as pt\n",
        "import arviz as az\n",
        "import numpy as np\n",
        "import matplotlib.pyplot as plt\n",
        "import pickle\n",
        "import ssms\n",
        "from ssms.basic_simulators.simulator import simulator\n",
        "import lanfactory"
      ],
      "metadata": {
        "colab": {
          "base_uri": "https://localhost:8080/",
          "height": 269
        },
        "id": "GWM0hvr8KxTp",
        "outputId": "8545d4fa-6987-4c5c-86fc-346879b3ceac"
      },
      "execution_count": 3,
      "outputs": [
        {
          "output_type": "error",
          "ename": "KeyboardInterrupt",
          "evalue": "",
          "traceback": [
            "\u001b[0;31m---------------------------------------------------------------------------\u001b[0m",
            "\u001b[0;31mKeyboardInterrupt\u001b[0m                         Traceback (most recent call last)",
            "\u001b[0;32m<ipython-input-3-4a9bf226e1d9>\u001b[0m in \u001b[0;36m<cell line: 1>\u001b[0;34m()\u001b[0m\n\u001b[0;32m----> 1\u001b[0;31m \u001b[0;32mimport\u001b[0m \u001b[0mpymc\u001b[0m \u001b[0;32mas\u001b[0m \u001b[0mpm\u001b[0m\u001b[0;34m\u001b[0m\u001b[0;34m\u001b[0m\u001b[0m\n\u001b[0m\u001b[1;32m      2\u001b[0m \u001b[0;32mimport\u001b[0m \u001b[0mnumpy\u001b[0m \u001b[0;32mas\u001b[0m \u001b[0mnp\u001b[0m\u001b[0;34m\u001b[0m\u001b[0;34m\u001b[0m\u001b[0m\n\u001b[1;32m      3\u001b[0m \u001b[0;32mimport\u001b[0m \u001b[0mrandom\u001b[0m\u001b[0;34m,\u001b[0m \u001b[0mpickle\u001b[0m\u001b[0;34m\u001b[0m\u001b[0;34m\u001b[0m\u001b[0m\n\u001b[1;32m      4\u001b[0m \u001b[0;32mimport\u001b[0m \u001b[0mmatplotlib\u001b[0m\u001b[0;34m.\u001b[0m\u001b[0mpyplot\u001b[0m \u001b[0;32mas\u001b[0m \u001b[0mplt\u001b[0m\u001b[0;34m\u001b[0m\u001b[0;34m\u001b[0m\u001b[0m\n\u001b[1;32m      5\u001b[0m \u001b[0;32mimport\u001b[0m \u001b[0mpandas\u001b[0m \u001b[0;32mas\u001b[0m \u001b[0mpd\u001b[0m\u001b[0;34m\u001b[0m\u001b[0;34m\u001b[0m\u001b[0m\n",
            "\u001b[0;32m/usr/local/lib/python3.10/dist-packages/pymc/__init__.py\u001b[0m in \u001b[0;36m<module>\u001b[0;34m\u001b[0m\n\u001b[1;32m     44\u001b[0m \u001b[0;34m\u001b[0m\u001b[0m\n\u001b[1;32m     45\u001b[0m \u001b[0;34m\u001b[0m\u001b[0m\n\u001b[0;32m---> 46\u001b[0;31m \u001b[0m__set_compiler_flags\u001b[0m\u001b[0;34m(\u001b[0m\u001b[0;34m)\u001b[0m\u001b[0;34m\u001b[0m\u001b[0;34m\u001b[0m\u001b[0m\n\u001b[0m\u001b[1;32m     47\u001b[0m \u001b[0;34m\u001b[0m\u001b[0m\n\u001b[1;32m     48\u001b[0m \u001b[0;32mfrom\u001b[0m \u001b[0mpymc\u001b[0m \u001b[0;32mimport\u001b[0m \u001b[0m_version\u001b[0m\u001b[0;34m,\u001b[0m \u001b[0mgp\u001b[0m\u001b[0;34m,\u001b[0m \u001b[0mode\u001b[0m\u001b[0;34m,\u001b[0m \u001b[0msampling\u001b[0m\u001b[0;34m\u001b[0m\u001b[0;34m\u001b[0m\u001b[0m\n",
            "\u001b[0;32m/usr/local/lib/python3.10/dist-packages/pymc/__init__.py\u001b[0m in \u001b[0;36m__set_compiler_flags\u001b[0;34m()\u001b[0m\n\u001b[1;32m     27\u001b[0m \u001b[0;32mdef\u001b[0m \u001b[0m__set_compiler_flags\u001b[0m\u001b[0;34m(\u001b[0m\u001b[0;34m)\u001b[0m\u001b[0;34m:\u001b[0m\u001b[0;34m\u001b[0m\u001b[0;34m\u001b[0m\u001b[0m\n\u001b[1;32m     28\u001b[0m     \u001b[0;31m# Workarounds for PyTensor compiler problems on various platforms\u001b[0m\u001b[0;34m\u001b[0m\u001b[0;34m\u001b[0m\u001b[0m\n\u001b[0;32m---> 29\u001b[0;31m     \u001b[0;32mimport\u001b[0m \u001b[0mpytensor\u001b[0m\u001b[0;34m\u001b[0m\u001b[0;34m\u001b[0m\u001b[0m\n\u001b[0m\u001b[1;32m     30\u001b[0m \u001b[0;34m\u001b[0m\u001b[0m\n\u001b[1;32m     31\u001b[0m     \u001b[0mcurrent\u001b[0m \u001b[0;34m=\u001b[0m \u001b[0mpytensor\u001b[0m\u001b[0;34m.\u001b[0m\u001b[0mconfig\u001b[0m\u001b[0;34m.\u001b[0m\u001b[0mgcc__cxxflags\u001b[0m\u001b[0;34m\u001b[0m\u001b[0;34m\u001b[0m\u001b[0m\n",
            "\u001b[0;32m/usr/local/lib/python3.10/dist-packages/pytensor/__init__.py\u001b[0m in \u001b[0;36m<module>\u001b[0;34m\u001b[0m\n\u001b[1;32m    117\u001b[0m \u001b[0;34m\u001b[0m\u001b[0m\n\u001b[1;32m    118\u001b[0m \u001b[0;31m# isort: off\u001b[0m\u001b[0;34m\u001b[0m\u001b[0;34m\u001b[0m\u001b[0m\n\u001b[0;32m--> 119\u001b[0;31m \u001b[0;32mfrom\u001b[0m \u001b[0mpytensor\u001b[0m \u001b[0;32mimport\u001b[0m \u001b[0mscalar\u001b[0m\u001b[0;34m,\u001b[0m \u001b[0mtensor\u001b[0m\u001b[0;34m\u001b[0m\u001b[0;34m\u001b[0m\u001b[0m\n\u001b[0m\u001b[1;32m    120\u001b[0m from pytensor.compile import (\n\u001b[1;32m    121\u001b[0m     \u001b[0mIn\u001b[0m\u001b[0;34m,\u001b[0m\u001b[0;34m\u001b[0m\u001b[0;34m\u001b[0m\u001b[0m\n",
            "\u001b[0;32m/usr/local/lib/python3.10/dist-packages/pytensor/tensor/__init__.py\u001b[0m in \u001b[0;36m<module>\u001b[0;34m\u001b[0m\n\u001b[1;32m    111\u001b[0m     \u001b[0mxlogx\u001b[0m\u001b[0;34m,\u001b[0m\u001b[0;34m\u001b[0m\u001b[0;34m\u001b[0m\u001b[0m\n\u001b[1;32m    112\u001b[0m )\n\u001b[0;32m--> 113\u001b[0;31m \u001b[0;32mimport\u001b[0m \u001b[0mpytensor\u001b[0m\u001b[0;34m.\u001b[0m\u001b[0mtensor\u001b[0m\u001b[0;34m.\u001b[0m\u001b[0mrewriting\u001b[0m\u001b[0;34m\u001b[0m\u001b[0;34m\u001b[0m\u001b[0m\n\u001b[0m\u001b[1;32m    114\u001b[0m \u001b[0;34m\u001b[0m\u001b[0m\n\u001b[1;32m    115\u001b[0m \u001b[0;34m\u001b[0m\u001b[0m\n",
            "\u001b[0;32m/usr/local/lib/python3.10/dist-packages/pytensor/tensor/rewriting/__init__.py\u001b[0m in \u001b[0;36m<module>\u001b[0;34m\u001b[0m\n\u001b[1;32m      9\u001b[0m \u001b[0;31m# Register JAX specializations\u001b[0m\u001b[0;34m\u001b[0m\u001b[0;34m\u001b[0m\u001b[0m\n\u001b[1;32m     10\u001b[0m \u001b[0;32mimport\u001b[0m \u001b[0mpytensor\u001b[0m\u001b[0;34m.\u001b[0m\u001b[0mtensor\u001b[0m\u001b[0;34m.\u001b[0m\u001b[0mrewriting\u001b[0m\u001b[0;34m.\u001b[0m\u001b[0mjax\u001b[0m\u001b[0;34m\u001b[0m\u001b[0;34m\u001b[0m\u001b[0m\n\u001b[0;32m---> 11\u001b[0;31m \u001b[0;32mimport\u001b[0m \u001b[0mpytensor\u001b[0m\u001b[0;34m.\u001b[0m\u001b[0mtensor\u001b[0m\u001b[0;34m.\u001b[0m\u001b[0mrewriting\u001b[0m\u001b[0;34m.\u001b[0m\u001b[0mlinalg\u001b[0m\u001b[0;34m\u001b[0m\u001b[0;34m\u001b[0m\u001b[0m\n\u001b[0m\u001b[1;32m     12\u001b[0m \u001b[0;32mimport\u001b[0m \u001b[0mpytensor\u001b[0m\u001b[0;34m.\u001b[0m\u001b[0mtensor\u001b[0m\u001b[0;34m.\u001b[0m\u001b[0mrewriting\u001b[0m\u001b[0;34m.\u001b[0m\u001b[0mmath\u001b[0m\u001b[0;34m\u001b[0m\u001b[0;34m\u001b[0m\u001b[0m\n\u001b[1;32m     13\u001b[0m \u001b[0;32mimport\u001b[0m \u001b[0mpytensor\u001b[0m\u001b[0;34m.\u001b[0m\u001b[0mtensor\u001b[0m\u001b[0;34m.\u001b[0m\u001b[0mrewriting\u001b[0m\u001b[0;34m.\u001b[0m\u001b[0mshape\u001b[0m\u001b[0;34m\u001b[0m\u001b[0;34m\u001b[0m\u001b[0m\n",
            "\u001b[0;32m/usr/lib/python3.10/importlib/_bootstrap.py\u001b[0m in \u001b[0;36m_find_and_load\u001b[0;34m(name, import_)\u001b[0m\n",
            "\u001b[0;32m/usr/lib/python3.10/importlib/_bootstrap.py\u001b[0m in \u001b[0;36m_find_and_load_unlocked\u001b[0;34m(name, import_)\u001b[0m\n",
            "\u001b[0;32m/usr/lib/python3.10/importlib/_bootstrap.py\u001b[0m in \u001b[0;36m_find_spec\u001b[0;34m(name, path, target)\u001b[0m\n",
            "\u001b[0;32m/usr/lib/python3.10/importlib/_bootstrap_external.py\u001b[0m in \u001b[0;36mfind_spec\u001b[0;34m(cls, fullname, path, target)\u001b[0m\n",
            "\u001b[0;32m/usr/lib/python3.10/importlib/_bootstrap_external.py\u001b[0m in \u001b[0;36m_get_spec\u001b[0;34m(cls, fullname, path, target)\u001b[0m\n",
            "\u001b[0;32m/usr/lib/python3.10/importlib/_bootstrap_external.py\u001b[0m in \u001b[0;36mfind_spec\u001b[0;34m(self, fullname, target)\u001b[0m\n",
            "\u001b[0;32m/usr/lib/python3.10/importlib/_bootstrap_external.py\u001b[0m in \u001b[0;36m_get_spec\u001b[0;34m(self, loader_class, fullname, path, smsl, target)\u001b[0m\n",
            "\u001b[0;32m/usr/lib/python3.10/importlib/_bootstrap_external.py\u001b[0m in \u001b[0;36mspec_from_file_location\u001b[0;34m(name, location, loader, submodule_search_locations)\u001b[0m\n",
            "\u001b[0;32m/usr/lib/python3.10/importlib/_bootstrap_external.py\u001b[0m in \u001b[0;36m_path_isabs\u001b[0;34m(path)\u001b[0m\n",
            "\u001b[0;31mKeyboardInterrupt\u001b[0m: "
          ]
        }
      ]
    },
    {
      "cell_type": "code",
      "source": [
        "np.random.seed(0)\n",
        "random.seed(0)"
      ],
      "metadata": {
        "id": "jAqPunB5QLlv"
      },
      "execution_count": 2,
      "outputs": []
    },
    {
      "cell_type": "markdown",
      "source": [
        "##SSM for PyTensor Pre-Prep"
      ],
      "metadata": {
        "id": "x7yJSsXtgOwv"
      }
    },
    {
      "cell_type": "code",
      "source": [
        "ssms.config.model_config.keys()"
      ],
      "metadata": {
        "colab": {
          "base_uri": "https://localhost:8080/"
        },
        "id": "DVe-xajjydVg",
        "outputId": "58f42cd8-7261-4a3d-e727-18d6835e385c"
      },
      "execution_count": 3,
      "outputs": [
        {
          "output_type": "execute_result",
          "data": {
            "text/plain": [
              "dict_keys(['ddm', 'ddm_legacy', 'angle', 'weibull', 'levy', 'levy_angle', 'full_ddm', 'gamma_drift', 'gamma_drift_angle', 'ds_conflict_drift', 'ds_conflict_drift_angle', 'ornstein', 'ornstein_angle', 'ddm_sdv', 'lba_3_v1', 'lba_angle_3_v1', 'rlwm_lba_race_v1', 'race_2', 'race_no_bias_2', 'race_no_z_2', 'race_no_bias_angle_2', 'race_no_z_angle_2', 'race_3', 'race_no_bias_3', 'race_no_z_3', 'race_no_bias_angle_3', 'race_no_z_angle_3', 'race_4', 'race_no_bias_4', 'race_no_z_4', 'race_no_bias_angle_4', 'race_no_z_angle_4', 'lca_3', 'lca_no_bias_3', 'lca_no_z_3', 'lca_no_bias_angle_3', 'lca_no_z_angle_3', 'lca_4', 'lca_no_bias_4', 'lca_no_z_4', 'lca_no_bias_angle_4', 'lca_no_z_angle_4', 'ddm_par2', 'ddm_par2_no_bias', 'ddm_par2_conflict_gamma_no_bias', 'ddm_par2_angle_no_bias', 'ddm_par2_weibull_no_bias', 'ddm_seq2', 'ddm_seq2_no_bias', 'ddm_seq2_conflict_gamma_no_bias', 'ddm_seq2_angle_no_bias', 'ddm_seq2_weibull_no_bias', 'ddm_mic2_adj', 'ddm_mic2_adj_no_bias', 'ddm_mic2_adj_conflict_gamma_no_bias', 'ddm_mic2_adj_angle_no_bias', 'ddm_mic2_adj_weibull_no_bias', 'ddm_mic2_ornstein', 'ddm_mic2_ornstein_no_bias', 'ddm_mic2_ornstein_conflict_gamma_no_bias', 'ddm_mic2_ornstein_angle_no_bias', 'ddm_mic2_ornstein_weibull_no_bias', 'ddm_mic2_multinoise_no_bias', 'ddm_mic2_multinoise_conflict_gamma_no_bias', 'ddm_mic2_multinoise_angle_no_bias', 'ddm_mic2_multinoise_weibull_no_bias', 'ddm_mic2_leak', 'ddm_mic2_leak_no_bias', 'ddm_mic2_leak_conflict_gamma_no_bias', 'ddm_mic2_leak_angle_no_bias', 'ddm_mic2_leak_weibull_no_bias', 'tradeoff_no_bias', 'tradeoff_angle_no_bias', 'tradeoff_weibull_no_bias', 'tradeoff_conflict_gamma_no_bias', 'weibull_cdf', 'full_ddm2', 'ddm_mic2_ornstein_no_bias_no_lowdim_noise', 'ddm_mic2_ornstein_angle_no_bias_no_lowdim_noise', 'ddm_mic2_ornstein_weibull_no_bias_no_lowdim_noise', 'ddm_mic2_ornstein_conflict_gamma_no_bias_no_lowdim_noise', 'ddm_mic2_leak_no_bias_no_lowdim_noise', 'ddm_mic2_leak_angle_no_bias_no_lowdim_noise', 'ddm_mic2_leak_weibull_no_bias_no_lowdim_noise', 'ddm_mic2_leak_conflict_gamma_no_bias_no_lowdim_noise'])"
            ]
          },
          "metadata": {},
          "execution_count": 3
        }
      ]
    },
    {
      "cell_type": "code",
      "source": [
        "ssms_model = 'lba_angle_3_v1'\n",
        "model_config = ssms.config.model_config[ssms_model]\n",
        "param_theta = np.array([0.5, 0.3, 0.2, 0.5, 0.2, 0.0])\n",
        "res = simulator(\n",
        "                param_theta,\n",
        "                model=ssms_model,\n",
        "                n_samples=2000,\n",
        "                delta_t=0.001,\n",
        "                max_t=5,\n",
        "                )\n",
        "network_config = pickle.load(open('/content/drive/MyDrive/hssm_rlwm/LANs/lba_angle_3_v1_torch__network_config.pickle', 'rb'))\n",
        "model_file_path = '/content/drive/MyDrive/hssm_rlwm/LANs/lba_angle_3_v1_torch_state_dict.pt'\n",
        "torch_mlp = lanfactory.trainers.torch_mlp.LoadTorchMLPInfer(model_file_path = model_file_path,\n",
        "                                                network_config = network_config,\n",
        "                                                input_dim = 6 + 2) ## 6 is a hard-coded value for lba_angle_3_v1"
      ],
      "metadata": {
        "colab": {
          "base_uri": "https://localhost:8080/"
        },
        "id": "QcyubNNtQSZ5",
        "outputId": "b5c28ce1-00a3-471b-9c32-c3821297bcb3"
      },
      "execution_count": 4,
      "outputs": [
        {
          "output_type": "stream",
          "name": "stdout",
          "text": [
            "Setting network type to \"lan\" or \"cpn\" based on train_output_type. \n",
            "Note: This is only a default setting, and can be overwritten by the network_type argument.\n",
            "tanh\n",
            "tanh\n",
            "tanh\n",
            "linear\n"
          ]
        }
      ]
    },
    {
      "cell_type": "code",
      "source": [
        "weights_0 = torch_mlp.net.state_dict()['layers.0.weight'].cpu().numpy().astype(np.float32).T\n",
        "weights_1 = torch_mlp.net.state_dict()['layers.2.weight'].cpu().numpy().astype(np.float32).T\n",
        "weights_2 = torch_mlp.net.state_dict()['layers.4.weight'].cpu().numpy().astype(np.float32).T\n",
        "weights_3 = torch_mlp.net.state_dict()['layers.6.weight'].cpu().numpy().astype(np.float32).T\n",
        "biases_0 = torch_mlp.net.state_dict()['layers.0.bias'].cpu().numpy().astype(np.float32).T\n",
        "biases_1 = torch_mlp.net.state_dict()['layers.2.bias'].cpu().numpy().astype(np.float32).T\n",
        "biases_2 = torch_mlp.net.state_dict()['layers.4.bias'].cpu().numpy().astype(np.float32).T\n",
        "biases_3 = torch_mlp.net.state_dict()['layers.6.bias'].cpu().numpy().astype(np.float32).T"
      ],
      "metadata": {
        "id": "uMEWZYXca4rP"
      },
      "execution_count": 5,
      "outputs": []
    },
    {
      "cell_type": "markdown",
      "metadata": {
        "id": "9zVA4Nq2J4Jr"
      },
      "source": [
        "##PyTensor"
      ]
    },
    {
      "cell_type": "markdown",
      "metadata": {
        "id": "kk_U1m5SSsJi"
      },
      "source": [
        "####Functions"
      ]
    },
    {
      "cell_type": "code",
      "execution_count": 135,
      "metadata": {
        "id": "btpenR8nSxm6"
      },
      "outputs": [],
      "source": [
        "def rlwm_step(dC, dR, pA, pG, pP, dq_RL, dq_WM):\n",
        "    \"\"\"\n",
        "    rlwm_step: calculate a single RLWM step\n",
        "    (n_participants, n_choices, n_blocks, n_stimuli)\n",
        "    dC: Choices (data)\n",
        "    dR: Rewards (data)\n",
        "    pA: Alphas (parameter)\n",
        "    pG: Gammas (parameter)\n",
        "    pP: Phis (parameter)\n",
        "    dq_RL: RL Qs (data)\n",
        "    dq_WM: WM Qs (data)\n",
        "    \"\"\"\n",
        "    cond = pt.switch(pt.lt(dq_RL, dR), 1, 0)\n",
        "    dq_RL += (cond + (1.0 - cond) * pG) * pA * (dR - dq_RL) * dC\n",
        "    dq_WM += (cond + (1.0 - cond) * pG) * 1.0 * (dR - dq_WM) * dC\n",
        "    dq_WM += pP * (1 / dR.shape[1] - dq_WM)\n",
        "    return [dq_RL, dq_WM]\n",
        "\n",
        "def rlwm_scan(dC, dR, pA, pG, pP, dq_RL, dq_WM):\n",
        "    \"\"\"\n",
        "    rlwm_scan: calculate a RLWM Q-Values\n",
        "    (n_trials, n_participants, n_choices, n_blocks, n_stimuli)\n",
        "    dC: Choices (data)\n",
        "    dR: Rewards (data)\n",
        "    pA: Alphas (parameter)\n",
        "    pG: Gammas (parameter)\n",
        "    pP: Phis (parameter)\n",
        "    dq_RL: RL Qs (data)\n",
        "    dq_WM: WM Qs (data)\n",
        "    \"\"\"\n",
        "    ([dQ_RL, dQ_WM], _) = pytensor.scan(rlwm_step, sequences=[dC, dR, pA, pG, pP], non_sequences=[], outputs_info=[dq_RL, dq_WM])\n",
        "    shape = dC.shape\n",
        "    n_trials_m1 = shape[0]-1\n",
        "    dQ_RL = pt.subtensor.set_subtensor(pt.repeat(dq_RL.reshape((1,shape[1],shape[2],shape[3],shape[4])),shape[0],axis=0)[-n_trials_m1:], dQ_RL[:n_trials_m1])\n",
        "    dQ_WM = pt.subtensor.set_subtensor(pt.repeat(dq_WM.reshape((1,shape[1],shape[2],shape[3],shape[4])),shape[0],axis=0)[-n_trials_m1:], dQ_WM[:n_trials_m1])\n",
        "    return dQ_RL, dQ_WM\n",
        "\n",
        "\n",
        "def pytensor_softmax(Qs, pB):\n",
        "    \"\"\"\n",
        "    rlwm_softmax: calculate probabilities using a tempered softmax over Q-Values\n",
        "\n",
        "    Qs: Q-Values (data)\n",
        "    pB: Betas (parameter)\n",
        "    \"\"\"\n",
        "    shape = Qs.shape\n",
        "    tempered_qs = pt.mul(Qs,pB)\n",
        "    qs_max = pt.max(tempered_qs,axis=2)\n",
        "    qs_max = pt.repeat(qs_max.reshape((shape[0], shape[1], 1, shape[3], shape[4])), shape[2], axis=2)\n",
        "    numerator = pt.exp(tempered_qs - qs_max)\n",
        "    denominator = pt.sum(numerator, axis=2)\n",
        "    denominator = pt.repeat(denominator.reshape((shape[0], shape[1], 1, shape[3], shape[4])), shape[2], axis=2)\n",
        "    Ps = numerator / denominator\n",
        "    return Ps\n",
        "\n",
        "def rlwm_policy(dC, dq_RL, dq_WM, pB, pC, pE, pR, set_sizes):\n",
        "    weight = pR * pt.clip(pC/set_sizes, 0, 1)\n",
        "    Ps_RL = pytensor_softmax(dq_RL, pB)\n",
        "    Ps_WM = pytensor_softmax(dq_WM, pB)\n",
        "    pol = weight * Ps_WM + (1.0 - weight) * Ps_RL\n",
        "    pol_final = (1.0 - pE) * pol + pE * 1.0/dC.shape[2]\n",
        "    return pol_final\n",
        "\n",
        "def pytensor_lan(weights_0,weights_1,weights_2,weights_3,biases_0,biases_1,biases_2,biases_3,in_):\n",
        "    # neural net\n",
        "    hid0 = pt.tanh(pt.dot(in_,weights_0)+biases_0)\n",
        "    hid1 = pt.tanh(pt.dot(hid0, weights_1)+biases_1)\n",
        "    hid2 = pt.tanh(pt.dot(hid1, weights_2)+biases_2)\n",
        "    out = pt.dot(hid2, weights_3)+biases_3\n",
        "    return out\n",
        "\n",
        "def scan_to_lan(dC, pol_final):\n",
        "    trial_dim = 0\n",
        "    participant_dim = 1\n",
        "    choice_dim = 2\n",
        "    block_dim = 3\n",
        "    state_dim = 4\n",
        "    # pol_final: (n_trials, n_participants, n_choices, n_blocks, n_stimuli)\n",
        "    pol_final_reshaped = pol_final.dimshuffle((participant_dim, block_dim, trial_dim, state_dim, choice_dim)).reshape((-1, dC.shape[state_dim], dC.shape[choice_dim]))\n",
        "    dC_reshaped = dC.dimshuffle((participant_dim, block_dim, trial_dim, state_dim, choice_dim)).reshape((-1,dC.shape[state_dim],dC.shape[choice_dim]))\n",
        "    dC_unonehot = pt.argmax(dC_reshaped,axis=2)\n",
        "    dC_reshaped = dC.dimshuffle((participant_dim, block_dim, trial_dim, state_dim, choice_dim)).reshape((-1,dC.shape[state_dim],dC.shape[choice_dim]))\n",
        "    pssmV = pol_final_reshaped * pt.repeat(dC_unonehot.reshape((-1,dC.shape[4],1)),dC.shape[2],axis=2)\n",
        "    return pssmV.max(axis=1)\n",
        "\n",
        "def rlwmssm_likelihood(dC, dq_RL, dq_WM, pB, pC, pE, pR, set_sizes, pssmA, pssmZ, pssmT, dssmC, dssmRT, weights_0,weights_1,weights_2,weights_3,biases_0,biases_1,biases_2,biases_3):\n",
        "    \"\"\"\n",
        "    rlwm_likelihood: calculate RLWM Likelihoods from precomputed Q-Values\n",
        "\n",
        "    dC: Choices (data)\n",
        "    dq_RL: Precomputed RL Qs (data)\n",
        "    dq_WM: Precomputed WM Qs (data)\n",
        "    pB: Betas (parameter)\n",
        "    pC: Working Memory Capacities (parameter)\n",
        "    pE: Epsilons (parameter)\n",
        "    pR: Rhos (parameter)\n",
        "    set_sizes: set sizes for each participant block (data)\n",
        "    \"\"\"\n",
        "    trial_dim = 0\n",
        "    participant_dim = 1\n",
        "    choice_dim = 2\n",
        "    block_dim = 3\n",
        "    state_dim = 4\n",
        "    # pol_final: (n_trials, n_participants, n_choices, n_blocks, n_stimuli)\n",
        "    pol_final = rlwm_policy(dC, dq_RL, dq_WM, pB, pC, pE, pR, set_sizes)\n",
        "    pssmV = scan_to_lan(dC, pol_final)\n",
        "    # What do I do with choices and rts? How do I put them through the LAN with the parameters?\n",
        "    in_ = pt.concatenate([pssmV, pssmA.reshape((-1,1)), pssmZ.reshape((-1,1)), pssmT.reshape((-1,1)), dssmRT.reshape((-1,1)), dssmC.reshape((-1,1))], axis=1)\n",
        "    ll = pytensor_lan(weights_0,weights_1,weights_2,weights_3,biases_0,biases_1,biases_2,biases_3,in_)\n",
        "    dssmC_padded = dC.dimshuffle((participant_dim, block_dim, trial_dim, state_dim, choice_dim)).reshape((-1,dC.shape[state_dim],dC.shape[choice_dim])).sum(axis=[1,2]).reshape((-1,1))\n",
        "    ll_unpadded = ll * dssmC_padded\n",
        "    return ll_unpadded\n",
        "\n",
        "\n",
        "def rlwmssm_recovery(dq_RL, dq_WM, dC, dR, pA, pB, pC, pE, pG, pP, pR, set_sizes, pssmA, pssmZ, pssmT, dssmC, dssmRT, weights_0,weights_1,weights_2,weights_3,biases_0,biases_1,biases_2,biases_3):\n",
        "    \"\"\"\n",
        "    rlwm_likelihood: calculate RLWM Likelihoods given over a valid set of parameters and complete dataset of choices, rewards, and set sizes\n",
        "\n",
        "    dC: Choices (data)\n",
        "    dq_RL: Precomputed RL Qs (data)\n",
        "    dq_WM: Precomputed WM Qs (data)\n",
        "    pB: Betas (parameter)\n",
        "    pC: Working Memory Capacities (parameter)\n",
        "    pE: Epsilons (parameter)\n",
        "    pR: Rhos (parameter)\n",
        "    set_sizes: set sizes for each participant block (data)\n",
        "    \"\"\"\n",
        "    dq_RL, dq_WM = rlwm_scan(dC, dR, pA, pG, pP, dq_RL, dq_WM)\n",
        "    likelihood = rlwmssm_likelihood(dC, dq_RL, dq_WM, pB, pC, pE, pR, set_sizes, pssmA, pssmZ, pssmT, dssmC, dssmRT, weights_0,weights_1,weights_2,weights_3,biases_0,biases_1,biases_2,biases_3)\n",
        "    return likelihood"
      ]
    },
    {
      "cell_type": "markdown",
      "metadata": {
        "id": "GjZWgiJOSyb3"
      },
      "source": [
        "####Compilers"
      ]
    },
    {
      "cell_type": "code",
      "execution_count": 82,
      "metadata": {
        "id": "UTPXZtEOBbuZ"
      },
      "outputs": [],
      "source": [
        "def rlwm_step_compile():\n",
        "    dC3 = pt.dtensor4(\"dC3\")\n",
        "    dR3 = pt.dtensor4(\"dR3\")\n",
        "    dq_RL3 = pt.dtensor4(\"dq_RL3\")\n",
        "    dq_WM3 = pt.dtensor4(\"dq_WM3\")\n",
        "    pA3 = pt.dtensor4(\"pA3\")\n",
        "    pG3 = pt.dtensor4(\"pG3\")\n",
        "    pP3 = pt.dtensor4(\"pP3\")\n",
        "\n",
        "    dq_RL, dq_WM = rlwm_step(dC3, dR3, pA3, pG3, pP3, dq_RL3, dq_WM3)\n",
        "    rlwm_step_func = pytensor.function(inputs=[dC3, dR3, pA3, pG3, pP3, dq_RL3, dq_WM3], outputs=[dq_RL, dq_WM])\n",
        "\n",
        "    return rlwm_step_func\n",
        "\n",
        "\n",
        "def rlwm_scan_compile():\n",
        "    dC4 = pt.dtensor5(\"dC4\")\n",
        "    dR4 = pt.dtensor5(\"dR4\")\n",
        "    dq_RL3 = pt.dtensor4(\"dq_RL3\")\n",
        "    dq_WM3 = pt.dtensor4(\"dq_WM3\")\n",
        "    pA4 = pt.dtensor5(\"pA4\")\n",
        "    pG4 = pt.dtensor5(\"pG4\")\n",
        "    pP4 = pt.dtensor5(\"pP4\")\n",
        "\n",
        "    dq_RL, dq_WM = rlwm_scan(dC4, dR4, pA4, pG4, pP4, dq_RL3, dq_WM3)\n",
        "    rlwm_step_func = pytensor.function(inputs=[dC4, dR4, pA4, pG4, pP4, dq_RL3, dq_WM3], outputs=[dq_RL, dq_WM])\n",
        "\n",
        "    return rlwm_step_func\n",
        "\n",
        "\n",
        "def pytensor_softmax_compile():\n",
        "    Qs = pt.dtensor5('Qs')\n",
        "    B = pt.dtensor5('B')\n",
        "\n",
        "    Ps = pytensor_softmax(Qs, B)\n",
        "    Ps_func = pytensor.function(inputs=[Qs, B], outputs=Ps)\n",
        "\n",
        "    return Ps_func\n",
        "\n",
        "def pytensor_lan_compile():\n",
        "    weights_0 = pt.dmatrix(\"weights_0\")\n",
        "    weights_1 = pt.dmatrix(\"weights_1\")\n",
        "    weights_2 = pt.dmatrix(\"weights_2\")\n",
        "    weights_3 = pt.dmatrix(\"weights_3\")\n",
        "    biases_0 = pt.dvector(\"biases_0\")\n",
        "    biases_1 = pt.dvector(\"biases_1\")\n",
        "    biases_2 = pt.dvector(\"biases_2\")\n",
        "    biases_3 = pt.dvector(\"biases_3\")\n",
        "    in_ = pt.dmatrix('in_')\n",
        "\n",
        "    ll = pytensor_lan(weights_0,weights_1,weights_2,weights_3,biases_0,biases_1,biases_2,biases_3,in_)\n",
        "    pytensor_lan_func = pytensor.function(inputs=[weights_0,weights_1,weights_2,weights_3,biases_0,biases_1,biases_2,biases_3, in_],outputs=ll)\n",
        "    return pytensor_lan_func\n",
        "\n",
        "def scan_to_lan_compile():\n",
        "    dC = pt.dtensor5(\"dC_\")\n",
        "    pol_final = pt.dtensor5(\"pol_final\")\n",
        "\n",
        "    out = scan_to_lan(dC, pol_final)\n",
        "\n",
        "    pytensor_lan_func = pytensor.function(inputs=[dC, pol_final],outputs=out, on_unused_input='ignore')\n",
        "    return pytensor_lan_func\n",
        "\n",
        "\n",
        "def rlwmssm_likelihood_compile():\n",
        "    dC4 = pt.dtensor5(\"dC4\")\n",
        "    dq_RL4 = pt.dtensor5(\"dq_RL4\")\n",
        "    dq_WM4 = pt.dtensor5(\"dq_WM4\")\n",
        "    pB4 = pt.dtensor5(\"pB4\")\n",
        "    pC4 = pt.dtensor5(\"pC4\")\n",
        "    pE4 = pt.dtensor5(\"pE4\")\n",
        "    pR4 = pt.dtensor5(\"pR4\")\n",
        "    set_sizes = pt.dtensor5(\"set_sizes\")\n",
        "    pssmA = pt.dvector(\"pssmA\")\n",
        "    pssmZ = pt.dvector(\"pssmZ\")\n",
        "    pssmT = pt.dvector(\"pssmT\")\n",
        "    dssmC = pt.dvector(\"dssmC\")\n",
        "    dssmRT = pt.dvector(\"dssmRT\")\n",
        "    weights_0 = pt.dmatrix(\"weights_0\")\n",
        "    weights_1 = pt.dmatrix(\"weights_1\")\n",
        "    weights_2 = pt.dmatrix(\"weights_2\")\n",
        "    weights_3 = pt.dmatrix(\"weights_3\")\n",
        "    biases_0 = pt.dvector(\"biases_0\")\n",
        "    biases_1 = pt.dvector(\"biases_1\")\n",
        "    biases_2 = pt.dvector(\"biases_2\")\n",
        "    biases_3 = pt.dvector(\"biases_3\")\n",
        "    likelihood = rlwmssm_likelihood(dC4, dq_RL4, dq_WM4, pB4, pC4, pE4, pR4, set_sizes, pssmA, pssmZ, pssmT, dssmC, dssmRT, weights_0,weights_1,weights_2,weights_3,biases_0,biases_1,biases_2,biases_3)\n",
        "    rlwm_likelihood_func = pytensor.function(inputs=[dC4, dq_RL4, dq_WM4, pB4, pC4, pE4, pR4, set_sizes, pssmA, pssmZ, pssmT, dssmC, dssmRT, weights_0,weights_1,weights_2,weights_3,biases_0,biases_1,biases_2,biases_3], outputs=likelihood)\n",
        "\n",
        "    return rlwm_likelihood_func\n",
        "\n",
        "def rlwmssm_recovery_compile():\n",
        "    dq_RL = pt.dtensor4(\"dq_RL\")\n",
        "    dq_WM = pt.dtensor4(\"dq_WM\")\n",
        "    dC = pt.dtensor5(\"dC\")\n",
        "    dR = pt.dtensor5(\"dR\")\n",
        "    pA = pt.dtensor5(\"pA\")\n",
        "    pB = pt.dtensor5(\"pB\")\n",
        "    pC = pt.dtensor5(\"pC\")\n",
        "    pE = pt.dtensor5(\"pE\")\n",
        "    pG = pt.dtensor5(\"pG\")\n",
        "    pP = pt.dtensor5(\"pP\")\n",
        "    pR = pt.dtensor5(\"pR\")\n",
        "    set_sizes = pt.dtensor5(\"set_sizes\")\n",
        "    pssmA = pt.dvector(\"pssmA\")\n",
        "    pssmZ = pt.dvector(\"pssmZ\")\n",
        "    pssmT = pt.dvector(\"pssmT\")\n",
        "    dssmC = pt.dvector(\"dssmC\")\n",
        "    dssmRT = pt.dvector(\"dssmRT\")\n",
        "    weights_0 = pt.dmatrix(\"weights_0\")\n",
        "    weights_1 = pt.dmatrix(\"weights_1\")\n",
        "    weights_2 = pt.dmatrix(\"weights_2\")\n",
        "    weights_3 = pt.dmatrix(\"weights_3\")\n",
        "    biases_0 = pt.dvector(\"biases_0\")\n",
        "    biases_1 = pt.dvector(\"biases_1\")\n",
        "    biases_2 = pt.dvector(\"biases_2\")\n",
        "    biases_3 = pt.dvector(\"biases_3\")\n",
        "\n",
        "    likelihood = rlwmssm_recovery(dq_RL, dq_WM, dC, dR, pA, pB, pC, pE, pG, pP, pR, set_sizes, pssmA, pssmZ, pssmT, dssmC, dssmRT, weights_0,weights_1,weights_2,weights_3,biases_0,biases_1,biases_2,biases_3)\n",
        "    rlwm_recovery_func = pytensor.function(inputs=[dq_RL, dq_WM, dC, dR, pA, pB, pC, pE, pG, pP, pR, set_sizes, pssmA, pssmZ, pssmT, dssmC, dssmRT, weights_0,weights_1,weights_2,weights_3,biases_0,biases_1,biases_2,biases_3], outputs=likelihood)\n",
        "\n",
        "    return rlwm_recovery_func"
      ]
    },
    {
      "cell_type": "code",
      "source": [
        "np.max(np.repeat(np.array([0,1,2,3]),3).reshape((-1,3)),axis=1)"
      ],
      "metadata": {
        "colab": {
          "base_uri": "https://localhost:8080/"
        },
        "id": "ie7ggh92j_mc",
        "outputId": "33433de5-06b2-401b-82f9-5a29df89c27f"
      },
      "execution_count": 42,
      "outputs": [
        {
          "output_type": "execute_result",
          "data": {
            "text/plain": [
              "array([0, 1, 2, 3])"
            ]
          },
          "metadata": {},
          "execution_count": 42
        }
      ]
    },
    {
      "cell_type": "markdown",
      "source": [
        "###Tests"
      ],
      "metadata": {
        "id": "h4JspSHJgAjd"
      }
    },
    {
      "cell_type": "code",
      "source": [
        "def rlwm_step_test():\n",
        "    n_participants = 6\n",
        "    n_choices = 3\n",
        "    n_stimuli = [4, 5, 6, 7, 8]\n",
        "    max_stimuli = max(n_stimuli)\n",
        "    n_blocks = 5\n",
        "    shape4 = (n_participants, n_choices, n_blocks, max_stimuli)\n",
        "\n",
        "    dC4_ = np.random.randint(low=0, high=n_choices, size=shape4)\n",
        "    dR4_ = np.random.randint(low=0, high=1, size=shape4)\n",
        "    pA4_ = np.ones(shape4) * 0.1\n",
        "    pG4_ = np.ones(shape4) * 0.9\n",
        "    pP4_ = np.ones(shape4) * 1.0\n",
        "    mask = np.ones(shape4)\n",
        "    cond = np.ones(shape4)\n",
        "    dQ4_ = np.ones(shape4) * 1/n_choices\n",
        "    dq_RL4_ = np.ones(shape4) * 1/n_choices\n",
        "    dq_WM4_ = np.ones(shape4) * 1/n_choices\n",
        "\n",
        "    test_func = rlwm_step_compile()\n",
        "\n",
        "    return test_func(dC4_, dR4_, pA4_, pG4_, pP4_, dq_RL4_, dq_WM4_)\n",
        "\n",
        "\n",
        "def rlwm_scan_test():\n",
        "    n_trials = 23\n",
        "    n_participants = 6\n",
        "    n_choices = 3\n",
        "    n_stimuli = [4, 5, 6, 7, 8]\n",
        "    max_stimuli = max(n_stimuli)\n",
        "    n_blocks = 5\n",
        "    shape5 = (n_trials * max_stimuli, n_participants, n_choices, n_blocks, max_stimuli)\n",
        "\n",
        "    dC5_ = np.random.randint(low=0, high=n_choices, size=shape5)\n",
        "    dR5_ = np.random.randint(low=0, high=1, size=shape5)\n",
        "    dq_RL4_ = np.ones_like(dR5_)[0] * 1 / n_choices\n",
        "    dq_WM4_ = np.ones_like(dR5_)[0] * 1 / n_choices\n",
        "    pA5_ = np.ones_like(dR5_) * 0.1\n",
        "    pG5_ = np.ones_like(dR5_) * 0.9\n",
        "    pP5_ = np.ones_like(dR5_) * 1.0\n",
        "\n",
        "    test_func = rlwm_scan_compile()\n",
        "\n",
        "    return test_func(dC5_, dR5_, pA5_, pG5_, pP5_, dq_RL4_, dq_WM4_)\n",
        "\n",
        "\n",
        "def pytensor_softmax_test():\n",
        "    n_trials = 23\n",
        "    n_participants = 6\n",
        "    n_choices = 3\n",
        "    n_stimuli = [4, 5, 6, 7, 8]\n",
        "    max_stimuli = np.max(n_stimuli)\n",
        "    n_blocks = 5\n",
        "    shape = (n_trials * max_stimuli, n_participants, n_choices, n_blocks, max_stimuli)\n",
        "\n",
        "    Qs = np.ones(shape)\n",
        "    B = np.ones_like(Qs)\n",
        "\n",
        "    test_func = pytensor_softmax_compile()\n",
        "\n",
        "    return test_func(Qs, B)\n",
        "\n",
        "def pytensor_lan_test():\n",
        "    pssmV_ = np.array([[0.6,0.2,0.2]]).reshape((-1,3))\n",
        "    pssmA_ = np.array([[0.8]]).reshape((-1,1))\n",
        "    pssmZ_ = np.array([[0.2]]).reshape((-1,1))\n",
        "    pssmT_ = np.array([[0.0]]).reshape((-1,1))\n",
        "    dssmRT_ = np.array([[0.8]]).reshape((-1,1))\n",
        "    dssmC_ = np.array([[0]]).reshape((-1,1))\n",
        "    in_ = np.tile(np.concatenate([pssmV_,pssmA_,pssmZ_,pssmT_,dssmRT_,dssmC_],axis=1).reshape((1,-1)),[10,1])\n",
        "\n",
        "    test_func = pytensor_lan_compile()\n",
        "    return test_func(weights_0,weights_1,weights_2,weights_3,biases_0,biases_1,biases_2,biases_3,in_)\n",
        "\n",
        "\n",
        "def scan_to_lan_test():\n",
        "    n_trials = 23\n",
        "    n_participants = 7\n",
        "    n_choices = 3\n",
        "    n_stimuli = [2,2,3,4,4,5]\n",
        "    max_stimuli = np.max(n_stimuli)\n",
        "    n_blocks = 6\n",
        "    shape = (n_trials * max_stimuli, n_participants, n_choices, n_blocks, max_stimuli)\n",
        "\n",
        "    # dC_ = np.eye(3)[np.random.randint(low=0, high=n_choices, size=(shape[0]*shape[1]*shape[2]*shape[3]*shape[4]))]\n",
        "    dC_ = np.zeros(shape,dtype=np.int32)\n",
        "    state = 4\n",
        "    dC_[..., state] = np.tile(np.eye(3)[np.ones((shape[0]),dtype=np.int32) * 1].reshape((-1,1,3,1)),[1,shape[1],1,shape[3]])\n",
        "    pol_final = np.tile(np.array([[0.0,0.2,0.8],\n",
        "                                  [0.1,0.3,0.6],\n",
        "                                  [0.2,0.4,0.4],\n",
        "                                  [0.3,0.5,0.2],\n",
        "                                  [0.4,0.6,0.0]]).reshape(1,1,5,1,3).transpose((0,1,4,3,2)),[shape[0],shape[1],1,shape[3],1])\n",
        "\n",
        "    test_func = scan_to_lan_compile()\n",
        "    return test_func(dC_, pol_final)\n",
        "    # return pol_final\n",
        "\n",
        "\n",
        "def rlwmssm_likelihood_test():\n",
        "    n_trials = 23\n",
        "    n_participants = 6\n",
        "    n_choices = 3\n",
        "    n_stimuli = [4, 5, 6, 7, 8]\n",
        "    max_stimuli = np.max(n_stimuli)\n",
        "    n_blocks = 5\n",
        "    shape = (n_trials * max_stimuli, n_participants, n_choices, n_blocks, max_stimuli)\n",
        "\n",
        "    dC5_ = np.zeros(shape,dtype=np.int32)\n",
        "    state = 4\n",
        "    dC5_[..., state] = np.tile(np.eye(3)[np.ones((shape[0]),dtype=np.int32) * 1].reshape((-1,1,3,1)),[1,shape[1],1,shape[3]])\n",
        "    dq_RL5_ = np.ones_like(dC5_) * 1 / n_choices\n",
        "    dq_WM5_ = np.ones_like(dC5_) * 1 / n_choices\n",
        "    pB5_ = np.ones_like(dC5_) * 1.0\n",
        "    pC5_ = np.ones_like(dC5_) * 4.0\n",
        "    pE5_ = np.ones_like(dC5_) * 0.5\n",
        "    pR5_ = np.ones_like(dC5_) * 0.8\n",
        "    set_sizes_ = np.repeat(np.tile(n_stimuli, (shape[0], shape[1], shape[2], 1)).reshape((shape[0], shape[1], shape[2], shape[3], 1)), shape[4], axis=4)\n",
        "    pssmA_ = np.ones((shape[0]*shape[1]*shape[3])) * 0.5\n",
        "    pssmZ_ = np.ones((shape[0]*shape[1]*shape[3])) * 0.5\n",
        "    pssmT_ = np.ones((shape[0]*shape[1]*shape[3])) * 0.5\n",
        "    dssmC_ = np.ones((shape[0]*shape[1]*shape[3]))\n",
        "    dssmRT_ = np.random.randint(low=1, high=100, size=(shape[0]*shape[1]*shape[3])) / 25\n",
        "    weights_0_ = weights_0\n",
        "    weights_1_ = weights_1\n",
        "    weights_2_ = weights_2\n",
        "    weights_3_ = weights_3\n",
        "    biases_0_ = biases_0\n",
        "    biases_1_ = biases_1\n",
        "    biases_2_ = biases_2\n",
        "    biases_3_ = biases_3\n",
        "\n",
        "    test_func = rlwmssm_likelihood_compile()\n",
        "\n",
        "    return test_func(dC5_, dq_RL5_, dq_WM5_, pB5_, pC5_, pE5_, pR5_, set_sizes_, pssmA_, pssmZ_, pssmT_, dssmC_, dssmRT_, weights_0_, weights_1_, weights_2_, weights_3_, biases_0_, biases_1_, biases_2_, biases_3_)\n",
        "\n",
        "\n",
        "def rlwmssm_recovery_test():\n",
        "    n_trials = 23\n",
        "    n_participants = 6\n",
        "    n_choices = 3\n",
        "    n_stimuli = [4, 5, 6, 7, 8]\n",
        "    max_stimuli = np.max(n_stimuli)\n",
        "    n_blocks = 5\n",
        "    shape = (n_trials * max_stimuli, n_participants, n_choices, n_blocks, max_stimuli)\n",
        "\n",
        "    dq_RL_ = np.ones(shape)[0] * 1.0 / n_choices\n",
        "    dq_WM_ = np.ones(shape)[0] * 1.0 / n_choices\n",
        "\n",
        "    dC_ = np.random.randint(low=0, high=n_choices, size=shape)\n",
        "    dR_ = np.random.randint(low=0, high=1, size=shape)\n",
        "    pA_ = np.ones_like(dC_) * 0.01\n",
        "    pB_ = np.ones_like(dC_) * 1.0\n",
        "    pC_ = np.ones_like(dC_) * 4.0\n",
        "    pE_ = np.ones_like(dC_) * 0.02\n",
        "    pG_ = np.ones_like(dC_) * 0.8\n",
        "    pP_ = np.ones_like(dC_) * 0.3\n",
        "    pR_ = np.ones_like(dC_) * 0.8\n",
        "    set_sizes_ = np.repeat(np.tile(n_stimuli, (shape[0], shape[1], shape[2], 1)).reshape((shape[0], shape[1], shape[2], shape[3], 1)), shape[4], axis=4)\n",
        "\n",
        "    pssmA_ = np.ones((shape[0]*shape[1]*shape[3])) * 0.5\n",
        "    pssmZ_ = np.ones((shape[0]*shape[1]*shape[3])) * 0.5\n",
        "    pssmT_ = np.ones((shape[0]*shape[1]*shape[3])) * 0.5\n",
        "    dssmC_ = np.ones((shape[0]*shape[1]*shape[3]))\n",
        "    dssmRT_ = np.random.randint(low=1, high=100, size=(shape[0]*shape[1]*shape[3])) / 25\n",
        "    weights_0_ = weights_0\n",
        "    weights_1_ = weights_1\n",
        "    weights_2_ = weights_2\n",
        "    weights_3_ = weights_3\n",
        "    biases_0_ = biases_0\n",
        "    biases_1_ = biases_1\n",
        "    biases_2_ = biases_2\n",
        "    biases_3_ = biases_3\n",
        "\n",
        "    test_func = rlwmssm_recovery_compile()\n",
        "\n",
        "    return test_func(dq_RL_, dq_WM_, dC_, dR_, pA_, pB_, pC_, pE_, pG_, pP_, pR_, set_sizes_, pssmA_, pssmZ_, pssmT_, dssmC_, dssmRT_, weights_0_, weights_1_, weights_2_, weights_3_, biases_0_, biases_1_, biases_2_, biases_3_)"
      ],
      "metadata": {
        "id": "Np9NF8wagCI5"
      },
      "execution_count": 138,
      "outputs": []
    },
    {
      "cell_type": "markdown",
      "metadata": {
        "id": "JWxAMAkKTFG8"
      },
      "source": [
        "###Run Compilers and Tests here\n",
        "\n",
        "\n",
        "\n"
      ]
    },
    {
      "cell_type": "code",
      "execution_count": 111,
      "metadata": {
        "colab": {
          "base_uri": "https://localhost:8080/"
        },
        "id": "gUIZzF7pBfZD",
        "outputId": "8adc282b-2754-4a7e-8ac9-bd3015a816ec"
      },
      "outputs": [
        {
          "output_type": "execute_result",
          "data": {
            "text/plain": [
              "((6, 3, 5, 8), (6, 3, 5, 8))"
            ]
          },
          "metadata": {},
          "execution_count": 111
        }
      ],
      "source": [
        "rlwm_step_compile()\n",
        "dq_RL, dq_WM =  rlwm_step_test()\n",
        "dq_RL.shape, dq_WM.shape"
      ]
    },
    {
      "cell_type": "code",
      "execution_count": 112,
      "metadata": {
        "colab": {
          "base_uri": "https://localhost:8080/"
        },
        "id": "wYXuaCJHBpPD",
        "outputId": "6deb97f0-cb7c-43a2-e1f7-91744c187ebd"
      },
      "outputs": [
        {
          "output_type": "execute_result",
          "data": {
            "text/plain": [
              "((184, 6, 3, 5, 8), (184, 6, 3, 5, 8))"
            ]
          },
          "metadata": {},
          "execution_count": 112
        }
      ],
      "source": [
        "rlwm_scan_compile()\n",
        "dq_RL, dq_WM = rlwm_scan_test()\n",
        "dq_RL.shape, dq_WM.shape"
      ]
    },
    {
      "cell_type": "code",
      "source": [
        "pytensor_lan_test()"
      ],
      "metadata": {
        "colab": {
          "base_uri": "https://localhost:8080/"
        },
        "id": "GUkiYxrVhWaz",
        "outputId": "fd533c1e-5e48-4bb3-8975-9a70b247398d"
      },
      "execution_count": 129,
      "outputs": [
        {
          "output_type": "execute_result",
          "data": {
            "text/plain": [
              "array([[-1.32449541],\n",
              "       [-1.32449541],\n",
              "       [-1.32449541],\n",
              "       [-1.32449541],\n",
              "       [-1.32449541],\n",
              "       [-1.32449541],\n",
              "       [-1.32449541],\n",
              "       [-1.32449541],\n",
              "       [-1.32449541],\n",
              "       [-1.32449541]])"
            ]
          },
          "metadata": {},
          "execution_count": 129
        }
      ]
    },
    {
      "cell_type": "code",
      "execution_count": 113,
      "metadata": {
        "colab": {
          "base_uri": "https://localhost:8080/"
        },
        "id": "2Px9mS9IkuAm",
        "outputId": "e3518456-f705-4dd4-a9d5-6fda06a82787"
      },
      "outputs": [
        {
          "output_type": "execute_result",
          "data": {
            "text/plain": [
              "(184, 6, 3, 5, 8)"
            ]
          },
          "metadata": {},
          "execution_count": 113
        }
      ],
      "source": [
        "pytensor_softmax_compile()\n",
        "pytensor_softmax_test().shape"
      ]
    },
    {
      "cell_type": "code",
      "source": [
        "out = scan_to_lan_test()\n",
        "out.shape"
      ],
      "metadata": {
        "colab": {
          "base_uri": "https://localhost:8080/"
        },
        "id": "f7Ivz_E298BZ",
        "outputId": "44b8a13d-ba01-45b9-83ab-34fecbdd7e97"
      },
      "execution_count": 126,
      "outputs": [
        {
          "output_type": "execute_result",
          "data": {
            "text/plain": [
              "(4830, 3)"
            ]
          },
          "metadata": {},
          "execution_count": 126
        }
      ]
    },
    {
      "cell_type": "code",
      "execution_count": 140,
      "metadata": {
        "colab": {
          "base_uri": "https://localhost:8080/"
        },
        "id": "vlJ4zUcvBv9d",
        "outputId": "a75c7e2c-b139-4841-ed38-f968a708903b"
      },
      "outputs": [
        {
          "output_type": "execute_result",
          "data": {
            "text/plain": [
              "(5520, 1)"
            ]
          },
          "metadata": {},
          "execution_count": 140
        }
      ],
      "source": [
        "out = rlwmssm_likelihood_test()\n",
        "out.shape"
      ]
    },
    {
      "cell_type": "code",
      "source": [
        "out"
      ],
      "metadata": {
        "colab": {
          "base_uri": "https://localhost:8080/"
        },
        "id": "cNLVaEQ-i737",
        "outputId": "02d69bf8-271f-4132-c6a1-5a1a7e22c0c5"
      },
      "execution_count": 141,
      "outputs": [
        {
          "output_type": "execute_result",
          "data": {
            "text/plain": [
              "array([[-16.10869175],\n",
              "       [ -3.45352809],\n",
              "       [-16.11497717],\n",
              "       ...,\n",
              "       [-16.1079536 ],\n",
              "       [-16.10805695],\n",
              "       [-15.70504645]])"
            ]
          },
          "metadata": {},
          "execution_count": 141
        }
      ]
    },
    {
      "cell_type": "code",
      "execution_count": 139,
      "metadata": {
        "colab": {
          "base_uri": "https://localhost:8080/"
        },
        "id": "4-s2eR_RB0XW",
        "outputId": "423317bd-5028-4340-efec-c2155ecf1fc2"
      },
      "outputs": [
        {
          "output_type": "execute_result",
          "data": {
            "text/plain": [
              "(5520,)"
            ]
          },
          "metadata": {},
          "execution_count": 139
        }
      ],
      "source": [
        "rlwmssm_recovery_compile()\n",
        "rlwmssm_recovery_test().flatten().shape"
      ]
    },
    {
      "cell_type": "markdown",
      "source": [
        "##Generate RLWM-SSM Data"
      ],
      "metadata": {
        "id": "QD6QGamSdehw"
      }
    },
    {
      "cell_type": "code",
      "execution_count": 142,
      "metadata": {
        "id": "6A447EmYblqB"
      },
      "outputs": [],
      "source": [
        "def gen_trial_seq(set_size, num_rep_per_block):\n",
        "    trials = list()\n",
        "\n",
        "    for stim in np.arange(set_size):\n",
        "        trials.extend([stim]*random.choice(num_rep_per_block))\n",
        "    random.shuffle(trials)\n",
        "\n",
        "    return trials\n",
        "\n",
        "def gen_SR_map(set_size, num_actions):\n",
        "    S_R_map = {}\n",
        "    acts = np.arange(num_actions)\n",
        "\n",
        "    for stim in np.arange(set_size):\n",
        "        S_R_map[stim] = random.choice(acts)\n",
        "\n",
        "    return S_R_map\n",
        "\n",
        "def step_action(s, a, S_R_map):\n",
        "    if a == S_R_map[s]:\n",
        "        rew = 1\n",
        "    else:\n",
        "        rew = 0\n",
        "\n",
        "    return rew\n",
        "\n",
        "def softmax(q_val, beta):\n",
        "    q_val = np.array(q_val)*beta\n",
        "    q_val = q_val - np.max(q_val)\n",
        "    q_val = np.exp(q_val)\n",
        "    q_val = q_val / np.sum(q_val)\n",
        "    return q_val"
      ]
    },
    {
      "cell_type": "code",
      "execution_count": 143,
      "metadata": {
        "id": "v7D-Y4SLblqB"
      },
      "outputs": [],
      "source": [
        "def simulate_RLWM(params_list, set_size_list, num_rep_per_block, num_actions, subjs=1):\n",
        "\n",
        "    sub_list = np.arange(subjs)\n",
        "    actions = np.arange(num_actions)\n",
        "\n",
        "    sub_list_sub_id = list()\n",
        "    sub_list_block_num = list()\n",
        "    sub_list_stim = list()\n",
        "    sub_list_actions = list()\n",
        "    sub_list_reward = list()\n",
        "    sub_list_corr = list()\n",
        "    sub_list_stim_ctr = list()\n",
        "    sub_list_set_size = list()\n",
        "    sub_list_rt = list()\n",
        "\n",
        "    for subj in sub_list:\n",
        "        # RLWM parameters\n",
        "        a = params_list[0]\n",
        "        z = params_list[1]\n",
        "        theta = params_list[2]\n",
        "\n",
        "        alpha = params_list[3]\n",
        "        phi = params_list[4]\n",
        "        rho = params_list[5]\n",
        "        gamma = params_list[6]\n",
        "        epsilon = params_list[7]\n",
        "        C = params_list[8]\n",
        "\n",
        "        beta = 100\n",
        "\n",
        "        pol = np.zeros(num_actions)\n",
        "\n",
        "        for bl in range(len(set_size_list)):\n",
        "            #print(\">> block -- \", bl)\n",
        "            set_size = set_size_list[bl]\n",
        "\n",
        "            S_R_map = gen_SR_map(set_size, num_actions)\n",
        "            trials = gen_trial_seq(set_size, num_rep_per_block)\n",
        "\n",
        "            # print(trials)\n",
        "\n",
        "            q_RL = np.ones((set_size, num_actions)) * 1/num_actions\n",
        "            q_WM = np.ones((set_size, num_actions)) * 1/num_actions\n",
        "            weight = rho * min(1, C/set_size)\n",
        "\n",
        "            stim_counter = np.zeros(set_size)\n",
        "\n",
        "            for tr in np.arange(len(trials)):\n",
        "                state = trials[tr]\n",
        "                stim_counter[state] += 1\n",
        "\n",
        "                pol_RL = softmax(q_RL[state, :], beta)\n",
        "                pol_WM = softmax(q_WM[state, :], beta)\n",
        "\n",
        "                pol = weight * pol_WM + (1-weight) * pol_RL\n",
        "\n",
        "                pol_final = (1 - epsilon) * pol + epsilon * np.tile([1/num_actions], num_actions)\n",
        "\n",
        "                param_theta = [pol_final[0], pol_final[1], pol_final[2], a, z, theta] # for lba_angle_3_v1\n",
        "\n",
        "\n",
        "                res = simulator(\n",
        "                    param_theta,\n",
        "                    model='lba_angle_3_v1',\n",
        "                    n_samples=1,\n",
        "                    delta_t=0.001,\n",
        "                    max_t=5,\n",
        "                    )\n",
        "\n",
        "                rt = res['rts'][0][0]\n",
        "                action = res['choices'][0][0]\n",
        "\n",
        "\n",
        "                reward = step_action(state, action, S_R_map)\n",
        "                #print(\"\\t\\t\\tdone action\", state, action, reward)\n",
        "\n",
        "                #print(\"\\t\\t\\tupdating q\")\n",
        "                if reward == 1:\n",
        "                    sub_list_corr.append(1)\n",
        "                    q_RL[state, action] = q_RL[state, action] + alpha * (reward - q_RL[state, action])\n",
        "                    q_WM[state, action] = reward\n",
        "                elif reward == 0:\n",
        "                    sub_list_corr.append(0)\n",
        "                    q_RL[state, action] = q_RL[state, action] + gamma * alpha * (reward - q_RL[state, action])\n",
        "                    q_WM[state, action] = q_WM[state, action] + gamma * (reward - q_WM[state, action])\n",
        "                #print(\"\\t\\t\\tdone updating q\")\n",
        "                q_WM = q_WM + phi * ((1/num_actions)-q_WM)\n",
        "                #print(\"\\t\\t\\tdone WM decay\")\n",
        "\n",
        "                # store data\n",
        "                sub_list_sub_id.append(subj)\n",
        "                sub_list_block_num.append(bl)\n",
        "                sub_list_stim.append(state)\n",
        "                sub_list_actions.append(action)\n",
        "                sub_list_reward.append(reward)\n",
        "                sub_list_stim_ctr.append(stim_counter[state])\n",
        "                sub_list_set_size.append(set_size)\n",
        "                sub_list_rt.append(rt)\n",
        "        #     print(\"\\t\\t -- end trial\")\n",
        "        # print(\"\\t -- end block\")\n",
        "\n",
        "    sub_list_sub_id = np.array(sub_list_sub_id)\n",
        "    sub_list_stim = np.array(sub_list_stim)\n",
        "    sub_list_actions = np.array(sub_list_actions)\n",
        "    sub_list_reward = np.array(sub_list_reward)\n",
        "    sub_list_block_num = np.array(sub_list_block_num)\n",
        "    sub_list_corr = np.array(sub_list_corr)\n",
        "    sub_list_stim_ctr = np.array(sub_list_stim_ctr)\n",
        "    sub_list_rt = np.array(sub_list_rt)\n",
        "\n",
        "\n",
        "    sub_data = np.stack([sub_list_sub_id, sub_list_block_num, sub_list_stim, sub_list_actions, sub_list_reward, sub_list_corr, sub_list_stim_ctr, sub_list_set_size, sub_list_rt], axis=1)\n",
        "    data = pd.DataFrame(sub_data, columns=['subj_idx', 'block_num', 'stim', 'response', 'feedback', 'corr', 'stim_ctr', 'set_size', 'rt'])\n",
        "\n",
        "    return data"
      ]
    },
    {
      "cell_type": "code",
      "execution_count": 144,
      "metadata": {
        "id": "NjLJGmcJblqC",
        "outputId": "f70ffcb0-1fc7-41e1-f978-f354fa19207e",
        "colab": {
          "base_uri": "https://localhost:8080/"
        }
      },
      "outputs": [
        {
          "output_type": "execute_result",
          "data": {
            "text/plain": [
              "[1, 2, 2, 5, 5, 6, 5, 6, 1, 1, 4, 3, 3, 3, 4, 3, 4, 3, 3, 6, 2, 2]"
            ]
          },
          "metadata": {},
          "execution_count": 144
        }
      ],
      "source": [
        "s_size = [1, 2, 3, 4, 5, 6]\n",
        "freq = [3, 4, 6, 3, 3, 3]\n",
        "\n",
        "set_size_list = []\n",
        "for i in range(len(s_size)):\n",
        "    set_size_list.extend([s_size[i]]*freq[i])\n",
        "\n",
        "np.random.shuffle(set_size_list)\n",
        "set_size_list"
      ]
    },
    {
      "cell_type": "code",
      "execution_count": 145,
      "metadata": {
        "id": "y9Q0dhfdblqC"
      },
      "outputs": [],
      "source": [
        "num_rep_per_block = [15]\n",
        "\n",
        "num_datasets = 1\n",
        "num_actions = 3\n",
        "subjs = 20"
      ]
    },
    {
      "cell_type": "code",
      "execution_count": 146,
      "metadata": {
        "id": "5HSpkGqdblqC"
      },
      "outputs": [],
      "source": [
        "priors_a = [0.6, 0.7]\n",
        "priors_z = [0.2, 0.3]\n",
        "priors_theta = [0.05, 0.15]\n",
        "priors_rl_alpha = [0.002, 0.008]\n",
        "priors_rl_phi = [0.30, 0.40]\n",
        "priors_rl_rho = [0.65, 0.75]\n",
        "priors_rl_gamma = [0.60, 0.90]\n",
        "priors_rl_epsilon = [0, 0.05]\n",
        "priors_rl_C = [2.5, 4]\n",
        "\n",
        "rl_a = np.random.uniform(priors_a[0], priors_a[1], subjs)\n",
        "rl_z = np.random.uniform(priors_z[0], priors_z[1], subjs)\n",
        "rl_theta = np.random.uniform(priors_theta[0], priors_theta[1], subjs)\n",
        "rl_alpha = np.random.uniform(priors_rl_alpha[0], priors_rl_alpha[1], subjs)\n",
        "rl_phi = np.random.uniform(priors_rl_phi[0], priors_rl_phi[1], subjs)\n",
        "rl_rho = np.random.uniform(priors_rl_rho[0], priors_rl_rho[1], subjs)\n",
        "rl_gamma = np.random.uniform(priors_rl_gamma[0], priors_rl_gamma[1], subjs)\n",
        "rl_epsilon = np.random.uniform(priors_rl_epsilon[0], priors_rl_epsilon[1], subjs)\n",
        "rl_C = np.random.uniform(priors_rl_C[0], priors_rl_C[1], subjs)"
      ]
    },
    {
      "cell_type": "code",
      "execution_count": 147,
      "metadata": {
        "id": "IDsg1-5eEfmz"
      },
      "outputs": [],
      "source": [
        "# specify the fixed parameters and optimization settings\n",
        "\n",
        "model_rl = 'RLWM' # the model name (must be one of the keys in model_config_rl)\n",
        "num_actions = 3 # the number of actions in the RLWM task\n",
        "beta = 100 # the inverse temperature parameter in the softmax function\n",
        "\n",
        "n_restarts = 20 # the number of random restarts for each C value during the optimization"
      ]
    },
    {
      "cell_type": "code",
      "execution_count": 148,
      "metadata": {
        "id": "tLVz1e7fblqC",
        "outputId": "3af793ed-985c-47e2-a771-6d1d080b8b7e",
        "colab": {
          "base_uri": "https://localhost:8080/"
        }
      },
      "outputs": [
        {
          "output_type": "stream",
          "name": "stdout",
          "text": [
            "\n",
            "==> dataset:  0\n",
            "[dataset: 0] generating subj data: 0\n",
            "\t -- [0.63279767 0.26125054 0.0961864  0.0036354  0.39153311 0.71950366\n",
            " 0.73505009 0.00650416 2.99461333]\n",
            "[dataset: 0] generating subj data: 1\n",
            "\t -- [6.05649596e-01 2.73966354e-01 5.02060080e-02 3.65802980e-03\n",
            " 3.94772960e-01 7.05225084e-01 8.26357842e-01 6.72983824e-03\n",
            " 3.91015303e+00]\n",
            "[dataset: 0] generating subj data: 2\n",
            "\t -- [0.6380786  0.2143587  0.14924085 0.00653313 0.39952917 0.72612567\n",
            " 0.60356008 0.01825076 2.51137758]\n",
            "[dataset: 0] generating subj data: 3\n",
            "\t -- [6.76397434e-01 2.56238593e-01 6.75225122e-02 2.87273112e-03\n",
            " 3.61312158e-01 6.69948780e-01 7.53994872e-01 4.07403762e-02\n",
            " 3.36265712e+00]\n",
            "[dataset: 0] generating subj data: 4\n",
            "\t -- [0.61818209 0.25508179 0.09778342 0.00667643 0.36113891 0.73806729\n",
            " 0.65949285 0.04514833 2.94926732]\n",
            "[dataset: 0] generating subj data: 5\n",
            "\t -- [0.66232203 0.29055839 0.06532505 0.00587549 0.38642633 0.66512384\n",
            " 0.61276784 0.00678584 2.52140377]\n",
            "[dataset: 0] generating subj data: 6\n",
            "\t -- [6.29492573e-01 2.04422359e-01 1.17283642e-01 3.08155586e-03\n",
            " 3.93800995e-01 7.48368783e-01 7.72049106e-01 8.65466310e-03\n",
            " 3.93168723e+00]\n",
            "[dataset: 0] generating subj data: 7\n",
            "\t -- [0.61479253 0.26407246 0.08107953 0.0052691  0.35417927 0.66154131\n",
            " 0.66116861 0.04808412 3.85972553]\n",
            "[dataset: 0] generating subj data: 8\n",
            "\t -- [6.82405850e-01 2.20496567e-01 6.08227309e-02 2.02300936e-03\n",
            " 3.59946408e-01 7.22807393e-01 8.91446423e-01 2.45017138e-02\n",
            " 2.88568410e+00]\n",
            "[dataset: 0] generating subj data: 9\n",
            "\t -- [6.60108663e-01 2.56483766e-01 6.68365905e-02 2.27139320e-03\n",
            " 3.54603993e-01 7.39310844e-01 8.33084195e-01 4.65009503e-02\n",
            " 2.77400307e+00]\n",
            "[dataset: 0] generating subj data: 10\n",
            "\t -- [0.63986281 0.219432   0.13311949 0.00734048 0.35091979 0.73193047\n",
            " 0.70127045 0.03386859 3.88881443]\n",
            "[dataset: 0] generating subj data: 11\n",
            "\t -- [6.79461205e-01 2.22336532e-01 5.73105087e-02 2.85873213e-03\n",
            " 3.52687308e-01 7.15975510e-01 7.22314244e-01 4.01434345e-02\n",
            " 3.11189420e+00]\n",
            "[dataset: 0] generating subj data: 12\n",
            "\t -- [0.60828083 0.257088   0.14232397 0.00657925 0.30703633 0.74195922\n",
            " 0.81699505 0.03386462 3.82805187]\n",
            "[dataset: 0] generating subj data: 13\n",
            "\t -- [0.69849591 0.2449044  0.0643591  0.00399479 0.34952102 0.67386175\n",
            " 0.81719759 0.00913629 3.1054567 ]\n",
            "[dataset: 0] generating subj data: 14\n",
            "\t -- [6.93241151e-01 2.75217733e-01 7.70068963e-02 2.57256892e-03\n",
            " 3.88322492e-01 6.71493638e-01 8.06684276e-01 4.06913696e-02\n",
            " 3.77088316e+00]\n",
            "[dataset: 0] generating subj data: 15\n",
            "\t -- [0.63487376 0.21011598 0.05339687 0.00498033 0.37549215 0.67988143\n",
            " 0.85797348 0.04914905 2.8246703 ]\n",
            "[dataset: 0] generating subj data: 16\n",
            "\t -- [6.00162467e-01 2.40735236e-01 1.31070217e-01 3.19093704e-03\n",
            " 3.04897029e-01 7.42293687e-01 7.88305080e-01 1.42596427e-02\n",
            " 3.45016817e+00]\n",
            "[dataset: 0] generating subj data: 17\n",
            "\t -- [6.78196744e-01 2.80325237e-01 1.42396693e-01 2.37313464e-03\n",
            " 3.21547585e-01 7.16392174e-01 7.26539052e-01 2.34907077e-02\n",
            " 3.21988874e+00]\n",
            "[dataset: 0] generating subj data: 18\n",
            "\t -- [0.65196723 0.2587051  0.108964   0.00627106 0.31332465 0.67323192\n",
            " 0.78322148 0.01865253 3.34291545]\n",
            "[dataset: 0] generating subj data: 19\n",
            "\t -- [6.95097461e-01 2.99457103e-01 5.47509001e-02 7.56646483e-03\n",
            " 3.83663867e-01 6.57049730e-01 7.31022347e-01 1.10233217e-03\n",
            " 3.39650402e+00]\n"
          ]
        }
      ],
      "source": [
        "file = list()\n",
        "\n",
        "for n in range(num_datasets):\n",
        "    print(\"\\n==> dataset: \", n)\n",
        "    dataset_file = {}\n",
        "\n",
        "    dataset_file['info'] = {\n",
        "                        'num_datasets': num_datasets, 'num_subj': subjs, 'num_actions': num_actions,\n",
        "                        'model_rl': model_rl,\n",
        "                        'set_size_list': set_size_list, 'num_rep_per_block': num_rep_per_block\n",
        "                        }\n",
        "\n",
        "    dataset_file['data'] = list()\n",
        "    for i in range(subjs):\n",
        "        print(\"[dataset: %d] generating subj data: %d\" % (n, i))\n",
        "\n",
        "        subj_param_rl = np.array([rl_a[i], rl_z[i], rl_theta[i], rl_alpha[i], rl_phi[i], rl_rho[i], rl_gamma[i], rl_epsilon[i], rl_C[i]])\n",
        "        print(\"\\t --\", subj_param_rl)\n",
        "\n",
        "        subj_data = {}\n",
        "\n",
        "        sim_data = simulate_RLWM(subj_param_rl, set_size_list, num_rep_per_block, num_actions=num_actions, subjs=1)\n",
        "        sim_data['subj_idx'] = i\n",
        "\n",
        "        subj_data['subj_idx'] = i\n",
        "        subj_data['true_param'] = subj_param_rl\n",
        "        subj_data['sim_data'] = sim_data\n",
        "\n",
        "        #print(\"\\t --\", subj_param_rl, subj_data['true_param'])\n",
        "        dataset_file['data'].append(subj_data)\n",
        "\n",
        "    file.append(dataset_file)"
      ]
    },
    {
      "cell_type": "code",
      "execution_count": 149,
      "metadata": {
        "id": "t6N8EmRxblqC"
      },
      "outputs": [],
      "source": [
        "# before saving; check data using data validation code below\n",
        "# save first dataset in the datafile\n",
        "dataset_file = file[0]\n",
        "\n",
        "param_list = ['true_a', 'true_z', 'true_theta', 'true_alpha', 'true_phi', 'true_rho', 'true_gamma', 'true_epsilon', 'true_C']\n",
        "\n",
        "list_sub_data = list()\n",
        "for itr in range(len(dataset_file['data'])):\n",
        "    data = dataset_file['data'][itr]['sim_data']\n",
        "\n",
        "    for p, p_name in zip(dataset_file['data'][itr]['true_param'], param_list):\n",
        "        data[p_name] = p\n",
        "\n",
        "    data['subj_idx'] = itr\n",
        "\n",
        "    list_sub_data.append(data)\n",
        "PR_data = pd.concat(list_sub_data, ignore_index=True)"
      ]
    },
    {
      "cell_type": "markdown",
      "source": [
        "## PyMC"
      ],
      "metadata": {
        "id": "4_BF9HdxeeJb"
      }
    },
    {
      "cell_type": "markdown",
      "source": [
        "###Prepare data for PyTensor"
      ],
      "metadata": {
        "id": "kn55XiSTeh9B"
      }
    },
    {
      "cell_type": "code",
      "execution_count": 2,
      "metadata": {
        "id": "fss6e6hQ8Elv",
        "colab": {
          "base_uri": "https://localhost:8080/",
          "height": 176
        },
        "outputId": "f15d0da2-a6e5-4cb2-a262-01de29772705"
      },
      "outputs": [
        {
          "output_type": "error",
          "ename": "NameError",
          "evalue": "name 'PR_data' is not defined",
          "traceback": [
            "\u001b[0;31m---------------------------------------------------------------------------\u001b[0m",
            "\u001b[0;31mNameError\u001b[0m                                 Traceback (most recent call last)",
            "\u001b[0;32m<ipython-input-2-8dad0c3e73fd>\u001b[0m in \u001b[0;36m<cell line: 1>\u001b[0;34m()\u001b[0m\n\u001b[0;32m----> 1\u001b[0;31m \u001b[0mdf\u001b[0m \u001b[0;34m=\u001b[0m \u001b[0mPR_data\u001b[0m\u001b[0;34m.\u001b[0m\u001b[0msort_values\u001b[0m\u001b[0;34m(\u001b[0m\u001b[0;34m[\u001b[0m\u001b[0;34m'subj_idx'\u001b[0m\u001b[0;34m,\u001b[0m \u001b[0;34m'block_num'\u001b[0m\u001b[0;34m]\u001b[0m\u001b[0;34m)\u001b[0m\u001b[0;34m\u001b[0m\u001b[0;34m\u001b[0m\u001b[0m\n\u001b[0m\u001b[1;32m      2\u001b[0m \u001b[0mdf\u001b[0m \u001b[0;34m=\u001b[0m \u001b[0mdf\u001b[0m\u001b[0;34m.\u001b[0m\u001b[0mloc\u001b[0m\u001b[0;34m[\u001b[0m\u001b[0mdf\u001b[0m\u001b[0;34m[\u001b[0m\u001b[0;34m'subj_idx'\u001b[0m\u001b[0;34m]\u001b[0m\u001b[0;34m.\u001b[0m\u001b[0misin\u001b[0m\u001b[0;34m(\u001b[0m\u001b[0;34m[\u001b[0m\u001b[0;36m0\u001b[0m\u001b[0;34m]\u001b[0m\u001b[0;34m)\u001b[0m\u001b[0;34m]\u001b[0m\u001b[0;34m\u001b[0m\u001b[0;34m\u001b[0m\u001b[0m\n\u001b[1;32m      3\u001b[0m \u001b[0mdf\u001b[0m \u001b[0;34m=\u001b[0m \u001b[0mdf\u001b[0m\u001b[0;34m.\u001b[0m\u001b[0mloc\u001b[0m\u001b[0;34m[\u001b[0m\u001b[0mdf\u001b[0m\u001b[0;34m[\u001b[0m\u001b[0;34m'block_num'\u001b[0m\u001b[0;34m]\u001b[0m\u001b[0;34m.\u001b[0m\u001b[0misin\u001b[0m\u001b[0;34m(\u001b[0m\u001b[0;34m[\u001b[0m\u001b[0;34m'0.0'\u001b[0m\u001b[0;34m]\u001b[0m\u001b[0;34m)\u001b[0m\u001b[0;34m]\u001b[0m\u001b[0;34m\u001b[0m\u001b[0;34m\u001b[0m\u001b[0m\n",
            "\u001b[0;31mNameError\u001b[0m: name 'PR_data' is not defined"
          ]
        }
      ],
      "source": [
        "df = PR_data.sort_values(['subj_idx', 'block_num'])\n",
        "df = df.loc[df['subj_idx'].isin([0])]\n",
        "df = df.loc[df['block_num'].isin(['0.0'])]"
      ]
    },
    {
      "cell_type": "code",
      "source": [
        "PR_data"
      ],
      "metadata": {
        "colab": {
          "base_uri": "https://localhost:8080/",
          "height": 423
        },
        "id": "HUm4lPdQeeVV",
        "outputId": "78578dd4-738c-4b13-845d-ebc89c3b3ba4"
      },
      "execution_count": 151,
      "outputs": [
        {
          "output_type": "execute_result",
          "data": {
            "text/plain": [
              "       subj_idx  block_num  stim  response  feedback  corr  stim_ctr  \\\n",
              "0             0        0.0   0.0       0.0       0.0   0.0       1.0   \n",
              "1             0        0.0   0.0       1.0       1.0   1.0       2.0   \n",
              "2             0        0.0   0.0       1.0       1.0   1.0       3.0   \n",
              "3             0        0.0   0.0       1.0       1.0   1.0       4.0   \n",
              "4             0        0.0   0.0       1.0       1.0   1.0       5.0   \n",
              "...         ...        ...   ...       ...       ...   ...       ...   \n",
              "22195        19       21.0   1.0       0.0       1.0   1.0      12.0   \n",
              "22196        19       21.0   1.0       0.0       1.0   1.0      13.0   \n",
              "22197        19       21.0   0.0       2.0       1.0   1.0      15.0   \n",
              "22198        19       21.0   1.0       0.0       1.0   1.0      14.0   \n",
              "22199        19       21.0   1.0       0.0       1.0   1.0      15.0   \n",
              "\n",
              "       set_size        rt    true_a    true_z  true_theta  true_alpha  \\\n",
              "0           1.0  1.052387  0.632798  0.261251    0.096186    0.003635   \n",
              "1           1.0  0.946774  0.632798  0.261251    0.096186    0.003635   \n",
              "2           1.0  0.744246  0.632798  0.261251    0.096186    0.003635   \n",
              "3           1.0  0.506857  0.632798  0.261251    0.096186    0.003635   \n",
              "4           1.0  0.437709  0.632798  0.261251    0.096186    0.003635   \n",
              "...         ...       ...       ...       ...         ...         ...   \n",
              "22195       2.0  0.570209  0.695097  0.299457    0.054751    0.007566   \n",
              "22196       2.0  0.394769  0.695097  0.299457    0.054751    0.007566   \n",
              "22197       2.0  0.605617  0.695097  0.299457    0.054751    0.007566   \n",
              "22198       2.0  0.455358  0.695097  0.299457    0.054751    0.007566   \n",
              "22199       2.0  0.639572  0.695097  0.299457    0.054751    0.007566   \n",
              "\n",
              "       true_phi  true_rho  true_gamma  true_epsilon    true_C  \n",
              "0      0.391533  0.719504    0.735050      0.006504  2.994613  \n",
              "1      0.391533  0.719504    0.735050      0.006504  2.994613  \n",
              "2      0.391533  0.719504    0.735050      0.006504  2.994613  \n",
              "3      0.391533  0.719504    0.735050      0.006504  2.994613  \n",
              "4      0.391533  0.719504    0.735050      0.006504  2.994613  \n",
              "...         ...       ...         ...           ...       ...  \n",
              "22195  0.383664  0.657050    0.731022      0.001102  3.396504  \n",
              "22196  0.383664  0.657050    0.731022      0.001102  3.396504  \n",
              "22197  0.383664  0.657050    0.731022      0.001102  3.396504  \n",
              "22198  0.383664  0.657050    0.731022      0.001102  3.396504  \n",
              "22199  0.383664  0.657050    0.731022      0.001102  3.396504  \n",
              "\n",
              "[22200 rows x 18 columns]"
            ],
            "text/html": [
              "\n",
              "  <div id=\"df-6224781b-5088-4320-bcc2-99bf1c692804\" class=\"colab-df-container\">\n",
              "    <div>\n",
              "<style scoped>\n",
              "    .dataframe tbody tr th:only-of-type {\n",
              "        vertical-align: middle;\n",
              "    }\n",
              "\n",
              "    .dataframe tbody tr th {\n",
              "        vertical-align: top;\n",
              "    }\n",
              "\n",
              "    .dataframe thead th {\n",
              "        text-align: right;\n",
              "    }\n",
              "</style>\n",
              "<table border=\"1\" class=\"dataframe\">\n",
              "  <thead>\n",
              "    <tr style=\"text-align: right;\">\n",
              "      <th></th>\n",
              "      <th>subj_idx</th>\n",
              "      <th>block_num</th>\n",
              "      <th>stim</th>\n",
              "      <th>response</th>\n",
              "      <th>feedback</th>\n",
              "      <th>corr</th>\n",
              "      <th>stim_ctr</th>\n",
              "      <th>set_size</th>\n",
              "      <th>rt</th>\n",
              "      <th>true_a</th>\n",
              "      <th>true_z</th>\n",
              "      <th>true_theta</th>\n",
              "      <th>true_alpha</th>\n",
              "      <th>true_phi</th>\n",
              "      <th>true_rho</th>\n",
              "      <th>true_gamma</th>\n",
              "      <th>true_epsilon</th>\n",
              "      <th>true_C</th>\n",
              "    </tr>\n",
              "  </thead>\n",
              "  <tbody>\n",
              "    <tr>\n",
              "      <th>0</th>\n",
              "      <td>0</td>\n",
              "      <td>0.0</td>\n",
              "      <td>0.0</td>\n",
              "      <td>0.0</td>\n",
              "      <td>0.0</td>\n",
              "      <td>0.0</td>\n",
              "      <td>1.0</td>\n",
              "      <td>1.0</td>\n",
              "      <td>1.052387</td>\n",
              "      <td>0.632798</td>\n",
              "      <td>0.261251</td>\n",
              "      <td>0.096186</td>\n",
              "      <td>0.003635</td>\n",
              "      <td>0.391533</td>\n",
              "      <td>0.719504</td>\n",
              "      <td>0.735050</td>\n",
              "      <td>0.006504</td>\n",
              "      <td>2.994613</td>\n",
              "    </tr>\n",
              "    <tr>\n",
              "      <th>1</th>\n",
              "      <td>0</td>\n",
              "      <td>0.0</td>\n",
              "      <td>0.0</td>\n",
              "      <td>1.0</td>\n",
              "      <td>1.0</td>\n",
              "      <td>1.0</td>\n",
              "      <td>2.0</td>\n",
              "      <td>1.0</td>\n",
              "      <td>0.946774</td>\n",
              "      <td>0.632798</td>\n",
              "      <td>0.261251</td>\n",
              "      <td>0.096186</td>\n",
              "      <td>0.003635</td>\n",
              "      <td>0.391533</td>\n",
              "      <td>0.719504</td>\n",
              "      <td>0.735050</td>\n",
              "      <td>0.006504</td>\n",
              "      <td>2.994613</td>\n",
              "    </tr>\n",
              "    <tr>\n",
              "      <th>2</th>\n",
              "      <td>0</td>\n",
              "      <td>0.0</td>\n",
              "      <td>0.0</td>\n",
              "      <td>1.0</td>\n",
              "      <td>1.0</td>\n",
              "      <td>1.0</td>\n",
              "      <td>3.0</td>\n",
              "      <td>1.0</td>\n",
              "      <td>0.744246</td>\n",
              "      <td>0.632798</td>\n",
              "      <td>0.261251</td>\n",
              "      <td>0.096186</td>\n",
              "      <td>0.003635</td>\n",
              "      <td>0.391533</td>\n",
              "      <td>0.719504</td>\n",
              "      <td>0.735050</td>\n",
              "      <td>0.006504</td>\n",
              "      <td>2.994613</td>\n",
              "    </tr>\n",
              "    <tr>\n",
              "      <th>3</th>\n",
              "      <td>0</td>\n",
              "      <td>0.0</td>\n",
              "      <td>0.0</td>\n",
              "      <td>1.0</td>\n",
              "      <td>1.0</td>\n",
              "      <td>1.0</td>\n",
              "      <td>4.0</td>\n",
              "      <td>1.0</td>\n",
              "      <td>0.506857</td>\n",
              "      <td>0.632798</td>\n",
              "      <td>0.261251</td>\n",
              "      <td>0.096186</td>\n",
              "      <td>0.003635</td>\n",
              "      <td>0.391533</td>\n",
              "      <td>0.719504</td>\n",
              "      <td>0.735050</td>\n",
              "      <td>0.006504</td>\n",
              "      <td>2.994613</td>\n",
              "    </tr>\n",
              "    <tr>\n",
              "      <th>4</th>\n",
              "      <td>0</td>\n",
              "      <td>0.0</td>\n",
              "      <td>0.0</td>\n",
              "      <td>1.0</td>\n",
              "      <td>1.0</td>\n",
              "      <td>1.0</td>\n",
              "      <td>5.0</td>\n",
              "      <td>1.0</td>\n",
              "      <td>0.437709</td>\n",
              "      <td>0.632798</td>\n",
              "      <td>0.261251</td>\n",
              "      <td>0.096186</td>\n",
              "      <td>0.003635</td>\n",
              "      <td>0.391533</td>\n",
              "      <td>0.719504</td>\n",
              "      <td>0.735050</td>\n",
              "      <td>0.006504</td>\n",
              "      <td>2.994613</td>\n",
              "    </tr>\n",
              "    <tr>\n",
              "      <th>...</th>\n",
              "      <td>...</td>\n",
              "      <td>...</td>\n",
              "      <td>...</td>\n",
              "      <td>...</td>\n",
              "      <td>...</td>\n",
              "      <td>...</td>\n",
              "      <td>...</td>\n",
              "      <td>...</td>\n",
              "      <td>...</td>\n",
              "      <td>...</td>\n",
              "      <td>...</td>\n",
              "      <td>...</td>\n",
              "      <td>...</td>\n",
              "      <td>...</td>\n",
              "      <td>...</td>\n",
              "      <td>...</td>\n",
              "      <td>...</td>\n",
              "      <td>...</td>\n",
              "    </tr>\n",
              "    <tr>\n",
              "      <th>22195</th>\n",
              "      <td>19</td>\n",
              "      <td>21.0</td>\n",
              "      <td>1.0</td>\n",
              "      <td>0.0</td>\n",
              "      <td>1.0</td>\n",
              "      <td>1.0</td>\n",
              "      <td>12.0</td>\n",
              "      <td>2.0</td>\n",
              "      <td>0.570209</td>\n",
              "      <td>0.695097</td>\n",
              "      <td>0.299457</td>\n",
              "      <td>0.054751</td>\n",
              "      <td>0.007566</td>\n",
              "      <td>0.383664</td>\n",
              "      <td>0.657050</td>\n",
              "      <td>0.731022</td>\n",
              "      <td>0.001102</td>\n",
              "      <td>3.396504</td>\n",
              "    </tr>\n",
              "    <tr>\n",
              "      <th>22196</th>\n",
              "      <td>19</td>\n",
              "      <td>21.0</td>\n",
              "      <td>1.0</td>\n",
              "      <td>0.0</td>\n",
              "      <td>1.0</td>\n",
              "      <td>1.0</td>\n",
              "      <td>13.0</td>\n",
              "      <td>2.0</td>\n",
              "      <td>0.394769</td>\n",
              "      <td>0.695097</td>\n",
              "      <td>0.299457</td>\n",
              "      <td>0.054751</td>\n",
              "      <td>0.007566</td>\n",
              "      <td>0.383664</td>\n",
              "      <td>0.657050</td>\n",
              "      <td>0.731022</td>\n",
              "      <td>0.001102</td>\n",
              "      <td>3.396504</td>\n",
              "    </tr>\n",
              "    <tr>\n",
              "      <th>22197</th>\n",
              "      <td>19</td>\n",
              "      <td>21.0</td>\n",
              "      <td>0.0</td>\n",
              "      <td>2.0</td>\n",
              "      <td>1.0</td>\n",
              "      <td>1.0</td>\n",
              "      <td>15.0</td>\n",
              "      <td>2.0</td>\n",
              "      <td>0.605617</td>\n",
              "      <td>0.695097</td>\n",
              "      <td>0.299457</td>\n",
              "      <td>0.054751</td>\n",
              "      <td>0.007566</td>\n",
              "      <td>0.383664</td>\n",
              "      <td>0.657050</td>\n",
              "      <td>0.731022</td>\n",
              "      <td>0.001102</td>\n",
              "      <td>3.396504</td>\n",
              "    </tr>\n",
              "    <tr>\n",
              "      <th>22198</th>\n",
              "      <td>19</td>\n",
              "      <td>21.0</td>\n",
              "      <td>1.0</td>\n",
              "      <td>0.0</td>\n",
              "      <td>1.0</td>\n",
              "      <td>1.0</td>\n",
              "      <td>14.0</td>\n",
              "      <td>2.0</td>\n",
              "      <td>0.455358</td>\n",
              "      <td>0.695097</td>\n",
              "      <td>0.299457</td>\n",
              "      <td>0.054751</td>\n",
              "      <td>0.007566</td>\n",
              "      <td>0.383664</td>\n",
              "      <td>0.657050</td>\n",
              "      <td>0.731022</td>\n",
              "      <td>0.001102</td>\n",
              "      <td>3.396504</td>\n",
              "    </tr>\n",
              "    <tr>\n",
              "      <th>22199</th>\n",
              "      <td>19</td>\n",
              "      <td>21.0</td>\n",
              "      <td>1.0</td>\n",
              "      <td>0.0</td>\n",
              "      <td>1.0</td>\n",
              "      <td>1.0</td>\n",
              "      <td>15.0</td>\n",
              "      <td>2.0</td>\n",
              "      <td>0.639572</td>\n",
              "      <td>0.695097</td>\n",
              "      <td>0.299457</td>\n",
              "      <td>0.054751</td>\n",
              "      <td>0.007566</td>\n",
              "      <td>0.383664</td>\n",
              "      <td>0.657050</td>\n",
              "      <td>0.731022</td>\n",
              "      <td>0.001102</td>\n",
              "      <td>3.396504</td>\n",
              "    </tr>\n",
              "  </tbody>\n",
              "</table>\n",
              "<p>22200 rows × 18 columns</p>\n",
              "</div>\n",
              "    <div class=\"colab-df-buttons\">\n",
              "\n",
              "  <div class=\"colab-df-container\">\n",
              "    <button class=\"colab-df-convert\" onclick=\"convertToInteractive('df-6224781b-5088-4320-bcc2-99bf1c692804')\"\n",
              "            title=\"Convert this dataframe to an interactive table.\"\n",
              "            style=\"display:none;\">\n",
              "\n",
              "  <svg xmlns=\"http://www.w3.org/2000/svg\" height=\"24px\" viewBox=\"0 -960 960 960\">\n",
              "    <path d=\"M120-120v-720h720v720H120Zm60-500h600v-160H180v160Zm220 220h160v-160H400v160Zm0 220h160v-160H400v160ZM180-400h160v-160H180v160Zm440 0h160v-160H620v160ZM180-180h160v-160H180v160Zm440 0h160v-160H620v160Z\"/>\n",
              "  </svg>\n",
              "    </button>\n",
              "\n",
              "  <style>\n",
              "    .colab-df-container {\n",
              "      display:flex;\n",
              "      gap: 12px;\n",
              "    }\n",
              "\n",
              "    .colab-df-convert {\n",
              "      background-color: #E8F0FE;\n",
              "      border: none;\n",
              "      border-radius: 50%;\n",
              "      cursor: pointer;\n",
              "      display: none;\n",
              "      fill: #1967D2;\n",
              "      height: 32px;\n",
              "      padding: 0 0 0 0;\n",
              "      width: 32px;\n",
              "    }\n",
              "\n",
              "    .colab-df-convert:hover {\n",
              "      background-color: #E2EBFA;\n",
              "      box-shadow: 0px 1px 2px rgba(60, 64, 67, 0.3), 0px 1px 3px 1px rgba(60, 64, 67, 0.15);\n",
              "      fill: #174EA6;\n",
              "    }\n",
              "\n",
              "    .colab-df-buttons div {\n",
              "      margin-bottom: 4px;\n",
              "    }\n",
              "\n",
              "    [theme=dark] .colab-df-convert {\n",
              "      background-color: #3B4455;\n",
              "      fill: #D2E3FC;\n",
              "    }\n",
              "\n",
              "    [theme=dark] .colab-df-convert:hover {\n",
              "      background-color: #434B5C;\n",
              "      box-shadow: 0px 1px 3px 1px rgba(0, 0, 0, 0.15);\n",
              "      filter: drop-shadow(0px 1px 2px rgba(0, 0, 0, 0.3));\n",
              "      fill: #FFFFFF;\n",
              "    }\n",
              "  </style>\n",
              "\n",
              "    <script>\n",
              "      const buttonEl =\n",
              "        document.querySelector('#df-6224781b-5088-4320-bcc2-99bf1c692804 button.colab-df-convert');\n",
              "      buttonEl.style.display =\n",
              "        google.colab.kernel.accessAllowed ? 'block' : 'none';\n",
              "\n",
              "      async function convertToInteractive(key) {\n",
              "        const element = document.querySelector('#df-6224781b-5088-4320-bcc2-99bf1c692804');\n",
              "        const dataTable =\n",
              "          await google.colab.kernel.invokeFunction('convertToInteractive',\n",
              "                                                    [key], {});\n",
              "        if (!dataTable) return;\n",
              "\n",
              "        const docLinkHtml = 'Like what you see? Visit the ' +\n",
              "          '<a target=\"_blank\" href=https://colab.research.google.com/notebooks/data_table.ipynb>data table notebook</a>'\n",
              "          + ' to learn more about interactive tables.';\n",
              "        element.innerHTML = '';\n",
              "        dataTable['output_type'] = 'display_data';\n",
              "        await google.colab.output.renderOutput(dataTable, element);\n",
              "        const docLink = document.createElement('div');\n",
              "        docLink.innerHTML = docLinkHtml;\n",
              "        element.appendChild(docLink);\n",
              "      }\n",
              "    </script>\n",
              "  </div>\n",
              "\n",
              "\n",
              "<div id=\"df-ec2b2d77-40db-4e62-ab37-7932f6c662bf\">\n",
              "  <button class=\"colab-df-quickchart\" onclick=\"quickchart('df-ec2b2d77-40db-4e62-ab37-7932f6c662bf')\"\n",
              "            title=\"Suggest charts\"\n",
              "            style=\"display:none;\">\n",
              "\n",
              "<svg xmlns=\"http://www.w3.org/2000/svg\" height=\"24px\"viewBox=\"0 0 24 24\"\n",
              "     width=\"24px\">\n",
              "    <g>\n",
              "        <path d=\"M19 3H5c-1.1 0-2 .9-2 2v14c0 1.1.9 2 2 2h14c1.1 0 2-.9 2-2V5c0-1.1-.9-2-2-2zM9 17H7v-7h2v7zm4 0h-2V7h2v10zm4 0h-2v-4h2v4z\"/>\n",
              "    </g>\n",
              "</svg>\n",
              "  </button>\n",
              "\n",
              "<style>\n",
              "  .colab-df-quickchart {\n",
              "      --bg-color: #E8F0FE;\n",
              "      --fill-color: #1967D2;\n",
              "      --hover-bg-color: #E2EBFA;\n",
              "      --hover-fill-color: #174EA6;\n",
              "      --disabled-fill-color: #AAA;\n",
              "      --disabled-bg-color: #DDD;\n",
              "  }\n",
              "\n",
              "  [theme=dark] .colab-df-quickchart {\n",
              "      --bg-color: #3B4455;\n",
              "      --fill-color: #D2E3FC;\n",
              "      --hover-bg-color: #434B5C;\n",
              "      --hover-fill-color: #FFFFFF;\n",
              "      --disabled-bg-color: #3B4455;\n",
              "      --disabled-fill-color: #666;\n",
              "  }\n",
              "\n",
              "  .colab-df-quickchart {\n",
              "    background-color: var(--bg-color);\n",
              "    border: none;\n",
              "    border-radius: 50%;\n",
              "    cursor: pointer;\n",
              "    display: none;\n",
              "    fill: var(--fill-color);\n",
              "    height: 32px;\n",
              "    padding: 0;\n",
              "    width: 32px;\n",
              "  }\n",
              "\n",
              "  .colab-df-quickchart:hover {\n",
              "    background-color: var(--hover-bg-color);\n",
              "    box-shadow: 0 1px 2px rgba(60, 64, 67, 0.3), 0 1px 3px 1px rgba(60, 64, 67, 0.15);\n",
              "    fill: var(--button-hover-fill-color);\n",
              "  }\n",
              "\n",
              "  .colab-df-quickchart-complete:disabled,\n",
              "  .colab-df-quickchart-complete:disabled:hover {\n",
              "    background-color: var(--disabled-bg-color);\n",
              "    fill: var(--disabled-fill-color);\n",
              "    box-shadow: none;\n",
              "  }\n",
              "\n",
              "  .colab-df-spinner {\n",
              "    border: 2px solid var(--fill-color);\n",
              "    border-color: transparent;\n",
              "    border-bottom-color: var(--fill-color);\n",
              "    animation:\n",
              "      spin 1s steps(1) infinite;\n",
              "  }\n",
              "\n",
              "  @keyframes spin {\n",
              "    0% {\n",
              "      border-color: transparent;\n",
              "      border-bottom-color: var(--fill-color);\n",
              "      border-left-color: var(--fill-color);\n",
              "    }\n",
              "    20% {\n",
              "      border-color: transparent;\n",
              "      border-left-color: var(--fill-color);\n",
              "      border-top-color: var(--fill-color);\n",
              "    }\n",
              "    30% {\n",
              "      border-color: transparent;\n",
              "      border-left-color: var(--fill-color);\n",
              "      border-top-color: var(--fill-color);\n",
              "      border-right-color: var(--fill-color);\n",
              "    }\n",
              "    40% {\n",
              "      border-color: transparent;\n",
              "      border-right-color: var(--fill-color);\n",
              "      border-top-color: var(--fill-color);\n",
              "    }\n",
              "    60% {\n",
              "      border-color: transparent;\n",
              "      border-right-color: var(--fill-color);\n",
              "    }\n",
              "    80% {\n",
              "      border-color: transparent;\n",
              "      border-right-color: var(--fill-color);\n",
              "      border-bottom-color: var(--fill-color);\n",
              "    }\n",
              "    90% {\n",
              "      border-color: transparent;\n",
              "      border-bottom-color: var(--fill-color);\n",
              "    }\n",
              "  }\n",
              "</style>\n",
              "\n",
              "  <script>\n",
              "    async function quickchart(key) {\n",
              "      const quickchartButtonEl =\n",
              "        document.querySelector('#' + key + ' button');\n",
              "      quickchartButtonEl.disabled = true;  // To prevent multiple clicks.\n",
              "      quickchartButtonEl.classList.add('colab-df-spinner');\n",
              "      try {\n",
              "        const charts = await google.colab.kernel.invokeFunction(\n",
              "            'suggestCharts', [key], {});\n",
              "      } catch (error) {\n",
              "        console.error('Error during call to suggestCharts:', error);\n",
              "      }\n",
              "      quickchartButtonEl.classList.remove('colab-df-spinner');\n",
              "      quickchartButtonEl.classList.add('colab-df-quickchart-complete');\n",
              "    }\n",
              "    (() => {\n",
              "      let quickchartButtonEl =\n",
              "        document.querySelector('#df-ec2b2d77-40db-4e62-ab37-7932f6c662bf button');\n",
              "      quickchartButtonEl.style.display =\n",
              "        google.colab.kernel.accessAllowed ? 'block' : 'none';\n",
              "    })();\n",
              "  </script>\n",
              "</div>\n",
              "    </div>\n",
              "  </div>\n"
            ],
            "application/vnd.google.colaboratory.intrinsic+json": {
              "type": "dataframe",
              "variable_name": "PR_data",
              "summary": "{\n  \"name\": \"PR_data\",\n  \"rows\": 22200,\n  \"fields\": [\n    {\n      \"column\": \"subj_idx\",\n      \"properties\": {\n        \"dtype\": \"number\",\n        \"std\": 5,\n        \"min\": 0,\n        \"max\": 19,\n        \"num_unique_values\": 20,\n        \"samples\": [\n          0,\n          17,\n          15\n        ],\n        \"semantic_type\": \"\",\n        \"description\": \"\"\n      }\n    },\n    {\n      \"column\": \"block_num\",\n      \"properties\": {\n        \"dtype\": \"number\",\n        \"std\": 6.018551412296831,\n        \"min\": 0.0,\n        \"max\": 21.0,\n        \"num_unique_values\": 22,\n        \"samples\": [\n          0.0,\n          13.0,\n          8.0\n        ],\n        \"semantic_type\": \"\",\n        \"description\": \"\"\n      }\n    },\n    {\n      \"column\": \"stim\",\n      \"properties\": {\n        \"dtype\": \"number\",\n        \"std\": 1.4345667192320635,\n        \"min\": 0.0,\n        \"max\": 5.0,\n        \"num_unique_values\": 6,\n        \"samples\": [\n          0.0,\n          1.0,\n          5.0\n        ],\n        \"semantic_type\": \"\",\n        \"description\": \"\"\n      }\n    },\n    {\n      \"column\": \"response\",\n      \"properties\": {\n        \"dtype\": \"number\",\n        \"std\": 0.8153297765512447,\n        \"min\": 0.0,\n        \"max\": 2.0,\n        \"num_unique_values\": 3,\n        \"samples\": [\n          0.0,\n          1.0,\n          2.0\n        ],\n        \"semantic_type\": \"\",\n        \"description\": \"\"\n      }\n    },\n    {\n      \"column\": \"feedback\",\n      \"properties\": {\n        \"dtype\": \"number\",\n        \"std\": 0.2764595217824491,\n        \"min\": 0.0,\n        \"max\": 1.0,\n        \"num_unique_values\": 2,\n        \"samples\": [\n          1.0,\n          0.0\n        ],\n        \"semantic_type\": \"\",\n        \"description\": \"\"\n      }\n    },\n    {\n      \"column\": \"corr\",\n      \"properties\": {\n        \"dtype\": \"number\",\n        \"std\": 0.2764595217824491,\n        \"min\": 0.0,\n        \"max\": 1.0,\n        \"num_unique_values\": 2,\n        \"samples\": [\n          1.0,\n          0.0\n        ],\n        \"semantic_type\": \"\",\n        \"description\": \"\"\n      }\n    },\n    {\n      \"column\": \"stim_ctr\",\n      \"properties\": {\n        \"dtype\": \"number\",\n        \"std\": 4.320591110645038,\n        \"min\": 1.0,\n        \"max\": 15.0,\n        \"num_unique_values\": 15,\n        \"samples\": [\n          10.0,\n          12.0\n        ],\n        \"semantic_type\": \"\",\n        \"description\": \"\"\n      }\n    },\n    {\n      \"column\": \"set_size\",\n      \"properties\": {\n        \"dtype\": \"number\",\n        \"std\": 1.4847990304254346,\n        \"min\": 1.0,\n        \"max\": 6.0,\n        \"num_unique_values\": 6,\n        \"samples\": [\n          1.0,\n          2.0\n        ],\n        \"semantic_type\": \"\",\n        \"description\": \"\"\n      }\n    },\n    {\n      \"column\": \"rt\",\n      \"properties\": {\n        \"dtype\": \"number\",\n        \"std\": 0.2180167825330002,\n        \"min\": 0.24592261016368866,\n        \"max\": 2.4104087352752686,\n        \"num_unique_values\": 22184,\n        \"samples\": [\n          0.4234008193016052,\n          0.6385782361030579\n        ],\n        \"semantic_type\": \"\",\n        \"description\": \"\"\n      }\n    },\n    {\n      \"column\": \"true_a\",\n      \"properties\": {\n        \"dtype\": \"number\",\n        \"std\": 0.03127100456719844,\n        \"min\": 0.6001624672450087,\n        \"max\": 0.6984959109910626,\n        \"num_unique_values\": 20,\n        \"samples\": [\n          0.6327976693820158,\n          0.6781967444006702\n        ],\n        \"semantic_type\": \"\",\n        \"description\": \"\"\n      }\n    },\n    {\n      \"column\": \"true_z\",\n      \"properties\": {\n        \"dtype\": \"number\",\n        \"std\": 0.02683085321763183,\n        \"min\": 0.20442235896421065,\n        \"max\": 0.2994571029142772,\n        \"num_unique_values\": 20,\n        \"samples\": [\n          0.261250538850269,\n          0.2803252366096337\n        ],\n        \"semantic_type\": \"\",\n        \"description\": \"\"\n      }\n    },\n    {\n      \"column\": \"true_theta\",\n      \"properties\": {\n        \"dtype\": \"number\",\n        \"std\": 0.03344432752039677,\n        \"min\": 0.05020600795114241,\n        \"max\": 0.14924085206521265,\n        \"num_unique_values\": 20,\n        \"samples\": [\n          0.09618639629944797,\n          0.14239669343405037\n        ],\n        \"semantic_type\": \"\",\n        \"description\": \"\"\n      }\n    },\n    {\n      \"column\": \"true_alpha\",\n      \"properties\": {\n        \"dtype\": \"number\",\n        \"std\": 0.001825264993053332,\n        \"min\": 0.0020230093565166344,\n        \"max\": 0.007566464831481699,\n        \"num_unique_values\": 20,\n        \"samples\": [\n          0.0036353995659278403,\n          0.0023731346437738912\n        ],\n        \"semantic_type\": \"\",\n        \"description\": \"\"\n      }\n    },\n    {\n      \"column\": \"true_phi\",\n      \"properties\": {\n        \"dtype\": \"number\",\n        \"std\": 0.0291711837984481,\n        \"min\": 0.3048970290792942,\n        \"max\": 0.3995291656865312,\n        \"num_unique_values\": 20,\n        \"samples\": [\n          0.391533108363596,\n          0.3215475852108768\n        ],\n        \"semantic_type\": \"\",\n        \"description\": \"\"\n      }\n    },\n    {\n      \"column\": \"true_rho\",\n      \"properties\": {\n        \"dtype\": \"number\",\n        \"std\": 0.03130296870225688,\n        \"min\": 0.6570497297401825,\n        \"max\": 0.7483687831990786,\n        \"num_unique_values\": 20,\n        \"samples\": [\n          0.7195036611978649,\n          0.7163921744069688\n        ],\n        \"semantic_type\": \"\",\n        \"description\": \"\"\n      }\n    },\n    {\n      \"column\": \"true_gamma\",\n      \"properties\": {\n        \"dtype\": \"number\",\n        \"std\": 0.07740295297594313,\n        \"min\": 0.6035600808684474,\n        \"max\": 0.891446422511837,\n        \"num_unique_values\": 20,\n        \"samples\": [\n          0.7350500861929461,\n          0.726539052052844\n        ],\n        \"semantic_type\": \"\",\n        \"description\": \"\"\n      }\n    },\n    {\n      \"column\": \"true_epsilon\",\n      \"properties\": {\n        \"dtype\": \"number\",\n        \"std\": 0.016051712123392462,\n        \"min\": 0.0011023321676876918,\n        \"max\": 0.04914904971514575,\n        \"num_unique_values\": 20,\n        \"samples\": [\n          0.006504159108754498,\n          0.023490707686520132\n        ],\n        \"semantic_type\": \"\",\n        \"description\": \"\"\n      }\n    },\n    {\n      \"column\": \"true_C\",\n      \"properties\": {\n        \"dtype\": \"number\",\n        \"std\": 0.456154673870516,\n        \"min\": 2.511377579046024,\n        \"max\": 3.9316872271582524,\n        \"num_unique_values\": 20,\n        \"samples\": [\n          2.9946133295363504,\n          3.2198887366544167\n        ],\n        \"semantic_type\": \"\",\n        \"description\": \"\"\n      }\n    }\n  ]\n}"
            }
          },
          "metadata": {},
          "execution_count": 151
        }
      ]
    },
    {
      "cell_type": "code",
      "execution_count": 152,
      "metadata": {
        "colab": {
          "base_uri": "https://localhost:8080/"
        },
        "id": "npPzhBVYUwAU",
        "outputId": "8f1109f9-60eb-4c8f-dbba-9eed12950c67"
      },
      "outputs": [
        {
          "output_type": "execute_result",
          "data": {
            "text/plain": [
              "(35640, 6)"
            ]
          },
          "metadata": {},
          "execution_count": 152
        }
      ],
      "source": [
        "max_trials = df[['subj_idx','block_num']].value_counts().max()\n",
        "max_stimuli = int(df['stim'].max()) + 1\n",
        "n_participants = len(df['subj_idx'].unique())\n",
        "n_choices = int(df['response'].max()) + 1\n",
        "n_blocks = len(df['block_num'].unique())\n",
        "\n",
        "\n",
        "shape = (n_participants, n_blocks, max_trials, n_choices, max_stimuli)\n",
        "pad_value = 0\n",
        "# stimuli = np.ones(shape) * -100\n",
        "stim_choices = np.ones(shape) * pad_value\n",
        "rewards = np.ones(shape) * pad_value\n",
        "rts = np.ones(shape) * pad_value\n",
        "set_sizes = np.repeat(np.array(df.groupby(['subj_idx','block_num']).mean()['set_size']),repeats=max_trials*n_choices*max_stimuli).flatten()\n",
        "subj_idxs = np.repeat(np.arange(n_participants),max_trials*n_choices*n_blocks*max_stimuli).flatten()\n",
        "block_nums = np.tile(np.repeat(np.arange(n_blocks), repeats=max_trials*n_choices*max_stimuli),n_participants).flatten()\n",
        "\n",
        "for i, subj_idx in enumerate(df['subj_idx'].unique()):\n",
        "    for j, block_num in enumerate(df['block_num'].unique()):\n",
        "\n",
        "        subj_block_data = df[(df['subj_idx'] == subj_idx) & (df['block_num'] == block_num)]\n",
        "        n_trials = subj_block_data.shape[0]\n",
        "        subj_block_stimuli = subj_block_data['stim'].to_numpy(dtype=np.int32)\n",
        "        n_stimuli = subj_block_stimuli.max() + 1\n",
        "        subj_block_choices = subj_block_data['response'].to_numpy(dtype=np.int32)\n",
        "        subj_block_rewards = subj_block_data['feedback'].to_numpy(dtype=np.float32)\n",
        "        subj_block_rts = subj_block_data['rt'].to_numpy(dtype=np.float32)\n",
        "\n",
        "        subj_stimuli_stim_choices = np.stack([subj_block_stimuli, subj_block_choices], axis=-1)\n",
        "\n",
        "        onehot_stim_choices = np.zeros((n_trials, n_choices, n_stimuli))\n",
        "        for t in range(n_trials):\n",
        "            stim = subj_block_stimuli[t]\n",
        "            choice = subj_block_choices[t]\n",
        "            onehot_stim_choices[t,choice,stim] = 1\n",
        "\n",
        "        # subj_stimuli_stim_choices = np.eye([n_choices, max_stimuli])[subj_stimuli_stim_choices]\n",
        "        #subj_block_stimuli = np.eye(max_stimuli)[subj_block_stimuli]\n",
        "        #subj_block_choices = np.eye((n_choices, max_stimuli))[subj_block_choices]\n",
        "        subj_block_rewards = subj_block_rewards.reshape((n_trials, 1, 1)).repeat(n_choices, axis=1).repeat(n_stimuli, axis=2)\n",
        "        subj_block_rts = subj_block_rts.reshape((n_trials, 1, 1)).repeat(n_choices, axis=1).repeat(n_stimuli, axis=2)\n",
        "\n",
        "        # stimuli[subj_idx, int(block_num), :n_trials, :, :] = subj_block_stimuli\n",
        "        stim_choices[i, j, :n_trials, :, :n_stimuli] = onehot_stim_choices\n",
        "        rewards[i, j, :n_trials, :, :n_stimuli] = subj_block_rewards\n",
        "        rts[i, j, :n_trials, :, :n_stimuli] = subj_block_rts\n",
        "\n",
        "\n",
        "\n",
        "padded_ohe_df = pd.DataFrame(data={'subj_idx': subj_idxs,\n",
        "                               'block_num': block_nums,\n",
        "                               'response': stim_choices.flatten(),\n",
        "                               'feedback': rewards.flatten(),\n",
        "                               'rt': rts.flatten(),\n",
        "                               'set_size': set_sizes,\n",
        "                               })\n",
        "padded_ohe_df.shape"
      ]
    },
    {
      "cell_type": "markdown",
      "source": [
        "###PyMC Wrapper and Compile"
      ],
      "metadata": {
        "id": "4isrnx5_e4qP"
      }
    },
    {
      "cell_type": "code",
      "execution_count": 1,
      "metadata": {
        "id": "EH_fwWmv5pen",
        "colab": {
          "base_uri": "https://localhost:8080/",
          "height": 211
        },
        "outputId": "108e217c-ac63-4d86-de92-c1722ef9e0ca"
      },
      "outputs": [
        {
          "output_type": "error",
          "ename": "NameError",
          "evalue": "name 'max_trials' is not defined",
          "traceback": [
            "\u001b[0;31m---------------------------------------------------------------------------\u001b[0m",
            "\u001b[0;31mNameError\u001b[0m                                 Traceback (most recent call last)",
            "\u001b[0;32m<ipython-input-1-f23fddf28cff>\u001b[0m in \u001b[0;36m<cell line: 1>\u001b[0;34m()\u001b[0m\n\u001b[0;32m----> 1\u001b[0;31m \u001b[0mn_trials\u001b[0m\u001b[0;34m,\u001b[0m \u001b[0mn_participants\u001b[0m\u001b[0;34m,\u001b[0m \u001b[0mn_choices\u001b[0m\u001b[0;34m,\u001b[0m \u001b[0mn_blocks\u001b[0m\u001b[0;34m,\u001b[0m \u001b[0mmax_stimuli\u001b[0m \u001b[0;34m=\u001b[0m \u001b[0;34m(\u001b[0m\u001b[0mmax_trials\u001b[0m\u001b[0;34m,\u001b[0m \u001b[0mn_participants\u001b[0m\u001b[0;34m,\u001b[0m \u001b[0mn_choices\u001b[0m\u001b[0;34m,\u001b[0m \u001b[0mn_blocks\u001b[0m\u001b[0;34m,\u001b[0m \u001b[0mmax_stimuli\u001b[0m\u001b[0;34m)\u001b[0m\u001b[0;34m\u001b[0m\u001b[0;34m\u001b[0m\u001b[0m\n\u001b[0m\u001b[1;32m      2\u001b[0m \u001b[0;34m\u001b[0m\u001b[0m\n\u001b[1;32m      3\u001b[0m \u001b[0;32mdef\u001b[0m \u001b[0mrlwmssm_hdll\u001b[0m\u001b[0;34m(\u001b[0m\u001b[0mpA_\u001b[0m\u001b[0;34m,\u001b[0m \u001b[0mpB_\u001b[0m\u001b[0;34m,\u001b[0m \u001b[0mpC_\u001b[0m\u001b[0;34m,\u001b[0m \u001b[0mpE_\u001b[0m\u001b[0;34m,\u001b[0m \u001b[0mpG_\u001b[0m\u001b[0;34m,\u001b[0m \u001b[0mpP_\u001b[0m\u001b[0;34m,\u001b[0m \u001b[0mpR_\u001b[0m\u001b[0;34m,\u001b[0m \u001b[0mchoices\u001b[0m\u001b[0;34m,\u001b[0m \u001b[0mrewards\u001b[0m\u001b[0;34m,\u001b[0m \u001b[0mset_sizes_\u001b[0m\u001b[0;34m,\u001b[0m \u001b[0mpssmA_\u001b[0m\u001b[0;34m,\u001b[0m \u001b[0mpssmZ_\u001b[0m\u001b[0;34m,\u001b[0m \u001b[0mpssmT_\u001b[0m\u001b[0;34m,\u001b[0m \u001b[0mdf_choices_\u001b[0m\u001b[0;34m,\u001b[0m \u001b[0mdf_rts_\u001b[0m\u001b[0;34m,\u001b[0m \u001b[0mweights_0__\u001b[0m\u001b[0;34m,\u001b[0m\u001b[0mweights_1__\u001b[0m\u001b[0;34m,\u001b[0m\u001b[0mweights_2__\u001b[0m\u001b[0;34m,\u001b[0m\u001b[0mweights_3__\u001b[0m\u001b[0;34m,\u001b[0m\u001b[0mbiases_0__\u001b[0m\u001b[0;34m,\u001b[0m\u001b[0mbiases_1__\u001b[0m\u001b[0;34m,\u001b[0m\u001b[0mbiases_2__\u001b[0m\u001b[0;34m,\u001b[0m\u001b[0mbiases_3__\u001b[0m\u001b[0;34m)\u001b[0m\u001b[0;34m:\u001b[0m\u001b[0;34m\u001b[0m\u001b[0;34m\u001b[0m\u001b[0m\n\u001b[1;32m      4\u001b[0m     \u001b[0minner_shape\u001b[0m \u001b[0;34m=\u001b[0m \u001b[0;34m(\u001b[0m\u001b[0mn_participants\u001b[0m\u001b[0;34m,\u001b[0m \u001b[0mn_choices\u001b[0m\u001b[0;34m,\u001b[0m \u001b[0mn_blocks\u001b[0m\u001b[0;34m,\u001b[0m \u001b[0mmax_stimuli\u001b[0m\u001b[0;34m)\u001b[0m\u001b[0;34m\u001b[0m\u001b[0;34m\u001b[0m\u001b[0m\n\u001b[1;32m      5\u001b[0m     \u001b[0mfull_shape\u001b[0m \u001b[0;34m=\u001b[0m \u001b[0;34m(\u001b[0m\u001b[0minner_shape\u001b[0m\u001b[0;34m[\u001b[0m\u001b[0;36m0\u001b[0m\u001b[0;34m]\u001b[0m\u001b[0;34m,\u001b[0m \u001b[0minner_shape\u001b[0m\u001b[0;34m[\u001b[0m\u001b[0;36m2\u001b[0m\u001b[0;34m]\u001b[0m\u001b[0;34m,\u001b[0m \u001b[0mn_trials\u001b[0m\u001b[0;34m,\u001b[0m \u001b[0minner_shape\u001b[0m\u001b[0;34m[\u001b[0m\u001b[0;36m1\u001b[0m\u001b[0;34m]\u001b[0m\u001b[0;34m,\u001b[0m \u001b[0minner_shape\u001b[0m\u001b[0;34m[\u001b[0m\u001b[0;36m3\u001b[0m\u001b[0;34m]\u001b[0m\u001b[0;34m)\u001b[0m\u001b[0;34m\u001b[0m\u001b[0;34m\u001b[0m\u001b[0m\n",
            "\u001b[0;31mNameError\u001b[0m: name 'max_trials' is not defined"
          ]
        }
      ],
      "source": [
        "n_trials, n_participants, n_choices, n_blocks, max_stimuli = (max_trials, n_participants, n_choices, n_blocks, max_stimuli)\n",
        "\n",
        "def rlwmssm_hdll(pA_, pB_, pC_, pE_, pG_, pP_, pR_, choices, rewards, set_sizes_, pssmA_, pssmZ_, pssmT_, df_choices_, df_rts_, weights_0__,weights_1__,weights_2__,weights_3__,biases_0__,biases_1__,biases_2__,biases_3__):\n",
        "    inner_shape = (n_participants, n_choices, n_blocks, max_stimuli)\n",
        "    full_shape = (inner_shape[0], inner_shape[2], n_trials, inner_shape[1], inner_shape[3])\n",
        "    dq_RL_ = pt.ones(inner_shape) / n_choices\n",
        "    dq_WM_ = pt.ones(inner_shape) / n_choices\n",
        "\n",
        "    dC_ = choices.reshape(full_shape).dimshuffle((2,0,3,1,4))\n",
        "    dR_ = rewards.reshape(full_shape).dimshuffle((2,0,3,1,4))\n",
        "    set_sizes_ = set_sizes_.reshape(full_shape).dimshuffle((2,0,3,1,4))\n",
        "\n",
        "    pA_ = pA_.reshape(full_shape).dimshuffle((2,0,3,1,4))\n",
        "    pB_ = pB_.reshape(full_shape).dimshuffle((2,0,3,1,4))\n",
        "    pC_ = pC_.reshape(full_shape).dimshuffle((2,0,3,1,4))\n",
        "    pE_ = pE_.reshape(full_shape).dimshuffle((2,0,3,1,4))\n",
        "    pG_ = pG_.reshape(full_shape).dimshuffle((2,0,3,1,4))\n",
        "    pP_ = pP_.reshape(full_shape).dimshuffle((2,0,3,1,4))\n",
        "    pR_ = pR_.reshape(full_shape).dimshuffle((2,0,3,1,4))\n",
        "\n",
        "    return rlwmssm_recovery(dq_RL_, dq_WM_, dC_, dR_, pA_, pB_, pC_, pE_, pG_, pP_, pR_, set_sizes_, pssmA_, pssmZ_, pssmT_, df_choices_, df_rts_, weights_0__,weights_1__,weights_2__,weights_3__,biases_0__,biases_1__,biases_2__,biases_3__).flatten()\n",
        "    #return rlwmssm_Ps(dq_RL_, dq_WM_, dC_, dR_, pA_, pB_, pG_, pP_)\n",
        "    #return rlwm_scan(dC_, dR_, pA_, pG_, pP_, dq_RL_, dq_WM_)\n",
        "\n",
        "pA = pt.dvector()\n",
        "pB = pt.dvector()\n",
        "pC = pt.dvector()\n",
        "pE = pt.dvector()\n",
        "pG = pt.dvector()\n",
        "pP = pt.dvector()\n",
        "pR = pt.dvector()\n",
        "choices__ = pt.dvector()\n",
        "rewards__ = pt.dvector()\n",
        "set_sizes__ = pt.dvector()\n",
        "df_choices__ = pt.dvector()\n",
        "df_rts__ = pt.dvector()\n",
        "pssmA__ = pt.dvector()\n",
        "pssmZ__ = pt.dvector()\n",
        "pssmT__ = pt.dvector()\n",
        "weights_0__ = pt.dmatrix()\n",
        "weights_1__ = pt.dmatrix()\n",
        "weights_2__ = pt.dmatrix()\n",
        "weights_3__ = pt.dmatrix()\n",
        "biases_0__ = pt.dvector()\n",
        "biases_1__ = pt.dvector()\n",
        "biases_2__ = pt.dvector()\n",
        "biases_3__ = pt.dvector()\n",
        "\n",
        "output = rlwmssm_hdll(pA, pB, pC, pE, pG, pP, pR, choices__, rewards__, set_sizes__, pssmA__, pssmZ__, pssmT__, df_choices__,df_rts__, weights_0__,weights_1__,weights_2__,weights_3__,biases_0__,biases_1__,biases_2__,biases_3__)\n",
        "\n",
        "my_rlwmssm_hdll_func = pytensor.function(inputs=[pA, pB, pC, pE, pG, pP, pR, choices__, rewards__, set_sizes__, df_choices__, df_rts__, pssmA__, pssmZ__, pssmT__, weights_0__,weights_1__,weights_2__,weights_3__,biases_0__,biases_1__,biases_2__, biases_3__], outputs=output, on_unused_input='ignore')"
      ]
    },
    {
      "cell_type": "code",
      "execution_count": 154,
      "metadata": {
        "id": "lkxHdL8qBBL3"
      },
      "outputs": [],
      "source": [
        "pA_ = np.ones(padded_ohe_df.shape[0]).flatten() * rl_alpha[0]\n",
        "pB_ = np.ones(padded_ohe_df.shape[0]).flatten() * 100\n",
        "pC_ = np.ones(padded_ohe_df.shape[0]).flatten() * rl_C[0]\n",
        "pE_ = np.ones(padded_ohe_df.shape[0]).flatten() * rl_epsilon[0]\n",
        "pG_ = np.ones(padded_ohe_df.shape[0]).flatten() * rl_gamma[0]\n",
        "pP_ = np.ones(padded_ohe_df.shape[0]).flatten() * rl_phi[0]\n",
        "pR_ = np.ones(padded_ohe_df.shape[0]).flatten() * rl_rho[0]\n",
        "pssmA_ = np.ones((padded_ohe_df.shape[0]//n_choices)//max_stimuli).flatten() * rl_a[0]\n",
        "pssmZ_ = np.ones((padded_ohe_df.shape[0]//n_choices)//max_stimuli).flatten() * rl_z[0]\n",
        "pssmT_ = np.ones((padded_ohe_df.shape[0]//n_choices)//max_stimuli).flatten() * rl_theta[0]\n",
        "choices_ = padded_ohe_df['response'].to_numpy(dtype=np.int32)\n",
        "rewards_ = padded_ohe_df['feedback'].to_numpy(dtype=np.float32)\n",
        "set_sizes_ = padded_ohe_df['set_size'].to_numpy(dtype=np.float32)\n",
        "df_choices_ = np.max(np.argmax(padded_ohe_df['response'].to_numpy(dtype=np.int32).reshape((-1,3,6)),axis=1),axis=1)\n",
        "df_rts_ = np.max(np.max(np.round(padded_ohe_df['rt'].to_numpy(dtype=np.float32).reshape((-1,3,6)),decimals=3),axis=1),axis=1)\n",
        "weights_0_ = weights_0\n",
        "weights_1_ = weights_1\n",
        "weights_2_ = weights_2\n",
        "weights_3_ = weights_3\n",
        "biases_0_ = biases_0\n",
        "biases_1_ = biases_1\n",
        "biases_2_ = biases_2\n",
        "biases_3_ = biases_3"
      ]
    },
    {
      "cell_type": "markdown",
      "source": [
        "###PyTensor Python Comparison"
      ],
      "metadata": {
        "id": "tMMAdYOHe7T7"
      }
    },
    {
      "cell_type": "code",
      "source": [
        "def call_LAN(LAN_matrix):\n",
        "    net_input = np.array(LAN_matrix).astype(np.float32)\n",
        "    LL = torch_mlp.predict_on_batch(net_input)\n",
        "    return np.sum(LL)"
      ],
      "metadata": {
        "id": "VQTNPg8p3h62"
      },
      "execution_count": 155,
      "outputs": []
    },
    {
      "cell_type": "code",
      "source": [
        "pytensor_lan_test()"
      ],
      "metadata": {
        "colab": {
          "base_uri": "https://localhost:8080/"
        },
        "id": "lWxGDcB4-zuV",
        "outputId": "95192856-73ab-4302-8323-c8153fba5264"
      },
      "execution_count": 156,
      "outputs": [
        {
          "output_type": "execute_result",
          "data": {
            "text/plain": [
              "array([[-1.32449541],\n",
              "       [-1.32449541],\n",
              "       [-1.32449541],\n",
              "       [-1.32449541],\n",
              "       [-1.32449541],\n",
              "       [-1.32449541],\n",
              "       [-1.32449541],\n",
              "       [-1.32449541],\n",
              "       [-1.32449541],\n",
              "       [-1.32449541]])"
            ]
          },
          "metadata": {},
          "execution_count": 156
        }
      ]
    },
    {
      "cell_type": "code",
      "source": [
        "call_LAN(np.array([0.6,0.2,0.2,0.8,0.2,0.0,0.8,0]))"
      ],
      "metadata": {
        "colab": {
          "base_uri": "https://localhost:8080/"
        },
        "id": "moafrkL161ad",
        "outputId": "e3a6b03c-2b47-4ac9-ce1d-b5de8608642c"
      },
      "execution_count": 157,
      "outputs": [
        {
          "output_type": "execute_result",
          "data": {
            "text/plain": [
              "-1.3244957"
            ]
          },
          "metadata": {},
          "execution_count": 157
        }
      ]
    },
    {
      "cell_type": "code",
      "source": [
        "def RLWM_LL(params, subj_data, model_ssm, num_actions, beta):\n",
        "\n",
        "    a = params[0]\n",
        "    z = params[1]\n",
        "    theta = params[2]\n",
        "\n",
        "    alpha = params[3]\n",
        "    phi = params[4]\n",
        "    rho = params[5]\n",
        "    gamma = params[6]\n",
        "    epsilon = params[7]\n",
        "    C = params[8]\n",
        "\n",
        "    if a < 0.1 or a > 1.0:\n",
        "        return np.inf\n",
        "\n",
        "    if z < 0 or z >= a or z > 0.45:\n",
        "        return np.inf\n",
        "\n",
        "    if theta < 0 or theta > 1.2:\n",
        "        return np.inf\n",
        "\n",
        "    if alpha < 0 or alpha > 0.1: # CHECK\n",
        "        return np.inf\n",
        "\n",
        "    if phi < 0 or phi > 1.0: # CHECK\n",
        "        return np.inf\n",
        "\n",
        "    if rho < 0.0 or rho > 1: # CHECK\n",
        "        return np.inf\n",
        "\n",
        "    if gamma < 0.0 or gamma > 1.0:\n",
        "        return np.inf\n",
        "\n",
        "    if epsilon < 0 or epsilon > 0.1: # CHECK\n",
        "        return np.inf\n",
        "\n",
        "    if C < 2 or C > 5:\n",
        "        return np.inf\n",
        "\n",
        "    actions = np.arange(num_actions)\n",
        "    pol = np.zeros(num_actions)\n",
        "\n",
        "    block_list = np.unique(subj_data['block_num'])\n",
        "\n",
        "    LAN_matrix = np.zeros((len(subj_data['rt']), len(ssms.config.model_config[model_ssm]['params']) + 2))\n",
        "    subj_trl_idx = 0\n",
        "\n",
        "    for bl in block_list:\n",
        "        #print(\">> block -- \", bl, len(np.unique(subj_data.loc[subj_data['block_num'] == bl]['stim'])))\n",
        "\n",
        "        block_data = subj_data.loc[subj_data['block_num'] == bl]\n",
        "\n",
        "        set_size = len(np.unique(block_data['stim']))\n",
        "\n",
        "        trials = block_data['stim'].values\n",
        "        reward_list = block_data['feedback'].values\n",
        "        action_list = block_data['response'].values\n",
        "        rt_list = block_data['rt'].values\n",
        "\n",
        "        q_RL = np.ones((set_size, num_actions)) * 1/num_actions\n",
        "        q_WM = np.ones((set_size, num_actions)) * 1/num_actions\n",
        "        weight = rho * min(1, C/set_size)\n",
        "\n",
        "        for tr in np.arange(len(trials)):\n",
        "            state = int(trials[tr])\n",
        "\n",
        "            pol_RL = softmax(q_RL[state, :], beta)\n",
        "            pol_WM = softmax(q_WM[state, :], beta)\n",
        "\n",
        "            pol = weight * pol_WM + (1-weight) * pol_RL\n",
        "\n",
        "            pol_final = (1 - epsilon) * pol + epsilon * np.tile([1/num_actions], num_actions)\n",
        "\n",
        "            #print(\">> \", np.sum(pol_RL), np.sum(pol_WM), np.sum(pol), np.sum(pol_final), pol, pol_final)\n",
        "\n",
        "            action = int(action_list[tr])\n",
        "            reward = reward_list[tr]\n",
        "\n",
        "            if (reward - q_RL[state, action]) >= 0:\n",
        "                q_RL[state, action] = q_RL[state, action] + alpha * (reward - q_RL[state, action])\n",
        "                q_WM[state, action] = q_WM[state, action] + 1 * (reward - q_WM[state, action])\n",
        "            else:\n",
        "                q_RL[state, action] = q_RL[state, action] + gamma * alpha * (reward - q_RL[state, action])\n",
        "                q_WM[state, action] = q_WM[state, action] + gamma * 1 * (reward - q_WM[state, action])\n",
        "\n",
        "            q_WM = q_WM + phi * ((1/num_actions)-q_WM)\n",
        "\n",
        "            LAN_matrix[subj_trl_idx, :] = np.array([pol_final[0], pol_final[1], pol_final[2], a, z, theta, rt_list[tr], action])\n",
        "\n",
        "            subj_trl_idx += 1\n",
        "\n",
        "    subj_ll = call_LAN(LAN_matrix) # Call LAN here\n",
        "\n",
        "    return -subj_ll"
      ],
      "metadata": {
        "id": "1ClgPe-r3oZV"
      },
      "execution_count": 158,
      "outputs": []
    },
    {
      "cell_type": "code",
      "execution_count": 159,
      "metadata": {
        "colab": {
          "base_uri": "https://localhost:8080/"
        },
        "id": "KhENkdWjMhhc",
        "outputId": "2ec29690-106f-4155-8123-a1657ba1513f"
      },
      "outputs": [
        {
          "output_type": "execute_result",
          "data": {
            "text/plain": [
              "-9064.571217391775"
            ]
          },
          "metadata": {},
          "execution_count": 159
        }
      ],
      "source": [
        "#my_rlwm_hdll_func(pA_, pB_, pC_, pE_, pG_, pP_, pR_, choices_, rewards_, set_sizes_).sum()\n",
        "my_rlwmssm_hdll_func(pA_, pB_, pC_, pE_, pG_, pP_, pR_, choices_, rewards_, set_sizes_, pssmA_, pssmZ_, pssmT_, df_choices_, df_rts_, weights_0_,weights_1_,weights_2_,weights_3_,biases_0_,biases_1_,biases_2_,biases_3_).sum()"
      ]
    },
    {
      "cell_type": "code",
      "execution_count": 160,
      "metadata": {
        "colab": {
          "base_uri": "https://localhost:8080/"
        },
        "id": "Upy4HSBmqjSV",
        "outputId": "bde3bc58-8df3-4b4a-b913-58927fb75b26"
      },
      "outputs": [
        {
          "output_type": "execute_result",
          "data": {
            "text/plain": [
              "-671.012939453125"
            ]
          },
          "metadata": {},
          "execution_count": 160
        }
      ],
      "source": [
        "ll = 0\n",
        "for subj_idx in df['subj_idx'].unique():\n",
        "  ll += RLWM_LL((pssmA_[0],pssmZ_[0],pssmT_[0], pA_[0], pP_[0], pR_[0], pG_[0], pE_[0], pC_[0]), df.loc[df['subj_idx']==subj_idx], ssms_model, 3, pB_[0])\n",
        "# ll, Qs = RLWM_LL((pA_[0], pP_[0], pR_[0], pG_[0], pE_[0]), df, 3, pC_[0], pB_[0])\n",
        "ll"
      ]
    },
    {
      "cell_type": "markdown",
      "source": [
        "###Run PyMC"
      ],
      "metadata": {
        "id": "pejPRWusfubr"
      }
    },
    {
      "cell_type": "code",
      "execution_count": null,
      "metadata": {
        "colab": {
          "base_uri": "https://localhost:8080/",
          "height": 162,
          "referenced_widgets": [
            "4deb8c856a4c444db3a91a8237293267",
            "e469368595fc480f8eb03d53713eba47",
            "a4fd62750b61486c99c25c7adeabbe06",
            "0530f83c731a46c8ac7386475f79d38d",
            "d2676737ec9244f9b742cd8b572e9011",
            "8d685fc29fdc42b3a65f223bb18d8555",
            "d5e49545e0ca4729b767e741e2e2b817",
            "a30139d5583a42888be334adb254c1e2",
            "9fb7da58202f4f3991a81cc595d17bfb",
            "af3018095f5f40348a50a05f9ab4136f",
            "050d5d274e4a4580b67e38fdb40b4155",
            "5b518233732b44379fe5285ef6d66f44",
            "3b8041164e074fcd884c49b777828d5a",
            "7c2a9aab0347404a9de051c7c4bb3b65",
            "dcb329882d8142e6bc33da393083454c",
            "81418e8900c84ac9bb9cef49e10f5b88",
            "9dd7660aaed24b1086421f59b6089230",
            "5c5e0d44f88443848ab724a2786ac765",
            "6f9010b001dc47c9b78a1fdb93489f50",
            "d006819af7c0400ebfb0289b3012cabe",
            "e051fee817104031b8333898d6349a12",
            "fdda78dc3259483f993349e284c0b6ea",
            "0e012e3ca58d43038fff96ed2e0bdcbd",
            "e7ea6c2ffb67421fb4260e4d8c39554c",
            "fe166430f39b42af8c009cb846995a32",
            "345b4134cb10431db5542bff84017fbf",
            "c27104a50bab459a8b0252799607c8aa",
            "baae53156838460a8f0b7bc5f5a82963",
            "e1ba5a4a0c1b43d58c1d42468e8164e7",
            "abd051d4a81046e4a2e6acfd6d917e3b",
            "6d01e552ea824399aa8f8768bc904107",
            "e451e1b75f1a4fa78970a6343552b6f4",
            "7db57ced51dc49e88c6ba3af8766c439",
            "3f37cdbf720e4abfbe6558411d675f2f",
            "ded87cbd0bf14fb38a6e874c56bae6c4",
            "2059bd34141c43f9b14d9ced2af6199a",
            "84e0a647eb554186943bd0832eeabb4e",
            "2202a79596264411a2cffb3788f2ddaf",
            "9d4254de03fa4ef6bc180c4651e513d6",
            "41843d4f914c47f7acd3e47e3089f84e",
            "cb81f6fbc55a4bffbff2e5039c9c257a",
            "8b67a71e77de435e958176489a1d6333",
            "62e0c967038044b78afba6c487f93e04",
            "5e82c682265a46a3838ccad633eaf87e"
          ]
        },
        "id": "X-7hleDBp4QG",
        "outputId": "d98a91dd-9223-4699-ad26-e9584831517a"
      },
      "outputs": [
        {
          "output_type": "stream",
          "name": "stderr",
          "text": [
            "WARNING:pymc.sampling.mcmc:Only 10 samples in chain.\n"
          ]
        },
        {
          "output_type": "display_data",
          "data": {
            "text/plain": [
              "  0%|          | 0/20 [00:00<?, ?it/s]"
            ],
            "application/vnd.jupyter.widget-view+json": {
              "version_major": 2,
              "version_minor": 0,
              "model_id": "4deb8c856a4c444db3a91a8237293267"
            }
          },
          "metadata": {}
        },
        {
          "output_type": "display_data",
          "data": {
            "text/plain": [
              "  0%|          | 0/20 [00:00<?, ?it/s]"
            ],
            "application/vnd.jupyter.widget-view+json": {
              "version_major": 2,
              "version_minor": 0,
              "model_id": "5b518233732b44379fe5285ef6d66f44"
            }
          },
          "metadata": {}
        },
        {
          "output_type": "display_data",
          "data": {
            "text/plain": [
              "  0%|          | 0/20 [00:00<?, ?it/s]"
            ],
            "application/vnd.jupyter.widget-view+json": {
              "version_major": 2,
              "version_minor": 0,
              "model_id": "0e012e3ca58d43038fff96ed2e0bdcbd"
            }
          },
          "metadata": {}
        },
        {
          "output_type": "display_data",
          "data": {
            "text/plain": [
              "  0%|          | 0/20 [00:00<?, ?it/s]"
            ],
            "application/vnd.jupyter.widget-view+json": {
              "version_major": 2,
              "version_minor": 0,
              "model_id": "3f37cdbf720e4abfbe6558411d675f2f"
            }
          },
          "metadata": {}
        }
      ],
      "source": [
        "# Make coordinates\n",
        "participant_ids, participants = pd.factorize(padded_ohe_df['subj_idx'])\n",
        "coords = {\n",
        "          \"participant_idx\": np.array(participants),\n",
        "          \"obs_idx\": np.arange(padded_ohe_df.shape[0])\n",
        "         }\n",
        "\n",
        "with pm.Model(coords=coords) as hierarchical_model:\n",
        "    # Data\n",
        "    #Choices = pm.ConstantData('Choices', padded_ohe_df['response'].to_numpy())\n",
        "    #Rewards = pm.ConstantData('Rewards', padded_ohe_df['feedback'].to_numpy())\n",
        "    #Set_sizes = pm.ConstantData('Set_sizes', padded_ohe_df['set_size'].to_numpy())\n",
        "    Choices = pm.ConstantData('Choices', choices_)\n",
        "    Rewards = pm.ConstantData('Rewards', rewards_)\n",
        "    Set_sizes = pm.ConstantData('Set_sizes', set_sizes_)\n",
        "    DF_choices = pm.ConstantData('DF_choices', df_choices_)\n",
        "    DF_rts = pm.ConstantData('DF_rts', df_rts_)\n",
        "    # Hyperpriors for group nodes\n",
        "    # pA_alpha = 3 # pm.Gamma(\"pA_alpha\", alpha = 3. , beta = 3.)\n",
        "    # pA_beta = 3 # pm.Gamma(\"pA_beta\", alpha = 3. , beta = 3.)\n",
        "    # # pB_alpha = 3 # pm.Gamma(\"pB_alpha\", alpha = 3. , beta = 3.)\n",
        "    # # pB_beta = 3 # pm.Gamma(\"pB_beta\", alpha = 3. , beta = 3.)\n",
        "    # pC_alpha = 3 # pm.Gamma(\"pC_alpha\", alpha = 3. , beta = 3.)\n",
        "    # pC_beta = 3 # pm.Gamma(\"pC_beta\", alpha = 3. , beta = 3.)\n",
        "    # pE_alpha = 3 # pm.Gamma(\"pE_alpha\", alpha = 3. , beta = 3.)\n",
        "    # pE_beta = 3 # pm.Gamma(\"pE_beta\", alpha = 3. , beta = 3.)\n",
        "    # pG_alpha = 3 # pm.Gamma(\"pG_alpha\", alpha = 3. , beta = 3.)\n",
        "    # pG_beta = 3 # pm.Gamma(\"pG_beta\", alpha = 3. , beta = 3.)\n",
        "    # pP_alpha = 3 # pm.Gamma(\"pP_alpha\", alpha = 3. , beta = 3.)\n",
        "    # pP_beta = 3 # pm.Gamma(\"pP_beta\", alpha = 3. , beta = 3.)\n",
        "    # pR_alpha = 3 # pm.Gamma(\"pR_alpha\", alpha = 3. , beta = 3.)\n",
        "    # pR_beta = 3 # pm.Gamma(\"pR_beta\", alpha = 3. , beta = 3.)\n",
        "\n",
        "    # priors_rl_alpha = [0,0.01] # [0, 0.01]\n",
        "    # priors_rl_phi = [0.30,0.30]# [0, 0.40]\n",
        "    # priors_rl_rho = [0.8,0.8] # [0.75, 1]\n",
        "    # priors_rl_gamma =[0.7,0.7] # [0.60, 0.90]\n",
        "    # priors_rl_epsilon = [0.01,0.01] # [0, 0.05]\n",
        "    # priors_rl_C = [3,3] # [2, 5]\n",
        "\n",
        "\n",
        "    # Priors for variables\n",
        "    # pA = pm.ConstantData('pA', np.ones_like(choices_) * rl_alpha[0])\n",
        "    pB = pm.ConstantData('pB', np.ones_like(choices_) * 100.0)\n",
        "    # pC = pm.ConstantData('pC', np.ones_like(choices_) * rl_C[0])\n",
        "    # pE = pm.ConstantData('pE', np.ones_like(choices_) * rl_epsilon[0])\n",
        "    # pG = pm.ConstantData('pG', np.ones_like(choices) * rl_gamma[0])\n",
        "    # pP = pm.ConstantData('pP', np.ones_like(choices_) * rl_phi[0])\n",
        "    # pR = pm.ConstantData('pR', np.ones_like(choices_) * rl_rho[0])\n",
        "    pssmA = pm.ConstantData('pssmA', pssmA_)\n",
        "    pssmZ = pm.ConstantData('pssmZ', pssmZ_)\n",
        "    pssmT = pm.ConstantData('pssmT', pssmT_)\n",
        "    pA = pm.Beta(name='pA', alpha=2.0, beta=100, dims=\"participant_idx\")#, initval=np.array(pA_[0]).reshape((-1,)))\n",
        "    # pB = pm.Uniform(name=\"pB\", lower=0.8, upper=1.2, dims=\"participant_idx\")\n",
        "    pC = pm.TruncatedNormal(name=\"pC\", mu=3.0, sigma=0.25, lower=2.0, upper=5.0, dims=\"participant_idx\")#, initval=np.array(pC_[0]).reshape((-1,)))\n",
        "    pE = pm.TruncatedNormal(name=\"pE\", mu=0.01, sigma=0.001, lower=0.0, upper=1.0, dims=\"participant_idx\")\n",
        "    pG = pm.TruncatedNormal(name=\"pG\", mu=0.1, sigma=0.01, lower=0.0, upper=1.0, dims=\"participant_idx\")#, initval=np.array(pG_[0]).reshape((-1,)))\n",
        "    pP = pm.TruncatedNormal(name=\"pP\",  mu=0.3, sigma=0.025, lower=0.0, upper=1.0, dims=\"participant_idx\")#, initval=np.array(pP_[0]).reshape((-1,)))\n",
        "    pR = pm.TruncatedNormal(name=\"pR\",  mu=0.8, sigma=0.025, lower=0.0, upper=1.0, dims=\"participant_idx\")#, initval=np.array(pR_[0]).reshape((-1,)))\n",
        "    # pA = pm.Beta(name=\"pA\", alpha=pA_alpha, beta=pA_beta, dims=\"participant_idx\")\n",
        "    # pB = pm.Beta(name=\"pB\", alpha=pB_alpha, beta=pB_beta, dims=\"participant_idx\")\n",
        "    # pC = pm.Beta(name=\"pC\", alpha=pC_alpha, beta=pC_beta, dims=\"participant_idx\")\n",
        "    # pE = pm.Beta(name=\"pE\", alpha=pE_alpha, beta=pE_beta, dims=\"participant_idx\")\n",
        "    # pG = pm.Beta(name=\"pG\", alpha=pG_alpha, beta=pG_beta, dims=\"participant_idx\")\n",
        "    # pP = pm.Beta(name=\"pP\", alpha=pP_alpha, beta=pP_beta, dims=\"participant_idx\")\n",
        "    # pR = pm.Beta(name=\"pR\", alpha=pR_alpha, beta=pR_beta, dims=\"participant_idx\")\n",
        "\n",
        "\n",
        "    # Render parameters trial wise\n",
        "    pA_trial = pA[participant_ids]\n",
        "    # pB_trial = pB[participant_ids]\n",
        "    pC_trial = pC[participant_ids]\n",
        "    # pE_trial = pE[participant_ids]\n",
        "    pG_trial = pG[participant_ids]\n",
        "    pP_trial = pP[participant_ids]\n",
        "    pR_trial = pR[participant_ids]\n",
        "    # pA_trial = pA\n",
        "    pB_trial = pB\n",
        "    #pC_trial = pC\n",
        "    pE_trial = pE\n",
        "    # pG_trial = pG\n",
        "    #pP_trial = pP\n",
        "    #pR_trial = pR\n",
        "\n",
        "    # CHOOSE WHICH WRAPPER FUNCTION TO USE HERE\n",
        "    pm.Potential(\"log_likelihood\",\n",
        "                 my_rlwmssm_hdll_func(pA_, pB_, pC_, pE_, pG_, pP_, pR_, choices_, rewards_, set_sizes_,\n",
        "                                      pssmA_, pssmZ_, pssmT_, df_choices_, df_rts_,\n",
        "                                      weights_0_,weights_1_,weights_2_,weights_3_,biases_0_,biases_1_,biases_2_,biases_3_))\n",
        "    idata_pooled = pm.sample(1000, tune=1000, chains=4, nuts_sampler=\"numpyro\")"
      ]
    },
    {
      "cell_type": "code",
      "source": [
        "az.plot_trace(idata_pooled, lines=[\n",
        "    (\"pA\", {}, rl_alpha),\n",
        "    (\"pC\", {}, rl_C),\n",
        "    (\"pE\", {}, rl_epsilon),\n",
        "    (\"pG\", {}, rl_gamma),\n",
        "    (\"pP\", {}, rl_phi),\n",
        "    (\"pR\", {}, rl_rho),\n",
        "])"
      ],
      "metadata": {
        "id": "OGv_OeLcf4tG"
      },
      "execution_count": null,
      "outputs": []
    }
  ]
}